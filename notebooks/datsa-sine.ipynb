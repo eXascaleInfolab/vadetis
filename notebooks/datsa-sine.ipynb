{
 "cells": [
  {
   "cell_type": "code",
   "execution_count": 2,
   "metadata": {},
   "outputs": [
    {
     "name": "stdout",
     "output_type": "stream",
     "text": [
      "Input file is  /Users/adrian/Uni/testdata/synthetic/datsa/raw/space_shuttle/space_shuttle01_delimited.csv\n",
      "Output file is  /Users/adrian/Uni/testdata/synthetic/datsa/transformed/space_shuttle/space_shuttle01_transform.csv\n",
      "transforming\n",
      "transforming done\n"
     ]
    }
   ],
   "source": [
    "%run -i '../tools/datsa' -f /Users/adrian/Uni/testdata/synthetic/datsa/raw/space_shuttle/space_shuttle01_delimited.csv -o /Users/adrian/Uni/testdata/synthetic/datsa/transformed/space_shuttle/space_shuttle01_transform.csv"
   ]
  },
  {
   "cell_type": "code",
   "execution_count": 3,
   "metadata": {},
   "outputs": [
    {
     "name": "stdout",
     "output_type": "stream",
     "text": [
      "Input file is  /Users/adrian/Uni/testdata/synthetic/datsa/raw/space_shuttle/space_shuttle02_delimited.csv\n",
      "Output file is  /Users/adrian/Uni/testdata/synthetic/datsa/transformed/space_shuttle/space_shuttle02_transform.csv\n",
      "transforming\n",
      "transforming done\n"
     ]
    }
   ],
   "source": [
    "%run -i '../tools/datsa' -f /Users/adrian/Uni/testdata/synthetic/datsa/raw/space_shuttle/space_shuttle02_delimited.csv -o /Users/adrian/Uni/testdata/synthetic/datsa/transformed/space_shuttle/space_shuttle02_transform.csv"
   ]
  },
  {
   "cell_type": "code",
   "execution_count": 4,
   "metadata": {},
   "outputs": [
    {
     "name": "stdout",
     "output_type": "stream",
     "text": [
      "Input file is  /Users/adrian/Uni/testdata/synthetic/datsa/raw/space_shuttle/space_shuttle03_delimited.csv\n",
      "Output file is  /Users/adrian/Uni/testdata/synthetic/datsa/transformed/space_shuttle/space_shuttle03_transform.csv\n",
      "transforming\n",
      "transforming done\n"
     ]
    }
   ],
   "source": [
    "%run -i '../tools/datsa' -f /Users/adrian/Uni/testdata/synthetic/datsa/raw/space_shuttle/space_shuttle03_delimited.csv -o /Users/adrian/Uni/testdata/synthetic/datsa/transformed/space_shuttle/space_shuttle03_transform.csv"
   ]
  },
  {
   "cell_type": "code",
   "execution_count": 5,
   "metadata": {},
   "outputs": [
    {
     "name": "stdout",
     "output_type": "stream",
     "text": [
      "Input file is  /Users/adrian/Uni/testdata/synthetic/datsa/raw/space_shuttle/space_shuttle04_delimited.csv\n",
      "Output file is  /Users/adrian/Uni/testdata/synthetic/datsa/transformed/space_shuttle/space_shuttle04_transform.csv\n",
      "transforming\n",
      "transforming done\n"
     ]
    }
   ],
   "source": [
    "%run -i '../tools/datsa' -f /Users/adrian/Uni/testdata/synthetic/datsa/raw/space_shuttle/space_shuttle04_delimited.csv -o /Users/adrian/Uni/testdata/synthetic/datsa/transformed/space_shuttle/space_shuttle04_transform.csv"
   ]
  },
  {
   "cell_type": "code",
   "execution_count": 6,
   "metadata": {},
   "outputs": [
    {
     "name": "stdout",
     "output_type": "stream",
     "text": [
      "Input file is  /Users/adrian/Uni/testdata/synthetic/datsa/raw/space_shuttle/space_shuttle05_delimited.csv\n",
      "Output file is  /Users/adrian/Uni/testdata/synthetic/datsa/transformed/space_shuttle/space_shuttle05_transform.csv\n",
      "transforming\n",
      "transforming done\n"
     ]
    }
   ],
   "source": [
    "%run -i '../tools/datsa' -f /Users/adrian/Uni/testdata/synthetic/datsa/raw/space_shuttle/space_shuttle05_delimited.csv -o /Users/adrian/Uni/testdata/synthetic/datsa/transformed/space_shuttle/space_shuttle05_transform.csv"
   ]
  },
  {
   "cell_type": "code",
   "execution_count": 7,
   "metadata": {},
   "outputs": [
    {
     "name": "stdout",
     "output_type": "stream",
     "text": [
      "Input file is  /Users/adrian/Uni/testdata/synthetic/datsa/raw/space_shuttle/space_shuttle06_delimited.csv\n",
      "Output file is  /Users/adrian/Uni/testdata/synthetic/datsa/transformed/space_shuttle/space_shuttle06_transform.csv\n",
      "transforming\n",
      "transforming done\n"
     ]
    }
   ],
   "source": [
    "%run -i '../tools/datsa' -f /Users/adrian/Uni/testdata/synthetic/datsa/raw/space_shuttle/space_shuttle06_delimited.csv -o /Users/adrian/Uni/testdata/synthetic/datsa/transformed/space_shuttle/space_shuttle06_transform.csv"
   ]
  },
  {
   "cell_type": "code",
   "execution_count": null,
   "metadata": {},
   "outputs": [],
   "source": []
  }
 ],
 "metadata": {
  "kernelspec": {
   "display_name": "Django Shell-Plus",
   "language": "python",
   "name": "django_extensions"
  },
  "language_info": {
   "codemirror_mode": {
    "name": "ipython",
    "version": 3
   },
   "file_extension": ".py",
   "mimetype": "text/x-python",
   "name": "python",
   "nbconvert_exporter": "python",
   "pygments_lexer": "ipython3",
   "version": "3.7.1"
  }
 },
 "nbformat": 4,
 "nbformat_minor": 4
}
