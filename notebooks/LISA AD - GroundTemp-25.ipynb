{
 "cells": [
  {
   "cell_type": "code",
   "execution_count": 1,
   "metadata": {
    "collapsed": true
   },
   "outputs": [],
   "source": [
    "from lisa.utils import *\n",
    "from lisa.library import *\n",
    "import lisa.models, pytz\n",
    "import numpy as np, pandas as pd, datetime\n",
    "from matplotlib import pyplot as plt, style # for ploting\n",
    "import seaborn as sns # for ploting\n",
    "from sklearn.metrics import fbeta_score, precision_score, recall_score, confusion_matrix # for evaluation\n",
    "import itertools"
   ]
  },
  {
   "cell_type": "code",
   "execution_count": 2,
   "metadata": {
    "collapsed": true
   },
   "outputs": [],
   "source": [
    "style.use('ggplot')\n",
    "np.random.seed(42) \n",
    "\n",
    "def plot_confusion_matrix(cm, classes,\n",
    "                          normalize=False,\n",
    "                          title='Confusion matrix',\n",
    "                          cmap=plt.cm.binary):\n",
    "    \"\"\"\n",
    "    This function prints and plots the confusion matrix.\n",
    "    Normalization can be applied by setting `normalize=True`.\n",
    "    Copyed from a kernel by joparga3 https://www.kaggle.com/joparga3/kernels\n",
    "    \"\"\"\n",
    "    plt.figure()\n",
    "    plt.imshow(cm, interpolation='nearest', cmap=cmap)\n",
    "    plt.title(title)\n",
    "    plt.colorbar()\n",
    "    tick_marks = np.arange(len(classes))\n",
    "    plt.xticks(tick_marks, classes, rotation=0)\n",
    "    plt.yticks(tick_marks, classes)\n",
    "\n",
    "    thresh = cm.max() / 2.\n",
    "    for i, j in itertools.product(range(cm.shape[0]), range(cm.shape[1])):\n",
    "        plt.text(j, i, cm[i, j],\n",
    "                 horizontalalignment=\"center\",\n",
    "                 color=\"white\" if cm[i, j] > thresh else \"black\")\n",
    "\n",
    "    plt.tight_layout()\n",
    "    plt.ylabel('True label')\n",
    "    plt.xlabel('Predicted label')\n",
    "    plt.show()"
   ]
  },
  {
   "cell_type": "code",
   "execution_count": 3,
   "metadata": {},
   "outputs": [
    {
     "name": "stdout",
     "output_type": "stream",
     "text": [
      "(2016, 14)\n"
     ]
    }
   ],
   "source": [
    "dataset = DataSet.objects.get(id=6)\n",
    "df = dataset.dataframe\n",
    "print(df.shape)\n",
    "df_res = pd.DataFrame(index=df.index, columns=df.columns)\n",
    "df_mean = df.mean(axis=1)\n",
    "df_std = df.std(axis=1)\n",
    "df_quantile_25 = df.quantile(0.25, axis=1)\n",
    "df_quantile_75 = df.quantile(0.75, axis=1)"
   ]
  },
  {
   "cell_type": "code",
   "execution_count": 4,
   "metadata": {},
   "outputs": [
    {
     "name": "stdout",
     "output_type": "stream",
     "text": [
      "287\n",
      "station\n",
      "23      9.0\n",
      "24     13.0\n",
      "25     13.0\n",
      "26      NaN\n",
      "27     70.0\n",
      "28      NaN\n",
      "29     34.0\n",
      "30      NaN\n",
      "31      NaN\n",
      "32      NaN\n",
      "33      NaN\n",
      "34      NaN\n",
      "35    148.0\n",
      "37      NaN\n",
      "dtype: float64\n"
     ]
    }
   ],
   "source": [
    "count=0\n",
    "for index, row in df.iterrows():\n",
    "    for column in df.columns:\n",
    "        IQR = df_quantile_75[index] - df_quantile_25[index]\n",
    "        \n",
    "        if row[column] < (df_quantile_25[index] - (1.5 * IQR)) or row[column] > (df_quantile_75[index] + (1.5 * IQR)):\n",
    "            df_res.loc[index, column] = 1\n",
    "            count+=1\n",
    "            #print(index)\n",
    "            #print('Val:', np.abs(row[column]))\n",
    "            #print('Mean:', df_mean[index])\n",
    "            #print('2 Std:', 2*df_std[index])\n",
    "print(count)\n",
    "print(df_res.sum(axis=0))"
   ]
  },
  {
   "cell_type": "code",
   "execution_count": 5,
   "metadata": {},
   "outputs": [
    {
     "name": "stdout",
     "output_type": "stream",
     "text": [
      "222\n"
     ]
    }
   ],
   "source": [
    "indexes = []\n",
    "for index, row in df_res.iterrows():\n",
    "    for column in df_res.columns:\n",
    "        if row[column] == 1:\n",
    "            indexes.append(index)\n",
    "            break\n",
    "print(len(indexes))"
   ]
  },
  {
   "cell_type": "code",
   "execution_count": 6,
   "metadata": {
    "collapsed": true
   },
   "outputs": [],
   "source": [
    "df_class = pd.DataFrame(index=df.index)\n",
    "df_class['Class'] = 0\n",
    "\n",
    "for index in indexes:\n",
    "    df_class.loc[index,'Class'] = 1\n",
    "df = df.join(df_class)"
   ]
  },
  {
   "cell_type": "code",
   "execution_count": 7,
   "metadata": {},
   "outputs": [
    {
     "name": "stdout",
     "output_type": "stream",
     "text": [
      "station_id: 23\n",
      "Execution time for pearson values for series: 0:00:00.077817\n",
      "Execution time for lisa values: 0:00:03.065529\n",
      "station_id: 24\n",
      "Execution time for pearson values for series: 0:00:00.060082\n",
      "Execution time for lisa values: 0:00:03.104087\n",
      "station_id: 25\n",
      "Execution time for pearson values for series: 0:00:00.048754\n",
      "Execution time for lisa values: 0:00:03.126954\n",
      "station_id: 26\n",
      "Execution time for pearson values for series: 0:00:00.053479\n",
      "Execution time for lisa values: 0:00:03.593473\n",
      "station_id: 27\n",
      "Execution time for pearson values for series: 0:00:00.049212\n",
      "Execution time for lisa values: 0:00:03.002289\n",
      "station_id: 28\n",
      "Execution time for pearson values for series: 0:00:00.048381\n",
      "Execution time for lisa values: 0:00:02.977655\n",
      "station_id: 29\n",
      "Execution time for pearson values for series: 0:00:00.048922\n",
      "Execution time for lisa values: 0:00:03.033612\n",
      "station_id: 30\n",
      "Execution time for pearson values for series: 0:00:00.049731\n",
      "Execution time for lisa values: 0:00:03.052626\n",
      "station_id: 31\n",
      "Execution time for pearson values for series: 0:00:00.049057\n",
      "Execution time for lisa values: 0:00:03.105012\n",
      "station_id: 32\n",
      "Execution time for pearson values for series: 0:00:00.050877\n",
      "Execution time for lisa values: 0:00:03.005277\n",
      "station_id: 33\n",
      "Execution time for pearson values for series: 0:00:00.049222\n",
      "Execution time for lisa values: 0:00:03.079164\n",
      "station_id: 34\n",
      "Execution time for pearson values for series: 0:00:00.052656\n",
      "Execution time for lisa values: 0:00:03.055060\n",
      "station_id: 35\n",
      "Execution time for pearson values for series: 0:00:00.048884\n",
      "Execution time for lisa values: 0:00:03.082825\n",
      "station_id: 37\n",
      "Execution time for pearson values for series: 0:00:00.048530\n",
      "Execution time for lisa values: 0:00:03.051157\n"
     ]
    }
   ],
   "source": [
    "# append mean values of each row to dataframe\n",
    "df_val_mean = df_copy_with_mean(df.drop('Class', axis=1))\n",
    "\n",
    "df_lisa_station_results = []\n",
    "    \n",
    "for station in dataset.stations.all():\n",
    "    station_id = station.id\n",
    "    print(\"station_id: {0}\".format(station_id))\n",
    "\n",
    "    df_correlation, time_elapsed = pearson(df.drop('Class', axis=1), station_id, window_size=16, min_periods=None)\n",
    "    row_standardized = True\n",
    "    if row_standardized:\n",
    "        df_correlation = df_row_standardized(df_correlation)\n",
    "\n",
    "    df_lisa_results, lisa_time_elapsed = df_lisa_time_series(station_id, df_val_mean, df_correlation)\n",
    "    df_lisa_station_results.append(df_lisa_results)\n",
    "\n",
    "df_lisa = pd.DataFrame(index=df.index)\n",
    "for result in df_lisa_station_results:\n",
    "    df_lisa = df_lisa.join(result)"
   ]
  },
  {
   "cell_type": "code",
   "execution_count": 23,
   "metadata": {},
   "outputs": [
    {
     "name": "stdout",
     "output_type": "stream",
     "text": [
      "[ 0.          0.          0.         ..., -0.00309402 -0.00790067\n",
      " -0.01598028]\n"
     ]
    }
   ],
   "source": [
    "df_res = df_res.fillna(value=0)\n",
    "df_lisa = df_lisa.fillna(value=0)\n",
    "y_pred_score = df_lisa[25].values\n",
    "print(y_pred_score)"
   ]
  },
  {
   "cell_type": "code",
   "execution_count": 24,
   "metadata": {},
   "outputs": [
    {
     "name": "stderr",
     "output_type": "stream",
     "text": [
      "/usr/local/lib/python3.6/site-packages/sklearn/metrics/classification.py:1135: UndefinedMetricWarning: Precision is ill-defined and being set to 0.0 due to no predicted samples.\n",
      "  'precision', 'predicted', average, warn_for)\n",
      "/usr/local/lib/python3.6/site-packages/sklearn/metrics/classification.py:1135: UndefinedMetricWarning: F-score is ill-defined and being set to 0.0 due to no predicted samples.\n",
      "  'precision', 'predicted', average, warn_for)\n"
     ]
    }
   ],
   "source": [
    "tresholds = np.linspace(0, -1, 100)\n",
    "scores = []\n",
    "y_pred_score = df_lisa[25].values\n",
    "for treshold in tresholds:\n",
    "    y_hat = (y_pred_score < treshold).astype(int)\n",
    "    scores.append([recall_score(y_pred=y_hat, y_true=df_res[25].values),\n",
    "                 precision_score(y_pred=y_hat, y_true=df_res[25].values),\n",
    "                 fbeta_score(y_pred=y_hat, y_true=df_res[25].values, beta=1)])\n",
    "\n",
    "scores = np.array(scores)"
   ]
  },
  {
   "cell_type": "code",
   "execution_count": 25,
   "metadata": {},
   "outputs": [
    {
     "data": {
      "image/png": "[encoded data removed]",
      "text/plain": [
       "<matplotlib.figure.Figure at 0x10e85bba8>"
      ]
     },
     "metadata": {},
     "output_type": "display_data"
    }
   ],
   "source": [
    "plt.plot(tresholds, scores[:, 0], label='$Recall$')\n",
    "plt.plot(tresholds, scores[:, 1], label='$Precision$')\n",
    "plt.plot(tresholds, scores[:, 2], label='$F_1$')\n",
    "plt.ylabel('Score')\n",
    "plt.xlabel('Threshold')\n",
    "plt.legend(loc='best')\n",
    "plt.show()"
   ]
  },
  {
   "cell_type": "code",
   "execution_count": 26,
   "metadata": {},
   "outputs": [
    {
     "name": "stdout",
     "output_type": "stream",
     "text": [
      "Final threshold: -0.182\n",
      "Recall Score: 0.231\n",
      "Precision Score: 0.022\n",
      "F1 Score: 0.040\n"
     ]
    },
    {
     "data": {
      "image/png": "[encoded data removed]",
      "text/plain": [
       "<matplotlib.figure.Figure at 0x10de88390>"
      ]
     },
     "metadata": {},
     "output_type": "display_data"
    }
   ],
   "source": [
    "final_tresh = tresholds[scores[:, 2].argmax()]\n",
    "#final_tresh = -0.4\n",
    "y_hat_test = (df_lisa[25].values < final_tresh).astype(int)\n",
    "\n",
    "print('Final threshold: %.3f' % final_tresh)\n",
    "print('Recall Score: %.3f' % recall_score(y_pred=y_hat_test, y_true=df_res[25].values))\n",
    "print('Precision Score: %.3f' % precision_score(y_pred=y_hat_test, y_true=df_res[25].values))\n",
    "print('F1 Score: %.3f' % fbeta_score(y_pred=y_hat_test, y_true=df_res[25].values, beta=1))\n",
    "\n",
    "cnf_matrix = confusion_matrix(df_res[25].values, y_hat_test)\n",
    "plot_confusion_matrix(cnf_matrix, classes=['Normal','Anormal'], title='Confusion matrix')"
   ]
  },
  {
   "cell_type": "code",
   "execution_count": 48,
   "metadata": {},
   "outputs": [
    {
     "data": {
      "text/plain": [
       "(623, 15)"
      ]
     },
     "execution_count": 48,
     "metadata": {},
     "output_type": "execute_result"
    }
   ],
   "source": [
    "#gets all anormal instances\n",
    "df[(model.predict(df_n.drop('Class', axis=1).values) < final_tresh)].shape"
   ]
  },
  {
   "cell_type": "code",
   "execution_count": 41,
   "metadata": {},
   "outputs": [
    {
     "name": "stdout",
     "output_type": "stream",
     "text": [
      "Final threshold: 21\n",
      "Test Recall Score: 0.468\n",
      "Test Precision Score: 0.283\n",
      "Test F1 Score: 0.353\n"
     ]
    },
    {
     "data": {
      "image/png": "[encoded data removed]",
      "text/plain": [
       "<matplotlib.figure.Figure at 0x114ec3c18>"
      ]
     },
     "metadata": {},
     "output_type": "display_data"
    }
   ],
   "source": [
    "final_tresh = tresholds[scores[:, 2].argmax()]\n",
    "y_hat_test = (model.predict(test.drop('Class', axis=1).values) < final_tresh).astype(int)\n",
    "\n",
    "print('Final threshold: %d' % final_tresh)\n",
    "print('Test Recall Score: %.3f' % recall_score(y_pred=y_hat_test, y_true=test['Class'].values))\n",
    "print('Test Precision Score: %.3f' % precision_score(y_pred=y_hat_test, y_true=test['Class'].values))\n",
    "print('Test F1 Score: %.3f' % fbeta_score(y_pred=y_hat_test, y_true=test['Class'].values, beta=1))\n",
    "\n",
    "cnf_matrix = confusion_matrix(test['Class'].values, y_hat_test)\n",
    "plot_confusion_matrix(cnf_matrix, classes=['Normal','Anormal'], title='Confusion matrix')"
   ]
  },
  {
   "cell_type": "code",
   "execution_count": null,
   "metadata": {
    "collapsed": true
   },
   "outputs": [],
   "source": []
  }
 ],
 "metadata": {
  "kernelspec": {
   "display_name": "Django Shell-Plus",
   "language": "python",
   "name": "django_extensions"
  },
  "language_info": {
   "codemirror_mode": {
    "name": "ipython",
    "version": 3
   },
   "file_extension": ".py",
   "mimetype": "text/x-python",
   "name": "python",
   "nbconvert_exporter": "python",
   "pygments_lexer": "ipython3",
   "version": "3.6.2"
  }
 },
 "nbformat": 4,
 "nbformat_minor": 2
}
