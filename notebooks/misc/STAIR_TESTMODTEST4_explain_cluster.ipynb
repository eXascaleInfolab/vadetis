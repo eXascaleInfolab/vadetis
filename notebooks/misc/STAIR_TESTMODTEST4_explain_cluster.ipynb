{
 "cells": [
  {
   "cell_type": "code",
   "execution_count": 1,
   "metadata": {
    "collapsed": true
   },
   "outputs": [],
   "source": [
    "from lisa.utils import *"
   ]
  },
  {
   "cell_type": "code",
   "execution_count": 2,
   "metadata": {
    "collapsed": true
   },
   "outputs": [],
   "source": [
    "from lisa.library import *"
   ]
  },
  {
   "cell_type": "code",
   "execution_count": 3,
   "metadata": {
    "collapsed": true
   },
   "outputs": [],
   "source": [
    "import lisa.models"
   ]
  },
  {
   "cell_type": "code",
   "execution_count": 4,
   "metadata": {
    "collapsed": true
   },
   "outputs": [],
   "source": [
    "import numpy as np, pandas as pd, datetime, pytz"
   ]
  },
  {
   "cell_type": "code",
   "execution_count": 15,
   "metadata": {
    "collapsed": false
   },
   "outputs": [],
   "source": [
    "lisa_calc = LisaCalculation.objects.get(pk=3506)"
   ]
  },
  {
   "cell_type": "code",
   "execution_count": 16,
   "metadata": {
    "collapsed": true
   },
   "outputs": [],
   "source": [
    "df = lisa_calc.datastream.dataframe"
   ]
  },
  {
   "cell_type": "code",
   "execution_count": 17,
   "metadata": {
    "collapsed": true
   },
   "outputs": [],
   "source": [
    "lisa_values = lisa_calc.dataframe_lisa"
   ]
  },
  {
   "cell_type": "code",
   "execution_count": 18,
   "metadata": {
    "collapsed": true
   },
   "outputs": [],
   "source": [
    "lisa_correlation = lisa_calc.dataframe_correlation"
   ]
  },
  {
   "cell_type": "code",
   "execution_count": 10,
   "metadata": {
    "collapsed": true
   },
   "outputs": [],
   "source": [
    "dt = datetime.datetime(2017, 4, 7, 4, 30, tzinfo=pytz.utc)"
   ]
  },
  {
   "cell_type": "code",
   "execution_count": 31,
   "metadata": {
    "collapsed": false
   },
   "outputs": [
    {
     "data": {
      "text/plain": [
       "station\n",
       "294       0.0\n",
       "295       1.0\n",
       "296      -0.1\n",
       "297       NaN\n",
       "298    1978.0\n",
       "299       4.8\n",
       "300       5.1\n",
       "301       0.6\n",
       "302      -0.1\n",
       "303     -10.6\n",
       "304       0.0\n",
       "305       3.9\n",
       "306       0.0\n",
       "307       0.0\n",
       "Name: 2017-04-07 04:40:00+00:00, dtype: float64"
      ]
     },
     "execution_count": 31,
     "metadata": {},
     "output_type": "execute_result"
    }
   ],
   "source": [
    "df.loc[dt]"
   ]
  },
  {
   "cell_type": "code",
   "execution_count": 32,
   "metadata": {
    "collapsed": false
   },
   "outputs": [
    {
     "data": {
      "text/plain": [
       "548.50556433145152"
      ]
     },
     "execution_count": 32,
     "metadata": {},
     "output_type": "execute_result"
    }
   ],
   "source": [
    "df.loc[dt].std()"
   ]
  },
  {
   "cell_type": "code",
   "execution_count": 40,
   "metadata": {
    "collapsed": false
   },
   "outputs": [
    {
     "data": {
      "text/plain": [
       "295    0.033534\n",
       "Name: 2017-04-07 04:40:00+00:00, dtype: float64"
      ]
     },
     "execution_count": 40,
     "metadata": {},
     "output_type": "execute_result"
    }
   ],
   "source": [
    "lisa_values.loc[dt]"
   ]
  },
  {
   "cell_type": "code",
   "execution_count": 41,
   "metadata": {
    "collapsed": false
   },
   "outputs": [
    {
     "data": {
      "text/plain": [
       "station\n",
       "294             NaN\n",
       "296    1.494860e-01\n",
       "297             NaN\n",
       "298    4.628744e-02\n",
       "299   -2.033231e-02\n",
       "300    1.178762e-01\n",
       "301    2.138414e-01\n",
       "302    2.138415e-01\n",
       "303    1.518227e-01\n",
       "304    0.000000e+00\n",
       "305    1.271771e-01\n",
       "306   -2.298509e-09\n",
       "307    0.000000e+00\n",
       "Name: 2017-04-07 04:40:00+00:00, dtype: float64"
      ]
     },
     "execution_count": 41,
     "metadata": {},
     "output_type": "execute_result"
    }
   ],
   "source": [
    "lisa_correlation.loc[dt]"
   ]
  },
  {
   "cell_type": "code",
   "execution_count": 6,
   "metadata": {
    "collapsed": true
   },
   "outputs": [],
   "source": [
    "lisa_calc2 = LisaCalculation.objects.get(pk=3919)"
   ]
  },
  {
   "cell_type": "code",
   "execution_count": 7,
   "metadata": {
    "collapsed": true
   },
   "outputs": [],
   "source": [
    "lisa_values2 = lisa_calc2.dataframe_lisa"
   ]
  },
  {
   "cell_type": "code",
   "execution_count": 8,
   "metadata": {
    "collapsed": true
   },
   "outputs": [],
   "source": [
    "lisa_correlation2 = lisa_calc2.dataframe_correlation"
   ]
  },
  {
   "cell_type": "code",
   "execution_count": 11,
   "metadata": {
    "collapsed": false
   },
   "outputs": [
    {
     "data": {
      "text/plain": [
       "295   -0.5729549604\n",
       "Name: 2017-04-07 04:30:00+00:00, dtype: float64"
      ]
     },
     "execution_count": 11,
     "metadata": {},
     "output_type": "execute_result"
    }
   ],
   "source": [
    "lisa_values2.loc[dt]"
   ]
  },
  {
   "cell_type": "code",
   "execution_count": 5,
   "metadata": {
    "collapsed": true
   },
   "outputs": [],
   "source": [
    "pd.set_option('display.float_format', lambda x: '%.10f' % x)"
   ]
  },
  {
   "cell_type": "code",
   "execution_count": 64,
   "metadata": {
    "collapsed": false
   },
   "outputs": [
    {
     "data": {
      "text/plain": [
       "station\n",
       "294             nan\n",
       "296    0.0676506963\n",
       "297             nan\n",
       "298    0.5403777363\n",
       "299   -0.2584570352\n",
       "300    0.1036004136\n",
       "301   -0.0000789235\n",
       "302             nan\n",
       "303   -0.0953713345\n",
       "304    0.0000000000\n",
       "305   -0.2379155808\n",
       "306   -0.0000000109\n",
       "307    0.0000000000\n",
       "Name: 2017-04-07 04:30:00+00:00, dtype: float64"
      ]
     },
     "execution_count": 64,
     "metadata": {},
     "output_type": "execute_result"
    }
   ],
   "source": [
    "lisa_correlation2.loc[dt]"
   ]
  },
  {
   "cell_type": "code",
   "execution_count": 65,
   "metadata": {
    "collapsed": false
   },
   "outputs": [
    {
     "data": {
      "text/plain": [
       "0.11980596137883953"
      ]
     },
     "execution_count": 65,
     "metadata": {},
     "output_type": "execute_result"
    }
   ],
   "source": [
    "lisa_correlation2.loc[dt].sum()"
   ]
  },
  {
   "cell_type": "code",
   "execution_count": 67,
   "metadata": {
    "collapsed": false
   },
   "outputs": [
    {
     "data": {
      "text/plain": [
       "station\n",
       "294             nan\n",
       "296    0.5646688657\n",
       "297             nan\n",
       "298    4.5104411341\n",
       "299   -2.1572969509\n",
       "300    0.8647350465\n",
       "301   -0.0006587608\n",
       "302             nan\n",
       "303   -0.7960483216\n",
       "304    0.0000000000\n",
       "305   -1.9858409219\n",
       "306   -0.0000000911\n",
       "307    0.0000000000\n",
       "Name: 2017-04-07 04:30:00+00:00, dtype: float64"
      ]
     },
     "execution_count": 67,
     "metadata": {},
     "output_type": "execute_result"
    }
   ],
   "source": [
    "lisa_correlation2_std.loc[dt]"
   ]
  },
  {
   "cell_type": "code",
   "execution_count": 68,
   "metadata": {
    "collapsed": false
   },
   "outputs": [],
   "source": [
    "lisa_correlation2_abs = lisa_correlation2.loc[dt].abs()"
   ]
  },
  {
   "cell_type": "code",
   "execution_count": 70,
   "metadata": {
    "collapsed": false
   },
   "outputs": [
    {
     "data": {
      "text/plain": [
       "1.3034517310465865"
      ]
     },
     "execution_count": 70,
     "metadata": {},
     "output_type": "execute_result"
    }
   ],
   "source": [
    "lisa_correlation2_abs.sum()"
   ]
  },
  {
   "cell_type": "code",
   "execution_count": 71,
   "metadata": {
    "collapsed": false
   },
   "outputs": [],
   "source": [
    "ltest = lisa_correlation2.loc[dt] / lisa_correlation2_abs.sum()"
   ]
  },
  {
   "cell_type": "code",
   "execution_count": 79,
   "metadata": {
    "collapsed": false
   },
   "outputs": [
    {
     "data": {
      "text/plain": [
       "1.0"
      ]
     },
     "execution_count": 79,
     "metadata": {},
     "output_type": "execute_result"
    }
   ],
   "source": [
    "ltest.abs().sum()"
   ]
  },
  {
   "cell_type": "code",
   "execution_count": 12,
   "metadata": {
    "collapsed": false
   },
   "outputs": [
    {
     "data": {
      "text/plain": [
       "station\n",
       "294             nan\n",
       "296    0.0676506963\n",
       "297             nan\n",
       "298    0.5403777363\n",
       "299   -0.2584570352\n",
       "300    0.1036004136\n",
       "301   -0.0000789235\n",
       "302             nan\n",
       "303   -0.0953713345\n",
       "304    0.0000000000\n",
       "305   -0.2379155808\n",
       "306   -0.0000000109\n",
       "307    0.0000000000\n",
       "Name: 2017-04-07 04:30:00+00:00, dtype: float64"
      ]
     },
     "execution_count": 12,
     "metadata": {},
     "output_type": "execute_result"
    }
   ],
   "source": [
    "lisa_correlation2.loc[dt]"
   ]
  },
  {
   "cell_type": "code",
   "execution_count": 13,
   "metadata": {
    "collapsed": true
   },
   "outputs": [],
   "source": [
    "lisa_correlation2_std = df_row_standardized(lisa_correlation2)"
   ]
  },
  {
   "cell_type": "code",
   "execution_count": 18,
   "metadata": {
    "collapsed": false
   },
   "outputs": [
    {
     "data": {
      "text/plain": [
       "station\n",
       "294             nan\n",
       "296    0.0519011903\n",
       "297             nan\n",
       "298    0.4145744130\n",
       "299   -0.1982866178\n",
       "300    0.0794815881\n",
       "301   -0.0000605496\n",
       "302             nan\n",
       "303   -0.0731682902\n",
       "304    0.0000000000\n",
       "305   -0.1825273427\n",
       "306   -0.0000000084\n",
       "307    0.0000000000\n",
       "Name: 2017-04-07 04:30:00+00:00, dtype: float64"
      ]
     },
     "execution_count": 18,
     "metadata": {},
     "output_type": "execute_result"
    }
   ],
   "source": [
    "lisa_correlation2_std.loc[dt]"
   ]
  },
  {
   "cell_type": "code",
   "execution_count": 6,
   "metadata": {
    "collapsed": true
   },
   "outputs": [],
   "source": [
    "lisa_calc3 = LisaCalculation.objects.get(pk=3912)"
   ]
  },
  {
   "cell_type": "code",
   "execution_count": 7,
   "metadata": {
    "collapsed": true
   },
   "outputs": [],
   "source": [
    "df3 = lisa_calc3.datastream.dataframe"
   ]
  },
  {
   "cell_type": "code",
   "execution_count": 8,
   "metadata": {
    "collapsed": true
   },
   "outputs": [],
   "source": [
    "lisa_values3 = lisa_calc3.dataframe_lisa"
   ]
  },
  {
   "cell_type": "code",
   "execution_count": 9,
   "metadata": {
    "collapsed": true
   },
   "outputs": [],
   "source": [
    "lisa_correlation3 = lisa_calc3.dataframe_correlation"
   ]
  },
  {
   "cell_type": "code",
   "execution_count": 48,
   "metadata": {
    "collapsed": false
   },
   "outputs": [],
   "source": [
    "dt3 = datetime.datetime(2017, 4, 10, 23, 0, tzinfo=pytz.utc)"
   ]
  },
  {
   "cell_type": "code",
   "execution_count": 49,
   "metadata": {
    "collapsed": false
   },
   "outputs": [
    {
     "data": {
      "text/plain": [
       "station\n",
       "435   -0.1964529862\n",
       "436   -0.1964529862\n",
       "437   -0.1964529862\n",
       "438   -0.1964529862\n",
       "440   -0.1964529862\n",
       "441   -0.1964529862\n",
       "442   -0.1964529862\n",
       "443   -0.1964529862\n",
       "444   -0.1964529862\n",
       "Name: 2017-04-10 23:00:00+00:00, dtype: float64"
      ]
     },
     "execution_count": 49,
     "metadata": {},
     "output_type": "execute_result"
    }
   ],
   "source": [
    "lisa_correlation3.loc[dt3]"
   ]
  },
  {
   "cell_type": "code",
   "execution_count": 12,
   "metadata": {
    "collapsed": false
   },
   "outputs": [
    {
     "data": {
      "text/plain": [
       "station\n",
       "435     0.0000000000\n",
       "436     0.1000000000\n",
       "437     0.2000000000\n",
       "438     0.3000000000\n",
       "439   100.0000000000\n",
       "440     0.5000000000\n",
       "441     0.6000000000\n",
       "442     0.7000000000\n",
       "443     0.8000000000\n",
       "444     0.9000000000\n",
       "Name: 2017-04-10 23:00:00+00:00, dtype: float64"
      ]
     },
     "execution_count": 12,
     "metadata": {},
     "output_type": "execute_result"
    }
   ],
   "source": [
    "df3.loc[dt3]"
   ]
  },
  {
   "cell_type": "code",
   "execution_count": 13,
   "metadata": {
    "collapsed": true
   },
   "outputs": [],
   "source": [
    "station_ids_list = [435, 436, 437, 438, 439, 440, 441, 442, 443, 444]"
   ]
  },
  {
   "cell_type": "code",
   "execution_count": 14,
   "metadata": {
    "collapsed": true
   },
   "outputs": [],
   "source": [
    "df3_mean = df_copy_with_mean(df3)"
   ]
  },
  {
   "cell_type": "code",
   "execution_count": 15,
   "metadata": {
    "collapsed": false
   },
   "outputs": [
    {
     "name": "stdout",
     "output_type": "stream",
     "text": [
      "v_pi:\t 100.0\n",
      "v_i_mean:\t 10.41\n",
      "std_deviation_i:\t 29.8647099433\n",
      "z_pi_val:\t 2.99986171538\n",
      "w_z_results:\t [0.068477999276909451, 0.067820189485584631, 0.067162379694259866, 0.066504569902935157, 0.065188950320285544, 0.064531140528960751, 0.063873330737635889, 0.063215520946311263, 0.062557711154986373]\n"
     ]
    },
    {
     "data": {
      "text/plain": [
       "1.7679138806214283"
      ]
     },
     "execution_count": 15,
     "metadata": {},
     "output_type": "execute_result"
    }
   ],
   "source": [
    "lisa_for_df_row(df3_mean.loc[dt3], 439, station_ids_list, lisa_correlation3.loc[dt3], skipna=True)"
   ]
  },
  {
   "cell_type": "code",
   "execution_count": 50,
   "metadata": {
    "collapsed": false
   },
   "outputs": [
    {
     "data": {
      "text/plain": [
       "-0.3418750766166595"
      ]
     },
     "execution_count": 50,
     "metadata": {},
     "output_type": "execute_result"
    }
   ],
   "source": [
    "z_pi(v_xi=0.2000000000, v_i_mean=10.41, std_deviation_i=29.8647099433)"
   ]
  },
  {
   "cell_type": "code",
   "execution_count": 18,
   "metadata": {
    "collapsed": false
   },
   "outputs": [
    {
     "data": {
      "text/plain": [
       "1.7679138806206893"
      ]
     },
     "execution_count": 18,
     "metadata": {},
     "output_type": "execute_result"
    }
   ],
   "source": []
  },
  {
   "cell_type": "code",
   "execution_count": 19,
   "metadata": {
    "collapsed": true
   },
   "outputs": [],
   "source": [
    "dt4 = datetime.datetime(2017, 4, 6, 17, 0, tzinfo=pytz.utc)"
   ]
  },
  {
   "cell_type": "code",
   "execution_count": 20,
   "metadata": {
    "collapsed": false
   },
   "outputs": [
    {
     "name": "stdout",
     "output_type": "stream",
     "text": [
      "v_pi:\t 10.9\n",
      "v_i_mean:\t 1.95\n",
      "std_deviation_i:\t 2.99708191413\n",
      "z_pi_val:\t 2.986238033\n",
      "w_z_results:\t [-0.15619790000079395, -0.14542563103522205, -0.13465336206964995, -0.12388109310407781, -0.10233655517293394, -0.09156428620736197, -0.080792017241790207, -0.070019748276217805, -0.059247479310646091]\n"
     ]
    },
    {
     "data": {
      "text/plain": [
       "-2.8790860561629281"
      ]
     },
     "execution_count": 20,
     "metadata": {},
     "output_type": "execute_result"
    }
   ],
   "source": [
    "lisa_for_df_row(df3_mean.loc[dt4], 439, station_ids_list, lisa_correlation3.loc[dt4], skipna=True)"
   ]
  },
  {
   "cell_type": "code",
   "execution_count": 21,
   "metadata": {
    "collapsed": false
   },
   "outputs": [
    {
     "data": {
      "text/plain": [
       "station\n",
       "435   0.3228537249\n",
       "436   0.3228537249\n",
       "437   0.3228537249\n",
       "438   0.3228537249\n",
       "440   0.3228537249\n",
       "441   0.3228537249\n",
       "442   0.3228537249\n",
       "443   0.3228537249\n",
       "444   0.3228537249\n",
       "Name: 2017-04-06 17:00:00+00:00, dtype: float64"
      ]
     },
     "execution_count": 21,
     "metadata": {},
     "output_type": "execute_result"
    }
   ],
   "source": [
    "lisa_correlation3.loc[dt4]"
   ]
  },
  {
   "cell_type": "code",
   "execution_count": null,
   "metadata": {
    "collapsed": true
   },
   "outputs": [],
   "source": []
  }
 ],
 "metadata": {
  "kernelspec": {
   "display_name": "Django Shell-Plus",
   "language": "python",
   "name": "django_extensions"
  },
  "language_info": {
   "codemirror_mode": {
    "name": "ipython",
    "version": 3
   },
   "file_extension": ".py",
   "mimetype": "text/x-python",
   "name": "python",
   "nbconvert_exporter": "python",
   "pygments_lexer": "ipython3",
   "version": "3.5.2"
  }
 },
 "nbformat": 4,
 "nbformat_minor": 2
}
