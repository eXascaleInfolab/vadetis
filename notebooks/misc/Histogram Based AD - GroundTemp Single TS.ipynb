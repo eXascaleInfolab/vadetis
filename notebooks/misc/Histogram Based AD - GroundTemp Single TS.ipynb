{
 "cells": [
  {
   "cell_type": "code",
   "execution_count": 1,
   "metadata": {
    "collapsed": true
   },
   "outputs": [],
   "source": [
    "from lisa.utils import *\n",
    "from lisa.library import *\n",
    "import lisa.models, pytz\n",
    "import numpy as np, pandas as pd, datetime\n",
    "from matplotlib import pyplot as plt, style # for ploting\n",
    "import seaborn as sns # for ploting\n",
    "from sklearn.metrics import fbeta_score, precision_score, recall_score, confusion_matrix # for evaluation\n",
    "import itertools"
   ]
  },
  {
   "cell_type": "code",
   "execution_count": 2,
   "metadata": {
    "collapsed": true
   },
   "outputs": [],
   "source": [
    "style.use('ggplot')\n",
    "np.random.seed(42) \n",
    "\n",
    "def plot_confusion_matrix(cm, classes,\n",
    "                          normalize=False,\n",
    "                          title='Confusion matrix',\n",
    "                          cmap=plt.cm.binary):\n",
    "    \"\"\"\n",
    "    This function prints and plots the confusion matrix.\n",
    "    Normalization can be applied by setting `normalize=True`.\n",
    "    Copyed from a kernel by joparga3 https://www.kaggle.com/joparga3/kernels\n",
    "    \"\"\"\n",
    "    plt.figure()\n",
    "    plt.imshow(cm, interpolation='nearest', cmap=cmap)\n",
    "    plt.title(title)\n",
    "    plt.colorbar()\n",
    "    tick_marks = np.arange(len(classes))\n",
    "    plt.xticks(tick_marks, classes, rotation=0)\n",
    "    plt.yticks(tick_marks, classes)\n",
    "\n",
    "    thresh = cm.max() / 2.\n",
    "    for i, j in itertools.product(range(cm.shape[0]), range(cm.shape[1])):\n",
    "        plt.text(j, i, cm[i, j],\n",
    "                 horizontalalignment=\"center\",\n",
    "                 color=\"white\" if cm[i, j] > thresh else \"black\")\n",
    "\n",
    "    plt.tight_layout()\n",
    "    plt.ylabel('True label')\n",
    "    plt.xlabel('Predicted label')\n",
    "    plt.show()"
   ]
  },
  {
   "cell_type": "code",
   "execution_count": 3,
   "metadata": {},
   "outputs": [
    {
     "name": "stdout",
     "output_type": "stream",
     "text": [
      "(2016, 14)\n"
     ]
    }
   ],
   "source": [
    "datastream = DataSet.objects.get(id=6)\n",
    "df = datastream.dataframe\n",
    "print(df.shape)\n",
    "df_res = pd.DataFrame(index=df.index, columns=df.columns)\n",
    "df_mean = df.mean(axis=1)\n",
    "df_std = df.std(axis=1)\n",
    "df_quantile_25 = df.quantile(0.25, axis=1)\n",
    "df_quantile_75 = df.quantile(0.75, axis=1)"
   ]
  },
  {
   "cell_type": "code",
   "execution_count": 4,
   "metadata": {},
   "outputs": [
    {
     "name": "stdout",
     "output_type": "stream",
     "text": [
      "287\n",
      "station\n",
      "23      9.0\n",
      "24     13.0\n",
      "25     13.0\n",
      "26      NaN\n",
      "27     70.0\n",
      "28      NaN\n",
      "29     34.0\n",
      "30      NaN\n",
      "31      NaN\n",
      "32      NaN\n",
      "33      NaN\n",
      "34      NaN\n",
      "35    148.0\n",
      "37      NaN\n",
      "dtype: float64\n"
     ]
    }
   ],
   "source": [
    "count=0\n",
    "for index, row in df.iterrows():\n",
    "    for column in df.columns:\n",
    "        IQR = df_quantile_75[index] - df_quantile_25[index]\n",
    "        \n",
    "        if row[column] < (df_quantile_25[index] - (1.5 * IQR)) or row[column] > (df_quantile_75[index] + (1.5 * IQR)):\n",
    "            df_res.loc[index, column] = 1\n",
    "            count+=1\n",
    "            #print(index)\n",
    "            #print('Val:', np.abs(row[column]))\n",
    "            #print('Mean:', df_mean[index])\n",
    "            #print('2 Std:', 2*df_std[index])\n",
    "print(count)\n",
    "print(df_res.sum(axis=0))"
   ]
  },
  {
   "cell_type": "code",
   "execution_count": 5,
   "metadata": {},
   "outputs": [
    {
     "name": "stdout",
     "output_type": "stream",
     "text": [
      "222\n"
     ]
    }
   ],
   "source": [
    "indexes = []\n",
    "for index, row in df_res.iterrows():\n",
    "    for column in df_res.columns:\n",
    "        if row[column] == 1:\n",
    "            indexes.append(index)\n",
    "            break\n",
    "print(len(indexes))"
   ]
  },
  {
   "cell_type": "code",
   "execution_count": 6,
   "metadata": {
    "collapsed": true
   },
   "outputs": [],
   "source": [
    "df_class = pd.DataFrame(index=df.index)\n",
    "df_class['Class'] = 0\n",
    "\n",
    "for index in indexes:\n",
    "    df_class.loc[index,'Class'] = 1\n",
    "df = df.join(df_class)"
   ]
  },
  {
   "cell_type": "code",
   "execution_count": 7,
   "metadata": {
    "collapsed": true
   },
   "outputs": [],
   "source": [
    "df_r = df_res[35]\n",
    "df_r = df_r.fillna(value=0)"
   ]
  },
  {
   "cell_type": "code",
   "execution_count": 8,
   "metadata": {},
   "outputs": [
    {
     "name": "stdout",
     "output_type": "stream",
     "text": [
      "                             35  Class\n",
      "time                                  \n",
      "2017-06-01 00:00:00+00:00  18.1      0\n",
      "2017-06-01 00:10:00+00:00  18.1      0\n",
      "2017-06-01 00:20:00+00:00  18.1      0\n",
      "2017-06-01 00:30:00+00:00  18.1      0\n",
      "2017-06-01 00:40:00+00:00  18.1      0\n",
      "2017-06-01 00:50:00+00:00  18.1      0\n",
      "2017-06-01 01:00:00+00:00  18.0      0\n",
      "2017-06-01 01:10:00+00:00  18.0      0\n",
      "2017-06-01 01:20:00+00:00  18.0      0\n",
      "2017-06-01 01:30:00+00:00  18.0      0\n",
      "2017-06-01 01:40:00+00:00  18.0      0\n",
      "2017-06-01 01:50:00+00:00  18.0      0\n",
      "2017-06-01 02:00:00+00:00  17.9      0\n",
      "2017-06-01 02:10:00+00:00  17.9      0\n",
      "2017-06-01 02:20:00+00:00  17.9      0\n",
      "2017-06-01 02:30:00+00:00  17.9      0\n",
      "2017-06-01 02:40:00+00:00  17.9      0\n",
      "2017-06-01 02:50:00+00:00  17.9      0\n",
      "2017-06-01 03:00:00+00:00  17.8      0\n",
      "2017-06-01 03:10:00+00:00  17.8      0\n",
      "2017-06-01 03:20:00+00:00  17.8      0\n",
      "2017-06-01 03:30:00+00:00  17.8      0\n",
      "2017-06-01 03:40:00+00:00  17.8      0\n",
      "2017-06-01 03:50:00+00:00  17.7      0\n",
      "2017-06-01 04:00:00+00:00  17.7      0\n",
      "2017-06-01 04:10:00+00:00  17.7      0\n",
      "2017-06-01 04:20:00+00:00  17.7      0\n",
      "2017-06-01 04:30:00+00:00  17.7      0\n",
      "2017-06-01 04:40:00+00:00  17.6      0\n",
      "2017-06-01 04:50:00+00:00  17.6      0\n",
      "...                         ...    ...\n",
      "2017-06-14 19:00:00+00:00  19.7      1\n",
      "2017-06-14 19:10:00+00:00  19.6      1\n",
      "2017-06-14 19:20:00+00:00  19.6      1\n",
      "2017-06-14 19:30:00+00:00  19.6      1\n",
      "2017-06-14 19:40:00+00:00  19.6      1\n",
      "2017-06-14 19:50:00+00:00  19.6      1\n",
      "2017-06-14 20:00:00+00:00  19.6      1\n",
      "2017-06-14 20:10:00+00:00  19.6      1\n",
      "2017-06-14 20:20:00+00:00  19.5      1\n",
      "2017-06-14 20:30:00+00:00  19.5      1\n",
      "2017-06-14 20:40:00+00:00  19.5      1\n",
      "2017-06-14 20:50:00+00:00  19.5      1\n",
      "2017-06-14 21:00:00+00:00  19.5      1\n",
      "2017-06-14 21:10:00+00:00  19.5      1\n",
      "2017-06-14 21:20:00+00:00  19.5      1\n",
      "2017-06-14 21:30:00+00:00  19.5      1\n",
      "2017-06-14 21:40:00+00:00  19.4      1\n",
      "2017-06-14 21:50:00+00:00  19.4      1\n",
      "2017-06-14 22:00:00+00:00  19.4      1\n",
      "2017-06-14 22:10:00+00:00  19.4      1\n",
      "2017-06-14 22:20:00+00:00  19.4      1\n",
      "2017-06-14 22:30:00+00:00  19.4      1\n",
      "2017-06-14 22:40:00+00:00  19.4      1\n",
      "2017-06-14 22:50:00+00:00  19.4      1\n",
      "2017-06-14 23:00:00+00:00  19.3      1\n",
      "2017-06-14 23:10:00+00:00  19.3      1\n",
      "2017-06-14 23:20:00+00:00  19.3      1\n",
      "2017-06-14 23:30:00+00:00  19.3      1\n",
      "2017-06-14 23:40:00+00:00  19.3      1\n",
      "2017-06-14 23:50:00+00:00  19.3      1\n",
      "\n",
      "[2016 rows x 2 columns]\n"
     ]
    }
   ],
   "source": [
    "df_v = df[35]\n",
    "df_v2 = pd.concat([df_v, df_r], axis=1)\n",
    "df_v2.columns = [35, 'Class']\n",
    "print(df_v2)"
   ]
  },
  {
   "cell_type": "code",
   "execution_count": 9,
   "metadata": {},
   "outputs": [
    {
     "name": "stdout",
     "output_type": "stream",
     "text": [
      "                             35  Class\n",
      "time                                  \n",
      "2017-06-07 19:00:00+00:00  15.7      1\n",
      "2017-06-07 19:10:00+00:00  15.7      1\n",
      "2017-06-07 19:20:00+00:00  15.7      1\n",
      "2017-06-07 19:30:00+00:00  15.7      1\n",
      "2017-06-07 19:40:00+00:00  15.7      1\n",
      "2017-06-07 19:50:00+00:00  15.7      1\n",
      "2017-06-07 20:00:00+00:00  15.7      1\n",
      "2017-06-07 20:10:00+00:00  15.7      1\n",
      "2017-06-07 20:20:00+00:00  15.6      1\n",
      "2017-06-07 20:30:00+00:00  15.6      1\n",
      "2017-06-07 20:40:00+00:00  15.6      1\n",
      "2017-06-09 10:00:00+00:00  15.7      1\n",
      "2017-06-09 10:10:00+00:00  15.8      1\n",
      "2017-06-09 10:20:00+00:00  15.8      1\n",
      "2017-06-09 10:30:00+00:00  15.8      1\n",
      "2017-06-09 10:40:00+00:00  15.9      1\n",
      "2017-06-09 10:50:00+00:00  15.9      1\n",
      "2017-06-09 11:00:00+00:00  15.9      1\n",
      "2017-06-09 11:10:00+00:00  16.0      1\n",
      "2017-06-09 11:20:00+00:00  16.0      1\n",
      "2017-06-09 11:30:00+00:00  16.0      1\n",
      "2017-06-09 18:00:00+00:00  16.9      1\n",
      "2017-06-09 18:10:00+00:00  16.9      1\n",
      "2017-06-09 18:20:00+00:00  16.9      1\n",
      "2017-06-09 18:30:00+00:00  16.9      1\n",
      "2017-06-09 18:40:00+00:00  17.0      1\n",
      "2017-06-09 18:50:00+00:00  17.0      1\n",
      "2017-06-09 19:00:00+00:00  17.0      1\n",
      "2017-06-09 19:10:00+00:00  17.0      1\n",
      "2017-06-09 19:20:00+00:00  17.0      1\n",
      "...                         ...    ...\n",
      "2017-06-14 19:00:00+00:00  19.7      1\n",
      "2017-06-14 19:10:00+00:00  19.6      1\n",
      "2017-06-14 19:20:00+00:00  19.6      1\n",
      "2017-06-14 19:30:00+00:00  19.6      1\n",
      "2017-06-14 19:40:00+00:00  19.6      1\n",
      "2017-06-14 19:50:00+00:00  19.6      1\n",
      "2017-06-14 20:00:00+00:00  19.6      1\n",
      "2017-06-14 20:10:00+00:00  19.6      1\n",
      "2017-06-14 20:20:00+00:00  19.5      1\n",
      "2017-06-14 20:30:00+00:00  19.5      1\n",
      "2017-06-14 20:40:00+00:00  19.5      1\n",
      "2017-06-14 20:50:00+00:00  19.5      1\n",
      "2017-06-14 21:00:00+00:00  19.5      1\n",
      "2017-06-14 21:10:00+00:00  19.5      1\n",
      "2017-06-14 21:20:00+00:00  19.5      1\n",
      "2017-06-14 21:30:00+00:00  19.5      1\n",
      "2017-06-14 21:40:00+00:00  19.4      1\n",
      "2017-06-14 21:50:00+00:00  19.4      1\n",
      "2017-06-14 22:00:00+00:00  19.4      1\n",
      "2017-06-14 22:10:00+00:00  19.4      1\n",
      "2017-06-14 22:20:00+00:00  19.4      1\n",
      "2017-06-14 22:30:00+00:00  19.4      1\n",
      "2017-06-14 22:40:00+00:00  19.4      1\n",
      "2017-06-14 22:50:00+00:00  19.4      1\n",
      "2017-06-14 23:00:00+00:00  19.3      1\n",
      "2017-06-14 23:10:00+00:00  19.3      1\n",
      "2017-06-14 23:20:00+00:00  19.3      1\n",
      "2017-06-14 23:30:00+00:00  19.3      1\n",
      "2017-06-14 23:40:00+00:00  19.3      1\n",
      "2017-06-14 23:50:00+00:00  19.3      1\n",
      "\n",
      "[148 rows x 2 columns]\n"
     ]
    }
   ],
   "source": [
    "#normal = df[df['Class'] == 0]\n",
    "#anomaly = df[df['Class'] == 1]\n",
    "normal = df_v2[df_v2['Class'] == 0]\n",
    "anomaly = df_v2[df_v2['Class'] == 1]\n",
    "print(anomaly)"
   ]
  },
  {
   "cell_type": "code",
   "execution_count": 10,
   "metadata": {},
   "outputs": [
    {
     "name": "stdout",
     "output_type": "stream",
     "text": [
      "Train shape:  (934, 2)\n",
      "Proportion os anomaly in training set: 0.00\n",
      "\n",
      "Valid shape:  (541, 2)\n",
      "Proportion os anomaly in validation set: 0.14\n",
      "\n",
      "Test shape:,  (541, 2)\n",
      "Proportion os anomaly in test set: 0.14\n",
      "\n"
     ]
    }
   ],
   "source": [
    "from sklearn.model_selection import train_test_split\n",
    "\n",
    "train, normal_test, _, _ = train_test_split(normal, normal, test_size=.5, random_state=42)\n",
    "\n",
    "normal_valid, normal_test, _, _ = train_test_split(normal_test, normal_test, test_size=.5, random_state=42)\n",
    "anormal_valid, anormal_test, _, _ = train_test_split(anomaly, anomaly, test_size=.5, random_state=42)\n",
    "\n",
    "train = train.reset_index(drop=True)\n",
    "valid = normal_valid.append(anormal_valid).sample(frac=1).reset_index(drop=True)\n",
    "test = normal_test.append(anormal_test).sample(frac=1).reset_index(drop=True)\n",
    "\n",
    "print('Train shape: ', train.shape)\n",
    "print('Proportion os anomaly in training set: %.2f\\n' % train['Class'].mean())\n",
    "print('Valid shape: ', valid.shape)\n",
    "print('Proportion os anomaly in validation set: %.2f\\n' % valid['Class'].mean())\n",
    "print('Test shape:, ', test.shape)\n",
    "print('Proportion os anomaly in test set: %.2f\\n' % test['Class'].mean())"
   ]
  },
  {
   "cell_type": "code",
   "execution_count": 11,
   "metadata": {},
   "outputs": [
    {
     "data": {
      "image/png": "[encoded data removed]",
      "text/plain": [
       "<matplotlib.figure.Figure at 0x11667aa90>"
      ]
     },
     "metadata": {},
     "output_type": "display_data"
    }
   ],
   "source": [
    "import matplotlib.gridspec as gridspec\n",
    "\n",
    "# plt.figure(figsize=(12,28*5))\n",
    "# gs = gridspec.GridSpec(28, 1)\n",
    "for feature in df_v2.drop(['Class'], axis=1).columns:\n",
    "    ax = plt.subplot()\n",
    "    sns.distplot(df_v2[feature][df_v2.Class == 1], bins=10, label='Anormal')\n",
    "    sns.distplot(df_v2[feature][df_v2.Class == 0], bins=10, label='Normal')\n",
    "    ax.set_xlabel('')\n",
    "    ax.set_title('histogram of feature: ' + str(feature))\n",
    "    plt.legend(loc='best')\n",
    "    plt.show()"
   ]
  },
  {
   "cell_type": "code",
   "execution_count": 12,
   "metadata": {},
   "outputs": [
    {
     "name": "stdout",
     "output_type": "stream",
     "text": [
      "22.0\n",
      "17.0\n"
     ]
    }
   ],
   "source": [
    "class hist_model(object):\n",
    "    \n",
    "    def __init__(self, bins=50):\n",
    "        self.bins = bins\n",
    "        \n",
    "    def fit(self, X):\n",
    "        \n",
    "        bin_hight, bin_edge = [], []\n",
    "        \n",
    "        for var in X.T:\n",
    "            # get bins hight and interval\n",
    "            bh, bedge = np.histogram(var, bins=self.bins)\n",
    "            bin_hight.append(bh)\n",
    "            bin_edge.append(bedge)\n",
    "        \n",
    "        self.bin_hight = np.array(bin_hight)\n",
    "        self.bin_edge = np.array(bin_edge)\n",
    "   \n",
    "\n",
    "    def predict(self, X):\n",
    "        \n",
    "        scores = []\n",
    "        for obs in X:\n",
    "            obs_score = []\n",
    "            for i, var in enumerate(obs):\n",
    "                # find wich bin obs is in\n",
    "                bin_num = (var > self.bin_edge[i]).argmin()-1\n",
    "                obs_score.append(self.bin_hight[i, bin_num]) # find bin hitght\n",
    "            \n",
    "            scores.append(np.mean(obs_score))\n",
    "        \n",
    "        return np.array(scores)\n",
    "                \n",
    "\n",
    "        \n",
    "model = hist_model()\n",
    "model.fit(train.drop('Class', axis=1).values)\n",
    "print(np.median(model.predict(valid[valid['Class'] == 0].drop('Class', axis=1).values))) \n",
    "print(np.median(model.predict(valid[valid['Class'] == 1].drop('Class', axis=1).values))) "
   ]
  },
  {
   "cell_type": "code",
   "execution_count": 13,
   "metadata": {
    "collapsed": true
   },
   "outputs": [],
   "source": [
    "tresholds = np.linspace(5, 30, 100)\n",
    "scores = []\n",
    "y_pred_score = model.predict(valid.drop('Class', axis=1).values)\n",
    "for treshold in tresholds:\n",
    "    y_hat = (y_pred_score < treshold).astype(int)\n",
    "    scores.append([recall_score(y_pred=y_hat, y_true=valid['Class'].values),\n",
    "                 precision_score(y_pred=y_hat, y_true=valid['Class'].values),\n",
    "                 fbeta_score(y_pred=y_hat, y_true=valid['Class'].values, beta=1)])\n",
    "\n",
    "scores = np.array(scores)"
   ]
  },
  {
   "cell_type": "code",
   "execution_count": 14,
   "metadata": {},
   "outputs": [
    {
     "data": {
      "image/png": "[encoded data removed]",
      "text/plain": [
       "<matplotlib.figure.Figure at 0x1166480b8>"
      ]
     },
     "metadata": {},
     "output_type": "display_data"
    }
   ],
   "source": [
    "plt.plot(tresholds, scores[:, 0], label='$Recall$')\n",
    "plt.plot(tresholds, scores[:, 1], label='$Precision$')\n",
    "plt.plot(tresholds, scores[:, 2], label='$F_1$')\n",
    "plt.ylabel('Score')\n",
    "plt.xlabel('Threshold')\n",
    "plt.legend(loc='best')\n",
    "plt.show()"
   ]
  },
  {
   "cell_type": "code",
   "execution_count": 15,
   "metadata": {},
   "outputs": [
    {
     "name": "stdout",
     "output_type": "stream",
     "text": [
      "Final threshold: 17\n",
      "Test Recall Score: 0.716\n",
      "Test Precision Score: 0.127\n",
      "Test F1 Score: 0.216\n"
     ]
    },
    {
     "data": {
      "image/png": "[encoded data removed]",
      "text/plain": [
       "<matplotlib.figure.Figure at 0x116a6d4e0>"
      ]
     },
     "metadata": {},
     "output_type": "display_data"
    }
   ],
   "source": [
    "final_tresh = tresholds[scores[:, 2].argmax()]\n",
    "df_n = df_v2.reset_index(drop=True)\n",
    "y_hat_test = (model.predict(df_n.drop('Class', axis=1).values) < final_tresh).astype(int)\n",
    "\n",
    "print('Final threshold: %d' % final_tresh)\n",
    "print('Test Recall Score: %.3f' % recall_score(y_pred=y_hat_test, y_true=df_n['Class'].values))\n",
    "print('Test Precision Score: %.3f' % precision_score(y_pred=y_hat_test, y_true=df_n['Class'].values))\n",
    "print('Test F1 Score: %.3f' % fbeta_score(y_pred=y_hat_test, y_true=df_n['Class'].values, beta=1))\n",
    "\n",
    "cnf_matrix = confusion_matrix(df_n['Class'].values, y_hat_test)\n",
    "plot_confusion_matrix(cnf_matrix, classes=['Normal','Anormal'], title='Confusion matrix')"
   ]
  },
  {
   "cell_type": "code",
   "execution_count": 48,
   "metadata": {},
   "outputs": [
    {
     "data": {
      "text/plain": [
       "(623, 15)"
      ]
     },
     "execution_count": 48,
     "metadata": {},
     "output_type": "execute_result"
    }
   ],
   "source": [
    "#gets all anormal instances\n",
    "df[(model.predict(df_n.drop('Class', axis=1).values) < final_tresh)].shape"
   ]
  },
  {
   "cell_type": "code",
   "execution_count": 41,
   "metadata": {},
   "outputs": [
    {
     "name": "stdout",
     "output_type": "stream",
     "text": [
      "Final threshold: 21\n",
      "Test Recall Score: 0.468\n",
      "Test Precision Score: 0.283\n",
      "Test F1 Score: 0.353\n"
     ]
    },
    {
     "data": {
      "image/png": "[encoded data removed]",
      "text/plain": [
       "<matplotlib.figure.Figure at 0x114ec3c18>"
      ]
     },
     "metadata": {},
     "output_type": "display_data"
    }
   ],
   "source": [
    "final_tresh = tresholds[scores[:, 2].argmax()]\n",
    "y_hat_test = (model.predict(test.drop('Class', axis=1).values) < final_tresh).astype(int)\n",
    "\n",
    "print('Final threshold: %d' % final_tresh)\n",
    "print('Test Recall Score: %.3f' % recall_score(y_pred=y_hat_test, y_true=test['Class'].values))\n",
    "print('Test Precision Score: %.3f' % precision_score(y_pred=y_hat_test, y_true=test['Class'].values))\n",
    "print('Test F1 Score: %.3f' % fbeta_score(y_pred=y_hat_test, y_true=test['Class'].values, beta=1))\n",
    "\n",
    "cnf_matrix = confusion_matrix(test['Class'].values, y_hat_test)\n",
    "plot_confusion_matrix(cnf_matrix, classes=['Normal','Anormal'], title='Confusion matrix')"
   ]
  },
  {
   "cell_type": "code",
   "execution_count": null,
   "metadata": {
    "collapsed": true
   },
   "outputs": [],
   "source": []
  }
 ],
 "metadata": {
  "kernelspec": {
   "display_name": "Django Shell-Plus",
   "language": "python",
   "name": "django_extensions"
  },
  "language_info": {
   "codemirror_mode": {
    "name": "ipython",
    "version": 3
   },
   "file_extension": ".py",
   "mimetype": "text/x-python",
   "name": "python",
   "nbconvert_exporter": "python",
   "pygments_lexer": "ipython3",
   "version": "3.6.2"
  }
 },
 "nbformat": 4,
 "nbformat_minor": 2
}
