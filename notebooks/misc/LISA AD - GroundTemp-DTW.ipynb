{
 "cells": [
  {
   "cell_type": "code",
   "execution_count": 1,
   "metadata": {
    "collapsed": true
   },
   "outputs": [],
   "source": [
    "from lisa.utils import *\n",
    "from lisa.library import *\n",
    "import lisa.models, pytz\n",
    "import numpy as np, pandas as pd, datetime\n",
    "from matplotlib import pyplot as plt, style # for ploting\n",
    "import seaborn as sns # for ploting\n",
    "from sklearn.metrics import fbeta_score, precision_score, recall_score, confusion_matrix # for evaluation\n",
    "import itertools"
   ]
  },
  {
   "cell_type": "code",
   "execution_count": 2,
   "metadata": {
    "collapsed": true
   },
   "outputs": [],
   "source": [
    "style.use('ggplot')\n",
    "np.random.seed(42) \n",
    "\n",
    "def plot_confusion_matrix(cm, classes,\n",
    "                          normalize=False,\n",
    "                          title='Confusion matrix',\n",
    "                          cmap=plt.cm.binary):\n",
    "    \"\"\"\n",
    "    This function prints and plots the confusion matrix.\n",
    "    Normalization can be applied by setting `normalize=True`.\n",
    "    Copyed from a kernel by joparga3 https://www.kaggle.com/joparga3/kernels\n",
    "    \"\"\"\n",
    "    plt.figure()\n",
    "    plt.imshow(cm, interpolation='nearest', cmap=cmap)\n",
    "    plt.title(title)\n",
    "    plt.colorbar()\n",
    "    tick_marks = np.arange(len(classes))\n",
    "    plt.xticks(tick_marks, classes, rotation=0)\n",
    "    plt.yticks(tick_marks, classes)\n",
    "\n",
    "    thresh = cm.max() / 2.\n",
    "    for i, j in itertools.product(range(cm.shape[0]), range(cm.shape[1])):\n",
    "        plt.text(j, i, cm[i, j],\n",
    "                 horizontalalignment=\"center\",\n",
    "                 color=\"white\" if cm[i, j] > thresh else \"black\")\n",
    "\n",
    "    plt.tight_layout()\n",
    "    plt.ylabel('True label')\n",
    "    plt.xlabel('Predicted label')\n",
    "    plt.show()"
   ]
  },
  {
   "cell_type": "code",
   "execution_count": 3,
   "metadata": {},
   "outputs": [
    {
     "name": "stdout",
     "output_type": "stream",
     "text": [
      "(2016, 14)\n"
     ]
    }
   ],
   "source": [
    "dataset = DataSet.objects.get(id=6)\n",
    "df = dataset.dataframe\n",
    "print(df.shape)\n",
    "df_res = pd.DataFrame(index=df.index, columns=df.columns)\n",
    "df_mean = df.mean(axis=1)\n",
    "df_std = df.std(axis=1)\n",
    "df_quantile_25 = df.quantile(0.25, axis=1)\n",
    "df_quantile_75 = df.quantile(0.75, axis=1)"
   ]
  },
  {
   "cell_type": "code",
   "execution_count": 4,
   "metadata": {},
   "outputs": [
    {
     "name": "stdout",
     "output_type": "stream",
     "text": [
      "287\n",
      "station\n",
      "23      9.0\n",
      "24     13.0\n",
      "25     13.0\n",
      "26      NaN\n",
      "27     70.0\n",
      "28      NaN\n",
      "29     34.0\n",
      "30      NaN\n",
      "31      NaN\n",
      "32      NaN\n",
      "33      NaN\n",
      "34      NaN\n",
      "35    148.0\n",
      "37      NaN\n",
      "dtype: float64\n"
     ]
    }
   ],
   "source": [
    "count=0\n",
    "for index, row in df.iterrows():\n",
    "    for column in df.columns:\n",
    "        IQR = df_quantile_75[index] - df_quantile_25[index]\n",
    "        \n",
    "        if row[column] < (df_quantile_25[index] - (1.5 * IQR)) or row[column] > (df_quantile_75[index] + (1.5 * IQR)):\n",
    "            df_res.loc[index, column] = 1\n",
    "            count+=1\n",
    "            #print(index)\n",
    "            #print('Val:', np.abs(row[column]))\n",
    "            #print('Mean:', df_mean[index])\n",
    "            #print('2 Std:', 2*df_std[index])\n",
    "print(count)\n",
    "print(df_res.sum(axis=0))"
   ]
  },
  {
   "cell_type": "code",
   "execution_count": 5,
   "metadata": {},
   "outputs": [
    {
     "name": "stdout",
     "output_type": "stream",
     "text": [
      "222\n"
     ]
    }
   ],
   "source": [
    "indexes = []\n",
    "for index, row in df_res.iterrows():\n",
    "    for column in df_res.columns:\n",
    "        if row[column] == 1:\n",
    "            indexes.append(index)\n",
    "            break\n",
    "print(len(indexes))"
   ]
  },
  {
   "cell_type": "code",
   "execution_count": 45,
   "metadata": {},
   "outputs": [
    {
     "ename": "ValueError",
     "evalue": "columns overlap but no suffix specified: Index(['Class'], dtype='object')",
     "output_type": "error",
     "traceback": [
      "\u001b[0;31m---------------------------------------------------------------------------\u001b[0m",
      "\u001b[0;31mValueError\u001b[0m                                Traceback (most recent call last)",
      "\u001b[0;32m<ipython-input-45-79f5c1e97438>\u001b[0m in \u001b[0;36m<module>\u001b[0;34m()\u001b[0m\n\u001b[1;32m      4\u001b[0m \u001b[0;32mfor\u001b[0m \u001b[0mindex\u001b[0m \u001b[0;32min\u001b[0m \u001b[0mindexes\u001b[0m\u001b[0;34m:\u001b[0m\u001b[0;34m\u001b[0m\u001b[0m\n\u001b[1;32m      5\u001b[0m     \u001b[0mdf_class\u001b[0m\u001b[0;34m.\u001b[0m\u001b[0mloc\u001b[0m\u001b[0;34m[\u001b[0m\u001b[0mindex\u001b[0m\u001b[0;34m,\u001b[0m\u001b[0;34m'Class'\u001b[0m\u001b[0;34m]\u001b[0m \u001b[0;34m=\u001b[0m \u001b[0;36m1\u001b[0m\u001b[0;34m\u001b[0m\u001b[0m\n\u001b[0;32m----> 6\u001b[0;31m \u001b[0mdf\u001b[0m \u001b[0;34m=\u001b[0m \u001b[0mdf\u001b[0m\u001b[0;34m.\u001b[0m\u001b[0mjoin\u001b[0m\u001b[0;34m(\u001b[0m\u001b[0mdf_class\u001b[0m\u001b[0;34m)\u001b[0m\u001b[0;34m\u001b[0m\u001b[0m\n\u001b[0m",
      "\u001b[0;32m/usr/local/lib/python3.6/site-packages/pandas/core/frame.py\u001b[0m in \u001b[0;36mjoin\u001b[0;34m(self, other, on, how, lsuffix, rsuffix, sort)\u001b[0m\n\u001b[1;32m   4667\u001b[0m         \u001b[0;31m# For SparseDataFrame's benefit\u001b[0m\u001b[0;34m\u001b[0m\u001b[0;34m\u001b[0m\u001b[0m\n\u001b[1;32m   4668\u001b[0m         return self._join_compat(other, on=on, how=how, lsuffix=lsuffix,\n\u001b[0;32m-> 4669\u001b[0;31m                                  rsuffix=rsuffix, sort=sort)\n\u001b[0m\u001b[1;32m   4670\u001b[0m \u001b[0;34m\u001b[0m\u001b[0m\n\u001b[1;32m   4671\u001b[0m     def _join_compat(self, other, on=None, how='left', lsuffix='', rsuffix='',\n",
      "\u001b[0;32m/usr/local/lib/python3.6/site-packages/pandas/core/frame.py\u001b[0m in \u001b[0;36m_join_compat\u001b[0;34m(self, other, on, how, lsuffix, rsuffix, sort)\u001b[0m\n\u001b[1;32m   4682\u001b[0m             return merge(self, other, left_on=on, how=how,\n\u001b[1;32m   4683\u001b[0m                          \u001b[0mleft_index\u001b[0m\u001b[0;34m=\u001b[0m\u001b[0mon\u001b[0m \u001b[0;32mis\u001b[0m \u001b[0;32mNone\u001b[0m\u001b[0;34m,\u001b[0m \u001b[0mright_index\u001b[0m\u001b[0;34m=\u001b[0m\u001b[0;32mTrue\u001b[0m\u001b[0;34m,\u001b[0m\u001b[0;34m\u001b[0m\u001b[0m\n\u001b[0;32m-> 4684\u001b[0;31m                          suffixes=(lsuffix, rsuffix), sort=sort)\n\u001b[0m\u001b[1;32m   4685\u001b[0m         \u001b[0;32melse\u001b[0m\u001b[0;34m:\u001b[0m\u001b[0;34m\u001b[0m\u001b[0m\n\u001b[1;32m   4686\u001b[0m             \u001b[0;32mif\u001b[0m \u001b[0mon\u001b[0m \u001b[0;32mis\u001b[0m \u001b[0;32mnot\u001b[0m \u001b[0;32mNone\u001b[0m\u001b[0;34m:\u001b[0m\u001b[0;34m\u001b[0m\u001b[0m\n",
      "\u001b[0;32m/usr/local/lib/python3.6/site-packages/pandas/core/reshape/merge.py\u001b[0m in \u001b[0;36mmerge\u001b[0;34m(left, right, how, on, left_on, right_on, left_index, right_index, sort, suffixes, copy, indicator)\u001b[0m\n\u001b[1;32m     52\u001b[0m                          \u001b[0mright_index\u001b[0m\u001b[0;34m=\u001b[0m\u001b[0mright_index\u001b[0m\u001b[0;34m,\u001b[0m \u001b[0msort\u001b[0m\u001b[0;34m=\u001b[0m\u001b[0msort\u001b[0m\u001b[0;34m,\u001b[0m \u001b[0msuffixes\u001b[0m\u001b[0;34m=\u001b[0m\u001b[0msuffixes\u001b[0m\u001b[0;34m,\u001b[0m\u001b[0;34m\u001b[0m\u001b[0m\n\u001b[1;32m     53\u001b[0m                          copy=copy, indicator=indicator)\n\u001b[0;32m---> 54\u001b[0;31m     \u001b[0;32mreturn\u001b[0m \u001b[0mop\u001b[0m\u001b[0;34m.\u001b[0m\u001b[0mget_result\u001b[0m\u001b[0;34m(\u001b[0m\u001b[0;34m)\u001b[0m\u001b[0;34m\u001b[0m\u001b[0m\n\u001b[0m\u001b[1;32m     55\u001b[0m \u001b[0;34m\u001b[0m\u001b[0m\n\u001b[1;32m     56\u001b[0m \u001b[0;34m\u001b[0m\u001b[0m\n",
      "\u001b[0;32m/usr/local/lib/python3.6/site-packages/pandas/core/reshape/merge.py\u001b[0m in \u001b[0;36mget_result\u001b[0;34m(self)\u001b[0m\n\u001b[1;32m    573\u001b[0m \u001b[0;34m\u001b[0m\u001b[0m\n\u001b[1;32m    574\u001b[0m         llabels, rlabels = items_overlap_with_suffix(ldata.items, lsuf,\n\u001b[0;32m--> 575\u001b[0;31m                                                      rdata.items, rsuf)\n\u001b[0m\u001b[1;32m    576\u001b[0m \u001b[0;34m\u001b[0m\u001b[0m\n\u001b[1;32m    577\u001b[0m         \u001b[0mlindexers\u001b[0m \u001b[0;34m=\u001b[0m \u001b[0;34m{\u001b[0m\u001b[0;36m1\u001b[0m\u001b[0;34m:\u001b[0m \u001b[0mleft_indexer\u001b[0m\u001b[0;34m}\u001b[0m \u001b[0;32mif\u001b[0m \u001b[0mleft_indexer\u001b[0m \u001b[0;32mis\u001b[0m \u001b[0;32mnot\u001b[0m \u001b[0;32mNone\u001b[0m \u001b[0;32melse\u001b[0m \u001b[0;34m{\u001b[0m\u001b[0;34m}\u001b[0m\u001b[0;34m\u001b[0m\u001b[0m\n",
      "\u001b[0;32m/usr/local/lib/python3.6/site-packages/pandas/core/internals.py\u001b[0m in \u001b[0;36mitems_overlap_with_suffix\u001b[0;34m(left, lsuffix, right, rsuffix)\u001b[0m\n\u001b[1;32m   4699\u001b[0m         \u001b[0;32mif\u001b[0m \u001b[0;32mnot\u001b[0m \u001b[0mlsuffix\u001b[0m \u001b[0;32mand\u001b[0m \u001b[0;32mnot\u001b[0m \u001b[0mrsuffix\u001b[0m\u001b[0;34m:\u001b[0m\u001b[0;34m\u001b[0m\u001b[0m\n\u001b[1;32m   4700\u001b[0m             raise ValueError('columns overlap but no suffix specified: %s' %\n\u001b[0;32m-> 4701\u001b[0;31m                              to_rename)\n\u001b[0m\u001b[1;32m   4702\u001b[0m \u001b[0;34m\u001b[0m\u001b[0m\n\u001b[1;32m   4703\u001b[0m         \u001b[0;32mdef\u001b[0m \u001b[0mlrenamer\u001b[0m\u001b[0;34m(\u001b[0m\u001b[0mx\u001b[0m\u001b[0;34m)\u001b[0m\u001b[0;34m:\u001b[0m\u001b[0;34m\u001b[0m\u001b[0m\n",
      "\u001b[0;31mValueError\u001b[0m: columns overlap but no suffix specified: Index(['Class'], dtype='object')"
     ]
    }
   ],
   "source": [
    "df_class = pd.DataFrame(index=df.index)\n",
    "df_class['Class'] = 0\n",
    "\n",
    "for index in indexes:\n",
    "    df_class.loc[index,'Class'] = 1\n",
    "df = df.join(df_class)"
   ]
  },
  {
   "cell_type": "code",
   "execution_count": 7,
   "metadata": {},
   "outputs": [
    {
     "name": "stdout",
     "output_type": "stream",
     "text": [
      "station_id: 23\n",
      "Execution time for pearson values using dtw: 0:00:11.408656\n",
      "Execution time for lisa values: 0:00:03.013647\n",
      "station_id: 24\n",
      "Execution time for pearson values using dtw: 0:00:11.773333\n",
      "Execution time for lisa values: 0:00:03.389642\n",
      "station_id: 25\n",
      "Execution time for pearson values using dtw: 0:00:13.367023\n",
      "Execution time for lisa values: 0:00:03.684353\n",
      "station_id: 26\n",
      "Execution time for pearson values using dtw: 0:00:15.114574\n",
      "Execution time for lisa values: 0:00:03.481352\n",
      "station_id: 27\n",
      "Execution time for pearson values using dtw: 0:00:11.170908\n",
      "Execution time for lisa values: 0:00:02.958967\n",
      "station_id: 28\n",
      "Execution time for pearson values using dtw: 0:00:12.238009\n",
      "Execution time for lisa values: 0:00:03.042227\n",
      "station_id: 29\n",
      "Execution time for pearson values using dtw: 0:00:13.695192\n",
      "Execution time for lisa values: 0:00:05.298334\n",
      "station_id: 30\n",
      "Execution time for pearson values using dtw: 0:00:16.365867\n",
      "Execution time for lisa values: 0:00:05.437541\n",
      "station_id: 31\n",
      "Execution time for pearson values using dtw: 0:00:14.336846\n",
      "Execution time for lisa values: 0:00:03.005618\n",
      "station_id: 32\n",
      "Execution time for pearson values using dtw: 0:00:11.150225\n",
      "Execution time for lisa values: 0:00:03.256116\n",
      "station_id: 33\n",
      "Execution time for pearson values using dtw: 0:00:12.006638\n",
      "Execution time for lisa values: 0:00:03.005131\n",
      "station_id: 34\n",
      "Execution time for pearson values using dtw: 0:00:11.354598\n",
      "Execution time for lisa values: 0:00:03.142448\n",
      "station_id: 35\n",
      "Execution time for pearson values using dtw: 0:00:12.242416\n",
      "Execution time for lisa values: 0:00:04.592865\n",
      "station_id: 37\n",
      "Execution time for pearson values using dtw: 0:00:11.613217\n",
      "Execution time for lisa values: 0:00:05.297661\n"
     ]
    }
   ],
   "source": [
    "# append mean values of each row to dataframe\n",
    "df_val_mean = df_copy_with_mean(df.drop('Class', axis=1))\n",
    "\n",
    "df_lisa_station_results = []\n",
    "    \n",
    "for station in dataset.stations.all():\n",
    "    station_id = station.id\n",
    "    print(\"station_id: {0}\".format(station_id))\n",
    "    \n",
    "    df_z = df_zscore(df)\n",
    "\n",
    "    df_correlation, time_elapsed = dtw_pearson(df.drop('Class', axis=1), df_z,  station_id, distance='euclidean', window_size=10)\n",
    "\n",
    "    row_standardized = True\n",
    "    if row_standardized:\n",
    "        df_correlation = df_row_standardized(df_correlation)\n",
    "\n",
    "    df_lisa_results, lisa_time_elapsed = df_lisa_time_series(station_id, df_val_mean, df_correlation)\n",
    "    df_lisa_station_results.append(df_lisa_results)\n",
    "\n",
    "df_lisa = pd.DataFrame(index=df.index)\n",
    "for result in df_lisa_station_results:\n",
    "    df_lisa = df_lisa.join(result)"
   ]
  },
  {
   "cell_type": "code",
   "execution_count": 41,
   "metadata": {},
   "outputs": [
    {
     "name": "stdout",
     "output_type": "stream",
     "text": [
      "[ 0.          0.          0.         ..., -0.22106995 -0.15739341\n",
      " -0.07306011]\n"
     ]
    }
   ],
   "source": [
    "df_res = df_res.fillna(value=0)\n",
    "df_lisa = df_lisa.fillna(value=0)\n",
    "y_pred_score = df_lisa[23].values\n",
    "print(y_pred_score)"
   ]
  },
  {
   "cell_type": "code",
   "execution_count": 42,
   "metadata": {},
   "outputs": [],
   "source": [
    "tresholds = np.linspace(0, -1, 100)\n",
    "scores = []\n",
    "y_pred_score = df_lisa[23].values\n",
    "for treshold in tresholds:\n",
    "    y_hat = (y_pred_score < treshold).astype(int)\n",
    "    scores.append([recall_score(y_pred=y_hat, y_true=df_res[23].values),\n",
    "                 precision_score(y_pred=y_hat, y_true=df_res[23].values),\n",
    "                 fbeta_score(y_pred=y_hat, y_true=df_res[23].values, beta=1)])\n",
    "\n",
    "scores = np.array(scores)"
   ]
  },
  {
   "cell_type": "code",
   "execution_count": 43,
   "metadata": {},
   "outputs": [
    {
     "data": {
      "image/png": "[encoded data removed]",
      "text/plain": [
       "<matplotlib.figure.Figure at 0x11538e080>"
      ]
     },
     "metadata": {},
     "output_type": "display_data"
    }
   ],
   "source": [
    "plt.plot(tresholds, scores[:, 0], label='$Recall$')\n",
    "plt.plot(tresholds, scores[:, 1], label='$Precision$')\n",
    "plt.plot(tresholds, scores[:, 2], label='$F_1$')\n",
    "plt.ylabel('Score')\n",
    "plt.xlabel('Threshold')\n",
    "plt.legend(loc='best')\n",
    "plt.show()"
   ]
  },
  {
   "cell_type": "code",
   "execution_count": 44,
   "metadata": {},
   "outputs": [
    {
     "name": "stdout",
     "output_type": "stream",
     "text": [
      "Final threshold: -0.626\n",
      "Recall Score: 0.222\n",
      "Precision Score: 0.222\n",
      "F1 Score: 0.222\n"
     ]
    },
    {
     "data": {
      "image/png": "[encoded data removed]",
      "text/plain": [
       "<matplotlib.figure.Figure at 0x1157f0908>"
      ]
     },
     "metadata": {},
     "output_type": "display_data"
    }
   ],
   "source": [
    "final_tresh = tresholds[scores[:, 2].argmax()]\n",
    "#final_tresh = -0.4\n",
    "y_hat_test = (df_lisa[23].values < final_tresh).astype(int)\n",
    "\n",
    "print('Final threshold: %.3f' % final_tresh)\n",
    "print('Recall Score: %.3f' % recall_score(y_pred=y_hat_test, y_true=df_res[23].values))\n",
    "print('Precision Score: %.3f' % precision_score(y_pred=y_hat_test, y_true=df_res[23].values))\n",
    "print('F1 Score: %.3f' % fbeta_score(y_pred=y_hat_test, y_true=df_res[23].values, beta=1))\n",
    "\n",
    "cnf_matrix = confusion_matrix(df_res[23].values, y_hat_test)\n",
    "plot_confusion_matrix(cnf_matrix, classes=['Normal','Anormal'], title='Confusion matrix')"
   ]
  },
  {
   "cell_type": "code",
   "execution_count": 48,
   "metadata": {},
   "outputs": [
    {
     "data": {
      "text/plain": [
       "(623, 15)"
      ]
     },
     "execution_count": 48,
     "metadata": {},
     "output_type": "execute_result"
    }
   ],
   "source": [
    "#gets all anormal instances\n",
    "df[(model.predict(df_n.drop('Class', axis=1).values) < final_tresh)].shape"
   ]
  },
  {
   "cell_type": "code",
   "execution_count": 41,
   "metadata": {},
   "outputs": [
    {
     "name": "stdout",
     "output_type": "stream",
     "text": [
      "Final threshold: 21\n",
      "Test Recall Score: 0.468\n",
      "Test Precision Score: 0.283\n",
      "Test F1 Score: 0.353\n"
     ]
    },
    {
     "data": {
      "image/png": "[encoded data removed]",
      "text/plain": [
       "<matplotlib.figure.Figure at 0x114ec3c18>"
      ]
     },
     "metadata": {},
     "output_type": "display_data"
    }
   ],
   "source": [
    "final_tresh = tresholds[scores[:, 2].argmax()]\n",
    "y_hat_test = (model.predict(test.drop('Class', axis=1).values) < final_tresh).astype(int)\n",
    "\n",
    "print('Final threshold: %d' % final_tresh)\n",
    "print('Test Recall Score: %.3f' % recall_score(y_pred=y_hat_test, y_true=test['Class'].values))\n",
    "print('Test Precision Score: %.3f' % precision_score(y_pred=y_hat_test, y_true=test['Class'].values))\n",
    "print('Test F1 Score: %.3f' % fbeta_score(y_pred=y_hat_test, y_true=test['Class'].values, beta=1))\n",
    "\n",
    "cnf_matrix = confusion_matrix(test['Class'].values, y_hat_test)\n",
    "plot_confusion_matrix(cnf_matrix, classes=['Normal','Anormal'], title='Confusion matrix')"
   ]
  },
  {
   "cell_type": "code",
   "execution_count": null,
   "metadata": {
    "collapsed": true
   },
   "outputs": [],
   "source": []
  }
 ],
 "metadata": {
  "kernelspec": {
   "display_name": "Django Shell-Plus",
   "language": "python",
   "name": "django_extensions"
  },
  "language_info": {
   "codemirror_mode": {
    "name": "ipython",
    "version": 3
   },
   "file_extension": ".py",
   "mimetype": "text/x-python",
   "name": "python",
   "nbconvert_exporter": "python",
   "pygments_lexer": "ipython3",
   "version": "3.6.2"
  }
 },
 "nbformat": 4,
 "nbformat_minor": 2
}
