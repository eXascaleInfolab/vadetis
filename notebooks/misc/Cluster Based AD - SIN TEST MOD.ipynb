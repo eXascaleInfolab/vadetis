{
 "cells": [
  {
   "cell_type": "code",
   "execution_count": 11,
   "metadata": {},
   "outputs": [],
   "source": [
    "from lisa.utils import *\n",
    "from lisa.library import *\n",
    "import lisa.models\n",
    "import numpy as np, pandas as pd, datetime\n",
    "from matplotlib import pyplot as plt, style # for ploting\n",
    "import seaborn as sns # for ploting\n",
    "from sklearn.metrics import fbeta_score, precision_score, recall_score, confusion_matrix # for evaluation\n",
    "import itertools"
   ]
  },
  {
   "cell_type": "code",
   "execution_count": 12,
   "metadata": {
    "collapsed": true
   },
   "outputs": [],
   "source": [
    "style.use('ggplot')\n",
    "np.random.seed(42) \n",
    "\n",
    "def plot_confusion_matrix(cm, classes,\n",
    "                          normalize=False,\n",
    "                          title='Confusion matrix',\n",
    "                          cmap=plt.cm.binary):\n",
    "    \"\"\"\n",
    "    This function prints and plots the confusion matrix.\n",
    "    Normalization can be applied by setting `normalize=True`.\n",
    "    Copyed from a kernel by joparga3 https://www.kaggle.com/joparga3/kernels\n",
    "    \"\"\"\n",
    "    plt.figure()\n",
    "    plt.imshow(cm, interpolation='nearest', cmap=cmap)\n",
    "    plt.title(title)\n",
    "    plt.colorbar()\n",
    "    tick_marks = np.arange(len(classes))\n",
    "    plt.xticks(tick_marks, classes, rotation=0)\n",
    "    plt.yticks(tick_marks, classes)\n",
    "\n",
    "    thresh = cm.max() / 2.\n",
    "    for i, j in itertools.product(range(cm.shape[0]), range(cm.shape[1])):\n",
    "        plt.text(j, i, cm[i, j],\n",
    "                 horizontalalignment=\"center\",\n",
    "                 color=\"white\" if cm[i, j] > thresh else \"black\")\n",
    "\n",
    "    plt.tight_layout()\n",
    "    plt.ylabel('True label')\n",
    "    plt.xlabel('Predicted label')\n",
    "    plt.show()"
   ]
  },
  {
   "cell_type": "code",
   "execution_count": 13,
   "metadata": {},
   "outputs": [
    {
     "name": "stdout",
     "output_type": "stream",
     "text": [
      "(1000, 10)\n"
     ]
    }
   ],
   "source": [
    "datastream = DataSet.objects.get(id=7)\n",
    "df = datastream.dataframe\n",
    "print(df.shape)\n",
    "df_res = pd.DataFrame(index=df.index, columns=df.columns)\n",
    "df_mean = df.mean(axis=1)\n",
    "df_std = df.std(axis=1)\n",
    "df_quantile_25 = df.quantile(0.25, axis=1)\n",
    "df_quantile_75 = df.quantile(0.75, axis=1)"
   ]
  },
  {
   "cell_type": "code",
   "execution_count": 14,
   "metadata": {},
   "outputs": [
    {
     "name": "stdout",
     "output_type": "stream",
     "text": [
      "10\n",
      "station\n",
      "39    10.0\n",
      "40     NaN\n",
      "41     NaN\n",
      "42     NaN\n",
      "43     NaN\n",
      "44     NaN\n",
      "45     NaN\n",
      "46     NaN\n",
      "47     NaN\n",
      "48     NaN\n",
      "dtype: float64\n"
     ]
    }
   ],
   "source": [
    "count=0\n",
    "for index, row in df.iterrows():\n",
    "    for column in df.columns:\n",
    "        IQR = df_quantile_75[index] - df_quantile_25[index]\n",
    "        \n",
    "        if row[column] < (df_quantile_25[index] - (1.5 * IQR)) or row[column] > (df_quantile_75[index] + (1.5 * IQR)):\n",
    "            df_res.loc[index, column] = 1\n",
    "            count+=1\n",
    "            #print(index)\n",
    "            #print('Val:', np.abs(row[column]))\n",
    "            #print('Mean:', df_mean[index])\n",
    "            #print('2 Std:', 2*df_std[index])\n",
    "print(count)\n",
    "print(df_res.sum(axis=0))"
   ]
  },
  {
   "cell_type": "code",
   "execution_count": 15,
   "metadata": {},
   "outputs": [
    {
     "name": "stdout",
     "output_type": "stream",
     "text": [
      "10\n"
     ]
    }
   ],
   "source": [
    "indexes = []\n",
    "for index, row in df_res.iterrows():\n",
    "    for column in df_res.columns:\n",
    "        if row[column] == 1:\n",
    "            indexes.append(index)\n",
    "            break\n",
    "print(len(indexes))"
   ]
  },
  {
   "cell_type": "code",
   "execution_count": 16,
   "metadata": {
    "collapsed": true
   },
   "outputs": [],
   "source": [
    "df_class = pd.DataFrame(index=df.index)\n",
    "df_class['Class'] = 0\n",
    "\n",
    "for index in indexes:\n",
    "    df_class.loc[index,'Class'] = 1\n",
    "df = df.join(df_class)"
   ]
  },
  {
   "cell_type": "code",
   "execution_count": 17,
   "metadata": {
    "collapsed": true
   },
   "outputs": [],
   "source": [
    "normal = df[df['Class'] == 0]\n",
    "anomaly = df[df['Class'] == 1]"
   ]
  },
  {
   "cell_type": "code",
   "execution_count": 18,
   "metadata": {},
   "outputs": [
    {
     "name": "stdout",
     "output_type": "stream",
     "text": [
      "Train shape:  (495, 11)\n",
      "Proportion os anomaly in training set: 0.00\n",
      "\n",
      "Valid shape:  (252, 11)\n",
      "Proportion os anomaly in validation set: 0.02\n",
      "\n",
      "Test shape:,  (253, 11)\n",
      "Proportion os anomaly in test set: 0.02\n",
      "\n"
     ]
    }
   ],
   "source": [
    "from sklearn.model_selection import train_test_split\n",
    "\n",
    "train, normal_test, _, _ = train_test_split(normal, normal, test_size=.5, random_state=42)\n",
    "\n",
    "normal_valid, normal_test, _, _ = train_test_split(normal_test, normal_test, test_size=.5, random_state=42)\n",
    "anormal_valid, anormal_test, _, _ = train_test_split(anomaly, anomaly, test_size=.5, random_state=42)\n",
    "\n",
    "train = train.reset_index(drop=True)\n",
    "valid = normal_valid.append(anormal_valid).sample(frac=1).reset_index(drop=True)\n",
    "test = normal_test.append(anormal_test).sample(frac=1).reset_index(drop=True)\n",
    "\n",
    "print('Train shape: ', train.shape)\n",
    "print('Proportion os anomaly in training set: %.2f\\n' % train['Class'].mean())\n",
    "print('Valid shape: ', valid.shape)\n",
    "print('Proportion os anomaly in validation set: %.2f\\n' % valid['Class'].mean())\n",
    "print('Test shape:, ', test.shape)\n",
    "print('Proportion os anomaly in test set: %.2f\\n' % test['Class'].mean())"
   ]
  },
  {
   "cell_type": "code",
   "execution_count": 29,
   "metadata": {},
   "outputs": [
    {
     "name": "stdout",
     "output_type": "stream",
     "text": [
      "51.9591909217\n",
      "-43768478.2445\n"
     ]
    }
   ],
   "source": [
    "from sklearn.mixture import GaussianMixture\n",
    "\n",
    "gmm = GaussianMixture(n_components=3, n_init=4, random_state=42)\n",
    "#gmm = GaussianMixture(n_components=1, n_init=4, random_state=42)\n",
    "gmm.fit(train.drop('Class', axis=1).values)\n",
    "print(gmm.score(valid[valid['Class'] == 0].drop('Class', axis=1).values))\n",
    "print(gmm.score(valid[valid['Class'] == 1].drop('Class', axis=1).values))"
   ]
  },
  {
   "cell_type": "code",
   "execution_count": 30,
   "metadata": {},
   "outputs": [
    {
     "name": "stdout",
     "output_type": "stream",
     "text": [
      "1.0 17\n"
     ]
    }
   ],
   "source": [
    "tresholds = np.linspace(-43768460, 60, 100)\n",
    "y_scores = gmm.score_samples(valid.drop('Class', axis=1).values)\n",
    "scores = []\n",
    "for treshold in tresholds:\n",
    "    y_hat = (y_scores < treshold).astype(int)\n",
    "    scores.append([recall_score(y_pred=y_hat, y_true=valid['Class'].values),\n",
    "                 precision_score(y_pred=y_hat, y_true=valid['Class'].values),\n",
    "                 fbeta_score(y_pred=y_hat, y_true=valid['Class'].values, beta=1)])\n",
    "\n",
    "scores = np.array(scores)\n",
    "print(scores[:, 2].max(), scores[:, 2].argmax())"
   ]
  },
  {
   "cell_type": "code",
   "execution_count": 31,
   "metadata": {},
   "outputs": [
    {
     "data": {
      "image/png": "[encoded data removed]",
      "text/plain": [
       "<matplotlib.figure.Figure at 0x10ca53cf8>"
      ]
     },
     "metadata": {},
     "output_type": "display_data"
    }
   ],
   "source": [
    "plt.plot(tresholds, scores[:, 0], label='$Recall$')\n",
    "plt.plot(tresholds, scores[:, 1], label='$Precision$')\n",
    "plt.plot(tresholds, scores[:, 2], label='$F_2$')\n",
    "plt.ylabel('Score')\n",
    "plt.xlabel('Threshold')\n",
    "plt.legend(loc='best')\n",
    "plt.show()"
   ]
  },
  {
   "cell_type": "code",
   "execution_count": 32,
   "metadata": {},
   "outputs": [
    {
     "name": "stdout",
     "output_type": "stream",
     "text": [
      "Final threshold: -36252653.535\n",
      "Recall Score: 1.000\n",
      "Precision Score: 1.000\n",
      "F1 Score: 1.000\n"
     ]
    },
    {
     "data": {
      "image/png": "[encoded data removed]",
      "text/plain": [
       "<matplotlib.figure.Figure at 0x10b8970b8>"
      ]
     },
     "metadata": {},
     "output_type": "display_data"
    }
   ],
   "source": [
    "final_tresh = tresholds[scores[:, 2].argmax()]\n",
    "df_n = df.reset_index(drop=True)\n",
    "y_hat_test = (gmm.score_samples(df_n.drop('Class', axis=1).values) < final_tresh).astype(int)\n",
    "\n",
    "print('Final threshold: %.3f' % final_tresh)\n",
    "print('Recall Score: %.3f' % recall_score(y_pred=y_hat_test, y_true=df_n['Class'].values))\n",
    "print('Precision Score: %.3f' % precision_score(y_pred=y_hat_test, y_true=df_n['Class'].values))\n",
    "print('F1 Score: %.3f' % fbeta_score(y_pred=y_hat_test, y_true=df_n['Class'].values, beta=1))\n",
    "\n",
    "cnf_matrix = confusion_matrix(df_n['Class'].values, y_hat_test)\n",
    "plot_confusion_matrix(cnf_matrix, classes=['Normal','Anormal'], title='Confusion matrix')"
   ]
  },
  {
   "cell_type": "code",
   "execution_count": 23,
   "metadata": {},
   "outputs": [
    {
     "name": "stdout",
     "output_type": "stream",
     "text": [
      "Final threshold: -36252653.535354\n",
      "Test Recall Score: 1.000\n",
      "Test Precision Score: 1.000\n",
      "Test F1 Score: 1.000\n"
     ]
    },
    {
     "data": {
      "image/png": "[encoded data removed]",
      "text/plain": [
       "<matplotlib.figure.Figure at 0x10ba6deb8>"
      ]
     },
     "metadata": {},
     "output_type": "display_data"
    }
   ],
   "source": [
    "final_tresh = tresholds[scores[:, 2].argmax()]\n",
    "y_hat_test = (gmm.score_samples(test.drop('Class', axis=1).values) < final_tresh).astype(int)\n",
    "\n",
    "print('Final threshold: %f' % final_tresh)\n",
    "print('Test Recall Score: %.3f' % recall_score(y_pred=y_hat_test, y_true=test['Class'].values))\n",
    "print('Test Precision Score: %.3f' % precision_score(y_pred=y_hat_test, y_true=test['Class'].values))\n",
    "print('Test F1 Score: %.3f' % fbeta_score(y_pred=y_hat_test, y_true=test['Class'].values, beta=1))\n",
    "\n",
    "cnf_matrix = confusion_matrix(test['Class'].values, y_hat_test)\n",
    "plot_confusion_matrix(cnf_matrix, classes=['Normal','Anormal'], title='Confusion matrix')\n"
   ]
  },
  {
   "cell_type": "code",
   "execution_count": null,
   "metadata": {
    "collapsed": true
   },
   "outputs": [],
   "source": []
  },
  {
   "cell_type": "code",
   "execution_count": null,
   "metadata": {
    "collapsed": true
   },
   "outputs": [],
   "source": []
  }
 ],
 "metadata": {
  "kernelspec": {
   "display_name": "Django Shell-Plus",
   "language": "python",
   "name": "django_extensions"
  },
  "language_info": {
   "codemirror_mode": {
    "name": "ipython",
    "version": 3
   },
   "file_extension": ".py",
   "mimetype": "text/x-python",
   "name": "python",
   "nbconvert_exporter": "python",
   "pygments_lexer": "ipython3",
   "version": "3.6.2"
  }
 },
 "nbformat": 4,
 "nbformat_minor": 2
}
