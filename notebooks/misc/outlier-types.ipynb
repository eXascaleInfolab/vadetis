{
 "cells": [
  {
   "cell_type": "code",
   "execution_count": 20,
   "metadata": {
    "collapsed": true
   },
   "outputs": [],
   "source": [
    "from lisa.utils import *\n",
    "from lisa.library import *\n",
    "import lisa.models\n",
    "import numpy as np, pandas as pd, datetime, pytz\n",
    "import matplotlib.pyplot as plt"
   ]
  },
  {
   "cell_type": "code",
   "execution_count": 35,
   "metadata": {
    "collapsed": false
   },
   "outputs": [
    {
     "ename": "ImportError",
     "evalue": "No module named 'pyplot'",
     "output_type": "error",
     "traceback": [
      "\u001b[0;31m---------------------------------------------------------------------------\u001b[0m",
      "\u001b[0;31mImportError\u001b[0m                               Traceback (most recent call last)",
      "\u001b[0;32m<ipython-input-35-1cfaf2946c3c>\u001b[0m in \u001b[0;36m<module>\u001b[0;34m()\u001b[0m\n\u001b[1;32m      1\u001b[0m \u001b[0;32mimport\u001b[0m \u001b[0mmatplotlib\u001b[0m\u001b[0;34m\u001b[0m\u001b[0m\n\u001b[0;32m----> 2\u001b[0;31m \u001b[0;32mfrom\u001b[0m \u001b[0mpyplot\u001b[0m \u001b[0;32mimport\u001b[0m \u001b[0mcm\u001b[0m\u001b[0;34m\u001b[0m\u001b[0m\n\u001b[0m\u001b[1;32m      3\u001b[0m \u001b[0mmatplotlib\u001b[0m\u001b[0;34m.\u001b[0m\u001b[0mstyle\u001b[0m\u001b[0;34m.\u001b[0m\u001b[0muse\u001b[0m\u001b[0;34m(\u001b[0m\u001b[0;34m'ggplot'\u001b[0m\u001b[0;34m)\u001b[0m\u001b[0;34m\u001b[0m\u001b[0m\n\u001b[1;32m      4\u001b[0m \u001b[0;31m#%matplotlib inline\u001b[0m\u001b[0;34m\u001b[0m\u001b[0;34m\u001b[0m\u001b[0m\n",
      "\u001b[0;31mImportError\u001b[0m: No module named 'pyplot'"
     ]
    }
   ],
   "source": [
    "import matplotlib\n",
    "matplotlib.style.use('ggplot')\n",
    "#%matplotlib inline"
   ]
  },
  {
   "cell_type": "code",
   "execution_count": null,
   "metadata": {
    "collapsed": true
   },
   "outputs": [],
   "source": [
    "import datetime"
   ]
  },
  {
   "cell_type": "code",
   "execution_count": 32,
   "metadata": {
    "collapsed": false
   },
   "outputs": [],
   "source": [
    "import pandas as pd\n",
    "import pdb, random\n",
    "\n",
    "def multiYearData(data, start_y, until_y, fill_leap):\n",
    "    def leapyr(n):\n",
    "        if n % 4 != 0:\n",
    "            return False\n",
    "        elif n % 100 != 0:\n",
    "            return True\n",
    "        elif n % 400 != 0:\n",
    "            return False\n",
    "        else:\n",
    "            return True\n",
    "\n",
    "    multi_year = []\n",
    "    for y in range(until_y-start_y):\n",
    "        if leapyr(y):\n",
    "            #multi_year.extend( data[:6] + [fill_leap] + data[7:] )\n",
    "            multi_year.extend(data)\n",
    "        else:\n",
    "            multi_year.extend(data)\n",
    "    return multi_year\n",
    "\n",
    "start_y = 2000\n",
    "until_y = 2003\n",
    "\n",
    "dates = pd.date_range(str(start_y), str(until_y), freq='M')\n",
    "np.random.seed(20)\n",
    "data = [np.random.triangular(0, 5, 20) for i in range(12)]\n",
    "\n",
    "data = multiYearData(data, start_y, until_y, fill_leap=None)\n",
    "\n",
    "#data = [2,3,6,5,6,7,9,8,7,5,4,3,3,2]\n",
    "\n",
    "cum_data = pd.DataFrame(data, index=dates, columns=['TS'])\n",
    "#cum_data = pd.DataFrame(data, columns=['A'])\n",
    "cum_data = cum_data.cumsum()\n",
    "\n",
    "#cum_data2 = pd.DataFrame(data, index=dates, columns=['Innovation'])\n",
    "#cum_data2.loc[datetime.datetime(2002, 1, 31):datetime.datetime(2003, 1, 31)] += 10\n",
    "#cum_data2 = cum_data2.cumsum()\n",
    "\n",
    "#cum_data.loc[datetime.datetime(2000, 6, 30)] = 200\n",
    "\n",
    "cum_data.loc[datetime.datetime(2000, 6, 30)] = 200\n",
    "cum_data.loc[datetime.datetime(2000, 7, 31)] = 150\n",
    "cum_data.loc[datetime.datetime(2000, 8, 31)] = 125\n",
    "cum_data.loc[datetime.datetime(2000, 9, 30)] = 110\n",
    "cum_data.loc[datetime.datetime(2000, 10, 31)] = 100\n",
    "\n",
    "#cum_data.loc[datetime.datetime(2001, 1, 31):] += 75\n",
    "\n",
    "#result = pd.merge(cum_data, cum_data2, how='inner', left_index=True, right_index=True)"
   ]
  },
  {
   "cell_type": "code",
   "execution_count": 33,
   "metadata": {
    "collapsed": false
   },
   "outputs": [
    {
     "data": {
      "text/plain": [
       "<matplotlib.axes._subplots.AxesSubplot at 0x110b83828>"
      ]
     },
     "execution_count": 33,
     "metadata": {},
     "output_type": "execute_result"
    }
   ],
   "source": [
    "#plt.figure()\n",
    "cum_data.plot()\n",
    "#result.plot()"
   ]
  },
  {
   "cell_type": "code",
   "execution_count": 34,
   "metadata": {
    "collapsed": false
   },
   "outputs": [],
   "source": [
    "plt.savefig('/Users/adrian/Uni/MasterThesis/Stuff/figures/temporary-change.eps', format='eps', dpi=1000)"
   ]
  },
  {
   "cell_type": "code",
   "execution_count": null,
   "metadata": {
    "collapsed": true
   },
   "outputs": [],
   "source": []
  }
 ],
 "metadata": {
  "kernelspec": {
   "display_name": "Django Shell-Plus",
   "language": "python",
   "name": "django_extensions"
  },
  "language_info": {
   "codemirror_mode": {
    "name": "ipython",
    "version": 3
   },
   "file_extension": ".py",
   "mimetype": "text/x-python",
   "name": "python",
   "nbconvert_exporter": "python",
   "pygments_lexer": "ipython3",
   "version": "3.5.2"
  }
 },
 "nbformat": 4,
 "nbformat_minor": 2
}
