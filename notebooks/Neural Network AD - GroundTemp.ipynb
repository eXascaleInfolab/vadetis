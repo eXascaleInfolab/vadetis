{
 "cells": [
  {
   "cell_type": "code",
   "execution_count": 1,
   "metadata": {
    "collapsed": true
   },
   "outputs": [],
   "source": [
    "from lisa.utils import *\n",
    "from lisa.library import *\n",
    "import lisa.models\n",
    "import numpy as np, pandas as pd, datetime\n",
    "from matplotlib import pyplot as plt, style # for ploting\n",
    "import seaborn as sns # for ploting\n",
    "from sklearn.metrics import fbeta_score, precision_score, recall_score, confusion_matrix # for evaluation\n",
    "import itertools"
   ]
  },
  {
   "cell_type": "code",
   "execution_count": 2,
   "metadata": {
    "collapsed": true
   },
   "outputs": [],
   "source": [
    "style.use('ggplot')\n",
    "np.random.seed(42) \n",
    "\n",
    "def plot_confusion_matrix(cm, classes,\n",
    "                          normalize=False,\n",
    "                          title='Confusion matrix',\n",
    "                          cmap=plt.cm.Blues):\n",
    "    \"\"\"\n",
    "    This function prints and plots the confusion matrix.\n",
    "    Normalization can be applied by setting `normalize=True`.\n",
    "    Copyed from a kernel by joparga3 https://www.kaggle.com/joparga3/kernels\n",
    "    \"\"\"\n",
    "    plt.figure()\n",
    "    plt.imshow(cm, interpolation='nearest', cmap=cmap)\n",
    "    plt.title(title)\n",
    "    plt.colorbar()\n",
    "    tick_marks = np.arange(len(classes))\n",
    "    plt.xticks(tick_marks, classes, rotation=0)\n",
    "    plt.yticks(tick_marks, classes)\n",
    "\n",
    "    thresh = cm.max() / 2.\n",
    "    for i, j in itertools.product(range(cm.shape[0]), range(cm.shape[1])):\n",
    "        plt.text(j, i, cm[i, j],\n",
    "                 horizontalalignment=\"center\",\n",
    "                 color=\"white\" if cm[i, j] > thresh else \"black\")\n",
    "\n",
    "    plt.tight_layout()\n",
    "    plt.ylabel('True label')\n",
    "    plt.xlabel('Predicted label')\n",
    "    plt.show()"
   ]
  },
  {
   "cell_type": "code",
   "execution_count": 3,
   "metadata": {},
   "outputs": [
    {
     "name": "stdout",
     "output_type": "stream",
     "text": [
      "(2016, 14)\n"
     ]
    }
   ],
   "source": [
    "datastream = DataSet.objects.get(id=6)\n",
    "df = datastream.dataframe\n",
    "print(df.shape)\n",
    "df_res = pd.DataFrame(index=df.index, columns=df.columns)\n",
    "df_mean = df.mean(axis=1)\n",
    "df_std = df.std(axis=1)\n",
    "df_quantile_25 = df.quantile(0.25, axis=1)\n",
    "df_quantile_75 = df.quantile(0.75, axis=1)"
   ]
  },
  {
   "cell_type": "code",
   "execution_count": 4,
   "metadata": {},
   "outputs": [
    {
     "name": "stdout",
     "output_type": "stream",
     "text": [
      "287\n",
      "station\n",
      "23      9.0\n",
      "24     13.0\n",
      "25     13.0\n",
      "26      NaN\n",
      "27     70.0\n",
      "28      NaN\n",
      "29     34.0\n",
      "30      NaN\n",
      "31      NaN\n",
      "32      NaN\n",
      "33      NaN\n",
      "34      NaN\n",
      "35    148.0\n",
      "37      NaN\n",
      "dtype: float64\n"
     ]
    }
   ],
   "source": [
    "count=0\n",
    "for index, row in df.iterrows():\n",
    "    for column in df.columns:\n",
    "        IQR = df_quantile_75[index] - df_quantile_25[index]\n",
    "        \n",
    "        if row[column] < (df_quantile_25[index] - (1.5 * IQR)) or row[column] > (df_quantile_75[index] + (1.5 * IQR)):\n",
    "            df_res.loc[index, column] = 1\n",
    "            count+=1\n",
    "            #print(index)\n",
    "            #print('Val:', np.abs(row[column]))\n",
    "            #print('Mean:', df_mean[index])\n",
    "            #print('2 Std:', 2*df_std[index])\n",
    "print(count)\n",
    "print(df_res.sum(axis=0))"
   ]
  },
  {
   "cell_type": "code",
   "execution_count": 5,
   "metadata": {},
   "outputs": [
    {
     "name": "stdout",
     "output_type": "stream",
     "text": [
      "222\n"
     ]
    }
   ],
   "source": [
    "indexes = []\n",
    "for index, row in df_res.iterrows():\n",
    "    for column in df_res.columns:\n",
    "        if row[column] == 1:\n",
    "            indexes.append(index)\n",
    "            break\n",
    "print(len(indexes))"
   ]
  },
  {
   "cell_type": "code",
   "execution_count": 6,
   "metadata": {
    "collapsed": true
   },
   "outputs": [],
   "source": [
    "df_class = pd.DataFrame(index=df.index)\n",
    "df_class['Class'] = 0\n",
    "\n",
    "for index in indexes:\n",
    "    df_class.loc[index,'Class'] = 1\n",
    "df = df.join(df_class)"
   ]
  },
  {
   "cell_type": "code",
   "execution_count": 7,
   "metadata": {
    "collapsed": true
   },
   "outputs": [],
   "source": [
    "normal = df[df['Class'] == 0]\n",
    "anomaly = df[df['Class'] == 1]"
   ]
  },
  {
   "cell_type": "code",
   "execution_count": 8,
   "metadata": {},
   "outputs": [
    {
     "name": "stdout",
     "output_type": "stream",
     "text": [
      "Train shape:  (897, 15)\n",
      "Proportion os anomaly in training set: 0.00\n",
      "\n",
      "Valid shape:  (559, 15)\n",
      "Proportion os anomaly in validation set: 0.20\n",
      "\n",
      "Test shape:,  (560, 15)\n",
      "Proportion os anomaly in test set: 0.20\n",
      "\n"
     ]
    }
   ],
   "source": [
    "from sklearn.model_selection import train_test_split\n",
    "\n",
    "train, normal_test, _, _ = train_test_split(normal, normal, test_size=.5, random_state=42)\n",
    "\n",
    "normal_valid, normal_test, _, _ = train_test_split(normal_test, normal_test, test_size=.5, random_state=42)\n",
    "anormal_valid, anormal_test, _, _ = train_test_split(anomaly, anomaly, test_size=.5, random_state=42)\n",
    "\n",
    "train = train.reset_index(drop=True)\n",
    "valid = normal_valid.append(anormal_valid).sample(frac=1).reset_index(drop=True)\n",
    "test = normal_test.append(anormal_test).sample(frac=1).reset_index(drop=True)\n",
    "\n",
    "print('Train shape: ', train.shape)\n",
    "print('Proportion os anomaly in training set: %.2f\\n' % train['Class'].mean())\n",
    "print('Valid shape: ', valid.shape)\n",
    "print('Proportion os anomaly in validation set: %.2f\\n' % valid['Class'].mean())\n",
    "print('Test shape:, ', test.shape)\n",
    "print('Proportion os anomaly in test set: %.2f\\n' % test['Class'].mean())"
   ]
  },
  {
   "cell_type": "code",
   "execution_count": 9,
   "metadata": {},
   "outputs": [],
   "source": [
    "import tensorflow as tf\n",
    "tf.reset_default_graph()\n",
    "tf.set_random_seed(2)\n",
    "\n",
    "batch_size = 10000\n",
    "\n",
    "n_visible = train.drop('Class', axis=1).values.shape[1]\n",
    "n_hidden1 = 27\n",
    "n_hidden2 = 16\n",
    "n_hidden3 = 2\n",
    "\n",
    "learning_rate = 0.01\n",
    "\n",
    "# create node for input data\n",
    "X_tf = tf.placeholder(\"float\", [None, n_visible], name='X')\n",
    "\n",
    "# Paramtetrs initialization\n",
    "W1_init = 4 * np.sqrt(6. / (n_visible + n_hidden1))\n",
    "W2_init = 4 * np.sqrt(6. / (n_hidden1 + n_hidden2))\n",
    "W3_init = 4 * np.sqrt(6. / (n_hidden2 + n_hidden3))\n",
    "\n",
    "W1 = tf.Variable(tf.random_uniform([n_visible, n_hidden1],\n",
    "                                   minval=-W1_init, maxval=W1_init), name='W1')\n",
    "b1 = tf.Variable(tf.zeros([n_hidden1]), name='b1')\n",
    "\n",
    "W2 = tf.Variable(tf.random_uniform([n_hidden1, n_hidden2],\n",
    "                                   minval=-W2_init, maxval=W2_init), name='W2')\n",
    "b2 = tf.Variable(tf.zeros([n_hidden2]), name='b2')\n",
    "\n",
    "W3 = tf.Variable(tf.random_uniform([n_hidden2, n_hidden3],\n",
    "                                   minval=-W3_init, maxval=W3_init), name='W3')\n",
    "b3 = tf.Variable(tf.zeros([n_hidden3]), name='b3')\n",
    "\n",
    "W3_prime = tf.Variable(tf.random_uniform([n_hidden3, n_hidden2],\n",
    "                                   minval=-W3_init, maxval=W3_init), name='W3_prime')  \n",
    "b3_prime = tf.Variable(tf.zeros([n_hidden2]), name='b3_prime')\n",
    "\n",
    "W2_prime = tf.Variable(tf.random_uniform([n_hidden2, n_hidden1],\n",
    "                                   minval=-W2_init, maxval=W2_init), name='W2_prime')  \n",
    "b2_prime = tf.Variable(tf.zeros([n_hidden1]), name='b2_prime')\n",
    "\n",
    "W1_prime =  tf.Variable(tf.random_uniform([n_hidden1, n_visible],\n",
    "                                   minval=-W1_init, maxval=W1_init), name='W1_prime')\n",
    "b1_prime = tf.Variable(tf.zeros([n_visible]), name='b1_prime')\n",
    "\n",
    "\n",
    "def autoencoder(X_tf):\n",
    "    \n",
    "    # encoder\n",
    "    Y = tf.nn.tanh(tf.matmul(X_tf, W1) + b1)  \n",
    "    Y = tf.nn.tanh(tf.matmul(Y, W2) + b2) \n",
    "    Y = tf.nn.tanh(tf.matmul(Y, W3) + b3) \n",
    "    \n",
    "    # decoder\n",
    "    Z = tf.nn.tanh(tf.matmul(Y, W3_prime) + b3_prime)\n",
    "    Z = tf.nn.tanh(tf.matmul(Z, W2_prime) + b2_prime)  \n",
    "    Z = tf.nn.tanh(tf.matmul(Z, W1_prime) + b1_prime)\n",
    "    \n",
    "    return Z, Y\n",
    "\n",
    "Z, Y = autoencoder(X_tf)\n",
    "\n",
    "cost = tf.reduce_mean(tf.pow(X_tf - Z, 2))\n",
    "train_op = tf.train.AdamOptimizer(learning_rate).minimize(cost) \n",
    "scores = tf.abs(X_tf - Z)\n",
    "\n",
    "X_train = train.drop('Class', axis=1).values\n",
    "X_val_norm = valid[valid['Class'] == 0].drop('Class', axis=1).values\n",
    "X_val_anorm = valid[valid['Class'] == 1].drop('Class', axis=1).values\n"
   ]
  },
  {
   "cell_type": "code",
   "execution_count": 10,
   "metadata": {},
   "outputs": [
    {
     "name": "stdout",
     "output_type": "stream",
     "text": [
      "\n",
      "Batch loss at step 0: 444.752625\n",
      "Val Norm loss at step 0: 440.803497\n",
      "Val Anorm loss at step 0: 403.865356\n",
      "\n",
      "Batch loss at step 3000: 397.315430\n",
      "Val Norm loss at step 3000: 393.656799\n",
      "Val Anorm loss at step 3000: 362.338562\n",
      "\n",
      "Batch loss at step 6000: 397.315369\n",
      "Val Norm loss at step 6000: 393.656799\n",
      "Val Anorm loss at step 6000: 362.338531\n",
      "\n",
      "Batch loss at step 9000: 397.315369\n",
      "Val Norm loss at step 9000: 393.656799\n",
      "Val Anorm loss at step 9000: 362.338531\n",
      "\n",
      "Batch loss at step 12000: 397.315369\n",
      "Val Norm loss at step 12000: 393.656799\n",
      "Val Anorm loss at step 12000: 362.338531\n",
      "\n",
      "Batch loss at step 15000: 397.315369\n",
      "Val Norm loss at step 15000: 393.656799\n",
      "Val Anorm loss at step 15000: 362.338531\n"
     ]
    }
   ],
   "source": [
    "with tf.Session() as sess:\n",
    "    \n",
    "    tf.global_variables_initializer().run()\n",
    "\n",
    "    for step in range(15001):\n",
    "        \n",
    "        offset = (step * batch_size) % (X_train.shape[0] - batch_size)\n",
    "        batch_data = X_train[offset:(offset + batch_size), :]\n",
    "\n",
    "        sess.run(train_op, feed_dict={X_tf: batch_data,})\n",
    "        \n",
    "        if (step % 3000 == 0):\n",
    "            print('\\nBatch loss at step %d: %f' % (step,sess.run(cost, feed_dict={X_tf: batch_data})))\n",
    "            print('Val Norm loss at step %d: %f' % (step,sess.run(cost, feed_dict={X_tf: X_val_norm})))\n",
    "            print('Val Anorm loss at step %d: %f' % (step,sess.run(cost, feed_dict={X_tf: X_val_anorm})))\n",
    "        \n",
    "    y_scores_valid, enc_val = sess.run([scores, Y], feed_dict={X_tf: valid.drop('Class', axis=1).values})\n",
    "    df_n = df.reset_index(drop=True)\n",
    "    y_scores_test, enc_test = sess.run([scores, Y], feed_dict={X_tf: df_n.drop('Class', axis=1).values})"
   ]
  },
  {
   "cell_type": "code",
   "execution_count": 13,
   "metadata": {},
   "outputs": [
    {
     "name": "stdout",
     "output_type": "stream",
     "text": [
      "0.334841628959 27\n"
     ]
    }
   ],
   "source": [
    "tresholds = np.linspace(10, 25, 100)\n",
    "\n",
    "scores = []\n",
    "for treshold in tresholds:\n",
    "    y_hat = (y_scores_valid.mean(axis=1) > treshold).astype(int)\n",
    "    scores.append([recall_score(y_pred=y_hat, y_true=valid['Class'].values),\n",
    "                 precision_score(y_pred=y_hat, y_true=valid['Class'].values),\n",
    "                 fbeta_score(y_pred=y_hat, y_true=valid['Class'].values, beta=1)])\n",
    "\n",
    "scores = np.array(scores)\n",
    "print(scores[:, 2].max(), scores[:, 2].argmax())"
   ]
  },
  {
   "cell_type": "code",
   "execution_count": 14,
   "metadata": {},
   "outputs": [
    {
     "data": {
      "image/png": "[encoded data removed]",
      "text/plain": [
       "<matplotlib.figure.Figure at 0x11f593908>"
      ]
     },
     "metadata": {},
     "output_type": "display_data"
    }
   ],
   "source": [
    "plt.plot(tresholds, scores[:, 0], label='$Recall$')\n",
    "plt.plot(tresholds, scores[:, 1], label='$Precision$')\n",
    "plt.plot(tresholds, scores[:, 2], label='$F_1$')\n",
    "plt.ylabel('Score')\n",
    "plt.xlabel('Threshold')\n",
    "plt.legend(loc='best')\n",
    "plt.show()"
   ]
  },
  {
   "cell_type": "code",
   "execution_count": 15,
   "metadata": {},
   "outputs": [
    {
     "data": {
      "image/png": "[encoded data removed]",
      "text/plain": [
       "<matplotlib.figure.Figure at 0x11f7056a0>"
      ]
     },
     "metadata": {},
     "output_type": "display_data"
    }
   ],
   "source": [
    "plt.scatter(enc_val[:, 0], enc_val[:, 1], c=valid[\"Class\"].values, alpha=.5)\n",
    "plt.show()"
   ]
  },
  {
   "cell_type": "code",
   "execution_count": 17,
   "metadata": {},
   "outputs": [
    {
     "name": "stdout",
     "output_type": "stream",
     "text": [
      "Final threshold: 14.091\n",
      "Test Recall Score: 1.000\n",
      "Test Precision Score: 0.111\n",
      "Test F1 Score: 0.200\n"
     ]
    },
    {
     "data": {
      "image/png": "[encoded data removed]",
      "text/plain": [
       "<matplotlib.figure.Figure at 0x11f600f98>"
      ]
     },
     "metadata": {},
     "output_type": "display_data"
    }
   ],
   "source": [
    "final_tresh = tresholds[scores[:, 2].argmax()]\n",
    "df_n = df.reset_index(drop=True)\n",
    "y_hat_test = (y_scores_test.mean(axis=1) > final_tresh).astype(int)\n",
    "\n",
    "print('Final threshold: %.3f' % final_tresh)\n",
    "print('Test Recall Score: %.3f' % recall_score(y_pred=y_hat_test, y_true=df_n['Class'].values))\n",
    "print('Test Precision Score: %.3f' % precision_score(y_pred=y_hat_test, y_true=df_n['Class'].values))\n",
    "print('Test F1 Score: %.3f' % fbeta_score(y_pred=y_hat_test, y_true=df_n['Class'].values, beta=1))\n",
    "\n",
    "cnf_matrix = confusion_matrix(df_n['Class'].values, y_hat_test)\n",
    "plot_confusion_matrix(cnf_matrix, classes=['Normal','Anormal'], title='Confusion matrix')"
   ]
  },
  {
   "cell_type": "code",
   "execution_count": 25,
   "metadata": {},
   "outputs": [
    {
     "name": "stdout",
     "output_type": "stream",
     "text": [
      "Final threshold: 13.939\n",
      "Test Recall Score: 1.000\n",
      "Test Precision Score: 0.199\n",
      "Test F1 Score: 0.332\n"
     ]
    },
    {
     "data": {
      "image/png": "[encoded data removed]",
      "text/plain": [
       "<matplotlib.figure.Figure at 0x116818c50>"
      ]
     },
     "metadata": {},
     "output_type": "display_data"
    }
   ],
   "source": [
    "final_tresh = tresholds[scores[:, 2].argmax()]\n",
    "y_hat_test = (y_scores_test.mean(axis=1) > final_tresh).astype(int)\n",
    "\n",
    "print('Final threshold: %.3f' % final_tresh)\n",
    "print('Test Recall Score: %.3f' % recall_score(y_pred=y_hat_test, y_true=test['Class'].values))\n",
    "print('Test Precision Score: %.3f' % precision_score(y_pred=y_hat_test, y_true=test['Class'].values))\n",
    "print('Test F1 Score: %.3f' % fbeta_score(y_pred=y_hat_test, y_true=test['Class'].values, beta=1))\n",
    "\n",
    "cnf_matrix = confusion_matrix(test['Class'].values, y_hat_test)\n",
    "plot_confusion_matrix(cnf_matrix, classes=['Normal','Anormal'], title='Confusion matrix')"
   ]
  },
  {
   "cell_type": "code",
   "execution_count": null,
   "metadata": {
    "collapsed": true
   },
   "outputs": [],
   "source": []
  }
 ],
 "metadata": {
  "kernelspec": {
   "display_name": "Django Shell-Plus",
   "language": "python",
   "name": "django_extensions"
  },
  "language_info": {
   "codemirror_mode": {
    "name": "ipython",
    "version": 3
   },
   "file_extension": ".py",
   "mimetype": "text/x-python",
   "name": "python",
   "nbconvert_exporter": "python",
   "pygments_lexer": "ipython3",
   "version": "3.6.2"
  }
 },
 "nbformat": 4,
 "nbformat_minor": 2
}
