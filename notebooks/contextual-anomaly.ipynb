{
 "cells": [
  {
   "cell_type": "code",
   "execution_count": 1,
   "metadata": {
    "collapsed": true
   },
   "outputs": [],
   "source": [
    "from lisa.utils import *\n",
    "from lisa.library import *\n",
    "import lisa.models\n",
    "import numpy as np, pandas as pd, datetime, pytz\n",
    "import matplotlib.pyplot as plt"
   ]
  },
  {
   "cell_type": "code",
   "execution_count": 2,
   "metadata": {
    "collapsed": true
   },
   "outputs": [],
   "source": [
    "import matplotlib\n",
    "matplotlib.style.use('ggplot')\n",
    "#%matplotlib inline"
   ]
  },
  {
   "cell_type": "code",
   "execution_count": 3,
   "metadata": {
    "collapsed": true
   },
   "outputs": [],
   "source": [
    "import datetime"
   ]
  },
  {
   "cell_type": "code",
   "execution_count": 11,
   "metadata": {
    "collapsed": false
   },
   "outputs": [],
   "source": [
    "import pandas as pd\n",
    "import pdb, random\n",
    "\n",
    "def multiYearData(data, start_y, until_y, fill_leap):\n",
    "    def leapyr(n):\n",
    "        if n % 4 != 0:\n",
    "            return False\n",
    "        elif n % 100 != 0:\n",
    "            return True\n",
    "        elif n % 400 != 0:\n",
    "            return False\n",
    "        else:\n",
    "            return True\n",
    "\n",
    "    multi_year = []\n",
    "    for y in range(until_y-start_y):\n",
    "        if leapyr(y):\n",
    "            #multi_year.extend( data[:6] + [fill_leap] + data[7:] )\n",
    "            multi_year.extend(data)\n",
    "        else:\n",
    "            multi_year.extend(data)\n",
    "    return multi_year\n",
    "\n",
    "start_y = 2000\n",
    "until_y = 2006\n",
    "\n",
    "dates = pd.date_range(str(start_y), str(until_y), freq='M')\n",
    "np.random.seed(20)\n",
    "data = [np.random.triangular(0, 5, 20) for i in range(12)]\n",
    "\n",
    "data = multiYearData(data, start_y, until_y, fill_leap=None)\n",
    "\n",
    "cum_data = pd.DataFrame(data, index=dates, columns=['TS'])\n",
    "cum_data.loc[datetime.datetime(2001, 12, 31)] = 2\n",
    "#cum_data.loc[datetime.datetime(2003, 1, 31)] = 6\n",
    "#cum_data.loc[datetime.datetime(2003, 2, 28)] = 6\n",
    "#cum_data.loc[datetime.datetime(2003, 3, 31)] = 6\n",
    "#cum_data.loc[datetime.datetime(2003, 4, 30)] = 6\n",
    "#cum_data.loc[datetime.datetime(2003, 5, 31)] = 6\n",
    "#cum_data.loc[datetime.datetime(2003, 6, 30)] = 6\n",
    "#cum_data.loc[datetime.datetime(2003, 7, 31)] = 6\n",
    "#cum_data.loc[datetime.datetime(2003, 8, 31)] = 6\n",
    "#cum_data.loc[datetime.datetime(2003, 9, 30)] = 6\n",
    "#cum_data.loc[datetime.datetime(2003, 10, 31)] = 6\n",
    "#cum_data.loc[datetime.datetime(2003, 11, 30)] = 6\n",
    "#cum_data.loc[datetime.datetime(2003, 12, 31)] = 6"
   ]
  },
  {
   "cell_type": "code",
   "execution_count": 12,
   "metadata": {
    "collapsed": false
   },
   "outputs": [],
   "source": [
    "plt.figure(); cum_data.plot();"
   ]
  },
  {
   "cell_type": "code",
   "execution_count": 13,
   "metadata": {
    "collapsed": true
   },
   "outputs": [],
   "source": [
    "plt.savefig('/Users/adrian/Uni/MasterThesis/Stuff/figures/contextual-anomaly.eps', format='eps', dpi=1000)"
   ]
  },
  {
   "cell_type": "code",
   "execution_count": null,
   "metadata": {
    "collapsed": true
   },
   "outputs": [],
   "source": []
  }
 ],
 "metadata": {
  "kernelspec": {
   "display_name": "Django Shell-Plus",
   "language": "python",
   "name": "django_extensions"
  },
  "language_info": {
   "codemirror_mode": {
    "name": "ipython",
    "version": 3
   },
   "file_extension": ".py",
   "mimetype": "text/x-python",
   "name": "python",
   "nbconvert_exporter": "python",
   "pygments_lexer": "ipython3",
   "version": "3.5.2"
  }
 },
 "nbformat": 4,
 "nbformat_minor": 2
}
