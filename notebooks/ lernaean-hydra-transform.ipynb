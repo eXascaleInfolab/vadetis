{
 "cells": [
  {
   "cell_type": "code",
   "execution_count": 4,
   "metadata": {},
   "outputs": [
    {
     "name": "stdout",
     "output_type": "stream",
     "text": [
      "Input file is  /Users/adrian/Uni/testdata/synthetic/lernaean-hydra/raw/data_10_seed1184_len10000_znorm.csv\n",
      "Output file is  /Users/adrian/Uni/testdata/synthetic/lernaean-hydra/transformed/data_10_seed1184_len10000_znorm.csv\n",
      "transforming\n",
      "transforming done\n"
     ]
    }
   ],
   "source": [
    "%run -i '../tools/lernaean-hydra-transform' -f /Users/adrian/Uni/testdata/synthetic/lernaean-hydra/raw/data_10_seed1184_len10000_znorm.csv -o /Users/adrian/Uni/testdata/synthetic/lernaean-hydra/transformed/data_10_seed1184_len10000_znorm.csv"
   ]
  },
  {
   "cell_type": "raw",
   "metadata": {},
   "source": [
    "%run -i '../tools/lernaean-hydra-transform' -f /home/adrian/testdata/sythetic/lernaean-hydra/ra/data_1000_seed1184_len10_znorm.csv -o /home/adrian/testdata/sythetic/lernaean-hydra/tests/test01_transform.csv"
   ]
  },
  {
   "cell_type": "code",
   "execution_count": 26,
   "metadata": {},
   "outputs": [
    {
     "name": "stdout",
     "output_type": "stream",
     "text": [
      "Input file is  /home/adrian/testdata/sythetic/lernaean-hydra/raw/dataset01.csv\n",
      "Output file is  /home/adrian/testdata/sythetic/lernaean-hydra/transformed/dataset01_transform.csv\n",
      "transforming\n",
      "transforming done\n"
     ]
    }
   ],
   "source": [
    "%run -i '../tools/lernaean-hydra-transform' -f /home/adrian/testdata/sythetic/lernaean-hydra/raw/dataset01.csv -o /home/adrian/testdata/sythetic/lernaean-hydra/transformed/dataset01_transform.csv"
   ]
  },
  {
   "cell_type": "code",
   "execution_count": 27,
   "metadata": {},
   "outputs": [
    {
     "name": "stdout",
     "output_type": "stream",
     "text": [
      "Input file is  /home/adrian/testdata/sythetic/lernaean-hydra/raw/dataset02.csv\n",
      "Output file is  /home/adrian/testdata/sythetic/lernaean-hydra/transformed/dataset02_transform.csv\n",
      "transforming\n",
      "transforming done\n"
     ]
    }
   ],
   "source": [
    "%run -i '../tools/lernaean-hydra-transform' -f /home/adrian/testdata/sythetic/lernaean-hydra/raw/dataset02.csv -o /home/adrian/testdata/sythetic/lernaean-hydra/transformed/dataset02_transform.csv"
   ]
  },
  {
   "cell_type": "code",
   "execution_count": 28,
   "metadata": {},
   "outputs": [
    {
     "name": "stdout",
     "output_type": "stream",
     "text": [
      "Input file is  /home/adrian/testdata/sythetic/lernaean-hydra/raw/dataset03.csv\n",
      "Output file is  /home/adrian/testdata/sythetic/lernaean-hydra/transformed/dataset03_transform.csv\n",
      "transforming\n",
      "transforming done\n"
     ]
    }
   ],
   "source": [
    "%run -i '../tools/lernaean-hydra-transform' -f /home/adrian/testdata/sythetic/lernaean-hydra/raw/dataset03.csv -o /home/adrian/testdata/sythetic/lernaean-hydra/transformed/dataset03_transform.csv"
   ]
  },
  {
   "cell_type": "code",
   "execution_count": 7,
   "metadata": {},
   "outputs": [
    {
     "name": "stdout",
     "output_type": "stream",
     "text": [
      "Input file is  /Users/adrian/Uni/testdata/real-world/idaweb/transformed/order_52582_data_no_pully_yvorne.txt\n",
      "Output file is  /Users/adrian/Uni/testdata/real-world/idaweb/transformed/order_52582_data_no_pully_yvorne_transformed.csv\n",
      "transforming\n",
      "transforming done\n"
     ]
    }
   ],
   "source": [
    "%run -i '../tools/idaweb' -f /Users/adrian/Uni/testdata/real-world/idaweb/transformed/order_52582_data_no_pully_yvorne.txt -o /Users/adrian/Uni/testdata/real-world/idaweb/transformed/order_52582_data_no_pully_yvorne_transformed.csv"
   ]
  },
  {
   "cell_type": "code",
   "execution_count": null,
   "metadata": {},
   "outputs": [],
   "source": []
  }
 ],
 "metadata": {
  "kernelspec": {
   "display_name": "Django Shell-Plus",
   "language": "python",
   "name": "django_extensions"
  },
  "language_info": {
   "codemirror_mode": {
    "name": "ipython",
    "version": 3
   },
   "file_extension": ".py",
   "mimetype": "text/x-python",
   "name": "python",
   "nbconvert_exporter": "python",
   "pygments_lexer": "ipython3",
   "version": "3.7.1"
  }
 },
 "nbformat": 4,
 "nbformat_minor": 4
}
