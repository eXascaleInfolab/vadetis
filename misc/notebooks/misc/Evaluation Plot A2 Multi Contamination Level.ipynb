{
 "cells": [
  {
   "cell_type": "code",
   "execution_count": 1,
   "metadata": {},
   "outputs": [],
   "source": [
    "from vadetisweb.anomaly_algorithms.detection.cluster import cluster_gaussian_mixture\n",
    "from vadetisweb.anomaly_algorithms.detection.histogram import histogram\n",
    "from vadetisweb.anomaly_algorithms.detection.svm import svm\n",
    "from vadetisweb.anomaly_algorithms.detection.isolation_forest import isolation_forest\n",
    "from vadetisweb.anomaly_algorithms.detection.lisa import lisa_pearson, lisa_dtw, lisa_geo\n",
    "from vadetisweb.anomaly_algorithms.detection.robust_pca import robust_pca_huber_loss\n",
    "from vadetisweb.models import DataSet, TimeSeries"
   ]
  },
  {
   "cell_type": "code",
   "execution_count": 1,
   "metadata": {},
   "outputs": [],
   "source": [
    "import numpy as np\n",
    "import matplotlib\n",
    "import matplotlib.pyplot as plt"
   ]
  },
  {
   "cell_type": "code",
   "execution_count": 3,
   "metadata": {},
   "outputs": [],
   "source": [
    "#input\n",
    "def get_dataset(title, ts_name=None):\n",
    "    ts_id = None\n",
    "    dataset = DataSet.objects.filter(title=title).first()\n",
    "    training_dataset = dataset.training_dataset.all().first()\n",
    "\n",
    "    return dataset, training_dataset"
   ]
  },
  {
   "cell_type": "code",
   "execution_count": 4,
   "metadata": {},
   "outputs": [],
   "source": [
    "def rpca_detection_l(df, df_class, df_train, df_train_class, delta=1, n_components=2, maximize_score='F1-Score', train_size=0.5):\n",
    "    return robust_pca_huber_loss(df, df_class, df_train, df_train_class, delta=delta, n_components=n_components, maximize_score=maximize_score, train_size=train_size)"
   ]
  },
  {
   "cell_type": "code",
   "execution_count": 5,
   "metadata": {},
   "outputs": [],
   "source": [
    "def histogram_detection_l(df, df_class, df_train, df_train_class, maximize_score='F1-Score', train_size=0.5):\n",
    "    return histogram(df, df_class, df_train, df_train_class, maximize_score=maximize_score, train_size=train_size)"
   ]
  },
  {
   "cell_type": "code",
   "execution_count": 6,
   "metadata": {},
   "outputs": [],
   "source": [
    "def cluster_detection_l(df, df_class, df_train, df_train_class, maximize_score='F1-Score', n_components=3, n_init=3, train_size=0.5):\n",
    "    return cluster_gaussian_mixture(df, df_class, df_train, df_train_class, maximize_score=maximize_score, n_components=n_components, n_init=n_init, train_size=train_size)"
   ]
  },
  {
   "cell_type": "code",
   "execution_count": 7,
   "metadata": {},
   "outputs": [],
   "source": [
    "def svm_detection_l(df, df_class, df_train, df_train_class, maximize_score='F1-Score', nu=0.95, kernel='rbf', train_size=0.5):\n",
    "    return svm(df, df_class, df_train, df_train_class, maximize_score=maximize_score, nu=nu, kernel=kernel, train_size=train_size)"
   ]
  },
  {
   "cell_type": "code",
   "execution_count": 8,
   "metadata": {},
   "outputs": [],
   "source": [
    "def isolation_forest_detection_l(df, df_class, df_train, df_train_class, maximize_score='F1-Score', n_jobs=-1, bootstrap=False, n_estimators=40, train_size=0.5):\n",
    "    return isolation_forest(df, df_class, df_train, df_train_class, maximize_score=maximize_score, n_jobs=n_jobs, bootstrap=bootstrap, n_estimators=n_estimators, train_size=train_size)"
   ]
  },
  {
   "cell_type": "code",
   "execution_count": 2,
   "metadata": {},
   "outputs": [],
   "source": [
    "# Temp1 Multi - Contamination Level\n",
    "dataset_names = [\n",
    "    'A2 Yahoo',\n",
    "    'A2 Yahoo Contamination 100',\n",
    "    'A2 Yahoo Contamination 150',\n",
    "    'A2 Yahoo Contamination 200',\n",
    "    'A2 Yahoo Contamination 250'\n",
    "]\n",
    "dimension = np.array([50, 100, 150, 200, 250])\n"
   ]
  },
  {
   "cell_type": "code",
   "execution_count": 10,
   "metadata": {},
   "outputs": [],
   "source": [
    "# Cont Level - RPCA\n",
    "# Results array [nmi, rmse, f1]\n",
    "\n",
    "r_results = []\n",
    "for dataset_name in dataset_names:\n",
    "    dataset, training_dataset = get_dataset(dataset_name)\n",
    "    df = dataset.dataframe\n",
    "    df_class = dataset.dataframe_class\n",
    "    scores, y_hat_results, df_common_class, info = rpca_detection_l(df, df_class, training_dataset.dataframe, training_dataset.dataframe_class)\n",
    "    result = [np.round(info['nmi'], 3), np.round(info['rmse'], 3), np.round(info['f1_score'], 3)]\n",
    "    r_results.append(result)\n",
    "    \n",
    "rpca_results = np.array(r_results)   "
   ]
  },
  {
   "cell_type": "code",
   "execution_count": 11,
   "metadata": {},
   "outputs": [],
   "source": [
    "# Cont Level - HISTOGRAM\n",
    "# Results array [nmi, rmse, f1]\n",
    "\n",
    "h_results = []\n",
    "for dataset_name in dataset_names:\n",
    "    dataset, training_dataset = get_dataset(dataset_name)\n",
    "    df = dataset.dataframe\n",
    "    df_class = dataset.dataframe_class\n",
    "    scores, y_hat_results, df_common_class, info = histogram_detection_l(df, df_class, training_dataset.dataframe, training_dataset.dataframe_class)\n",
    "    result = [np.round(info['nmi'], 3), np.round(info['rmse'], 3), np.round(info['f1_score'], 3)]\n",
    "    h_results.append(result)\n",
    "    \n",
    "histogram_results = np.array(h_results)  "
   ]
  },
  {
   "cell_type": "code",
   "execution_count": 12,
   "metadata": {},
   "outputs": [],
   "source": [
    "# Cont Level - CLUSTER\n",
    "# Results array [nmi, rmse, f1]\n",
    "\n",
    "c_results = []\n",
    "for dataset_name in dataset_names:\n",
    "    dataset, training_dataset = get_dataset(dataset_name)\n",
    "    df = dataset.dataframe\n",
    "    df_class = dataset.dataframe_class\n",
    "    scores, y_hat_results, df_common_class, info = cluster_detection_l(df, df_class, training_dataset.dataframe, training_dataset.dataframe_class)\n",
    "    result = [np.round(info['nmi'], 3), np.round(info['rmse'], 3), np.round(info['f1_score'], 3)]\n",
    "    c_results.append(result)\n",
    "    \n",
    "cluster_results = np.array(c_results)  "
   ]
  },
  {
   "cell_type": "code",
   "execution_count": 13,
   "metadata": {},
   "outputs": [],
   "source": [
    "# Cont Level - SVM\n",
    "# Results array [nmi, rmse, f1]\n",
    "\n",
    "s_results = []\n",
    "for dataset_name in dataset_names:\n",
    "    dataset, training_dataset = get_dataset(dataset_name)\n",
    "    df = dataset.dataframe\n",
    "    df_class = dataset.dataframe_class\n",
    "    scores, y_hat_results, df_common_class, info = svm_detection_l(df, df_class, training_dataset.dataframe, training_dataset.dataframe_class)\n",
    "    result = [np.round(info['nmi'], 3), np.round(info['rmse'], 3), np.round(info['f1_score'], 3)]\n",
    "    s_results.append(result)\n",
    "    \n",
    "svm_results = np.array(s_results)    "
   ]
  },
  {
   "cell_type": "code",
   "execution_count": 14,
   "metadata": {},
   "outputs": [],
   "source": [
    "# Cont Level - ISOLATION FOREST\n",
    "# Results array [nmi, rmse, f1]\n",
    "\n",
    "i_results = []\n",
    "for dataset_name in dataset_names:\n",
    "    dataset, training_dataset = get_dataset(dataset_name)\n",
    "    df = dataset.dataframe\n",
    "    df_class = dataset.dataframe_class\n",
    "    scores, y_hat_results, df_common_class, info = isolation_forest_detection_l(df, df_class, training_dataset.dataframe, training_dataset.dataframe_class)\n",
    "    result = [np.round(info['nmi'], 3), np.round(info['rmse'], 3), np.round(info['f1_score'], 3)]\n",
    "    i_results.append(result)\n",
    "\n",
    "isolation_results = np.array(i_results)"
   ]
  },
  {
   "cell_type": "code",
   "execution_count": 15,
   "metadata": {},
   "outputs": [],
   "source": [
    "scores = [{ 'title' : 'RPCA', 'scores' :  rpca_results }, \n",
    "          { 'title' : 'Histogram', 'scores' :  histogram_results }, \n",
    "          { 'title' : 'Cluster', 'scores' :  cluster_results }, \n",
    "          { 'title' : 'SVM', 'scores' :  svm_results }, \n",
    "          { 'title' : 'Isolation Forest', 'scores' :  isolation_results }\n",
    "         ]"
   ]
  },
  {
   "cell_type": "code",
   "execution_count": 16,
   "metadata": {},
   "outputs": [
    {
     "name": "stdout",
     "output_type": "stream",
     "text": [
      "[{'title': 'RPCA', 'scores': array([[0.114, 0.106, 0.348],\n",
      "       [0.24 , 0.117, 0.579],\n",
      "       [0.316, 0.125, 0.69 ],\n",
      "       [0.355, 0.124, 0.733],\n",
      "       [0.434, 0.107, 0.791]])}, {'title': 'Histogram', 'scores': array([[0.002, 0.896, 0.104],\n",
      "       [0.001, 0.799, 0.214],\n",
      "       [0.002, 0.748, 0.309],\n",
      "       [0.007, 0.73 , 0.341],\n",
      "       [0.003, 0.697, 0.397]])}, {'title': 'Cluster', 'scores': array([[0.897, 0.004, 0.959],\n",
      "       [0.79 , 0.02 , 0.914],\n",
      "       [0.827, 0.021, 0.943],\n",
      "       [0.839, 0.021, 0.951],\n",
      "       [0.706, 0.052, 0.891]])}, {'title': 'SVM', 'scores': array([[0.052, 0.089, 0.241],\n",
      "       [0.019, 0.155, 0.191],\n",
      "       [0.034, 0.201, 0.235],\n",
      "       [0.079, 0.208, 0.345],\n",
      "       [0.06 , 0.246, 0.314]])}, {'title': 'Isolation Forest', 'scores': array([[0.042, 0.507, 0.163],\n",
      "       [0.091, 0.468, 0.333],\n",
      "       [0.049, 0.466, 0.406],\n",
      "       [0.073, 0.43 , 0.471],\n",
      "       [0.062, 0.424, 0.504]])}]\n"
     ]
    }
   ],
   "source": [
    "print(scores)"
   ]
  },
  {
   "cell_type": "code",
   "execution_count": 3,
   "metadata": {},
   "outputs": [],
   "source": [
    "scores = [{'title': 'RPCA', 'scores': np.array([[0.114, 0.106, 0.348],\n",
    "       [0.24 , 0.117, 0.579],\n",
    "       [0.316, 0.125, 0.69 ],\n",
    "       [0.355, 0.124, 0.733],\n",
    "       [0.434, 0.107, 0.791]])}, {'title': 'Histogram', 'scores': np.array([[0.002, 0.896, 0.104],\n",
    "       [0.001, 0.799, 0.214],\n",
    "       [0.002, 0.748, 0.309],\n",
    "       [0.007, 0.73 , 0.341],\n",
    "       [0.003, 0.697, 0.397]])}, {'title': 'Cluster', 'scores': np.array([[0.897, 0.004, 0.959],\n",
    "       [0.79 , 0.02 , 0.914],\n",
    "       [0.827, 0.021, 0.943],\n",
    "       [0.839, 0.021, 0.951],\n",
    "       [0.706, 0.052, 0.891]])}, {'title': 'SVM', 'scores': np.array([[0.052, 0.089, 0.241],\n",
    "       [0.019, 0.155, 0.191],\n",
    "       [0.034, 0.201, 0.235],\n",
    "       [0.079, 0.208, 0.345],\n",
    "       [0.06 , 0.246, 0.314]])}, {'title': 'Isolation Forest', 'scores': np.array([[0.042, 0.507, 0.163],\n",
    "       [0.091, 0.468, 0.333],\n",
    "       [0.049, 0.466, 0.406],\n",
    "       [0.073, 0.43 , 0.471],\n",
    "       [0.062, 0.424, 0.504]])}]"
   ]
  },
  {
   "cell_type": "code",
   "execution_count": 3,
   "metadata": {},
   "outputs": [],
   "source": [
    "old_scores = [{'title': 'RPCA', 'scores': np.array([[0.315, 0.039, 0.548],\n",
    "       [0.411, 0.066, 0.671],\n",
    "       [0.419, 0.094, 0.7  ],\n",
    "       [0.482, 0.09 , 0.765],\n",
    "       [0.49 , 0.103, 0.767]])}, {'title': 'Histogram', 'scores': np.array([[0.   , 0.182, 0.085],\n",
    "       [0.   , 0.185, 0.109],\n",
    "       [0.001, 0.238, 0.133],\n",
    "       [0.001, 0.254, 0.118],\n",
    "       [0.002, 0.287, 0.128]])}, {'title': 'Cluster', 'scores': np.array([[0.38 , 0.035, 0.51 ],\n",
    "       [0.192, 0.103, 0.291],\n",
    "       [0.22 , 0.152, 0.357],\n",
    "       [0.289, 0.156, 0.474],\n",
    "       [0.217, 0.204, 0.378]])}, {'title': 'SVM', 'scores': np.array([[0.057, 0.092, 0.253],\n",
    "       [0.019, 0.158, 0.2  ],\n",
    "       [0.032, 0.204, 0.241],\n",
    "       [0.078, 0.21 , 0.355],\n",
    "       [0.07 , 0.242, 0.348]])}, {'title': 'Isolation Forest', 'scores': np.array([[0.035, 0.507, 0.159],\n",
    "       [0.073, 0.472, 0.323],\n",
    "       [0.052, 0.462, 0.41 ],\n",
    "       [0.078, 0.435, 0.474],\n",
    "       [0.067, 0.434, 0.506]])}]"
   ]
  },
  {
   "cell_type": "code",
   "execution_count": null,
   "metadata": {},
   "outputs": [],
   "source": []
  },
  {
   "cell_type": "code",
   "execution_count": 10,
   "metadata": {},
   "outputs": [],
   "source": [
    "def generate_nmi_line_chart(dimension, scores):\n",
    "    fig, ax = plt.subplots()\n",
    "    \n",
    "    for score in scores:\n",
    "        title = score['title']\n",
    "        results = score['scores']\n",
    "        ax.plot(dimension, results[:,0], label=title)\n",
    "    ax.set_ylabel('Score (NMI)')\n",
    "    ax.set_xlabel('Number of Outliers')\n",
    "    ax.legend(bbox_to_anchor=(0,1.02,1,0.2), loc=\"lower left\", borderaxespad=0, ncol=3)\n",
    "    \n",
    "    fig.tight_layout()\n",
    "    plt.show()"
   ]
  },
  {
   "cell_type": "code",
   "execution_count": 11,
   "metadata": {},
   "outputs": [],
   "source": [
    "def generate_rmse_line_chart(dimension, scores):\n",
    "    fig, ax = plt.subplots()\n",
    "    \n",
    "    for score in scores:\n",
    "        title = score['title']\n",
    "        results = score['scores']\n",
    "        ax.plot(dimension, results[:,1], label=title)\n",
    "        #ax.plot(dimension, scores[:, 1], label='$RMSE$')\n",
    "        #ax.plot(dimension, scores[:, 2], label='$F_1-Score$')\n",
    "    ax.set_ylabel('Score (RMSE)')\n",
    "    ax.set_xlabel('Number of Outliers')\n",
    "    ax.legend(bbox_to_anchor=(0,1.02,1,0.2), loc=\"lower left\", borderaxespad=0, ncol=3)\n",
    "    \n",
    "    fig.tight_layout()\n",
    "    plt.show()"
   ]
  },
  {
   "cell_type": "code",
   "execution_count": 12,
   "metadata": {},
   "outputs": [],
   "source": [
    "def generate_f1_line_chart(dimension, scores):\n",
    "    fig, ax = plt.subplots()\n",
    "    \n",
    "    for score in scores:\n",
    "        title = score['title']\n",
    "        results = score['scores']\n",
    "        ax.plot(dimension, results[:,2], label=title)\n",
    "    ax.set_ylabel('Score (F1)')\n",
    "    ax.set_xlabel('Number of Outliers')\n",
    "    ax.legend(bbox_to_anchor=(0,1.02,1,0.2), loc=\"lower left\", borderaxespad=0, ncol=3)\n",
    "    \n",
    "    fig.tight_layout()\n",
    "    plt.show()"
   ]
  },
  {
   "cell_type": "code",
   "execution_count": 13,
   "metadata": {},
   "outputs": [
    {
     "data": {
      "image/png": "[encoded data removed]",
      "text/plain": [
       "<Figure size 432x288 with 1 Axes>"
      ]
     },
     "metadata": {
      "needs_background": "light"
     },
     "output_type": "display_data"
    }
   ],
   "source": [
    "generate_nmi_line_chart(dimension, scores)"
   ]
  },
  {
   "cell_type": "code",
   "execution_count": 14,
   "metadata": {},
   "outputs": [
    {
     "data": {
      "image/png": "[encoded data removed]",
      "text/plain": [
       "<Figure size 432x288 with 1 Axes>"
      ]
     },
     "metadata": {
      "needs_background": "light"
     },
     "output_type": "display_data"
    }
   ],
   "source": [
    "generate_rmse_line_chart(dimension, scores)"
   ]
  },
  {
   "cell_type": "code",
   "execution_count": 15,
   "metadata": {},
   "outputs": [
    {
     "data": {
      "image/png": "[encoded data removed]",
      "text/plain": [
       "<Figure size 432x288 with 1 Axes>"
      ]
     },
     "metadata": {
      "needs_background": "light"
     },
     "output_type": "display_data"
    }
   ],
   "source": [
    "generate_f1_line_chart(dimension, scores)"
   ]
  },
  {
   "cell_type": "code",
   "execution_count": null,
   "metadata": {},
   "outputs": [],
   "source": []
  },
  {
   "cell_type": "code",
   "execution_count": null,
   "metadata": {},
   "outputs": [],
   "source": []
  },
  {
   "cell_type": "code",
   "execution_count": null,
   "metadata": {},
   "outputs": [],
   "source": []
  },
  {
   "cell_type": "code",
   "execution_count": null,
   "metadata": {},
   "outputs": [],
   "source": []
  },
  {
   "cell_type": "code",
   "execution_count": null,
   "metadata": {},
   "outputs": [],
   "source": []
  }
 ],
 "metadata": {
  "kernelspec": {
   "display_name": "Django Shell-Plus",
   "language": "python",
   "name": "django_extensions"
  },
  "language_info": {
   "codemirror_mode": {
    "name": "ipython",
    "version": 3
   },
   "file_extension": ".py",
   "mimetype": "text/x-python",
   "name": "python",
   "nbconvert_exporter": "python",
   "pygments_lexer": "ipython3",
   "version": "3.7.9"
  }
 },
 "nbformat": 4,
 "nbformat_minor": 4
}
