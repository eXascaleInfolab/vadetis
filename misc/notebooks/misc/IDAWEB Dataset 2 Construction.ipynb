{
 "cells": [
  {
   "cell_type": "code",
   "execution_count": 11,
   "metadata": {},
   "outputs": [],
   "source": [
    "import pandas as pd\n",
    "import numpy as np\n",
    "import json, csv, datetime"
   ]
  },
  {
   "cell_type": "code",
   "execution_count": 12,
   "metadata": {},
   "outputs": [],
   "source": [
    "#input\n",
    "\n",
    "file_path = '/home/adrian/Dokumente/real_data/IDAWEB/idaweb3/order50469/data5.csv'\n",
    "\n",
    "#output\n",
    "output_path = '/home/adrian/Dokumente/real_data/idaweb_out_s2/'\n",
    "\n",
    "test_file_name = output_path + 'test.csv'\n",
    "train_file_name = output_path + 'train.csv'"
   ]
  },
  {
   "cell_type": "code",
   "execution_count": 13,
   "metadata": {},
   "outputs": [],
   "source": [
    "def load_data_frame(file_path):\n",
    "    df = pd.read_csv(file_path,\n",
    "                     sep=';',\n",
    "                     parse_dates=['time'],\n",
    "                     infer_datetime_format=True,\n",
    "                     index_col='time',\n",
    "                     float_precision='high')\n",
    "    return df"
   ]
  },
  {
   "cell_type": "code",
   "execution_count": 14,
   "metadata": {},
   "outputs": [],
   "source": [
    "def init_file(outputfile):\n",
    "    with open(outputfile, 'w') as file_output:\n",
    "        writer = csv.writer(file_output, delimiter=';')\n",
    "        header = ['ts_name', 'time', 'unit', 'value', 'class']\n",
    "        writer.writerow(header)\n",
    "        \n",
    "def append_to_file(df, ts_name, unit, outputfile):\n",
    "    with open(outputfile, 'a') as file_output:\n",
    "        writer = csv.writer(file_output, delimiter=';')\n",
    "        for index, value in df.iteritems():\n",
    "            row = [ts_name, index.isoformat(), unit, value, 0]\n",
    "            writer.writerow(row)"
   ]
  },
  {
   "cell_type": "code",
   "execution_count": 15,
   "metadata": {},
   "outputs": [],
   "source": [
    "ts_names_9 = ['WSLBAF', 'WSLCLF', 'WSLJUF', 'WSLNAF', 'WSLNEF', 'WSLNOF', 'WSLOTF', 'WSLSCF', 'WSLVSF']"
   ]
  },
  {
   "cell_type": "code",
   "execution_count": 17,
   "metadata": {},
   "outputs": [],
   "source": [
    "df_read = load_data_frame(file_path)"
   ]
  },
  {
   "cell_type": "code",
   "execution_count": 18,
   "metadata": {},
   "outputs": [],
   "source": [
    "df = df_read.pivot(columns='ts_name', values='value')"
   ]
  },
  {
   "cell_type": "code",
   "execution_count": 19,
   "metadata": {},
   "outputs": [],
   "source": [
    "def generate_output(df, ts_names, path_addition, file_suffix, ts_length=1000, training_length=500):\n",
    "    test_file_name = output_path + path_addition + 'test_' + file_suffix + '.csv'\n",
    "    train_file_name = output_path + path_addition + 'train_' + file_suffix + '.csv'\n",
    "    init_file(test_file_name)\n",
    "    init_file(train_file_name)\n",
    "    \n",
    "    for ts_name in ts_names:\n",
    "        df_set = df[ts_name]\n",
    "        df_test = df_set.iloc[0:1500]\n",
    "        df_train = df_set.iloc[1500:3000]\n",
    "    \n",
    "        append_to_file(df_test, ts_name, 'mW/m2', test_file_name)\n",
    "        append_to_file(df_train, ts_name, 'mW/m2', train_file_name)"
   ]
  },
  {
   "cell_type": "code",
   "execution_count": 20,
   "metadata": {},
   "outputs": [],
   "source": [
    "generate_output(df, ts_names_9, 'set2/', file_suffix='9')"
   ]
  },
  {
   "cell_type": "code",
   "execution_count": null,
   "metadata": {},
   "outputs": [],
   "source": [
    "generate_output(df, ts_names_12, 'set2/', file_suffix='12', ts_length=1000, training_length=500)\n",
    "generate_output(df, ts_names_10, 'set2/', file_suffix='10', ts_length=1000, training_length=500)\n",
    "generate_output(df, ts_names_8, 'set2/', file_suffix='8', ts_length=1000, training_length=500)\n",
    "generate_output(df, ts_names_6, 'set2/', file_suffix='6', ts_length=1000, training_length=500)\n",
    "generate_output(df, ts_names_4, 'set2/', file_suffix='4', ts_length=1000, training_length=500)\n",
    "generate_output(df, ts_names_2, 'set2/', file_suffix='2', ts_length=1000, training_length=500)"
   ]
  },
  {
   "cell_type": "code",
   "execution_count": 10,
   "metadata": {},
   "outputs": [
    {
     "name": "stdout",
     "output_type": "stream",
     "text": [
      "ts_name              WSLBAF  WSLCLF  WSLJUF  WSLNAF  WSLNEF  WSLNOF  WSLOTF  \\\n",
      "time                                                                          \n",
      "2017-04-01 00:00:00     0.0    -0.3     4.2     0.4    -0.2   -14.7     0.0   \n",
      "2017-04-01 00:10:00     0.0    -2.6     4.2     0.4    -0.2   -14.7     0.0   \n",
      "2017-04-01 00:20:00     0.0    -0.1     4.3     0.4    -0.2   -14.7     0.0   \n",
      "2017-04-01 00:30:00     0.0    -1.1     4.2     0.4    -0.2   -14.6     0.0   \n",
      "2017-04-01 00:40:00     0.0    -0.3     4.2     0.4    -0.2   -14.7     0.0   \n",
      "...                     ...     ...     ...     ...     ...     ...     ...   \n",
      "2017-04-21 19:10:00     0.0    -1.2     4.3     0.4    -0.2   -12.6     0.0   \n",
      "2017-04-21 19:20:00     0.0    -3.0     4.5     0.4    -0.2   -12.5     0.0   \n",
      "2017-04-21 19:30:00     0.0    -1.9     4.8     0.4    -0.2   -12.3     0.0   \n",
      "2017-04-21 19:40:00     0.0    -2.0     4.3     0.4    -0.2   -12.2     0.0   \n",
      "2017-04-21 19:50:00     0.0    -3.5     4.2     0.4    -0.2   -12.5     0.0   \n",
      "\n",
      "ts_name              WSLSCF  WSLVSF  \n",
      "time                                 \n",
      "2017-04-01 00:00:00     3.7     0.0  \n",
      "2017-04-01 00:10:00     3.7     0.0  \n",
      "2017-04-01 00:20:00     3.7     0.0  \n",
      "2017-04-01 00:30:00     3.7     0.0  \n",
      "2017-04-01 00:40:00     3.7     0.0  \n",
      "...                     ...     ...  \n",
      "2017-04-21 19:10:00     3.7     0.0  \n",
      "2017-04-21 19:20:00     3.7     0.0  \n",
      "2017-04-21 19:30:00     3.7     0.0  \n",
      "2017-04-21 19:40:00     3.7     0.0  \n",
      "2017-04-21 19:50:00     3.7     0.0  \n",
      "\n",
      "[3000 rows x 9 columns]\n",
      "ts_name  WSLBAF  WSLCLF  WSLJUF  WSLNAF  WSLNEF  WSLNOF  WSLOTF  WSLSCF  \\\n",
      "ts_name                                                                   \n",
      "WSLBAF     1.00    0.91    0.88    0.89    0.90    0.86    0.90    0.90   \n",
      "WSLCLF     0.91    1.00    0.93    0.96    0.92    0.93    0.91    0.90   \n",
      "WSLJUF     0.88    0.93    1.00    0.93    0.89    0.92    0.89    0.86   \n",
      "WSLNAF     0.89    0.96    0.93    1.00    0.90    0.93    0.88    0.87   \n",
      "WSLNEF     0.90    0.92    0.89    0.90    1.00    0.89    0.93    0.92   \n",
      "WSLNOF     0.86    0.93    0.92    0.93    0.89    1.00    0.87    0.84   \n",
      "WSLOTF     0.90    0.91    0.89    0.88    0.93    0.87    1.00    0.91   \n",
      "WSLSCF     0.90    0.90    0.86    0.87    0.92    0.84    0.91    1.00   \n",
      "WSLVSF     0.90    0.95    0.96    0.93    0.90    0.93    0.90    0.87   \n",
      "\n",
      "ts_name  WSLVSF  \n",
      "ts_name          \n",
      "WSLBAF     0.90  \n",
      "WSLCLF     0.95  \n",
      "WSLJUF     0.96  \n",
      "WSLNAF     0.93  \n",
      "WSLNEF     0.90  \n",
      "WSLNOF     0.93  \n",
      "WSLOTF     0.90  \n",
      "WSLSCF     0.87  \n",
      "WSLVSF     1.00  \n"
     ]
    }
   ],
   "source": [
    "#Correlation\n",
    "\n",
    "df = df_read.pivot(columns='ts_name', values='value')\n",
    "df = df[0:3000]\n",
    "df_no_na = df.dropna(axis=1, how='any')\n",
    "print(df_no_na)\n",
    "df_corr = df_no_na.corr(method='pearson')\n",
    "df_corr = df_corr.round(2)\n",
    "print(df_corr)\n",
    "df_corr.to_csv(output_path + 'set2/' +'corr.csv', index = True, header=True)"
   ]
  },
  {
   "cell_type": "code",
   "execution_count": 9,
   "metadata": {},
   "outputs": [
    {
     "name": "stdout",
     "output_type": "stream",
     "text": [
      "ts_name             WSLBAF WSLBTF WSLCIF WSLCLF WSLISF WSLJUF WSLLAF WSLNAF  \\\n",
      "time                                                                          \n",
      "2017-04-01 00:00:00      0   -0.1    NaN   -0.3   2659    4.2      2    0.4   \n",
      "2017-04-01 00:10:00      0      0    NaN   -2.6   2657    4.2      1    0.4   \n",
      "2017-04-01 00:20:00      0      0    NaN   -0.1   2695    4.3    0.6    0.4   \n",
      "2017-04-01 00:30:00      0      0    NaN   -1.1      -    4.2      1    0.4   \n",
      "2017-04-01 00:40:00      0      0    NaN   -0.3      -    4.2    4.1    0.4   \n",
      "...                    ...    ...    ...    ...    ...    ...    ...    ...   \n",
      "2017-04-30 23:10:00      0      0      -   -0.1   2428    4.4    1.9    0.8   \n",
      "2017-04-30 23:20:00      0      0      -   -1.4   2366    4.3    0.4    0.9   \n",
      "2017-04-30 23:30:00      0      0      -   -0.7   2357    4.3    3.1      1   \n",
      "2017-04-30 23:40:00      0      0      -   -1.1   2350    4.3    1.4    0.7   \n",
      "2017-04-30 23:50:00      0      0      -   -0.5   2375    4.2      2    1.5   \n",
      "\n",
      "ts_name             WSLNEF WSLNOF WSLOTF WSLSCF WSLVOF WSLVSF  \n",
      "time                                                           \n",
      "2017-04-01 00:00:00   -0.2  -14.7      0    3.7      0      0  \n",
      "2017-04-01 00:10:00   -0.2  -14.7      0    3.7      0      0  \n",
      "2017-04-01 00:20:00   -0.2  -14.7      0    3.7      0      0  \n",
      "2017-04-01 00:30:00   -0.2  -14.6      0    3.7      0      0  \n",
      "2017-04-01 00:40:00   -0.2  -14.7      0    3.7      0      0  \n",
      "...                    ...    ...    ...    ...    ...    ...  \n",
      "2017-04-30 23:10:00   -0.2  -12.6      0    3.7      0      0  \n",
      "2017-04-30 23:20:00   -0.2  -12.6      0    3.7      0      0  \n",
      "2017-04-30 23:30:00   -0.2  -12.6      0    3.7      0      0  \n",
      "2017-04-30 23:40:00   -0.2  -12.6      0    3.7      0      0  \n",
      "2017-04-30 23:50:00   -0.2  -12.6      0    3.7      0      0  \n",
      "\n",
      "[4320 rows x 14 columns]\n"
     ]
    }
   ],
   "source": [
    "print(df)"
   ]
  },
  {
   "cell_type": "code",
   "execution_count": 7,
   "metadata": {},
   "outputs": [],
   "source": [
    "def create_set(path, files, file_set_names, file_suffix):\n",
    "    test_file_name = output_path + path + 'test_' + file_suffix + '.csv'\n",
    "    train_file_name = output_path + path + 'train_' + file_suffix + '.csv'\n",
    "    init_file(test_file_name)\n",
    "    init_file(train_file_name)\n",
    "    \n",
    "    for entry in files:\n",
    "        ts_name = entry['name']\n",
    "        if ts_name in file_set_names:\n",
    "            file_path = entry['file_path']\n",
    "            df = load_data_frame(ts_name, file_path)\n",
    "            df = time_index_to_dt(df)\n",
    "            print(ts_name + \"\\t anomalies \" \n",
    "                  + str(df.loc[df['class']==1].shape[0]) \n",
    "                  + '\\t values ' + str(df.shape[0])\n",
    "                  + '\\t min ' + str(df.loc[df['class']==0, 'value'].min()) \n",
    "                  + '\\t max ' + str(df.loc[df['class']==0, 'value'].max()))\n",
    "            df_test = df.iloc[0:710]\n",
    "            print('test' + \"\\t anomalies \" + str(df_test.loc[df_test['class']==1].shape[0]) + '\\t values ' + str(df_test.shape[0]))\n",
    "\n",
    "            df_train = df.iloc[710:1421]\n",
    "            print('train' + \"\\t anomalies \" + str(df_train.loc[df_train['class']==1].shape[0]) + '\\t values ' + str(df_train.shape[0]))\n",
    "            print('\\n')\n",
    "            append_to_file(df_test, test_file_name)\n",
    "            append_to_file(df_train, train_file_name)"
   ]
  },
  {
   "cell_type": "code",
   "execution_count": null,
   "metadata": {},
   "outputs": [],
   "source": []
  }
 ],
 "metadata": {
  "kernelspec": {
   "display_name": "Django Shell-Plus",
   "language": "python",
   "name": "django_extensions"
  },
  "language_info": {
   "codemirror_mode": {
    "name": "ipython",
    "version": 3
   },
   "file_extension": ".py",
   "mimetype": "text/x-python",
   "name": "python",
   "nbconvert_exporter": "python",
   "pygments_lexer": "ipython3",
   "version": "3.7.9"
  }
 },
 "nbformat": 4,
 "nbformat_minor": 4
}
