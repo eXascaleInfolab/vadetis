{
 "cells": [
  {
   "cell_type": "code",
   "execution_count": 1,
   "metadata": {},
   "outputs": [],
   "source": [
    "from vadetisweb.anomaly_algorithms.detection.cluster import cluster_gaussian_mixture\n",
    "from vadetisweb.anomaly_algorithms.detection.histogram import histogram\n",
    "from vadetisweb.anomaly_algorithms.detection.svm import svm\n",
    "from vadetisweb.anomaly_algorithms.detection.isolation_forest import isolation_forest\n",
    "from vadetisweb.anomaly_algorithms.detection.lisa import lisa_pearson, lisa_dtw, lisa_geo\n",
    "from vadetisweb.anomaly_algorithms.detection.robust_pca import robust_pca_huber_loss\n",
    "from vadetisweb.models import DataSet, TimeSeries"
   ]
  },
  {
   "cell_type": "code",
   "execution_count": 1,
   "metadata": {},
   "outputs": [],
   "source": [
    "import numpy as np\n",
    "import matplotlib\n",
    "import matplotlib.pyplot as plt"
   ]
  },
  {
   "cell_type": "code",
   "execution_count": 3,
   "metadata": {},
   "outputs": [],
   "source": [
    "#input\n",
    "def get_dataset(title, ts_name=None):\n",
    "    ts_id = None\n",
    "    dataset = DataSet.objects.filter(title=title).first()\n",
    "    training_dataset = dataset.training_dataset.all().first()\n",
    "    if ts_name is not None:\n",
    "        ts_id = dataset.timeseries_set.all().filter(name=ts_name).first().id\n",
    "\n",
    "    return dataset, training_dataset, ts_id"
   ]
  },
  {
   "cell_type": "code",
   "execution_count": 4,
   "metadata": {},
   "outputs": [],
   "source": [
    "def lisa_pearson_detection_time_it(df, df_class, time_series_id, maximize_score='F1-Score', window_size=10):\n",
    "    result = %timeit -o lisa_pearson(df, df_class, time_series_id, maximize_score=maximize_score, window_size=window_size)\n",
    "    return result"
   ]
  },
  {
   "cell_type": "code",
   "execution_count": 5,
   "metadata": {},
   "outputs": [],
   "source": [
    "def lisa_dtw_detection_time_it(df, df_class, time_series_id, maximize_score='F1-Score', window_size=10):\n",
    "    result = %timeit -o lisa_dtw(df, df_class, time_series_id, maximize_score=maximize_score, window_size=window_size, distance_function='euclidean')\n",
    "    return result"
   ]
  },
  {
   "cell_type": "code",
   "execution_count": 6,
   "metadata": {},
   "outputs": [],
   "source": [
    "def lisa_geo_detection_time_it(df, df_class, time_series_id, maximize_score='F1-Score'):\n",
    "    result = %timeit -o lisa_geo(df, df_class, time_series_id, maximize_score=maximize_score)\n",
    "    return result"
   ]
  },
  {
   "cell_type": "code",
   "execution_count": 7,
   "metadata": {},
   "outputs": [],
   "source": [
    "def rpca_detection_time_it(df, df_class, df_train, df_train_class, delta=1, n_components=2, maximize_score='F1-Score', train_size=0.5):\n",
    "    result = %timeit -o robust_pca_huber_loss(df, df_class, df_train, df_train_class, delta=delta, n_components=n_components, maximize_score=maximize_score, train_size=train_size)\n",
    "    return result"
   ]
  },
  {
   "cell_type": "code",
   "execution_count": 8,
   "metadata": {},
   "outputs": [],
   "source": [
    "def histogram_detection_time_it(df, df_class, df_train, df_train_class, maximize_score='F1-Score', train_size=0.5):\n",
    "    result = %timeit -o histogram(df, df_class, df_train, df_train_class, maximize_score=maximize_score, train_size=train_size)\n",
    "    return result"
   ]
  },
  {
   "cell_type": "code",
   "execution_count": 9,
   "metadata": {},
   "outputs": [],
   "source": [
    "def cluster_detection_time_it(df, df_class, df_train, df_train_class, maximize_score='F1-Score', n_components=3, n_init=3, train_size=0.5):\n",
    "    result = %timeit -o cluster_gaussian_mixture(df, df_class, df_train, df_train_class, maximize_score=maximize_score, n_components=n_components, n_init=n_init, train_size=train_size)\n",
    "    return result"
   ]
  },
  {
   "cell_type": "code",
   "execution_count": 10,
   "metadata": {},
   "outputs": [],
   "source": [
    "def svm_detection_time_it(df, df_class, df_train, df_train_class, maximize_score='F1-Score', nu=0.95, kernel='rbf', train_size=0.5):\n",
    "    result = %timeit -o svm(df, df_class, df_train, df_train_class, maximize_score=maximize_score, nu=nu, kernel=kernel, train_size=train_size)\n",
    "    return result"
   ]
  },
  {
   "cell_type": "code",
   "execution_count": 11,
   "metadata": {},
   "outputs": [],
   "source": [
    "def isolation_forest_detection_time_it(df, df_class, df_train, df_train_class, maximize_score='F1-Score', n_jobs=-1, bootstrap=False, n_estimators=40, train_size=0.5):\n",
    "    result = %timeit -o isolation_forest(df, df_class, df_train, df_train_class, maximize_score=maximize_score, n_jobs=n_jobs, bootstrap=bootstrap, n_estimators=n_estimators, train_size=train_size)\n",
    "    return result"
   ]
  },
  {
   "cell_type": "code",
   "execution_count": 2,
   "metadata": {},
   "outputs": [],
   "source": [
    "# Temp1 Single - TS LENGTH\n",
    "dataset_name = 'Idaweb Swiss Temperature TS8'\n",
    "ts_name = 'REH'\n",
    "dimensions = [100, 200, 300, 400, 500, 600, 700, 800, 900, 1000]"
   ]
  },
  {
   "cell_type": "code",
   "execution_count": 13,
   "metadata": {},
   "outputs": [
    {
     "name": "stdout",
     "output_type": "stream",
     "text": [
      "1.27 s ± 38.1 ms per loop (mean ± std. dev. of 7 runs, 1 loop each)\n",
      "1.46 s ± 10.1 ms per loop (mean ± std. dev. of 7 runs, 1 loop each)\n",
      "1.59 s ± 56 ms per loop (mean ± std. dev. of 7 runs, 1 loop each)\n",
      "1.69 s ± 10.4 ms per loop (mean ± std. dev. of 7 runs, 1 loop each)\n",
      "1.85 s ± 28.2 ms per loop (mean ± std. dev. of 7 runs, 1 loop each)\n",
      "2.03 s ± 36 ms per loop (mean ± std. dev. of 7 runs, 1 loop each)\n",
      "2.17 s ± 1.53 ms per loop (mean ± std. dev. of 7 runs, 1 loop each)\n",
      "2.34 s ± 1.99 ms per loop (mean ± std. dev. of 7 runs, 1 loop each)\n",
      "2.49 s ± 7.56 ms per loop (mean ± std. dev. of 7 runs, 1 loop each)\n",
      "2.64 s ± 60.1 ms per loop (mean ± std. dev. of 7 runs, 1 loop each)\n"
     ]
    }
   ],
   "source": [
    "# TIME TS LENGTH - Pearson\n",
    "dataset, _, ts_id = get_dataset(dataset_name, ts_name)\n",
    "lisa_pearson_results = []\n",
    "for l in dimensions:\n",
    "    df = dataset.dataframe[0:l]\n",
    "    df_class = dataset.dataframe_class[0:l]\n",
    "    \n",
    "    r = lisa_pearson_detection_time_it(df, df_class, ts_id)\n",
    "    lisa_pearson_results.append(np.round(np.average(r.all_runs), 2))"
   ]
  },
  {
   "cell_type": "code",
   "execution_count": 14,
   "metadata": {},
   "outputs": [
    {
     "name": "stdout",
     "output_type": "stream",
     "text": [
      "1.72 s ± 5.7 ms per loop (mean ± std. dev. of 7 runs, 1 loop each)\n",
      "2.43 s ± 24.5 ms per loop (mean ± std. dev. of 7 runs, 1 loop each)\n",
      "3.04 s ± 70.3 ms per loop (mean ± std. dev. of 7 runs, 1 loop each)\n",
      "3.79 s ± 88.4 ms per loop (mean ± std. dev. of 7 runs, 1 loop each)\n",
      "4.45 s ± 105 ms per loop (mean ± std. dev. of 7 runs, 1 loop each)\n",
      "5.13 s ± 78.9 ms per loop (mean ± std. dev. of 7 runs, 1 loop each)\n",
      "5.68 s ± 107 ms per loop (mean ± std. dev. of 7 runs, 1 loop each)\n",
      "6.34 s ± 123 ms per loop (mean ± std. dev. of 7 runs, 1 loop each)\n",
      "7.1 s ± 141 ms per loop (mean ± std. dev. of 7 runs, 1 loop each)\n",
      "7.75 s ± 100 ms per loop (mean ± std. dev. of 7 runs, 1 loop each)\n"
     ]
    }
   ],
   "source": [
    "# TIME TS LENGTH - DTW\n",
    "dataset, _, ts_id = get_dataset(dataset_name, ts_name)\n",
    "lisa_dtw_results = []\n",
    "for l in dimensions:\n",
    "    df = dataset.dataframe[0:l]\n",
    "    df_class = dataset.dataframe_class[0:l]\n",
    "    \n",
    "    r = lisa_dtw_detection_time_it(df, df_class, ts_id)\n",
    "    lisa_dtw_results.append(np.round(np.average(r.all_runs), 2))"
   ]
  },
  {
   "cell_type": "code",
   "execution_count": 15,
   "metadata": {},
   "outputs": [
    {
     "name": "stdout",
     "output_type": "stream",
     "text": [
      "1.35 s ± 10.3 ms per loop (mean ± std. dev. of 7 runs, 1 loop each)\n",
      "1.52 s ± 18.9 ms per loop (mean ± std. dev. of 7 runs, 1 loop each)\n",
      "1.71 s ± 11.8 ms per loop (mean ± std. dev. of 7 runs, 1 loop each)\n",
      "1.87 s ± 15.9 ms per loop (mean ± std. dev. of 7 runs, 1 loop each)\n",
      "2.01 s ± 6.09 ms per loop (mean ± std. dev. of 7 runs, 1 loop each)\n",
      "2.23 s ± 4.47 ms per loop (mean ± std. dev. of 7 runs, 1 loop each)\n",
      "2.39 s ± 11 ms per loop (mean ± std. dev. of 7 runs, 1 loop each)\n",
      "2.51 s ± 13.9 ms per loop (mean ± std. dev. of 7 runs, 1 loop each)\n",
      "2.69 s ± 24.7 ms per loop (mean ± std. dev. of 7 runs, 1 loop each)\n",
      "2.93 s ± 38.5 ms per loop (mean ± std. dev. of 7 runs, 1 loop each)\n"
     ]
    }
   ],
   "source": [
    "# TIME TS LENGTH - LISA VANILLA\n",
    "dataset, _, ts_id = get_dataset(dataset_name, ts_name)\n",
    "lisa_geo_results = []\n",
    "for l in dimensions:\n",
    "    df = dataset.dataframe[0:l]\n",
    "    df_class = dataset.dataframe_class[0:l]\n",
    "    \n",
    "    r = lisa_geo_detection_time_it(df, df_class, ts_id)\n",
    "    lisa_geo_results.append(np.round(np.average(r.all_runs), 2))"
   ]
  },
  {
   "cell_type": "code",
   "execution_count": 16,
   "metadata": {},
   "outputs": [
    {
     "name": "stdout",
     "output_type": "stream",
     "text": [
      "2.41 s ± 89.3 ms per loop (mean ± std. dev. of 7 runs, 1 loop each)\n",
      "2.51 s ± 88.7 ms per loop (mean ± std. dev. of 7 runs, 1 loop each)\n",
      "2.48 s ± 90.9 ms per loop (mean ± std. dev. of 7 runs, 1 loop each)\n",
      "2.45 s ± 60.2 ms per loop (mean ± std. dev. of 7 runs, 1 loop each)\n",
      "2.55 s ± 64.5 ms per loop (mean ± std. dev. of 7 runs, 1 loop each)\n",
      "2.58 s ± 69.9 ms per loop (mean ± std. dev. of 7 runs, 1 loop each)\n",
      "2.64 s ± 52.9 ms per loop (mean ± std. dev. of 7 runs, 1 loop each)\n",
      "2.65 s ± 63 ms per loop (mean ± std. dev. of 7 runs, 1 loop each)\n",
      "2.71 s ± 69.3 ms per loop (mean ± std. dev. of 7 runs, 1 loop each)\n",
      "2.75 s ± 84.2 ms per loop (mean ± std. dev. of 7 runs, 1 loop each)\n"
     ]
    }
   ],
   "source": [
    "# TIME TS LENGTH - RPCA\n",
    "dataset, training_dataset, _ = get_dataset(dataset_name)\n",
    "rpca_results = []\n",
    "for l in dimensions:\n",
    "    df = dataset.dataframe[0:l]\n",
    "    df_class = dataset.dataframe_class[0:l]\n",
    "    \n",
    "    r = rpca_detection_time_it(df, df_class, training_dataset.dataframe, training_dataset.dataframe_class)\n",
    "    rpca_results.append(np.round(np.average(r.all_runs), 2))"
   ]
  },
  {
   "cell_type": "code",
   "execution_count": 17,
   "metadata": {},
   "outputs": [
    {
     "name": "stdout",
     "output_type": "stream",
     "text": [
      "2.32 s ± 44.4 ms per loop (mean ± std. dev. of 7 runs, 1 loop each)\n",
      "2.37 s ± 70.4 ms per loop (mean ± std. dev. of 7 runs, 1 loop each)\n",
      "2.39 s ± 51.6 ms per loop (mean ± std. dev. of 7 runs, 1 loop each)\n",
      "2.43 s ± 29.5 ms per loop (mean ± std. dev. of 7 runs, 1 loop each)\n",
      "2.49 s ± 39 ms per loop (mean ± std. dev. of 7 runs, 1 loop each)\n",
      "2.46 s ± 40.6 ms per loop (mean ± std. dev. of 7 runs, 1 loop each)\n",
      "2.58 s ± 71 ms per loop (mean ± std. dev. of 7 runs, 1 loop each)\n",
      "2.61 s ± 58.8 ms per loop (mean ± std. dev. of 7 runs, 1 loop each)\n",
      "2.68 s ± 68 ms per loop (mean ± std. dev. of 7 runs, 1 loop each)\n",
      "2.59 s ± 3.02 ms per loop (mean ± std. dev. of 7 runs, 1 loop each)\n"
     ]
    }
   ],
   "source": [
    "# TIME TS LENGTH - HISTOGRAM\n",
    "dataset, training_dataset, _ = get_dataset(dataset_name)\n",
    "histogram_results = []\n",
    "for l in dimensions:\n",
    "    df = dataset.dataframe[0:l]\n",
    "    df_class = dataset.dataframe_class[0:l]\n",
    "    \n",
    "    r = histogram_detection_time_it(df, df_class, training_dataset.dataframe, training_dataset.dataframe_class)\n",
    "    histogram_results.append(np.round(np.average(r.all_runs), 2))"
   ]
  },
  {
   "cell_type": "code",
   "execution_count": 18,
   "metadata": {},
   "outputs": [
    {
     "name": "stdout",
     "output_type": "stream",
     "text": [
      "2.35 s ± 48 ms per loop (mean ± std. dev. of 7 runs, 1 loop each)\n",
      "2.41 s ± 62.1 ms per loop (mean ± std. dev. of 7 runs, 1 loop each)\n",
      "2.53 s ± 51.1 ms per loop (mean ± std. dev. of 7 runs, 1 loop each)\n",
      "2.46 s ± 58.4 ms per loop (mean ± std. dev. of 7 runs, 1 loop each)\n",
      "2.57 s ± 72.4 ms per loop (mean ± std. dev. of 7 runs, 1 loop each)\n",
      "2.58 s ± 62.8 ms per loop (mean ± std. dev. of 7 runs, 1 loop each)\n",
      "2.63 s ± 63.4 ms per loop (mean ± std. dev. of 7 runs, 1 loop each)\n",
      "2.64 s ± 66.5 ms per loop (mean ± std. dev. of 7 runs, 1 loop each)\n",
      "2.73 s ± 61.7 ms per loop (mean ± std. dev. of 7 runs, 1 loop each)\n",
      "2.71 s ± 59.7 ms per loop (mean ± std. dev. of 7 runs, 1 loop each)\n"
     ]
    }
   ],
   "source": [
    "# TIME TS LENGTH - CLUSTER\n",
    "dataset, training_dataset, _ = get_dataset(dataset_name)\n",
    "cluster_results = []\n",
    "for l in dimensions:\n",
    "    df = dataset.dataframe[0:l]\n",
    "    df_class = dataset.dataframe_class[0:l]\n",
    "    \n",
    "    r = cluster_detection_time_it(df, df_class, training_dataset.dataframe, training_dataset.dataframe_class)\n",
    "    cluster_results.append(np.round(np.average(r.all_runs), 2))"
   ]
  },
  {
   "cell_type": "code",
   "execution_count": 19,
   "metadata": {},
   "outputs": [
    {
     "name": "stdout",
     "output_type": "stream",
     "text": [
      "2.25 s ± 56.8 ms per loop (mean ± std. dev. of 7 runs, 1 loop each)\n",
      "2.32 s ± 65.2 ms per loop (mean ± std. dev. of 7 runs, 1 loop each)\n",
      "2.38 s ± 41.9 ms per loop (mean ± std. dev. of 7 runs, 1 loop each)\n",
      "2.44 s ± 64.2 ms per loop (mean ± std. dev. of 7 runs, 1 loop each)\n",
      "2.47 s ± 64.3 ms per loop (mean ± std. dev. of 7 runs, 1 loop each)\n",
      "2.53 s ± 64.7 ms per loop (mean ± std. dev. of 7 runs, 1 loop each)\n",
      "2.53 s ± 42.6 ms per loop (mean ± std. dev. of 7 runs, 1 loop each)\n",
      "2.61 s ± 67.5 ms per loop (mean ± std. dev. of 7 runs, 1 loop each)\n",
      "2.59 s ± 50.7 ms per loop (mean ± std. dev. of 7 runs, 1 loop each)\n",
      "2.59 s ± 2.23 ms per loop (mean ± std. dev. of 7 runs, 1 loop each)\n"
     ]
    }
   ],
   "source": [
    "# TIME TS LENGTH - SVM\n",
    "dataset, training_dataset, _ = get_dataset(dataset_name)\n",
    "svm_results = []\n",
    "for l in dimensions:\n",
    "    df = dataset.dataframe[0:l]\n",
    "    df_class = dataset.dataframe_class[0:l]\n",
    "    \n",
    "    r = svm_detection_time_it(df, df_class, training_dataset.dataframe, training_dataset.dataframe_class)\n",
    "    svm_results.append(np.round(np.average(r.all_runs), 2))"
   ]
  },
  {
   "cell_type": "code",
   "execution_count": 20,
   "metadata": {},
   "outputs": [
    {
     "name": "stdout",
     "output_type": "stream",
     "text": [
      "2.63 s ± 45 ms per loop (mean ± std. dev. of 7 runs, 1 loop each)\n",
      "2.67 s ± 38.1 ms per loop (mean ± std. dev. of 7 runs, 1 loop each)\n",
      "2.73 s ± 31.1 ms per loop (mean ± std. dev. of 7 runs, 1 loop each)\n",
      "2.74 s ± 57.2 ms per loop (mean ± std. dev. of 7 runs, 1 loop each)\n",
      "2.75 s ± 31.4 ms per loop (mean ± std. dev. of 7 runs, 1 loop each)\n",
      "2.81 s ± 68 ms per loop (mean ± std. dev. of 7 runs, 1 loop each)\n",
      "2.86 s ± 31.6 ms per loop (mean ± std. dev. of 7 runs, 1 loop each)\n",
      "2.93 s ± 30.9 ms per loop (mean ± std. dev. of 7 runs, 1 loop each)\n",
      "2.93 s ± 27.4 ms per loop (mean ± std. dev. of 7 runs, 1 loop each)\n",
      "2.95 s ± 47.8 ms per loop (mean ± std. dev. of 7 runs, 1 loop each)\n"
     ]
    }
   ],
   "source": [
    "# TIME TS LENGTH - ISOLATION FOREST\n",
    "dataset, training_dataset, _ = get_dataset(dataset_name)\n",
    "isolation_results = []\n",
    "for l in dimensions:\n",
    "    df = dataset.dataframe[0:l]\n",
    "    df_class = dataset.dataframe_class[0:l]\n",
    "    \n",
    "    r = isolation_forest_detection_time_it(df, df_class, training_dataset.dataframe, training_dataset.dataframe_class)\n",
    "    isolation_results.append(np.round(np.average(r.all_runs), 2))"
   ]
  },
  {
   "cell_type": "code",
   "execution_count": 21,
   "metadata": {},
   "outputs": [],
   "source": [
    "scores = [{ 'title' : 'LISA (Pearson)', 'scores' : lisa_pearson_results }, \n",
    "          { 'title' : 'LISA (DTW)', 'scores' : lisa_dtw_results }, \n",
    "          { 'title' : 'LISA (Vanilla)', 'scores' :  lisa_geo_results }, \n",
    "          { 'title' : 'RPCA', 'scores' :  rpca_results }, \n",
    "          { 'title' : 'Histogram', 'scores' :  histogram_results }, \n",
    "          { 'title' : 'Cluster', 'scores' :  cluster_results }, \n",
    "          { 'title' : 'SVM', 'scores' :  svm_results }, \n",
    "          { 'title' : 'Isolation Forest', 'scores' :  isolation_results }\n",
    "         ]"
   ]
  },
  {
   "cell_type": "code",
   "execution_count": 22,
   "metadata": {},
   "outputs": [
    {
     "name": "stdout",
     "output_type": "stream",
     "text": [
      "[{'title': 'LISA (Pearson)', 'scores': [1.27, 1.46, 1.59, 1.69, 1.85, 2.03, 2.17, 2.34, 2.49, 2.64]}, {'title': 'LISA (DTW)', 'scores': [1.72, 2.43, 3.04, 3.79, 4.45, 5.13, 5.68, 6.34, 7.1, 7.75]}, {'title': 'LISA (Vanilla)', 'scores': [1.35, 1.52, 1.71, 1.87, 2.01, 2.23, 2.39, 2.51, 2.69, 2.93]}, {'title': 'RPCA', 'scores': [2.41, 2.51, 2.48, 2.45, 2.55, 2.58, 2.64, 2.65, 2.71, 2.75]}, {'title': 'Histogram', 'scores': [2.32, 2.37, 2.39, 2.43, 2.49, 2.46, 2.58, 2.61, 2.68, 2.59]}, {'title': 'Cluster', 'scores': [2.35, 2.41, 2.53, 2.46, 2.57, 2.58, 2.63, 2.64, 2.73, 2.71]}, {'title': 'SVM', 'scores': [2.25, 2.32, 2.38, 2.44, 2.47, 2.53, 2.53, 2.61, 2.59, 2.59]}, {'title': 'Isolation Forest', 'scores': [2.63, 2.67, 2.73, 2.74, 2.75, 2.81, 2.86, 2.93, 2.93, 2.95]}]\n"
     ]
    }
   ],
   "source": [
    "print(scores)"
   ]
  },
  {
   "cell_type": "code",
   "execution_count": 3,
   "metadata": {},
   "outputs": [],
   "source": [
    "import numpy as np\n",
    "scores = [{'title': 'LISA (Pearson)', 'scores': [1.27, 1.46, 1.59, 1.69, 1.85, 2.03, 2.17, 2.34, 2.49, 2.64]}, {'title': 'LISA (DTW)', 'scores': [1.72, 2.43, 3.04, 3.79, 4.45, 5.13, 5.68, 6.34, 7.1, 7.75]}, {'title': 'LISA (Vanilla)', 'scores': [1.35, 1.52, 1.71, 1.87, 2.01, 2.23, 2.39, 2.51, 2.69, 2.93]}, {'title': 'RPCA', 'scores': [2.41, 2.51, 2.48, 2.45, 2.55, 2.58, 2.64, 2.65, 2.71, 2.75]}, {'title': 'Histogram', 'scores': [2.32, 2.37, 2.39, 2.43, 2.49, 2.46, 2.58, 2.61, 2.68, 2.59]}, {'title': 'Cluster', 'scores': [2.35, 2.41, 2.53, 2.46, 2.57, 2.58, 2.63, 2.64, 2.73, 2.71]}, {'title': 'SVM', 'scores': [2.25, 2.32, 2.38, 2.44, 2.47, 2.53, 2.53, 2.61, 2.59, 2.59]}, {'title': 'Isolation Forest', 'scores': [2.63, 2.67, 2.73, 2.74, 2.75, 2.81, 2.86, 2.93, 2.93, 2.95]}]\n"
   ]
  },
  {
   "cell_type": "code",
   "execution_count": 4,
   "metadata": {},
   "outputs": [],
   "source": [
    "def generate_timeit_line_chart(dimension, scores):\n",
    "    fig, ax = plt.subplots()\n",
    "    \n",
    "    for score in scores:\n",
    "        title = score['title']\n",
    "        results = score['scores']\n",
    "        ax.plot(dimension, results, label=title)\n",
    "    ax.set_ylabel('Run-Time (s)')\n",
    "    ax.set_xlabel('Length of TS')\n",
    "    ax.set_yscale('log')\n",
    "    ax.legend(bbox_to_anchor=(0,1.02,1,0.2), loc=\"lower left\", borderaxespad=0, ncol=3)\n",
    "    \n",
    "    fig.tight_layout()\n",
    "    plt.show()"
   ]
  },
  {
   "cell_type": "code",
   "execution_count": 5,
   "metadata": {},
   "outputs": [
    {
     "data": {
      "image/png": "[encoded data removed]",
      "text/plain": [
       "<Figure size 432x288 with 1 Axes>"
      ]
     },
     "metadata": {
      "needs_background": "light"
     },
     "output_type": "display_data"
    }
   ],
   "source": [
    "generate_timeit_line_chart(dimensions, scores)"
   ]
  },
  {
   "cell_type": "code",
   "execution_count": null,
   "metadata": {},
   "outputs": [],
   "source": []
  },
  {
   "cell_type": "code",
   "execution_count": null,
   "metadata": {},
   "outputs": [],
   "source": []
  },
  {
   "cell_type": "code",
   "execution_count": 3,
   "metadata": {},
   "outputs": [],
   "source": [
    "dimension = np.array([200, 400, 600, 800, 1000])\n",
    "\n",
    "lisa_pearson_results = np.array([1.42, 1.68, 2.01, 2.37, 2.73])\n",
    "lisa_dtw_results = np.array([2.35, 3.7, 5.08, 6.37, 7.65])\n",
    "lisa_spatial_results = np.array([1.54, 1.86, 2.21, 2.52, 2.88])\n",
    "\n",
    "rpca_results = np.array([2.43, 2.5, 2.67, 2.64, 2.75])\n",
    "histogram_results = np.array([2.35, 2.39, 2.48, 2.56, 2.7])\n",
    "cluster_results = np.array([2.44, 2.48, 2.48, 2.66, 2.7])\n",
    "svm_results = np.array([2.25, 2.34, 2.45, 2.48, 2.64])\n",
    "isolation_results = np.array([2.65, 2.71, 2.79, 2.86, 2.94])\n",
    "\n",
    "scores = [{ 'title' : 'LISA (Pearson)', 'scores' : lisa_pearson_results }, \n",
    "          { 'title' : 'LISA (DTW)', 'scores' : lisa_dtw_results }, \n",
    "          { 'title' : 'LISA (Vanilla)', 'scores' :  lisa_spatial_results }, \n",
    "          { 'title' : 'RPCA', 'scores' :  rpca_results }, \n",
    "          { 'title' : 'Histogram', 'scores' :  histogram_results }, \n",
    "          { 'title' : 'Cluster', 'scores' :  cluster_results }, \n",
    "          { 'title' : 'SVM', 'scores' :  svm_results }, \n",
    "          { 'title' : 'Isolation Forest', 'scores' :  isolation_results }\n",
    "         ]"
   ]
  },
  {
   "cell_type": "code",
   "execution_count": 4,
   "metadata": {},
   "outputs": [],
   "source": [
    "def generate_timeit_line_chart(dimension, scores):\n",
    "    fig, ax = plt.subplots()\n",
    "    \n",
    "    for score in scores:\n",
    "        title = score['title']\n",
    "        results = score['scores']\n",
    "        ax.plot(dimension, results, label=title)\n",
    "    ax.set_ylabel('Run-Time (s)')\n",
    "    ax.set_xlabel('Length of TS')\n",
    "    ax.set_yscale('log')\n",
    "    ax.legend(bbox_to_anchor=(0,1.02,1,0.2), loc=\"lower left\", borderaxespad=0, ncol=3)\n",
    "    \n",
    "    fig.tight_layout()\n",
    "    plt.show()"
   ]
  },
  {
   "cell_type": "code",
   "execution_count": 5,
   "metadata": {},
   "outputs": [
    {
     "data": {
      "image/png": "[encoded data removed]",
      "text/plain": [
       "<Figure size 432x288 with 1 Axes>"
      ]
     },
     "metadata": {
      "needs_background": "light"
     },
     "output_type": "display_data"
    }
   ],
   "source": [
    "#PLOT\n",
    "generate_timeit_line_chart(dimension, scores)\n"
   ]
  },
  {
   "cell_type": "code",
   "execution_count": null,
   "metadata": {},
   "outputs": [],
   "source": []
  }
 ],
 "metadata": {
  "kernelspec": {
   "display_name": "Django Shell-Plus",
   "language": "python",
   "name": "django_extensions"
  },
  "language_info": {
   "codemirror_mode": {
    "name": "ipython",
    "version": 3
   },
   "file_extension": ".py",
   "mimetype": "text/x-python",
   "name": "python",
   "nbconvert_exporter": "python",
   "pygments_lexer": "ipython3",
   "version": "3.7.9"
  }
 },
 "nbformat": 4,
 "nbformat_minor": 4
}
