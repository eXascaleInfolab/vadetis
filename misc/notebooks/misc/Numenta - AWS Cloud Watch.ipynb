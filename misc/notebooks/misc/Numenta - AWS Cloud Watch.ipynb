{
 "cells": [
  {
   "cell_type": "code",
   "execution_count": 5,
   "metadata": {},
   "outputs": [],
   "source": [
    "import pandas as pd\n",
    "import numpy as np\n",
    "import json"
   ]
  },
  {
   "cell_type": "code",
   "execution_count": 6,
   "metadata": {},
   "outputs": [],
   "source": [
    "nab_path = '/home/adrian/Dokumente/real_data/NAB-master'\n",
    "nab_data_path = nab_path + '/data/'\n",
    " \n",
    "labels_filename = '/labels/combined_labels.json'\n",
    "training_file_name = 'realAWSCloudwatch/rds_cpu_utilization_e47b3b.csv'\n",
    "test_file_name = 'realAWSCloudwatch/rds_cpu_utilization_cc0c53.csv'"
   ]
  },
  {
   "cell_type": "code",
   "execution_count": 8,
   "metadata": {},
   "outputs": [],
   "source": [
    "labels_file = open(nab_path + labels_filename, 'r')\n",
    "labels = json.loads(labels_file.read())\n",
    "labels_file.close()\n",
    "\n",
    "def load_data_frame_with_labels(file_name):\n",
    "    data_frame = pd.read_csv(nab_data_path + file_name)\n",
    "    data_frame['anomaly_label'] = data_frame['timestamp'].isin(labels[file_name]).astype(int)\n",
    "    return data_frame\n",
    " \n",
    "training_data_frame = load_data_frame_with_labels(training_file_name)\n",
    "test_data_frame = load_data_frame_with_labels(test_file_name)"
   ]
  },
  {
   "cell_type": "code",
   "execution_count": 14,
   "metadata": {},
   "outputs": [
    {
     "data": {
      "text/html": [
       "<div>\n",
       "<style scoped>\n",
       "    .dataframe tbody tr th:only-of-type {\n",
       "        vertical-align: middle;\n",
       "    }\n",
       "\n",
       "    .dataframe tbody tr th {\n",
       "        vertical-align: top;\n",
       "    }\n",
       "\n",
       "    .dataframe thead th {\n",
       "        text-align: right;\n",
       "    }\n",
       "</style>\n",
       "<table border=\"1\" class=\"dataframe\">\n",
       "  <thead>\n",
       "    <tr style=\"text-align: right;\">\n",
       "      <th></th>\n",
       "      <th>timestamp</th>\n",
       "      <th>value</th>\n",
       "      <th>anomaly_label</th>\n",
       "    </tr>\n",
       "  </thead>\n",
       "  <tbody>\n",
       "    <tr>\n",
       "      <th>0</th>\n",
       "      <td>2014-04-10 00:02:00</td>\n",
       "      <td>14.0120</td>\n",
       "      <td>0</td>\n",
       "    </tr>\n",
       "    <tr>\n",
       "      <th>1</th>\n",
       "      <td>2014-04-10 00:07:00</td>\n",
       "      <td>13.3340</td>\n",
       "      <td>0</td>\n",
       "    </tr>\n",
       "    <tr>\n",
       "      <th>2</th>\n",
       "      <td>2014-04-10 00:12:00</td>\n",
       "      <td>15.0000</td>\n",
       "      <td>0</td>\n",
       "    </tr>\n",
       "    <tr>\n",
       "      <th>3</th>\n",
       "      <td>2014-04-10 00:17:00</td>\n",
       "      <td>13.9980</td>\n",
       "      <td>0</td>\n",
       "    </tr>\n",
       "    <tr>\n",
       "      <th>4</th>\n",
       "      <td>2014-04-10 00:22:00</td>\n",
       "      <td>14.3320</td>\n",
       "      <td>0</td>\n",
       "    </tr>\n",
       "    <tr>\n",
       "      <th>...</th>\n",
       "      <td>...</td>\n",
       "      <td>...</td>\n",
       "      <td>...</td>\n",
       "    </tr>\n",
       "    <tr>\n",
       "      <th>4027</th>\n",
       "      <td>2014-04-23 23:37:00</td>\n",
       "      <td>17.0900</td>\n",
       "      <td>0</td>\n",
       "    </tr>\n",
       "    <tr>\n",
       "      <th>4028</th>\n",
       "      <td>2014-04-23 23:42:00</td>\n",
       "      <td>17.0800</td>\n",
       "      <td>0</td>\n",
       "    </tr>\n",
       "    <tr>\n",
       "      <th>4029</th>\n",
       "      <td>2014-04-23 23:47:00</td>\n",
       "      <td>17.0825</td>\n",
       "      <td>0</td>\n",
       "    </tr>\n",
       "    <tr>\n",
       "      <th>4030</th>\n",
       "      <td>2014-04-23 23:52:00</td>\n",
       "      <td>16.2525</td>\n",
       "      <td>0</td>\n",
       "    </tr>\n",
       "    <tr>\n",
       "      <th>4031</th>\n",
       "      <td>2014-04-23 23:57:00</td>\n",
       "      <td>18.0050</td>\n",
       "      <td>0</td>\n",
       "    </tr>\n",
       "  </tbody>\n",
       "</table>\n",
       "<p>4032 rows × 3 columns</p>\n",
       "</div>"
      ],
      "text/plain": [
       "                timestamp    value  anomaly_label\n",
       "0     2014-04-10 00:02:00  14.0120              0\n",
       "1     2014-04-10 00:07:00  13.3340              0\n",
       "2     2014-04-10 00:12:00  15.0000              0\n",
       "3     2014-04-10 00:17:00  13.9980              0\n",
       "4     2014-04-10 00:22:00  14.3320              0\n",
       "...                   ...      ...            ...\n",
       "4027  2014-04-23 23:37:00  17.0900              0\n",
       "4028  2014-04-23 23:42:00  17.0800              0\n",
       "4029  2014-04-23 23:47:00  17.0825              0\n",
       "4030  2014-04-23 23:52:00  16.2525              0\n",
       "4031  2014-04-23 23:57:00  18.0050              0\n",
       "\n",
       "[4032 rows x 3 columns]"
      ]
     },
     "execution_count": 14,
     "metadata": {},
     "output_type": "execute_result"
    }
   ],
   "source": [
    "training_data_frame"
   ]
  },
  {
   "cell_type": "code",
   "execution_count": 19,
   "metadata": {},
   "outputs": [
    {
     "data": {
      "text/html": [
       "<div>\n",
       "<style scoped>\n",
       "    .dataframe tbody tr th:only-of-type {\n",
       "        vertical-align: middle;\n",
       "    }\n",
       "\n",
       "    .dataframe tbody tr th {\n",
       "        vertical-align: top;\n",
       "    }\n",
       "\n",
       "    .dataframe thead th {\n",
       "        text-align: right;\n",
       "    }\n",
       "</style>\n",
       "<table border=\"1\" class=\"dataframe\">\n",
       "  <thead>\n",
       "    <tr style=\"text-align: right;\">\n",
       "      <th></th>\n",
       "      <th>timestamp</th>\n",
       "      <th>value</th>\n",
       "      <th>anomaly_label</th>\n",
       "    </tr>\n",
       "  </thead>\n",
       "  <tbody>\n",
       "    <tr>\n",
       "      <th>946</th>\n",
       "      <td>2014-04-13 06:52:00</td>\n",
       "      <td>76.23</td>\n",
       "      <td>1</td>\n",
       "    </tr>\n",
       "    <tr>\n",
       "      <th>2585</th>\n",
       "      <td>2014-04-18 23:27:00</td>\n",
       "      <td>25.11</td>\n",
       "      <td>1</td>\n",
       "    </tr>\n",
       "  </tbody>\n",
       "</table>\n",
       "</div>"
      ],
      "text/plain": [
       "                timestamp  value  anomaly_label\n",
       "946   2014-04-13 06:52:00  76.23              1\n",
       "2585  2014-04-18 23:27:00  25.11              1"
      ]
     },
     "execution_count": 19,
     "metadata": {},
     "output_type": "execute_result"
    }
   ],
   "source": [
    "training_data_frame.loc[training_data_frame['anomaly_label']==1]"
   ]
  },
  {
   "cell_type": "code",
   "execution_count": null,
   "metadata": {},
   "outputs": [],
   "source": []
  }
 ],
 "metadata": {
  "kernelspec": {
   "display_name": "Django Shell-Plus",
   "language": "python",
   "name": "django_extensions"
  },
  "language_info": {
   "codemirror_mode": {
    "name": "ipython",
    "version": 3
   },
   "file_extension": ".py",
   "mimetype": "text/x-python",
   "name": "python",
   "nbconvert_exporter": "python",
   "pygments_lexer": "ipython3",
   "version": "3.7.8"
  }
 },
 "nbformat": 4,
 "nbformat_minor": 4
}
