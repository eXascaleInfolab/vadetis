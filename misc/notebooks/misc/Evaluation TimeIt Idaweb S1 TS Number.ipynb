{
 "cells": [
  {
   "cell_type": "code",
   "execution_count": 1,
   "metadata": {},
   "outputs": [],
   "source": [
    "from vadetisweb.anomaly_algorithms.detection.cluster import cluster_gaussian_mixture\n",
    "from vadetisweb.anomaly_algorithms.detection.histogram import histogram\n",
    "from vadetisweb.anomaly_algorithms.detection.svm import svm\n",
    "from vadetisweb.anomaly_algorithms.detection.isolation_forest import isolation_forest\n",
    "from vadetisweb.anomaly_algorithms.detection.lisa import lisa_pearson, lisa_dtw, lisa_geo\n",
    "from vadetisweb.anomaly_algorithms.detection.robust_pca import robust_pca_huber_loss\n",
    "from vadetisweb.models import DataSet, TimeSeries"
   ]
  },
  {
   "cell_type": "code",
   "execution_count": 1,
   "metadata": {},
   "outputs": [],
   "source": [
    "import numpy as np\n",
    "import matplotlib\n",
    "import matplotlib.pyplot as plt"
   ]
  },
  {
   "cell_type": "code",
   "execution_count": 2,
   "metadata": {},
   "outputs": [],
   "source": [
    "#input\n",
    "def get_dataset(title, ts_name=None):\n",
    "    ts_id = None\n",
    "    dataset = DataSet.objects.filter(title=title).first()\n",
    "    training_dataset = dataset.training_dataset.all().first()\n",
    "    if ts_name is not None:\n",
    "        ts_id = dataset.timeseries_set.all().filter(name=ts_name).first().id\n",
    "\n",
    "    return dataset, training_dataset, ts_id"
   ]
  },
  {
   "cell_type": "code",
   "execution_count": 3,
   "metadata": {},
   "outputs": [],
   "source": [
    "def lisa_pearson_detection_time_it(df, df_class, time_series_id, maximize_score='F1-Score', window_size=10):\n",
    "    %timeit lisa_pearson(df, df_class, time_series_id, maximize_score=maximize_score, window_size=window_size)"
   ]
  },
  {
   "cell_type": "code",
   "execution_count": 4,
   "metadata": {},
   "outputs": [],
   "source": [
    "def lisa_dtw_detection_time_it(df, df_class, time_series_id, maximize_score='F1-Score', window_size=10):\n",
    "    %timeit lisa_dtw(df, df_class, time_series_id, maximize_score=maximize_score, window_size=window_size, distance_function='euclidean')"
   ]
  },
  {
   "cell_type": "code",
   "execution_count": 5,
   "metadata": {},
   "outputs": [],
   "source": [
    "def lisa_geo_detection_time_it(df, df_class, time_series_id, maximize_score='F1-Score'):\n",
    "    %timeit lisa_geo(df, df_class, time_series_id, maximize_score=maximize_score)"
   ]
  },
  {
   "cell_type": "code",
   "execution_count": 6,
   "metadata": {},
   "outputs": [],
   "source": [
    "def rpca_detection_time_it(df, df_class, df_train, df_train_class, delta=1, n_components=2, maximize_score='F1-Score', train_size=0.5):\n",
    "    %timeit robust_pca_huber_loss(df, df_class, df_train, df_train_class, delta=delta, n_components=n_components, maximize_score=maximize_score, train_size=train_size)"
   ]
  },
  {
   "cell_type": "code",
   "execution_count": 7,
   "metadata": {},
   "outputs": [],
   "source": [
    "def histogram_detection_time_it(df, df_class, df_train, df_train_class, maximize_score='F1-Score', train_size=0.5):\n",
    "    %timeit histogram(df, df_class, df_train, df_train_class, maximize_score=maximize_score, train_size=train_size)"
   ]
  },
  {
   "cell_type": "code",
   "execution_count": 8,
   "metadata": {},
   "outputs": [],
   "source": [
    "def cluster_detection_time_it(df, df_class, df_train, df_train_class, maximize_score='F1-Score', n_components=3, n_init=3, train_size=0.5):\n",
    "    %timeit cluster_gaussian_mixture(df, df_class, df_train, df_train_class, maximize_score=maximize_score, n_components=n_components, n_init=n_init, train_size=train_size)"
   ]
  },
  {
   "cell_type": "code",
   "execution_count": 9,
   "metadata": {},
   "outputs": [],
   "source": [
    "def svm_detection_time_it(df, df_class, df_train, df_train_class, maximize_score='F1-Score', nu=0.95, kernel='rbf', train_size=0.5):\n",
    "    %timeit svm(df, df_class, df_train, df_train_class, maximize_score=maximize_score, nu=nu, kernel=kernel, train_size=train_size)"
   ]
  },
  {
   "cell_type": "code",
   "execution_count": 10,
   "metadata": {},
   "outputs": [],
   "source": [
    "def isolation_forest_detection_time_it(df, df_class, df_train, df_train_class, maximize_score='F1-Score', n_jobs=-1, bootstrap=False, n_estimators=40, train_size=0.5):\n",
    "    %timeit isolation_forest(df, df_class, df_train, df_train_class, maximize_score=maximize_score, n_jobs=n_jobs, bootstrap=bootstrap, n_estimators=n_estimators, train_size=train_size)"
   ]
  },
  {
   "cell_type": "code",
   "execution_count": 11,
   "metadata": {},
   "outputs": [],
   "source": [
    "# Temp1 - TS NUMBER\n",
    "dataset_names = ['Idaweb Swiss Temperature TS2', \n",
    "                 'Idaweb Swiss Temperature TS4', \n",
    "                 'Idaweb Swiss Temperature TS6', \n",
    "                 'Idaweb Swiss Temperature TS8',\n",
    "                 'Idaweb Swiss Temperature TS10',\n",
    "                 'Idaweb Swiss Temperature TS12',\n",
    "                 'Idaweb Swiss Temperature TS14'\n",
    "                ]\n",
    "ts_name = 'REH'"
   ]
  },
  {
   "cell_type": "code",
   "execution_count": 12,
   "metadata": {},
   "outputs": [
    {
     "name": "stdout",
     "output_type": "stream",
     "text": [
      "2.62 s ± 86.8 ms per loop (mean ± std. dev. of 7 runs, 1 loop each)\n",
      "2.59 s ± 1.53 ms per loop (mean ± std. dev. of 7 runs, 1 loop each)\n",
      "2.71 s ± 67.3 ms per loop (mean ± std. dev. of 7 runs, 1 loop each)\n",
      "2.79 s ± 63.7 ms per loop (mean ± std. dev. of 7 runs, 1 loop each)\n",
      "2.65 s ± 999 µs per loop (mean ± std. dev. of 7 runs, 1 loop each)\n",
      "2.66 s ± 1.25 ms per loop (mean ± std. dev. of 7 runs, 1 loop each)\n",
      "2.8 s ± 57.6 ms per loop (mean ± std. dev. of 7 runs, 1 loop each)\n"
     ]
    }
   ],
   "source": [
    "# TIME TS NUMBER - Pearson\n",
    "for dataset_name in dataset_names:\n",
    "    dataset, _, ts_id = get_dataset(dataset_name, ts_name)\n",
    "    lisa_pearson_detection_time_it(dataset.dataframe, dataset.dataframe_class, ts_id)"
   ]
  },
  {
   "cell_type": "code",
   "execution_count": 13,
   "metadata": {},
   "outputs": [
    {
     "name": "stdout",
     "output_type": "stream",
     "text": [
      "3.88 s ± 86.7 ms per loop (mean ± std. dev. of 7 runs, 1 loop each)\n",
      "5.48 s ± 165 ms per loop (mean ± std. dev. of 7 runs, 1 loop each)\n",
      "6.62 s ± 178 ms per loop (mean ± std. dev. of 7 runs, 1 loop each)\n",
      "7.84 s ± 186 ms per loop (mean ± std. dev. of 7 runs, 1 loop each)\n",
      "9.16 s ± 83.5 ms per loop (mean ± std. dev. of 7 runs, 1 loop each)\n",
      "10.4 s ± 293 ms per loop (mean ± std. dev. of 7 runs, 1 loop each)\n",
      "12.1 s ± 104 ms per loop (mean ± std. dev. of 7 runs, 1 loop each)\n"
     ]
    }
   ],
   "source": [
    "# TIME TS NUMBER - DTW\n",
    "for dataset_name in dataset_names:\n",
    "    dataset, _, ts_id = get_dataset(dataset_name, ts_name)\n",
    "    lisa_dtw_detection_time_it(dataset.dataframe, dataset.dataframe_class, ts_id)"
   ]
  },
  {
   "cell_type": "code",
   "execution_count": 14,
   "metadata": {},
   "outputs": [
    {
     "name": "stdout",
     "output_type": "stream",
     "text": [
      "2.69 s ± 34.3 ms per loop (mean ± std. dev. of 7 runs, 1 loop each)\n",
      "2.72 s ± 48 ms per loop (mean ± std. dev. of 7 runs, 1 loop each)\n",
      "2.81 s ± 39.1 ms per loop (mean ± std. dev. of 7 runs, 1 loop each)\n",
      "2.88 s ± 37.4 ms per loop (mean ± std. dev. of 7 runs, 1 loop each)\n",
      "2.98 s ± 39 ms per loop (mean ± std. dev. of 7 runs, 1 loop each)\n",
      "3.08 s ± 66.8 ms per loop (mean ± std. dev. of 7 runs, 1 loop each)\n",
      "3.21 s ± 40.8 ms per loop (mean ± std. dev. of 7 runs, 1 loop each)\n"
     ]
    }
   ],
   "source": [
    "# TIME TS NUMBER - LISA VANILLA\n",
    "for dataset_name in dataset_names:\n",
    "    dataset, _, ts_id = get_dataset(dataset_name, ts_name)\n",
    "    lisa_geo_detection_time_it(dataset.dataframe, dataset.dataframe_class, ts_id)"
   ]
  },
  {
   "cell_type": "code",
   "execution_count": 15,
   "metadata": {},
   "outputs": [
    {
     "name": "stdout",
     "output_type": "stream",
     "text": [
      "2.64 s ± 32.3 ms per loop (mean ± std. dev. of 7 runs, 1 loop each)\n",
      "2.68 s ± 45.9 ms per loop (mean ± std. dev. of 7 runs, 1 loop each)\n",
      "2.66 s ± 86.4 ms per loop (mean ± std. dev. of 7 runs, 1 loop each)\n",
      "2.73 s ± 46.4 ms per loop (mean ± std. dev. of 7 runs, 1 loop each)\n",
      "2.63 s ± 110 ms per loop (mean ± std. dev. of 7 runs, 1 loop each)\n",
      "2.84 s ± 107 ms per loop (mean ± std. dev. of 7 runs, 1 loop each)\n",
      "2.86 s ± 98 ms per loop (mean ± std. dev. of 7 runs, 1 loop each)\n"
     ]
    }
   ],
   "source": [
    "# TIME TS NUMBER - RPCA\n",
    "for dataset_name in dataset_names:\n",
    "    dataset, training_dataset, _ = get_dataset(dataset_name)\n",
    "    rpca_detection_time_it(dataset.dataframe, dataset.dataframe_class, training_dataset.dataframe, training_dataset.dataframe_class)"
   ]
  },
  {
   "cell_type": "code",
   "execution_count": 16,
   "metadata": {},
   "outputs": [
    {
     "name": "stdout",
     "output_type": "stream",
     "text": [
      "2.64 s ± 43.3 ms per loop (mean ± std. dev. of 7 runs, 1 loop each)\n",
      "2.66 s ± 37.3 ms per loop (mean ± std. dev. of 7 runs, 1 loop each)\n",
      "2.62 s ± 49.1 ms per loop (mean ± std. dev. of 7 runs, 1 loop each)\n",
      "2.68 s ± 52.3 ms per loop (mean ± std. dev. of 7 runs, 1 loop each)\n",
      "2.77 s ± 68.8 ms per loop (mean ± std. dev. of 7 runs, 1 loop each)\n",
      "2.86 s ± 55.6 ms per loop (mean ± std. dev. of 7 runs, 1 loop each)\n",
      "2.79 s ± 64.8 ms per loop (mean ± std. dev. of 7 runs, 1 loop each)\n"
     ]
    }
   ],
   "source": [
    "# TIME TS NUMBER - HISTOGRAM\n",
    "for dataset_name in dataset_names:\n",
    "    dataset, training_dataset, _ = get_dataset(dataset_name)\n",
    "    histogram_detection_time_it(dataset.dataframe, dataset.dataframe_class, training_dataset.dataframe, training_dataset.dataframe_class)"
   ]
  },
  {
   "cell_type": "code",
   "execution_count": 17,
   "metadata": {},
   "outputs": [
    {
     "name": "stdout",
     "output_type": "stream",
     "text": [
      "2.64 s ± 12.4 ms per loop (mean ± std. dev. of 7 runs, 1 loop each)\n",
      "2.76 s ± 32.1 ms per loop (mean ± std. dev. of 7 runs, 1 loop each)\n",
      "2.65 s ± 60.3 ms per loop (mean ± std. dev. of 7 runs, 1 loop each)\n",
      "2.71 s ± 58 ms per loop (mean ± std. dev. of 7 runs, 1 loop each)\n",
      "2.73 s ± 62.4 ms per loop (mean ± std. dev. of 7 runs, 1 loop each)\n",
      "2.9 s ± 86.2 ms per loop (mean ± std. dev. of 7 runs, 1 loop each)\n",
      "2.9 s ± 81 ms per loop (mean ± std. dev. of 7 runs, 1 loop each)\n"
     ]
    }
   ],
   "source": [
    "# TIME TS NUMBER - CLUSTER\n",
    "for dataset_name in dataset_names:\n",
    "    dataset, training_dataset, _ = get_dataset(dataset_name)\n",
    "    cluster_detection_time_it(dataset.dataframe, dataset.dataframe_class, training_dataset.dataframe, training_dataset.dataframe_class)"
   ]
  },
  {
   "cell_type": "code",
   "execution_count": 18,
   "metadata": {},
   "outputs": [
    {
     "name": "stdout",
     "output_type": "stream",
     "text": [
      "2.55 s ± 66 ms per loop (mean ± std. dev. of 7 runs, 1 loop each)\n",
      "2.63 s ± 47.6 ms per loop (mean ± std. dev. of 7 runs, 1 loop each)\n",
      "2.66 s ± 52.2 ms per loop (mean ± std. dev. of 7 runs, 1 loop each)\n",
      "2.72 s ± 71.4 ms per loop (mean ± std. dev. of 7 runs, 1 loop each)\n",
      "2.73 s ± 42.7 ms per loop (mean ± std. dev. of 7 runs, 1 loop each)\n",
      "2.72 s ± 61.7 ms per loop (mean ± std. dev. of 7 runs, 1 loop each)\n",
      "2.83 s ± 28 ms per loop (mean ± std. dev. of 7 runs, 1 loop each)\n"
     ]
    }
   ],
   "source": [
    "# TIME TS NUMBER - SVM\n",
    "for dataset_name in dataset_names:\n",
    "    dataset, training_dataset, _ = get_dataset(dataset_name)\n",
    "    svm_detection_time_it(dataset.dataframe, dataset.dataframe_class, training_dataset.dataframe, training_dataset.dataframe_class)"
   ]
  },
  {
   "cell_type": "code",
   "execution_count": 19,
   "metadata": {},
   "outputs": [
    {
     "name": "stdout",
     "output_type": "stream",
     "text": [
      "2.9 s ± 35.6 ms per loop (mean ± std. dev. of 7 runs, 1 loop each)\n",
      "2.88 s ± 31.4 ms per loop (mean ± std. dev. of 7 runs, 1 loop each)\n",
      "2.9 s ± 43.3 ms per loop (mean ± std. dev. of 7 runs, 1 loop each)\n",
      "2.9 s ± 56.1 ms per loop (mean ± std. dev. of 7 runs, 1 loop each)\n",
      "3 s ± 20.9 ms per loop (mean ± std. dev. of 7 runs, 1 loop each)\n",
      "3.03 s ± 53.6 ms per loop (mean ± std. dev. of 7 runs, 1 loop each)\n",
      "3.09 s ± 31.5 ms per loop (mean ± std. dev. of 7 runs, 1 loop each)\n"
     ]
    }
   ],
   "source": [
    "# TIME TS NUMBER - ISOLATION FOREST\n",
    "for dataset_name in dataset_names:\n",
    "    dataset, training_dataset, _ = get_dataset(dataset_name)\n",
    "    isolation_forest_detection_time_it(dataset.dataframe, dataset.dataframe_class, training_dataset.dataframe, training_dataset.dataframe_class)"
   ]
  },
  {
   "cell_type": "code",
   "execution_count": 2,
   "metadata": {},
   "outputs": [],
   "source": [
    "dimension = np.array([2, 4, 6, 8, 10, 12, 14])\n",
    "\n",
    "lisa_pearson_results = np.array([2.62, 2.59, 2.71, 2.79, 2.65, 2.66, 2.8])\n",
    "lisa_dtw_results = np.array([3.88, 5.48, 6.62, 7.84, 9.16, 10.4, 12.1])\n",
    "lisa_spatial_results = np.array([2.69, 2.72, 2.81, 2.88, 2.98, 3.08, 3.21])\n",
    "rpca_results = np.array([2.64, 2.68, 2.66, 2.73, 2.63, 2.84, 2.86])\n",
    "histogram_results = np.array([2.64, 2.66, 2.62, 2.68, 2.77, 2.86, 2.79])\n",
    "cluster_results = np.array([2.64, 2.76, 2.65, 2.71, 2.73, 2.9, 2.9])\n",
    "svm_results = np.array([2.55, 2.63, 2.66, 2.72, 2.73, 2.72, 2.83])\n",
    "isolation_results = np.array([2.9, 2.88, 2.9, 2.9, 3, 3.03, 3.09])\n",
    "\n",
    "scores = [{ 'title' : 'LISA (Pearson)', 'scores' : lisa_pearson_results }, \n",
    "          { 'title' : 'LISA (DTW)', 'scores' : lisa_dtw_results }, \n",
    "          { 'title' : 'LISA (Vanilla)', 'scores' :  lisa_spatial_results }, \n",
    "          { 'title' : 'RPCA', 'scores' :  rpca_results }, \n",
    "          { 'title' : 'Histogram', 'scores' :  histogram_results }, \n",
    "          { 'title' : 'Cluster', 'scores' :  cluster_results }, \n",
    "          { 'title' : 'SVM', 'scores' :  svm_results }, \n",
    "          { 'title' : 'Isolation Forest', 'scores' :  isolation_results }\n",
    "         ]"
   ]
  },
  {
   "cell_type": "code",
   "execution_count": 3,
   "metadata": {},
   "outputs": [],
   "source": [
    "def generate_timeit_line_chart(dimension, scores):\n",
    "    fig, ax = plt.subplots()\n",
    "    \n",
    "    for score in scores:\n",
    "        title = score['title']\n",
    "        results = score['scores']\n",
    "        ax.plot(dimension, results, label=title)\n",
    "    ax.set_ylabel('Run-Time (s)')\n",
    "    ax.set_xlabel('Number of TS')\n",
    "    ax.set_yscale('log')\n",
    "    ax.legend(bbox_to_anchor=(0,1.02,1,0.2), loc=\"lower left\", borderaxespad=0, ncol=3)\n",
    "    \n",
    "    fig.tight_layout()\n",
    "    plt.show()"
   ]
  },
  {
   "cell_type": "code",
   "execution_count": 4,
   "metadata": {},
   "outputs": [
    {
     "data": {
      "image/png": "[encoded data removed]",
      "text/plain": [
       "<Figure size 432x288 with 1 Axes>"
      ]
     },
     "metadata": {
      "needs_background": "light"
     },
     "output_type": "display_data"
    }
   ],
   "source": [
    "#PLOT\n",
    "generate_timeit_line_chart(dimension, scores)\n"
   ]
  },
  {
   "cell_type": "code",
   "execution_count": null,
   "metadata": {},
   "outputs": [],
   "source": []
  }
 ],
 "metadata": {
  "kernelspec": {
   "display_name": "Django Shell-Plus",
   "language": "python",
   "name": "django_extensions"
  },
  "language_info": {
   "codemirror_mode": {
    "name": "ipython",
    "version": 3
   },
   "file_extension": ".py",
   "mimetype": "text/x-python",
   "name": "python",
   "nbconvert_exporter": "python",
   "pygments_lexer": "ipython3",
   "version": "3.7.9"
  }
 },
 "nbformat": 4,
 "nbformat_minor": 4
}
