{
 "cells": [
  {
   "cell_type": "code",
   "execution_count": 1,
   "metadata": {},
   "outputs": [],
   "source": [
    "import pandas as pd\n",
    "import numpy as np\n",
    "import json, csv, datetime"
   ]
  },
  {
   "cell_type": "code",
   "execution_count": 2,
   "metadata": {},
   "outputs": [],
   "source": [
    "#input\n",
    "\n",
    "yahoo_path = '/home/adrian/Dokumente/real_data/ydata-labeled-time-series-anomalies-v1_0'\n",
    "\n",
    "a1_path = '/A1Benchmark/'\n",
    "a2_path = '/A2Benchmark/'\n",
    "a3_path = '/A3Benchmark/'\n",
    "a4_path = '/A4Benchmark/'\n",
    "\n",
    "a1_elements = np.arange(1, 68).tolist()\n",
    "a234_elements = np.arange(1, 101).tolist()\n",
    "\n",
    "a1files = [{ 'name' : 'TS' + str(x), 'file_path' : yahoo_path + a1_path + 'real_' + str(x) + '.csv' } for x in a1_elements]\n",
    "a2files = [{ 'name' : 'TS' + str(x), 'file_path' : yahoo_path + a2_path + 'synthetic_' + str(x) + '.csv' } for x in a234_elements]\n",
    "a3files = [{ 'name' : 'TS' + str(x), 'file_path' : yahoo_path + a3_path + 'A3Benchmark-TS' + str(x) + '.csv' } for x in a234_elements]\n",
    "a4files = [{ 'name' : 'TS' + str(x), 'file_path' : yahoo_path + a4_path + 'A4Benchmark-TS' + str(x) + '.csv' } for x in a234_elements]\n",
    "\n",
    "#output\n",
    "output_path = '/home/adrian/Dokumente/real_data/yahoo_out2'\n",
    "\n",
    "#test_file_name = output_path + a2_path + 'test.csv'\n",
    "#train_file_name = output_path + a2_path + 'train.csv'"
   ]
  },
  {
   "cell_type": "code",
   "execution_count": 3,
   "metadata": {},
   "outputs": [],
   "source": [
    "def load_data_frame(ts_name, file_path):\n",
    "    df = pd.read_csv(file_path)\n",
    "    df.insert(0, 'ts_name', ts_name)\n",
    "    df.insert(2, 'unit', \"Value\")\n",
    "    df = df.rename(columns={'timestamps': 'time', 'anomaly' : 'class'})\n",
    "    df = df.drop(columns=['changepoint', 'trend', 'noise', 'seasonality1', 'seasonality2', 'seasonality3'])\n",
    "    return df"
   ]
  },
  {
   "cell_type": "code",
   "execution_count": 4,
   "metadata": {},
   "outputs": [],
   "source": [
    "def time_index_to_dt(df):\n",
    "    for idx, row in df.iterrows():\n",
    "        dt = datetime.datetime.fromtimestamp(row['time'])\n",
    "        df.loc[idx, 'time'] = dt\n",
    "    return df\n",
    "        "
   ]
  },
  {
   "cell_type": "code",
   "execution_count": 5,
   "metadata": {},
   "outputs": [],
   "source": [
    "def init_file(outputfile):\n",
    "    with open(outputfile, 'w') as file_output:\n",
    "        writer = csv.writer(file_output, delimiter=';')\n",
    "        header = ['ts_name', 'time', 'unit', 'value', 'class']\n",
    "        writer.writerow(header)\n",
    "        \n",
    "def append_to_file(df, outputfile):\n",
    "    with open(outputfile, 'a') as file_output:\n",
    "        writer = csv.writer(file_output, delimiter=';')\n",
    "        for index, row in df.iterrows():\n",
    "            row = [row[0], row[1].isoformat(), row[2], row[3], row[4]]\n",
    "            writer.writerow(row)"
   ]
  },
  {
   "cell_type": "code",
   "execution_count": 6,
   "metadata": {},
   "outputs": [],
   "source": [
    "# S1 set\n",
    "names_set_a4_s1 = ['TS' + str(x) for x in [23, 6, 9, 18, 20, 28, 34, 46, 47]]\n"
   ]
  },
  {
   "cell_type": "code",
   "execution_count": 11,
   "metadata": {},
   "outputs": [],
   "source": [
    "# S1\n",
    "test_file_name_s1 = output_path + a4_path + 'test_s1.csv'\n",
    "train_file_name_s1 = output_path + a4_path + 'train_s1.csv'\n",
    "init_file(test_file_name_s1)\n",
    "init_file(train_file_name_s1)"
   ]
  },
  {
   "cell_type": "code",
   "execution_count": 12,
   "metadata": {},
   "outputs": [
    {
     "name": "stdout",
     "output_type": "stream",
     "text": [
      "TS6\t anomalies 8\t values 1680\t min -1071.1504223956\t max 1034.80077970985\n",
      "test\t anomalies 7\t values 1000\n",
      "train\t anomalies 1\t values 679\n",
      "\n",
      "\n",
      "TS9\t anomalies 1\t values 1680\t min -2221.8524475234804\t max 1211.01844367173\n",
      "test\t anomalies 0\t values 1000\n",
      "train\t anomalies 1\t values 679\n",
      "\n",
      "\n",
      "TS18\t anomalies 1\t values 1680\t min -2512.5878557802\t max 1184.3321523334598\n",
      "test\t anomalies 1\t values 1000\n",
      "train\t anomalies 0\t values 679\n",
      "\n",
      "\n",
      "TS20\t anomalies 13\t values 1680\t min -2701.96555333302\t max 3544.0733357183203\n",
      "test\t anomalies 6\t values 1000\n",
      "train\t anomalies 7\t values 679\n",
      "\n",
      "\n",
      "TS23\t anomalies 4\t values 1680\t min -4003.40283911038\t max 1640.1463968649698\n",
      "test\t anomalies 2\t values 1000\n",
      "train\t anomalies 2\t values 679\n",
      "\n",
      "\n",
      "TS28\t anomalies 12\t values 1680\t min -1957.4611207451603\t max 1541.0699601089902\n",
      "test\t anomalies 5\t values 1000\n",
      "train\t anomalies 7\t values 679\n",
      "\n",
      "\n",
      "TS34\t anomalies 8\t values 1680\t min -185.108906391235\t max 177.582425559356\n",
      "test\t anomalies 6\t values 1000\n",
      "train\t anomalies 2\t values 679\n",
      "\n",
      "\n",
      "TS46\t anomalies 9\t values 1680\t min -2943.77484233587\t max 1579.6891717525\n",
      "test\t anomalies 4\t values 1000\n",
      "train\t anomalies 5\t values 679\n",
      "\n",
      "\n",
      "TS47\t anomalies 1\t values 1680\t min -3818.56391642459\t max 1555.7832791298401\n",
      "test\t anomalies 0\t values 1000\n",
      "train\t anomalies 1\t values 679\n",
      "\n",
      "\n"
     ]
    }
   ],
   "source": [
    "for entry in a4files:\n",
    "    ts_name = entry['name']\n",
    "    if ts_name in names_set_a4_s1:\n",
    "        file_path = entry['file_path']\n",
    "        df = load_data_frame(ts_name, file_path)\n",
    "        df = time_index_to_dt(df)\n",
    "        print(ts_name + \"\\t anomalies \" \n",
    "              + str(df.loc[df['class']==1].shape[0]) \n",
    "              + '\\t values ' + str(df.shape[0])\n",
    "              + '\\t min ' + str(df.loc[df['class']==0, 'value'].min()) \n",
    "              + '\\t max ' + str(df.loc[df['class']==0, 'value'].max()))\n",
    "        df_test = df.iloc[0:1000]\n",
    "        print('test' + \"\\t anomalies \" + str(df_test.loc[df_test['class']==1].shape[0]) + '\\t values ' + str(df_test.shape[0]))\n",
    "\n",
    "        df_train = df.iloc[1001:1680]\n",
    "        print('train' + \"\\t anomalies \" + str(df_train.loc[df_train['class']==1].shape[0]) + '\\t values ' + str(df_train.shape[0]))\n",
    "        print('\\n')\n",
    "        append_to_file(df_test, test_file_name_s1)\n",
    "        append_to_file(df_train, train_file_name_s1)"
   ]
  },
  {
   "cell_type": "code",
   "execution_count": null,
   "metadata": {},
   "outputs": [],
   "source": []
  }
 ],
 "metadata": {
  "kernelspec": {
   "display_name": "Django Shell-Plus",
   "language": "python",
   "name": "django_extensions"
  },
  "language_info": {
   "codemirror_mode": {
    "name": "ipython",
    "version": 3
   },
   "file_extension": ".py",
   "mimetype": "text/x-python",
   "name": "python",
   "nbconvert_exporter": "python",
   "pygments_lexer": "ipython3",
   "version": "3.7.8"
  }
 },
 "nbformat": 4,
 "nbformat_minor": 4
}
