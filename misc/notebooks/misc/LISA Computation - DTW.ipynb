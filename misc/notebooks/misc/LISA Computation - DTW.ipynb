{
 "cells": [
  {
   "cell_type": "code",
   "execution_count": 2,
   "metadata": {},
   "outputs": [],
   "source": [
    "import pandas as pd\n",
    "import numpy as np\n",
    "#from vadetisweb.anomaly_algorithms.detection import helper_functions\n",
    "from vadetisweb.anomaly_algorithms import *"
   ]
  },
  {
   "cell_type": "code",
   "execution_count": 3,
   "metadata": {},
   "outputs": [
    {
     "name": "stdout",
     "output_type": "stream",
     "text": [
      "   1   2   3\n",
      "0  4  10   6\n",
      "1  2   5   4\n",
      "2  2   4  10\n",
      "3  5   2   3\n",
      "4  9   6   1\n",
      "5  8   8   2\n",
      "6  3   9   8\n"
     ]
    }
   ],
   "source": [
    "X_1 = [4, 2, 2, 5, 9, 8, 3]\n",
    "X_2 = [10, 5, 4, 2, 6, 8, 9]\n",
    "X_3 = [6, 4, 10, 3, 1, 2, 8]\n",
    "\n",
    "df = pd.DataFrame({1 : X_1, 2: X_2, 3:X_3})\n",
    "print(df)"
   ]
  },
  {
   "cell_type": "code",
   "execution_count": 3,
   "metadata": {},
   "outputs": [
    {
     "name": "stdout",
     "output_type": "stream",
     "text": [
      "   1   2   3      mean\n",
      "0  4  10   6  6.666667\n",
      "1  2   5   4  3.666667\n",
      "2  2   4  10  5.333333\n",
      "3  5   2   3  3.333333\n",
      "4  9   6   1  5.333333\n",
      "5  8   8   2  6.000000\n",
      "6  3   9   8  6.666667\n"
     ]
    }
   ],
   "source": [
    "df_mean = df_copy_with_mean(df)\n",
    "print(df_mean)"
   ]
  },
  {
   "cell_type": "code",
   "execution_count": 4,
   "metadata": {},
   "outputs": [
    {
     "name": "stdout",
     "output_type": "stream",
     "text": [
      "1    9\n",
      "2    6\n",
      "3    1\n",
      "Name: 4, dtype: int64\n",
      "3.2998316455372216\n"
     ]
    }
   ],
   "source": [
    "df_part = df.loc[4]\n",
    "print(df_part)\n",
    "std_deviation_i = df_part.loc[[1,2,3]].std(skipna=True, level=None, ddof=0)\n",
    "print(std_deviation_i)"
   ]
  },
  {
   "cell_type": "code",
   "execution_count": 5,
   "metadata": {},
   "outputs": [
    {
     "name": "stdout",
     "output_type": "stream",
     "text": [
      "          1         3\n",
      "0       NaN       NaN\n",
      "1       NaN       NaN\n",
      "2       NaN       NaN\n",
      "3 -0.016323  0.166097\n",
      "4  0.323669 -0.226779\n",
      "5  0.653197 -0.379473\n",
      "6 -0.048877  0.432904\n"
     ]
    }
   ],
   "source": [
    "df_correlation = pearson(df, 2, window_size=4)\n",
    "print(df_correlation)"
   ]
  },
  {
   "cell_type": "code",
   "execution_count": 6,
   "metadata": {},
   "outputs": [],
   "source": [
    "X_1_part = [2, 2, 5, 9]\n",
    "X_2_part = [5, 4, 2, 6]\n",
    "X_3_part = [4, 10, 3, 1]"
   ]
  },
  {
   "cell_type": "code",
   "execution_count": 11,
   "metadata": {},
   "outputs": [
    {
     "name": "stdout",
     "output_type": "stream",
     "text": [
      "[[3. 3. 0. 4.]\n",
      " [2. 2. 1. 5.]\n",
      " [0. 0. 3. 7.]\n",
      " [4. 4. 1. 3.]]\n",
      "[[ 0. inf inf inf inf]\n",
      " [inf  3.  6.  6. 10.]\n",
      " [inf  5.  5.  6. 11.]\n",
      " [inf  5.  5.  8. 13.]\n",
      " [inf  9.  9.  6.  9.]]\n",
      "(array([0, 1, 2, 3, 3]), array([0, 0, 1, 2, 3]))\n"
     ]
    }
   ],
   "source": [
    "path = dtw(np.array(X_2_part), np.array(X_1_part), distance='euclidean')\n",
    "print(path)"
   ]
  },
  {
   "cell_type": "code",
   "execution_count": 13,
   "metadata": {},
   "outputs": [
    {
     "name": "stdout",
     "output_type": "stream",
     "text": [
      "[[1. 5. 2. 4.]\n",
      " [0. 6. 1. 3.]\n",
      " [2. 8. 1. 1.]\n",
      " [2. 4. 3. 5.]]\n",
      "[[ 0. inf inf inf inf]\n",
      " [inf  1.  6.  8. 12.]\n",
      " [inf  1.  7.  7. 10.]\n",
      " [inf  3.  9.  8.  8.]\n",
      " [inf  5.  7. 10. 13.]]\n",
      "(array([0, 1, 2, 3]), array([0, 1, 2, 3]))\n"
     ]
    }
   ],
   "source": [
    "path = dtw(np.array(X_2_part), np.array(X_3_part), distance='euclidean')\n",
    "print(path)"
   ]
  },
  {
   "cell_type": "code",
   "execution_count": 4,
   "metadata": {},
   "outputs": [
    {
     "name": "stdout",
     "output_type": "stream",
     "text": [
      "            1   2   3\n",
      "2012-01-01  4  10   6\n",
      "2012-01-02  2   5   4\n",
      "2012-01-03  2   4  10\n",
      "2012-01-04  5   2   3\n",
      "2012-01-05  9   6   1\n",
      "2012-01-06  8   8   2\n",
      "2012-01-07  3   9   8\n"
     ]
    }
   ],
   "source": [
    "df = df.set_index(pd.date_range('2012-01-01', periods=7))\n",
    "print(df)"
   ]
  },
  {
   "cell_type": "code",
   "execution_count": 5,
   "metadata": {},
   "outputs": [
    {
     "name": "stdout",
     "output_type": "stream",
     "text": [
      "            1   2   3      mean\n",
      "2012-01-01  4  10   6  6.666667\n",
      "2012-01-02  2   5   4  3.666667\n",
      "2012-01-03  2   4  10  5.333333\n",
      "2012-01-04  5   2   3  3.333333\n",
      "2012-01-05  9   6   1  5.333333\n",
      "2012-01-06  8   8   2  6.000000\n",
      "2012-01-07  3   9   8  6.666667\n"
     ]
    }
   ],
   "source": [
    "df_mean = df_copy_with_mean(df)\n",
    "print(df_mean)"
   ]
  },
  {
   "cell_type": "code",
   "execution_count": 6,
   "metadata": {},
   "outputs": [
    {
     "name": "stdout",
     "output_type": "stream",
     "text": [
      "[[6. 8. 8. 5.]\n",
      " [1. 3. 3. 0.]\n",
      " [0. 2. 2. 1.]\n",
      " [2. 0. 0. 3.]]\n",
      "[[ 0. inf inf inf inf]\n",
      " [inf  6. 14. 22. 27.]\n",
      " [inf  7.  9. 12. 12.]\n",
      " [inf  7.  9. 11. 12.]\n",
      " [inf  9.  7.  7. 10.]]\n",
      "[[4. 6. 0. 7.]\n",
      " [1. 1. 5. 2.]\n",
      " [2. 0. 6. 1.]\n",
      " [4. 2. 8. 1.]]\n",
      "[[ 0. inf inf inf inf]\n",
      " [inf  4. 10. 10. 17.]\n",
      " [inf  5.  5. 10. 12.]\n",
      " [inf  7.  5. 11. 11.]\n",
      " [inf 11.  7. 13. 12.]]\n",
      "[[3. 3. 0. 4.]\n",
      " [2. 2. 1. 5.]\n",
      " [0. 0. 3. 7.]\n",
      " [4. 4. 1. 3.]]\n",
      "[[ 0. inf inf inf inf]\n",
      " [inf  3.  6.  6. 10.]\n",
      " [inf  5.  5.  6. 11.]\n",
      " [inf  5.  5.  8. 13.]\n",
      " [inf  9.  9.  6.  9.]]\n",
      "[[1. 5. 2. 4.]\n",
      " [0. 6. 1. 3.]\n",
      " [2. 8. 1. 1.]\n",
      " [2. 4. 3. 5.]]\n",
      "[[ 0. inf inf inf inf]\n",
      " [inf  1.  6.  8. 12.]\n",
      " [inf  1.  7.  7. 10.]\n",
      " [inf  3.  9.  8.  8.]\n",
      " [inf  5.  7. 10. 13.]]\n",
      "[[2. 1. 5. 4.]\n",
      " [0. 3. 7. 6.]\n",
      " [4. 1. 3. 2.]\n",
      " [6. 3. 1. 0.]]\n",
      "[[ 0. inf inf inf inf]\n",
      " [inf  2.  3.  8. 12.]\n",
      " [inf  2.  5. 10. 14.]\n",
      " [inf  6.  3.  6.  8.]\n",
      " [inf 12.  6.  4.  4.]]\n",
      "[[6. 1. 3. 2.]\n",
      " [8. 1. 1. 0.]\n",
      " [4. 3. 5. 4.]\n",
      " [2. 5. 7. 6.]]\n",
      "[[ 0. inf inf inf inf]\n",
      " [inf  6.  7. 10. 12.]\n",
      " [inf 14.  7.  8.  8.]\n",
      " [inf 18. 10. 12. 12.]\n",
      " [inf 20. 15. 17. 18.]]\n",
      "[[3. 7. 6. 1.]\n",
      " [1. 3. 2. 3.]\n",
      " [3. 1. 0. 5.]\n",
      " [4. 0. 1. 6.]]\n",
      "[[ 0. inf inf inf inf]\n",
      " [inf  3. 10. 16. 17.]\n",
      " [inf  4.  6.  8. 11.]\n",
      " [inf  7.  5.  5. 10.]\n",
      " [inf 11.  5.  6. 11.]]\n",
      "[[1. 1. 0. 6.]\n",
      " [3. 5. 4. 2.]\n",
      " [5. 7. 6. 0.]\n",
      " [6. 8. 7. 1.]]\n",
      "[[ 0. inf inf inf inf]\n",
      " [inf  1.  2.  2.  8.]\n",
      " [inf  4.  6.  6.  4.]\n",
      " [inf  9. 11. 12.  4.]\n",
      " [inf 15. 17. 18.  5.]]\n",
      "                   1         3\n",
      "2012-01-01       NaN       NaN\n",
      "2012-01-02       NaN       NaN\n",
      "2012-01-03       NaN       NaN\n",
      "2012-01-04  0.339644  0.166097\n",
      "2012-01-05  0.678621 -0.226779\n",
      "2012-01-06  0.949596 -0.379473\n",
      "2012-01-07   0.18272   0.93761\n"
     ]
    }
   ],
   "source": [
    "df_correlation = dtw_pearson(df, 2, 'euclidean', window_size=4)\n",
    "print(df_correlation)"
   ]
  },
  {
   "cell_type": "code",
   "execution_count": 7,
   "metadata": {},
   "outputs": [
    {
     "name": "stdout",
     "output_type": "stream",
     "text": [
      "                   2\n",
      "2012-01-01       NaN\n",
      "2012-01-02       NaN\n",
      "2012-01-03       NaN\n",
      "2012-01-04 -0.437750\n",
      "2012-01-05  0.212509\n",
      "2012-01-06  0.854271\n",
      "2012-01-07  0.196510\n"
     ]
    }
   ],
   "source": [
    "df_results = df_lisa_time_series(2, df_mean, df_correlation)\n",
    "print(df_results)"
   ]
  },
  {
   "cell_type": "code",
   "execution_count": 16,
   "metadata": {},
   "outputs": [
    {
     "name": "stdout",
     "output_type": "stream",
     "text": [
      "            1   2   3\n",
      "2012-01-01  4  10   6\n",
      "2012-01-02  2   5   4\n",
      "2012-01-03  2   4  10\n",
      "2012-01-04  5   2   3\n",
      "2012-01-05  9   6   1\n",
      "2012-01-06  8   8   2\n",
      "2012-01-07  3   9   8\n",
      "[[6. 8. 8. 5.]\n",
      " [1. 3. 3. 0.]\n",
      " [0. 2. 2. 1.]\n",
      " [2. 0. 0. 3.]]\n",
      "[[ 0. inf inf inf inf]\n",
      " [inf  6. 14. 22. 27.]\n",
      " [inf  7.  9. 12. 12.]\n",
      " [inf  7.  9. 11. 12.]\n",
      " [inf  9.  7.  7. 10.]]\n",
      "[[4. 6. 0. 7.]\n",
      " [1. 1. 5. 2.]\n",
      " [2. 0. 6. 1.]\n",
      " [4. 2. 8. 1.]]\n",
      "[[ 0. inf inf inf inf]\n",
      " [inf  4. 10. 10. 17.]\n",
      " [inf  5.  5. 10. 12.]\n",
      " [inf  7.  5. 11. 11.]\n",
      " [inf 11.  7. 13. 12.]]\n",
      "[[3. 3. 0. 4.]\n",
      " [2. 2. 1. 5.]\n",
      " [0. 0. 3. 7.]\n",
      " [4. 4. 1. 3.]]\n",
      "[[ 0. inf inf inf inf]\n",
      " [inf  3.  6.  6. 10.]\n",
      " [inf  5.  5.  6. 11.]\n",
      " [inf  5.  5.  8. 13.]\n",
      " [inf  9.  9.  6.  9.]]\n",
      "[[1. 5. 2. 4.]\n",
      " [0. 6. 1. 3.]\n",
      " [2. 8. 1. 1.]\n",
      " [2. 4. 3. 5.]]\n",
      "[[ 0. inf inf inf inf]\n",
      " [inf  1.  6.  8. 12.]\n",
      " [inf  1.  7.  7. 10.]\n",
      " [inf  3.  9.  8.  8.]\n",
      " [inf  5.  7. 10. 13.]]\n",
      "[[2. 1. 5. 4.]\n",
      " [0. 3. 7. 6.]\n",
      " [4. 1. 3. 2.]\n",
      " [6. 3. 1. 0.]]\n",
      "[[ 0. inf inf inf inf]\n",
      " [inf  2.  3.  8. 12.]\n",
      " [inf  2.  5. 10. 14.]\n",
      " [inf  6.  3.  6.  8.]\n",
      " [inf 12.  6.  4.  4.]]\n",
      "[[6. 1. 3. 2.]\n",
      " [8. 1. 1. 0.]\n",
      " [4. 3. 5. 4.]\n",
      " [2. 5. 7. 6.]]\n",
      "[[ 0. inf inf inf inf]\n",
      " [inf  6.  7. 10. 12.]\n",
      " [inf 14.  7.  8.  8.]\n",
      " [inf 18. 10. 12. 12.]\n",
      " [inf 20. 15. 17. 18.]]\n",
      "[[3. 7. 6. 1.]\n",
      " [1. 3. 2. 3.]\n",
      " [3. 1. 0. 5.]\n",
      " [4. 0. 1. 6.]]\n",
      "[[ 0. inf inf inf inf]\n",
      " [inf  3. 10. 16. 17.]\n",
      " [inf  4.  6.  8. 11.]\n",
      " [inf  7.  5.  5. 10.]\n",
      " [inf 11.  5.  6. 11.]]\n",
      "[[1. 1. 0. 6.]\n",
      " [3. 5. 4. 2.]\n",
      " [5. 7. 6. 0.]\n",
      " [6. 8. 7. 1.]]\n",
      "[[ 0. inf inf inf inf]\n",
      " [inf  1.  2.  2.  8.]\n",
      " [inf  4.  6.  6.  4.]\n",
      " [inf  9. 11. 12.  4.]\n",
      " [inf 15. 17. 18.  5.]]\n",
      "                   2\n",
      "2012-01-01       NaN\n",
      "2012-01-02       NaN\n",
      "2012-01-03       NaN\n",
      "2012-01-04 -0.437750\n",
      "2012-01-05  0.092178\n",
      "2012-01-06  0.095324\n",
      "2012-01-07  0.196510\n"
     ]
    }
   ],
   "source": [
    "df = df.set_index(pd.date_range('2012-01-01', periods=7))\n",
    "print(df)\n",
    "df_mean = df_copy_with_mean(df)\n",
    "df_correlation = dtw_pearson(df, 2, 'euclidean', window_size=4)\n",
    "df_results = df_lisa_time_series(2, df_mean, df_correlation)\n",
    "print(df_results)"
   ]
  },
  {
   "cell_type": "code",
   "execution_count": null,
   "metadata": {},
   "outputs": [],
   "source": []
  }
 ],
 "metadata": {
  "kernelspec": {
   "display_name": "Django Shell-Plus",
   "language": "python",
   "name": "django_extensions"
  },
  "language_info": {
   "codemirror_mode": {
    "name": "ipython",
    "version": 3
   },
   "file_extension": ".py",
   "mimetype": "text/x-python",
   "name": "python",
   "nbconvert_exporter": "python",
   "pygments_lexer": "ipython3",
   "version": "3.7.8"
  }
 },
 "nbformat": 4,
 "nbformat_minor": 4
}
