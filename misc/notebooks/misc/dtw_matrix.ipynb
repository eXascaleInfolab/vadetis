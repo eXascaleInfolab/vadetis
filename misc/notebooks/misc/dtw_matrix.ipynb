{
 "cells": [
  {
   "cell_type": "code",
   "execution_count": 1,
   "metadata": {
    "collapsed": true
   },
   "outputs": [],
   "source": [
    "#from lisa.utils import *\n",
    "from lisa.library import *\n",
    "import lisa.models\n",
    "import numpy as np, pandas as pd, datetime, pytz\n",
    "import matplotlib.pyplot as plt\n",
    "from matplotlib.pyplot import *"
   ]
  },
  {
   "cell_type": "code",
   "execution_count": 2,
   "metadata": {
    "collapsed": true
   },
   "outputs": [],
   "source": [
    "import matplotlib\n",
    "from matplotlib.pyplot import cm\n",
    "import matplotlib.patches as mpatches\n",
    "import matplotlib.colors as colors\n",
    "from matplotlib.ticker import NullFormatter, FormatStrFormatter\n",
    "matplotlib.style.use('ggplot')\n",
    "#%matplotlib inline"
   ]
  },
  {
   "cell_type": "code",
   "execution_count": 3,
   "metadata": {
    "collapsed": true
   },
   "outputs": [],
   "source": [
    "from numpy import array, zeros, argmin, inf, equal, ndim\n",
    "from scipy.spatial.distance import cdist\n",
    "\n",
    "def fastdtw(x, y, dist):\n",
    "    assert len(x)\n",
    "    assert len(y)\n",
    "    if ndim(x)==1:\n",
    "        x = x.reshape(-1,1)\n",
    "    if ndim(y)==1:\n",
    "        y = y.reshape(-1,1)\n",
    "    r, c = len(x), len(y)\n",
    "    D0 = zeros((r + 1, c + 1))\n",
    "    D0[0, 1:] = inf\n",
    "    D0[1:, 0] = inf\n",
    "    D1 = D0[1:, 1:]\n",
    "    D0[1:,1:] = cdist(x,y,dist)\n",
    "    C = D1.copy()\n",
    "    for i in range(r):\n",
    "        for j in range(c):\n",
    "            D1[i, j] += min(D0[i, j], D0[i, j+1], D0[i+1, j])\n",
    "    if len(x)==1:\n",
    "        path = zeros(len(y)), range(len(y))\n",
    "    elif len(y) == 1:\n",
    "        path = range(len(x)), zeros(len(x))\n",
    "    else:\n",
    "        path = _traceback(D0)\n",
    "    return D1[-1, -1] / sum(D1.shape), C, D1, path\n",
    "\n",
    "def _traceback(D):\n",
    "    i, j = array(D.shape) - 2\n",
    "    p, q = [i], [j]\n",
    "    while ((i > 0) or (j > 0)):\n",
    "        tb = argmin((D[i, j], D[i, j+1], D[i+1, j]))\n",
    "        if (tb == 0):\n",
    "            i -= 1\n",
    "            j -= 1\n",
    "        elif (tb == 1):\n",
    "            i -= 1\n",
    "        else: # (tb == 2):\n",
    "            j -= 1\n",
    "        p.insert(0, i)\n",
    "        q.insert(0, j)\n",
    "    return array(p), array(q)"
   ]
  },
  {
   "cell_type": "code",
   "execution_count": 4,
   "metadata": {},
   "outputs": [
    {
     "name": "stdout",
     "output_type": "stream",
     "text": [
      "(array([ 0,  1,  2,  3,  4,  4,  4,  4,  5,  6,  7,  8,  9, 10, 11]), array([0, 0, 1, 2, 3, 4, 5, 6, 7, 8, 8, 8, 8, 8, 9]))\n"
     ]
    }
   ],
   "source": [
    "# the random data\n",
    "x = np.array([0, 0, 1, 1, 2, 4, 2, 1, 2, 1, 1, 0])\n",
    "y = np.array([1, 2, 1, 3, 2, 2, 2, 4, 2, 0])\n",
    "dist, cost, acc, path = fastdtw(x, y, 'euclidean')\n",
    "print(path)"
   ]
  },
  {
   "cell_type": "code",
   "execution_count": 5,
   "metadata": {},
   "outputs": [
    {
     "name": "stdout",
     "output_type": "stream",
     "text": [
      "Populating the interactive namespace from numpy and matplotlib\n"
     ]
    },
    {
     "name": "stderr",
     "output_type": "stream",
     "text": [
      "/usr/local/lib/python3.6/site-packages/IPython/core/magics/pylab.py:160: UserWarning: pylab import has clobbered these variables: ['sqrt', 'radians', 'dist', 'hypot', 'sin', 'colors', 'histogram', 'draw_if_interactive', 'cos']\n",
      "`%matplotlib` prevents importing * from pylab and numpy\n",
      "  \"\\n`%matplotlib` prevents importing * from pylab and numpy\"\n"
     ]
    },
    {
     "data": {
      "text/plain": [
       "[<matplotlib.lines.Line2D at 0x114e26ba8>]"
      ]
     },
     "execution_count": 5,
     "metadata": {},
     "output_type": "execute_result"
    },
    {
     "data": {
      "image/png": "[encoded data removed]",
      "text/plain": [
       "<matplotlib.figure.Figure at 0x114d240b8>"
      ]
     },
     "metadata": {},
     "output_type": "display_data"
    }
   ],
   "source": [
    "%pylab inline\n",
    "imshow(acc.T, origin='lower', cmap=cm.gray, interpolation='nearest')\n",
    "matrix = numpy.zeros(shape=(10,12)) \n",
    "#im = plt.imshow(matrix, origin='lower', cmap=cm.gray, interpolation='nearest')\n",
    "\n",
    "plot(path[0], path[1], 'w')\n",
    "\n",
    "\n",
    "\n",
    "#plt.colorbar()\n",
    "#plot(path[0], path[1], 'b')\n",
    "\n",
    "#xlim((0, matrix.shape[1]))\n",
    "#ylim((0, matrix.shape[0]))"
   ]
  },
  {
   "cell_type": "code",
   "execution_count": 6,
   "metadata": {
    "scrolled": true
   },
   "outputs": [
    {
     "data": {
      "image/png": "[encoded data removed]",
      "text/plain": [
       "<matplotlib.figure.Figure at 0x114dde860>"
      ]
     },
     "metadata": {},
     "output_type": "display_data"
    }
   ],
   "source": [
    "bpath = [np.array([0,1,2,2,2,3,4,5,5]), np.array([1,2,2,3,4,5,5,6,7])] #boundary\n",
    "bpath = [np.array([0,1,2,2,2,3,4,5,5,6]), np.array([0,1,2,3,4,5,4,5,6,7])] #condition\n",
    "bpath = [np.array([0,0,1,2,5,5,6]), np.array([0,1,2,2,5,6,7])] #step size\n",
    "#bpath = [np.array([0,1,2,3,4,4,5,5,6]), np.array([0,1,1,2,3,4,5,6,7])] #valid\n",
    "\n",
    "\n",
    "len_y = 8\n",
    "len_x = 7\n",
    "matrix = np.zeros((len_y,len_x))\n",
    "labelsx = np.arange(len_x)+1\n",
    "labelsy = np.arange(len_y)+1\n",
    "\n",
    "fig, ax = plt.subplots()\n",
    "im = ax.pcolor(matrix, edgecolor='black', linestyle='-', cmap='Greys')\n",
    "plot(bpath[0]+0.5, bpath[1]+0.5, 'black', marker=\"o\")\n",
    "\n",
    "# Shift ticks to be at 0.5, 1.5, etc\n",
    "\n",
    "ax.xaxis.set(ticks=np.arange(0.5, len(labelsx)), ticklabels=labelsx)\n",
    "ax.yaxis.set(ticks=np.arange(0.5, len(labelsy)), ticklabels=labelsy)\n",
    "\n",
    "plt.savefig('/Users/adrian/Uni/MasterThesis/Stuff/figures/path_step_size.eps', format='eps', dpi=1000)\n",
    "#plt.show()"
   ]
  },
  {
   "cell_type": "code",
   "execution_count": 7,
   "metadata": {},
   "outputs": [
    {
     "data": {
      "image/png": "[encoded data removed]",
      "text/plain": [
       "<matplotlib.figure.Figure at 0x11175ee80>"
      ]
     },
     "metadata": {},
     "output_type": "display_data"
    }
   ],
   "source": [
    "data = np.random.random((10,10))\n",
    "labels = 'abcdefghij'\n",
    "\n",
    "fig, ax = plt.subplots()\n",
    "im = ax.pcolor(data, cmap='gray', edgecolor='black', linestyle=':', lw=1)\n",
    "fig.colorbar(im)\n",
    "\n",
    "# Shift ticks to be at 0.5, 1.5, etc\n",
    "for axis in [ax.xaxis, ax.yaxis]:\n",
    "    axis.set(ticks=np.arange(0.5, len(labels)), ticklabels=labels)\n",
    "\n",
    "plt.show()\n"
   ]
  },
  {
   "cell_type": "code",
   "execution_count": 8,
   "metadata": {},
   "outputs": [
    {
     "data": {
      "text/plain": [
       "(-0.5, 9.5)"
      ]
     },
     "execution_count": 8,
     "metadata": {},
     "output_type": "execute_result"
    },
    {
     "data": {
      "image/png": "[encoded data removed]",
      "text/plain": [
       "<matplotlib.figure.Figure at 0x114e3b5c0>"
      ]
     },
     "metadata": {},
     "output_type": "display_data"
    }
   ],
   "source": [
    "imshow(acc.T, origin='lower', cmap=cm.gray, interpolation='nearest')\n",
    "plot(path[0], path[1], 'w')\n",
    "xlim((-0.5, acc.shape[0]-0.5))\n",
    "ylim((-0.5, acc.shape[1]-0.5))"
   ]
  },
  {
   "cell_type": "code",
   "execution_count": 5,
   "metadata": {
    "collapsed": true
   },
   "outputs": [],
   "source": [
    "import os\n",
    "os.environ['PATH'] = os.environ['PATH'] + ':/Library/TeX/texbin' \n",
    "\n",
    "from matplotlib import rc\n",
    "rc('font',**{'family':'sans-serif','sans-serif':['Helvetica']})\n",
    "## for Palatino and other serif fonts use:\n",
    "#rc('font',**{'family':'serif','serif':['Palatino']})\n",
    "rc('text', usetex=True)\n",
    "\n",
    "#matplotlib.rcParams['text.usetex']=True\n",
    "#matplotlib.rcParams['text.latex.unicode']=True\n",
    "\n",
    "plt.rc('text', usetex=True)\n",
    "plt.rc('font', family='serif')"
   ]
  },
  {
   "cell_type": "code",
   "execution_count": 6,
   "metadata": {},
   "outputs": [
    {
     "data": {
      "text/plain": [
       "(-0.5, 9.5)"
      ]
     },
     "execution_count": 6,
     "metadata": {},
     "output_type": "execute_result"
    }
   ],
   "source": [
    "nullfmt = NullFormatter()\n",
    "\n",
    "# definitions for the axes\n",
    "#left, width = 0.12, 0.50\n",
    "#bottom, height = 0.08, 0.50\n",
    "#bottom_h =  0.16 + width \n",
    "#left_h = left + 0.27 \n",
    "left, width = 0.04, 0.55\n",
    "bottom, height = 0.08, 0.55\n",
    "bottom_h =  0.16 + width \n",
    "left_h = left + 0.26\n",
    "rect_plot = [left_h, bottom, width, height]\n",
    "rect_x = [left_h, bottom_h-0.06, width, 0.2]\n",
    "rect_y = [left, bottom+0.045, 0.2, height-0.09125]\n",
    "\n",
    "# start with a rectangular Figure\n",
    "fig = plt.figure(2, figsize=(8, 8))\n",
    "\n",
    "axplot = plt.axes(rect_plot)\n",
    "axx = plt.axes(rect_x)\n",
    "axy = plt.axes(rect_y)\n",
    "\n",
    "# Plot the matrix\n",
    "#axplot.pcolor(acc.T,cmap=cm.gray)\n",
    "#axplot.plot(path[0], path[1], 'w')\n",
    "#axplot.set_xlim((0, len(x)))\n",
    "#axplot.set_ylim((0, len(y)))\n",
    "#axplot.tick_params(axis='both', which='major', labelsize=12)\n",
    "\n",
    "im = axplot.imshow(acc.T, origin='lower', cmap=cm.gray, interpolation='nearest')\n",
    "cbaxes = plt.axes([left_h+width+0.06, bottom+0.045, 0.05, height-0.09125]) \n",
    "#cbaxes = [left_h+width+0.07, bottom+0.05, 0.05, height-0.1]\n",
    "cb = plt.colorbar(im, cax=cbaxes)\n",
    "cb.outline.set_edgecolor('#000000')\n",
    "\n",
    "axplot.tick_params(axis='both', which='major', labelsize=14)\n",
    "#axplot.set_xticks([1,3,5,7,9,11])\n",
    "\n",
    "axplot_xlabels = [int(i+1) for i in axplot.get_xticks()]\n",
    "axplot.set_xticklabels(axplot_xlabels)\n",
    "axplot_ylabels = [int(i+1) for i in axplot.get_yticks()]\n",
    "axplot.set_yticklabels(axplot_ylabels)\n",
    "\n",
    "axplot.plot(path[0], path[1], 'w')\n",
    "\n",
    "for spine in ['left','right','top','bottom']:\n",
    "    axplot.spines[spine].set_color('#000000')\n",
    "\n",
    "for line in axplot.get_xgridlines():\n",
    "    line.set_alpha(0)\n",
    "    \n",
    "for line in axplot.get_ygridlines():\n",
    "    line.set_alpha(0)\n",
    "    \n",
    "# Plot time serie horizontal\n",
    "axx.plot(x, color='#db0f4e', label='X')\n",
    "axx.tick_params(axis='both', which='major', labelsize=14)\n",
    "#xloc = plt.MaxNLocator(4)\n",
    "#x2Formatter = FormatStrFormatter('%d')\n",
    "#axx.yaxis.set_major_locator(xloc)\n",
    "#axx.yaxis.set_major_formatter(x2Formatter)\n",
    "\n",
    "axx.set_xticklabels([-1,1,3,5,7,9,11,13])\n",
    "\n",
    "font = {'size': 16}\n",
    "axx.set_ylabel(r'$Y$', rotation=0, labelpad=15, fontdict=font, va='top')\n",
    "\n",
    "for spine in ['left','right','top','bottom']:\n",
    "    axx.spines[spine].set_color('#000000')   \n",
    "    \n",
    "\n",
    "    \n",
    "# Plot time serie vertical\n",
    "axy.plot(y-1,[0,1,2,3,4,5,6,7,8,9], color='#1f77b4')\n",
    "\n",
    "axy_xlabels = [int(i+1) for i in axy.get_xticks()]\n",
    "axy.set_xticklabels(axy_xlabels, fontdict={'size':14})\n",
    "\n",
    "axy.invert_xaxis()\n",
    "#yloc = plt.MaxNLocator(4)\n",
    "#xFormatter = FormatStrFormatter('%d')\n",
    "#axy.xaxis.set_major_locator(yloc)\n",
    "#axy.xaxis.set_major_formatter(xFormatter)\n",
    "#axy.tick_params(axis='both', which='major', labelsize=14)\n",
    "axy.set_xlabel(r'$X$', fontdict=font)\n",
    "axy.set_yticklabels([-1,1,3,5,7,9,11], fontdict={'size':14})\n",
    "\n",
    "for spine in ['left','right','top','bottom']:\n",
    "    axy.spines[spine].set_color('#000000')    \n",
    "    \n",
    "#Limits\n",
    "axx.set_xlim(axplot.get_xlim())\n",
    "axy.set_ylim(axplot.get_ylim())"
   ]
  },
  {
   "cell_type": "code",
   "execution_count": 8,
   "metadata": {
    "collapsed": true
   },
   "outputs": [],
   "source": [
    "#plt.figure()\n",
    "#cum_data.plot()"
   ]
  },
  {
   "cell_type": "code",
   "execution_count": 7,
   "metadata": {
    "collapsed": true
   },
   "outputs": [],
   "source": [
    "plt.savefig('/Users/adrian/Uni/MasterThesis/Stuff/figures/dtw-matrix-acc-corr.eps', format='eps', dpi=1000)"
   ]
  },
  {
   "cell_type": "code",
   "execution_count": null,
   "metadata": {
    "collapsed": true
   },
   "outputs": [],
   "source": []
  }
 ],
 "metadata": {
  "kernelspec": {
   "display_name": "Django Shell-Plus",
   "language": "python",
   "name": "django_extensions"
  },
  "language_info": {
   "codemirror_mode": {
    "name": "ipython",
    "version": 3
   },
   "file_extension": ".py",
   "mimetype": "text/x-python",
   "name": "python",
   "nbconvert_exporter": "python",
   "pygments_lexer": "ipython3",
   "version": "3.6.2"
  }
 },
 "nbformat": 4,
 "nbformat_minor": 2
}
