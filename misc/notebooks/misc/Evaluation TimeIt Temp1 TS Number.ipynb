{
 "cells": [
  {
   "cell_type": "code",
   "execution_count": 1,
   "metadata": {},
   "outputs": [],
   "source": [
    "from vadetisweb.anomaly_algorithms.detection.cluster import cluster_gaussian_mixture\n",
    "from vadetisweb.anomaly_algorithms.detection.histogram import histogram\n",
    "from vadetisweb.anomaly_algorithms.detection.svm import svm\n",
    "from vadetisweb.anomaly_algorithms.detection.isolation_forest import isolation_forest\n",
    "from vadetisweb.anomaly_algorithms.detection.lisa import lisa_pearson, lisa_dtw, lisa_geo\n",
    "from vadetisweb.anomaly_algorithms.detection.robust_pca import robust_pca_huber_loss\n",
    "from vadetisweb.models import DataSet, TimeSeries"
   ]
  },
  {
   "cell_type": "code",
   "execution_count": 1,
   "metadata": {},
   "outputs": [],
   "source": [
    "import numpy as np\n",
    "import matplotlib\n",
    "import matplotlib.pyplot as plt"
   ]
  },
  {
   "cell_type": "code",
   "execution_count": 3,
   "metadata": {},
   "outputs": [],
   "source": [
    "#input\n",
    "\"\"\"def get_dataset(title, ts_name=None):\n",
    "    ts_id = None\n",
    "    dataset = DataSet.objects.filter(title=title).first()\n",
    "    training_dataset = dataset.training_dataset.all().first()\n",
    "    if ts_name is not None:\n",
    "        ts_id = dataset.timeseries_set.all().filter(name=ts_name).first().id\n",
    "\n",
    "    return dataset, training_dataset, ts_id\"\"\"\n",
    "#input\n",
    "def get_dataset(title):\n",
    "    dataset = DataSet.objects.filter(title=title).first()\n",
    "    training_dataset = dataset.training_dataset.all().first()\n",
    "    return dataset, training_dataset\n",
    "\n",
    "def get_ts_ids(dataset, ts_names):\n",
    "    ts_ids = []\n",
    "    time_series = dataset.timeseries_set.all()\n",
    "    for ts in time_series:\n",
    "        if ts.name in ts_names:\n",
    "            ts_ids.append(ts.id)\n",
    "            \n",
    "    return ts_ids\n",
    "\n",
    "def get_lisa_detection_ts_id(dataset, ts_name):\n",
    "    time_series = dataset.timeseries_set.all()\n",
    "    for ts in time_series:\n",
    "        if ts.name == ts_name:\n",
    "            return ts.id\n",
    "    return None"
   ]
  },
  {
   "cell_type": "code",
   "execution_count": 4,
   "metadata": {},
   "outputs": [],
   "source": [
    "def lisa_pearson_detection_time_it(df, df_class, time_series_id, maximize_score='F1-Score', window_size=10):\n",
    "    result = %timeit -o lisa_pearson(df, df_class, time_series_id, maximize_score=maximize_score, window_size=window_size)\n",
    "    return result"
   ]
  },
  {
   "cell_type": "code",
   "execution_count": 5,
   "metadata": {},
   "outputs": [],
   "source": [
    "def lisa_dtw_detection_time_it(df, df_class, time_series_id, maximize_score='F1-Score', window_size=10):\n",
    "    result = %timeit -o lisa_dtw(df, df_class, time_series_id, maximize_score=maximize_score, window_size=window_size, distance_function='euclidean')\n",
    "    return result"
   ]
  },
  {
   "cell_type": "code",
   "execution_count": 6,
   "metadata": {},
   "outputs": [],
   "source": [
    "def lisa_geo_detection_time_it(df, df_class, time_series_id, maximize_score='F1-Score'):\n",
    "    result = %timeit -o lisa_geo(df, df_class, time_series_id, maximize_score=maximize_score)\n",
    "    return result"
   ]
  },
  {
   "cell_type": "code",
   "execution_count": 7,
   "metadata": {},
   "outputs": [],
   "source": [
    "def rpca_detection_time_it(df, df_class, df_train, df_train_class, delta=1, n_components=2, maximize_score='F1-Score', train_size=0.5):\n",
    "    result = %timeit -o robust_pca_huber_loss(df, df_class, df_train, df_train_class, delta=delta, n_components=n_components, maximize_score=maximize_score, train_size=train_size)\n",
    "    return result"
   ]
  },
  {
   "cell_type": "code",
   "execution_count": 8,
   "metadata": {},
   "outputs": [],
   "source": [
    "def histogram_detection_time_it(df, df_class, df_train, df_train_class, maximize_score='F1-Score', train_size=0.5):\n",
    "    result = %timeit -o histogram(df, df_class, df_train, df_train_class, maximize_score=maximize_score, train_size=train_size)\n",
    "    return result"
   ]
  },
  {
   "cell_type": "code",
   "execution_count": 9,
   "metadata": {},
   "outputs": [],
   "source": [
    "def cluster_detection_time_it(df, df_class, df_train, df_train_class, maximize_score='F1-Score', n_components=3, n_init=3, train_size=0.5):\n",
    "    result = %timeit -o cluster_gaussian_mixture(df, df_class, df_train, df_train_class, maximize_score=maximize_score, n_components=n_components, n_init=n_init, train_size=train_size)\n",
    "    return result"
   ]
  },
  {
   "cell_type": "code",
   "execution_count": 10,
   "metadata": {},
   "outputs": [],
   "source": [
    "def svm_detection_time_it(df, df_class, df_train, df_train_class, maximize_score='F1-Score', nu=0.95, kernel='rbf', train_size=0.5):\n",
    "    result = %timeit -o svm(df, df_class, df_train, df_train_class, maximize_score=maximize_score, nu=nu, kernel=kernel, train_size=train_size)\n",
    "    return result"
   ]
  },
  {
   "cell_type": "code",
   "execution_count": 11,
   "metadata": {},
   "outputs": [],
   "source": [
    "def isolation_forest_detection_time_it(df, df_class, df_train, df_train_class, maximize_score='F1-Score', n_jobs=-1, bootstrap=False, n_estimators=40, train_size=0.5):\n",
    "    result = %timeit -o isolation_forest(df, df_class, df_train, df_train_class, maximize_score=maximize_score, n_jobs=n_jobs, bootstrap=bootstrap, n_estimators=n_estimators, train_size=train_size)\n",
    "    return result"
   ]
  },
  {
   "cell_type": "code",
   "execution_count": 5,
   "metadata": {},
   "outputs": [],
   "source": [
    "# Temp1 Single - TS NUMBER\n",
    "dataset_name = 'Idaweb Swiss Temperature TS14'\n",
    "ts_names = ['REH', 'KLO', 'SHA', 'NABZUE', 'SMA', 'WYN', 'WAE', 'SAG', 'SRS', 'THU', 'VAD', 'RUE', 'HAI', 'VLS']\n",
    "ts_name_lisa = 'REH'\n",
    "dimensions = [2, 3, 4, 5, 6, 7, 8, 9, 10, 11, 12, 13, 14]"
   ]
  },
  {
   "cell_type": "code",
   "execution_count": 13,
   "metadata": {},
   "outputs": [
    {
     "name": "stdout",
     "output_type": "stream",
     "text": [
      "2.65 s ± 41.5 ms per loop (mean ± std. dev. of 7 runs, 1 loop each)\n",
      "2.57 s ± 5.19 ms per loop (mean ± std. dev. of 7 runs, 1 loop each)\n",
      "2.64 s ± 50 ms per loop (mean ± std. dev. of 7 runs, 1 loop each)\n",
      "2.67 s ± 56.8 ms per loop (mean ± std. dev. of 7 runs, 1 loop each)\n",
      "2.65 s ± 61 ms per loop (mean ± std. dev. of 7 runs, 1 loop each)\n",
      "2.6 s ± 32.8 ms per loop (mean ± std. dev. of 7 runs, 1 loop each)\n",
      "2.66 s ± 2.61 ms per loop (mean ± std. dev. of 7 runs, 1 loop each)\n",
      "2.68 s ± 1.5 ms per loop (mean ± std. dev. of 7 runs, 1 loop each)\n",
      "2.7 s ± 1.57 ms per loop (mean ± std. dev. of 7 runs, 1 loop each)\n",
      "2.75 s ± 39.1 ms per loop (mean ± std. dev. of 7 runs, 1 loop each)\n",
      "2.73 s ± 2.52 ms per loop (mean ± std. dev. of 7 runs, 1 loop each)\n",
      "2.78 s ± 58.8 ms per loop (mean ± std. dev. of 7 runs, 1 loop each)\n",
      "2.84 s ± 77.4 ms per loop (mean ± std. dev. of 7 runs, 1 loop each)\n"
     ]
    }
   ],
   "source": [
    "# TIME TS NUMBER - Pearson\n",
    "dataset, training_dataset = get_dataset(dataset_name)\n",
    "\n",
    "lisa_pearson_results = []\n",
    "for l in dimensions:\n",
    "    set_names = ts_names[0:l]\n",
    "    ts_id = get_lisa_detection_ts_id(dataset, ts_name_lisa)\n",
    "    ts_ids = get_ts_ids(dataset, set_names)\n",
    "    \n",
    "    df = dataset.dataframe[ts_ids]\n",
    "    df_class = dataset.dataframe_class[ts_ids]\n",
    "    df_train = training_dataset.dataframe[ts_ids]\n",
    "    df_train_class = training_dataset.dataframe_class[ts_ids]\n",
    "    \n",
    "    r = lisa_pearson_detection_time_it(df, df_class, ts_id)\n",
    "    lisa_pearson_results.append(np.round(np.average(r.all_runs), 2))"
   ]
  },
  {
   "cell_type": "code",
   "execution_count": 14,
   "metadata": {},
   "outputs": [
    {
     "name": "stdout",
     "output_type": "stream",
     "text": [
      "3.93 s ± 74.6 ms per loop (mean ± std. dev. of 7 runs, 1 loop each)\n",
      "4.47 s ± 4.07 ms per loop (mean ± std. dev. of 7 runs, 1 loop each)\n",
      "5.24 s ± 70.4 ms per loop (mean ± std. dev. of 7 runs, 1 loop each)\n",
      "5.95 s ± 107 ms per loop (mean ± std. dev. of 7 runs, 1 loop each)\n",
      "6.48 s ± 94.3 ms per loop (mean ± std. dev. of 7 runs, 1 loop each)\n",
      "7.25 s ± 172 ms per loop (mean ± std. dev. of 7 runs, 1 loop each)\n",
      "7.79 s ± 173 ms per loop (mean ± std. dev. of 7 runs, 1 loop each)\n",
      "8.63 s ± 191 ms per loop (mean ± std. dev. of 7 runs, 1 loop each)\n",
      "9.08 s ± 200 ms per loop (mean ± std. dev. of 7 runs, 1 loop each)\n",
      "9.76 s ± 149 ms per loop (mean ± std. dev. of 7 runs, 1 loop each)\n",
      "10.5 s ± 171 ms per loop (mean ± std. dev. of 7 runs, 1 loop each)\n",
      "11 s ± 253 ms per loop (mean ± std. dev. of 7 runs, 1 loop each)\n",
      "11.6 s ± 200 ms per loop (mean ± std. dev. of 7 runs, 1 loop each)\n"
     ]
    }
   ],
   "source": [
    "# TIME TS NUMBER - DTW\n",
    "dataset, training_dataset = get_dataset(dataset_name)\n",
    "\n",
    "lisa_dtw_results = []\n",
    "for l in dimensions:\n",
    "    set_names = ts_names[0:l]\n",
    "    ts_id = get_lisa_detection_ts_id(dataset, ts_name_lisa)\n",
    "    ts_ids = get_ts_ids(dataset, set_names)\n",
    "    \n",
    "    df = dataset.dataframe[ts_ids]\n",
    "    df_class = dataset.dataframe_class[ts_ids]\n",
    "    df_train = training_dataset.dataframe[ts_ids]\n",
    "    df_train_class = training_dataset.dataframe_class[ts_ids]\n",
    "    \n",
    "    r = lisa_dtw_detection_time_it(df, df_class, ts_id)\n",
    "    lisa_dtw_results.append(np.round(np.average(r.all_runs), 2))"
   ]
  },
  {
   "cell_type": "code",
   "execution_count": 15,
   "metadata": {},
   "outputs": [
    {
     "name": "stdout",
     "output_type": "stream",
     "text": [
      "2.61 s ± 22.8 ms per loop (mean ± std. dev. of 7 runs, 1 loop each)\n",
      "2.69 s ± 33.1 ms per loop (mean ± std. dev. of 7 runs, 1 loop each)\n",
      "2.73 s ± 30.2 ms per loop (mean ± std. dev. of 7 runs, 1 loop each)\n",
      "2.75 s ± 21.9 ms per loop (mean ± std. dev. of 7 runs, 1 loop each)\n",
      "2.81 s ± 23.6 ms per loop (mean ± std. dev. of 7 runs, 1 loop each)\n",
      "2.84 s ± 15.5 ms per loop (mean ± std. dev. of 7 runs, 1 loop each)\n",
      "2.88 s ± 13.9 ms per loop (mean ± std. dev. of 7 runs, 1 loop each)\n",
      "2.93 s ± 14.6 ms per loop (mean ± std. dev. of 7 runs, 1 loop each)\n",
      "2.96 s ± 33.1 ms per loop (mean ± std. dev. of 7 runs, 1 loop each)\n",
      "3.04 s ± 24.7 ms per loop (mean ± std. dev. of 7 runs, 1 loop each)\n",
      "3.11 s ± 14.7 ms per loop (mean ± std. dev. of 7 runs, 1 loop each)\n",
      "3.18 s ± 41.3 ms per loop (mean ± std. dev. of 7 runs, 1 loop each)\n",
      "3.23 s ± 32.1 ms per loop (mean ± std. dev. of 7 runs, 1 loop each)\n"
     ]
    }
   ],
   "source": [
    "# TIME TS NUMBER - LISA VANILLA\n",
    "dataset, training_dataset = get_dataset(dataset_name)\n",
    "lisa_geo_results = []\n",
    "for l in dimensions:\n",
    "    set_names = ts_names[0:l]\n",
    "    ts_id = get_lisa_detection_ts_id(dataset, ts_name_lisa)\n",
    "    ts_ids = get_ts_ids(dataset, set_names)\n",
    "    \n",
    "    df = dataset.dataframe[ts_ids]\n",
    "    df_class = dataset.dataframe_class[ts_ids]\n",
    "    df_train = training_dataset.dataframe[ts_ids]\n",
    "    df_train_class = training_dataset.dataframe_class[ts_ids]\n",
    "    \n",
    "    r = lisa_geo_detection_time_it(df, df_class, ts_id)\n",
    "    lisa_geo_results.append(np.round(np.average(r.all_runs), 2))"
   ]
  },
  {
   "cell_type": "code",
   "execution_count": 16,
   "metadata": {},
   "outputs": [
    {
     "name": "stdout",
     "output_type": "stream",
     "text": [
      "2.53 s ± 56.6 ms per loop (mean ± std. dev. of 7 runs, 1 loop each)\n",
      "2.5 s ± 50.5 ms per loop (mean ± std. dev. of 7 runs, 1 loop each)\n",
      "2.59 s ± 84.6 ms per loop (mean ± std. dev. of 7 runs, 1 loop each)\n",
      "2.49 s ± 8.44 ms per loop (mean ± std. dev. of 7 runs, 1 loop each)\n",
      "2.5 s ± 4.68 ms per loop (mean ± std. dev. of 7 runs, 1 loop each)\n",
      "2.52 s ± 1.13 ms per loop (mean ± std. dev. of 7 runs, 1 loop each)\n",
      "2.63 s ± 69.4 ms per loop (mean ± std. dev. of 7 runs, 1 loop each)\n",
      "2.62 s ± 82.4 ms per loop (mean ± std. dev. of 7 runs, 1 loop each)\n",
      "2.67 s ± 51.1 ms per loop (mean ± std. dev. of 7 runs, 1 loop each)\n",
      "2.75 s ± 96.1 ms per loop (mean ± std. dev. of 7 runs, 1 loop each)\n",
      "2.67 s ± 13.6 ms per loop (mean ± std. dev. of 7 runs, 1 loop each)\n",
      "2.74 s ± 44.4 ms per loop (mean ± std. dev. of 7 runs, 1 loop each)\n",
      "2.78 s ± 46.6 ms per loop (mean ± std. dev. of 7 runs, 1 loop each)\n"
     ]
    }
   ],
   "source": [
    "# TIME TS NUMBER - RPCA\n",
    "dataset, training_dataset = get_dataset(dataset_name)\n",
    "rpca_results = []\n",
    "for l in dimensions:\n",
    "    set_names = ts_names[0:l]\n",
    "    ts_ids = get_ts_ids(dataset, set_names)\n",
    "    \n",
    "    df = dataset.dataframe[ts_ids]\n",
    "    df_class = dataset.dataframe_class[ts_ids]\n",
    "    df_train = training_dataset.dataframe[ts_ids]\n",
    "    df_train_class = training_dataset.dataframe_class[ts_ids]\n",
    "    \n",
    "    r = rpca_detection_time_it(df, df_class, df_train, df_train_class)\n",
    "    rpca_results.append(np.round(np.average(r.all_runs), 2))"
   ]
  },
  {
   "cell_type": "code",
   "execution_count": 17,
   "metadata": {},
   "outputs": [
    {
     "name": "stdout",
     "output_type": "stream",
     "text": [
      "2.52 s ± 72 ms per loop (mean ± std. dev. of 7 runs, 1 loop each)\n",
      "2.58 s ± 49.8 ms per loop (mean ± std. dev. of 7 runs, 1 loop each)\n",
      "2.62 s ± 54.2 ms per loop (mean ± std. dev. of 7 runs, 1 loop each)\n",
      "2.63 s ± 55.3 ms per loop (mean ± std. dev. of 7 runs, 1 loop each)\n",
      "2.59 s ± 1.55 ms per loop (mean ± std. dev. of 7 runs, 1 loop each)\n",
      "2.62 s ± 76 ms per loop (mean ± std. dev. of 7 runs, 1 loop each)\n",
      "2.65 s ± 74 ms per loop (mean ± std. dev. of 7 runs, 1 loop each)\n",
      "2.74 s ± 64 ms per loop (mean ± std. dev. of 7 runs, 1 loop each)\n",
      "2.73 s ± 46.2 ms per loop (mean ± std. dev. of 7 runs, 1 loop each)\n",
      "2.72 s ± 72.2 ms per loop (mean ± std. dev. of 7 runs, 1 loop each)\n",
      "2.72 s ± 92.5 ms per loop (mean ± std. dev. of 7 runs, 1 loop each)\n",
      "2.77 s ± 43.3 ms per loop (mean ± std. dev. of 7 runs, 1 loop each)\n",
      "2.87 s ± 68.2 ms per loop (mean ± std. dev. of 7 runs, 1 loop each)\n"
     ]
    }
   ],
   "source": [
    "# TIME TS NUMBER - HISTOGRAM\n",
    "dataset, training_dataset = get_dataset(dataset_name)\n",
    "\n",
    "histogram_results = []\n",
    "for l in dimensions:\n",
    "    set_names = ts_names[0:l]\n",
    "    ts_ids = get_ts_ids(dataset, set_names)\n",
    "    \n",
    "    df = dataset.dataframe[ts_ids]\n",
    "    df_class = dataset.dataframe_class[ts_ids]\n",
    "    df_train = training_dataset.dataframe[ts_ids]\n",
    "    df_train_class = training_dataset.dataframe_class[ts_ids]\n",
    "    \n",
    "    r = histogram_detection_time_it(df, df_class, df_train, df_train_class)\n",
    "    histogram_results.append(np.round(np.average(r.all_runs), 2))"
   ]
  },
  {
   "cell_type": "code",
   "execution_count": 18,
   "metadata": {},
   "outputs": [
    {
     "name": "stdout",
     "output_type": "stream",
     "text": [
      "2.53 s ± 91.3 ms per loop (mean ± std. dev. of 7 runs, 1 loop each)\n",
      "2.56 s ± 61.9 ms per loop (mean ± std. dev. of 7 runs, 1 loop each)\n",
      "2.65 s ± 65.7 ms per loop (mean ± std. dev. of 7 runs, 1 loop each)\n",
      "2.59 s ± 51 ms per loop (mean ± std. dev. of 7 runs, 1 loop each)\n",
      "2.6 s ± 67.1 ms per loop (mean ± std. dev. of 7 runs, 1 loop each)\n",
      "2.67 s ± 63.8 ms per loop (mean ± std. dev. of 7 runs, 1 loop each)\n",
      "2.71 s ± 60.1 ms per loop (mean ± std. dev. of 7 runs, 1 loop each)\n",
      "2.75 s ± 78.9 ms per loop (mean ± std. dev. of 7 runs, 1 loop each)\n",
      "2.8 s ± 59.5 ms per loop (mean ± std. dev. of 7 runs, 1 loop each)\n",
      "2.71 s ± 81.8 ms per loop (mean ± std. dev. of 7 runs, 1 loop each)\n",
      "2.86 s ± 101 ms per loop (mean ± std. dev. of 7 runs, 1 loop each)\n",
      "2.9 s ± 92.5 ms per loop (mean ± std. dev. of 7 runs, 1 loop each)\n",
      "2.82 s ± 58.6 ms per loop (mean ± std. dev. of 7 runs, 1 loop each)\n"
     ]
    }
   ],
   "source": [
    "# TIME TS NUMBER - CLUSTER\n",
    "dataset, training_dataset = get_dataset(dataset_name)\n",
    "cluster_results = []\n",
    "for l in dimensions:\n",
    "    set_names = ts_names[0:l]\n",
    "    ts_ids = get_ts_ids(dataset, set_names)\n",
    "    \n",
    "    df = dataset.dataframe[ts_ids]\n",
    "    df_class = dataset.dataframe_class[ts_ids]\n",
    "    df_train = training_dataset.dataframe[ts_ids]\n",
    "    df_train_class = training_dataset.dataframe_class[ts_ids]\n",
    "    \n",
    "    r = cluster_detection_time_it(df, df_class, df_train, df_train_class)\n",
    "    cluster_results.append(np.round(np.average(r.all_runs), 2))"
   ]
  },
  {
   "cell_type": "code",
   "execution_count": 19,
   "metadata": {},
   "outputs": [
    {
     "name": "stdout",
     "output_type": "stream",
     "text": [
      "2.48 s ± 56.5 ms per loop (mean ± std. dev. of 7 runs, 1 loop each)\n",
      "2.56 s ± 63.2 ms per loop (mean ± std. dev. of 7 runs, 1 loop each)\n",
      "2.6 s ± 39.6 ms per loop (mean ± std. dev. of 7 runs, 1 loop each)\n",
      "2.6 s ± 49.4 ms per loop (mean ± std. dev. of 7 runs, 1 loop each)\n",
      "2.63 s ± 82.2 ms per loop (mean ± std. dev. of 7 runs, 1 loop each)\n",
      "2.6 s ± 54.7 ms per loop (mean ± std. dev. of 7 runs, 1 loop each)\n",
      "2.61 s ± 33.9 ms per loop (mean ± std. dev. of 7 runs, 1 loop each)\n",
      "2.59 s ± 1.57 ms per loop (mean ± std. dev. of 7 runs, 1 loop each)\n",
      "2.64 s ± 51.3 ms per loop (mean ± std. dev. of 7 runs, 1 loop each)\n",
      "2.71 s ± 69.9 ms per loop (mean ± std. dev. of 7 runs, 1 loop each)\n",
      "2.71 s ± 61.4 ms per loop (mean ± std. dev. of 7 runs, 1 loop each)\n",
      "2.7 s ± 27.1 ms per loop (mean ± std. dev. of 7 runs, 1 loop each)\n",
      "2.71 s ± 41.5 ms per loop (mean ± std. dev. of 7 runs, 1 loop each)\n"
     ]
    }
   ],
   "source": [
    "# TIME TS NUMBER - SVM\n",
    "dataset, training_dataset = get_dataset(dataset_name)\n",
    "svm_results = []\n",
    "for l in dimensions:\n",
    "    set_names = ts_names[0:l]\n",
    "    ts_ids = get_ts_ids(dataset, set_names)\n",
    "    \n",
    "    df = dataset.dataframe[ts_ids]\n",
    "    df_class = dataset.dataframe_class[ts_ids]\n",
    "    df_train = training_dataset.dataframe[ts_ids]\n",
    "    df_train_class = training_dataset.dataframe_class[ts_ids]\n",
    "    \n",
    "    r = svm_detection_time_it(df, df_class, df_train, df_train_class)\n",
    "    svm_results.append(np.round(np.average(r.all_runs), 2))"
   ]
  },
  {
   "cell_type": "code",
   "execution_count": 20,
   "metadata": {},
   "outputs": [
    {
     "name": "stdout",
     "output_type": "stream",
     "text": [
      "2.83 s ± 39.5 ms per loop (mean ± std. dev. of 7 runs, 1 loop each)\n",
      "2.87 s ± 38.3 ms per loop (mean ± std. dev. of 7 runs, 1 loop each)\n",
      "2.89 s ± 18.1 ms per loop (mean ± std. dev. of 7 runs, 1 loop each)\n",
      "2.92 s ± 34.5 ms per loop (mean ± std. dev. of 7 runs, 1 loop each)\n",
      "2.89 s ± 53.8 ms per loop (mean ± std. dev. of 7 runs, 1 loop each)\n",
      "2.92 s ± 33.8 ms per loop (mean ± std. dev. of 7 runs, 1 loop each)\n",
      "2.95 s ± 34.3 ms per loop (mean ± std. dev. of 7 runs, 1 loop each)\n",
      "2.98 s ± 47.6 ms per loop (mean ± std. dev. of 7 runs, 1 loop each)\n",
      "2.91 s ± 60.5 ms per loop (mean ± std. dev. of 7 runs, 1 loop each)\n",
      "2.98 s ± 32.2 ms per loop (mean ± std. dev. of 7 runs, 1 loop each)\n",
      "3.01 s ± 28.1 ms per loop (mean ± std. dev. of 7 runs, 1 loop each)\n",
      "3.05 s ± 72.3 ms per loop (mean ± std. dev. of 7 runs, 1 loop each)\n",
      "3.06 s ± 25.9 ms per loop (mean ± std. dev. of 7 runs, 1 loop each)\n"
     ]
    }
   ],
   "source": [
    "# TIME TS NUMBER - ISOLATION FOREST\n",
    "dataset, training_dataset = get_dataset(dataset_name)\n",
    "\n",
    "isolation_results = []\n",
    "for l in dimensions:\n",
    "    set_names = ts_names[0:l]\n",
    "    ts_ids = get_ts_ids(dataset, set_names)\n",
    "    \n",
    "    df = dataset.dataframe[ts_ids]\n",
    "    df_class = dataset.dataframe_class[ts_ids]\n",
    "    df_train = training_dataset.dataframe[ts_ids]\n",
    "    df_train_class = training_dataset.dataframe_class[ts_ids]\n",
    "    \n",
    "    r = isolation_forest_detection_time_it(df, df_class, df_train, df_train_class)\n",
    "    isolation_results.append(np.round(np.average(r.all_runs), 2))"
   ]
  },
  {
   "cell_type": "code",
   "execution_count": 21,
   "metadata": {},
   "outputs": [],
   "source": [
    "scores = [{ 'title' : 'LISA (Pearson)', 'scores' : lisa_pearson_results }, \n",
    "          { 'title' : 'LISA (DTW)', 'scores' : lisa_dtw_results }, \n",
    "          { 'title' : 'LISA (Vanilla)', 'scores' :  lisa_geo_results }, \n",
    "          { 'title' : 'RPCA', 'scores' :  rpca_results }, \n",
    "          { 'title' : 'Histogram', 'scores' :  histogram_results }, \n",
    "          { 'title' : 'Cluster', 'scores' :  cluster_results }, \n",
    "          { 'title' : 'SVM', 'scores' :  svm_results }, \n",
    "          { 'title' : 'Isolation Forest', 'scores' :  isolation_results }\n",
    "         ]"
   ]
  },
  {
   "cell_type": "code",
   "execution_count": 22,
   "metadata": {},
   "outputs": [
    {
     "name": "stdout",
     "output_type": "stream",
     "text": [
      "[{'title': 'LISA (Pearson)', 'scores': [2.65, 2.57, 2.64, 2.67, 2.65, 2.6, 2.66, 2.68, 2.7, 2.75, 2.73, 2.78, 2.84]}, {'title': 'LISA (DTW)', 'scores': [3.93, 4.47, 5.24, 5.95, 6.48, 7.25, 7.79, 8.63, 9.08, 9.76, 10.54, 10.97, 11.63]}, {'title': 'LISA (Vanilla)', 'scores': [2.61, 2.69, 2.73, 2.75, 2.81, 2.84, 2.88, 2.93, 2.96, 3.04, 3.11, 3.18, 3.23]}, {'title': 'RPCA', 'scores': [2.53, 2.5, 2.59, 2.49, 2.5, 2.52, 2.63, 2.62, 2.67, 2.75, 2.67, 2.74, 2.78]}, {'title': 'Histogram', 'scores': [2.52, 2.58, 2.62, 2.63, 2.59, 2.62, 2.65, 2.74, 2.73, 2.72, 2.72, 2.77, 2.87]}, {'title': 'Cluster', 'scores': [2.53, 2.56, 2.65, 2.59, 2.6, 2.67, 2.71, 2.75, 2.8, 2.71, 2.86, 2.9, 2.82]}, {'title': 'SVM', 'scores': [2.48, 2.56, 2.6, 2.6, 2.63, 2.6, 2.61, 2.59, 2.64, 2.71, 2.71, 2.7, 2.71]}, {'title': 'Isolation Forest', 'scores': [2.83, 2.87, 2.89, 2.92, 2.89, 2.92, 2.95, 2.98, 2.91, 2.98, 3.01, 3.05, 3.06]}]\n"
     ]
    }
   ],
   "source": [
    "print(scores)"
   ]
  },
  {
   "cell_type": "code",
   "execution_count": 2,
   "metadata": {},
   "outputs": [],
   "source": [
    "import numpy as np\n",
    "scores = [{'title': 'LISA (Pearson)', 'scores': [2.65, 2.57, 2.64, 2.67, 2.65, 2.6, 2.66, 2.68, 2.7, 2.75, 2.73, 2.78, 2.84]}, {'title': 'LISA (DTW)', 'scores': [3.93, 4.47, 5.24, 5.95, 6.48, 7.25, 7.79, 8.63, 9.08, 9.76, 10.54, 10.97, 11.63]}, {'title': 'LISA (Vanilla)', 'scores': [2.61, 2.69, 2.73, 2.75, 2.81, 2.84, 2.88, 2.93, 2.96, 3.04, 3.11, 3.18, 3.23]}, {'title': 'RPCA', 'scores': [2.53, 2.5, 2.59, 2.49, 2.5, 2.52, 2.63, 2.62, 2.67, 2.75, 2.67, 2.74, 2.78]}, {'title': 'Histogram', 'scores': [2.52, 2.58, 2.62, 2.63, 2.59, 2.62, 2.65, 2.74, 2.73, 2.72, 2.72, 2.77, 2.87]}, {'title': 'Cluster', 'scores': [2.53, 2.56, 2.65, 2.59, 2.6, 2.67, 2.71, 2.75, 2.8, 2.71, 2.86, 2.9, 2.82]}, {'title': 'SVM', 'scores': [2.48, 2.56, 2.6, 2.6, 2.63, 2.6, 2.61, 2.59, 2.64, 2.71, 2.71, 2.7, 2.71]}, {'title': 'Isolation Forest', 'scores': [2.83, 2.87, 2.89, 2.92, 2.89, 2.92, 2.95, 2.98, 2.91, 2.98, 3.01, 3.05, 3.06]}]\n"
   ]
  },
  {
   "cell_type": "code",
   "execution_count": 3,
   "metadata": {},
   "outputs": [],
   "source": [
    "def generate_timeit_line_chart(dimension, scores):\n",
    "    fig, ax = plt.subplots()\n",
    "    \n",
    "    for score in scores:\n",
    "        title = score['title']\n",
    "        results = score['scores']\n",
    "        ax.plot(dimension, results, label=title)\n",
    "    ax.set_ylabel('Run-Time (s)')\n",
    "    ax.set_xlabel('Number of TS')\n",
    "    ax.set_yscale('log')\n",
    "    ax.legend(bbox_to_anchor=(0,1.02,1,0.2), loc=\"lower left\", borderaxespad=0, ncol=3)\n",
    "    \n",
    "    fig.tight_layout()\n",
    "    plt.show()"
   ]
  },
  {
   "cell_type": "code",
   "execution_count": 3,
   "metadata": {},
   "outputs": [],
   "source": [
    "import matplotlib.ticker as ticker\n",
    "def generate_timeit_line_chart(dimension, scores):\n",
    "    fig, ax = plt.subplots()\n",
    "    \n",
    "    for score in scores:\n",
    "        title = score['title']\n",
    "        results = score['scores']\n",
    "        ax.plot(dimension, results, marker=\".\", label=title)\n",
    "    ax.set_ylabel('Run-Time (s)')\n",
    "    ax.set_xlabel('Number of TS')\n",
    "    ax.set_yscale('log')\n",
    "    ax.yaxis.set_major_formatter(ticker.LogFormatter(base=10, labelOnlyBase=True))\n",
    "    ax.yaxis.set_minor_formatter(ticker.FormatStrFormatter(\"%d \"))\n",
    "    ax.legend(bbox_to_anchor=(0,1.02,1,0.2), loc=\"lower left\", borderaxespad=0, ncol=3)\n",
    "\n",
    "    fig.tight_layout()\n",
    "    plt.show()"
   ]
  },
  {
   "cell_type": "code",
   "execution_count": 6,
   "metadata": {},
   "outputs": [
    {
     "data": {
      "image/png": "[encoded data removed]",
      "text/plain": [
       "<Figure size 432x288 with 1 Axes>"
      ]
     },
     "metadata": {
      "needs_background": "light"
     },
     "output_type": "display_data"
    }
   ],
   "source": [
    "generate_timeit_line_chart(dimensions, scores)"
   ]
  },
  {
   "cell_type": "code",
   "execution_count": null,
   "metadata": {},
   "outputs": [],
   "source": []
  },
  {
   "cell_type": "code",
   "execution_count": 2,
   "metadata": {},
   "outputs": [],
   "source": [
    "dimension = np.array([2, 4, 6, 8, 10, 12, 14])\n",
    "\n",
    "lisa_pearson_results = np.array([2.62, 2.59, 2.71, 2.79, 2.65, 2.66, 2.8])\n",
    "lisa_dtw_results = np.array([3.88, 5.48, 6.62, 7.84, 9.16, 10.4, 12.1])\n",
    "lisa_spatial_results = np.array([2.69, 2.72, 2.81, 2.88, 2.98, 3.08, 3.21])\n",
    "rpca_results = np.array([2.64, 2.68, 2.66, 2.73, 2.63, 2.84, 2.86])\n",
    "histogram_results = np.array([2.64, 2.66, 2.62, 2.68, 2.77, 2.86, 2.79])\n",
    "cluster_results = np.array([2.64, 2.76, 2.65, 2.71, 2.73, 2.9, 2.9])\n",
    "svm_results = np.array([2.55, 2.63, 2.66, 2.72, 2.73, 2.72, 2.83])\n",
    "isolation_results = np.array([2.9, 2.88, 2.9, 2.9, 3, 3.03, 3.09])\n",
    "\n",
    "scores = [{ 'title' : 'LISA (Pearson)', 'scores' : lisa_pearson_results }, \n",
    "          { 'title' : 'LISA (DTW)', 'scores' : lisa_dtw_results }, \n",
    "          { 'title' : 'LISA (Vanilla)', 'scores' :  lisa_spatial_results }, \n",
    "          { 'title' : 'RPCA', 'scores' :  rpca_results }, \n",
    "          { 'title' : 'Histogram', 'scores' :  histogram_results }, \n",
    "          { 'title' : 'Cluster', 'scores' :  cluster_results }, \n",
    "          { 'title' : 'SVM', 'scores' :  svm_results }, \n",
    "          { 'title' : 'Isolation Forest', 'scores' :  isolation_results }\n",
    "         ]"
   ]
  },
  {
   "cell_type": "code",
   "execution_count": 3,
   "metadata": {},
   "outputs": [],
   "source": [
    "def generate_timeit_line_chart(dimension, scores):\n",
    "    fig, ax = plt.subplots()\n",
    "    \n",
    "    for score in scores:\n",
    "        title = score['title']\n",
    "        results = score['scores']\n",
    "        ax.plot(dimension, results, label=title)\n",
    "    ax.set_ylabel('Run-Time (s)')\n",
    "    ax.set_xlabel('Number of TS')\n",
    "    ax.set_yscale('log')\n",
    "    ax.legend(bbox_to_anchor=(0,1.02,1,0.2), loc=\"lower left\", borderaxespad=0, ncol=3)\n",
    "    \n",
    "    fig.tight_layout()\n",
    "    plt.show()"
   ]
  },
  {
   "cell_type": "code",
   "execution_count": 4,
   "metadata": {},
   "outputs": [
    {
     "data": {
      "image/png": "[encoded data removed]",
      "text/plain": [
       "<Figure size 432x288 with 1 Axes>"
      ]
     },
     "metadata": {
      "needs_background": "light"
     },
     "output_type": "display_data"
    }
   ],
   "source": [
    "#PLOT\n",
    "generate_timeit_line_chart(dimension, scores)\n"
   ]
  },
  {
   "cell_type": "code",
   "execution_count": null,
   "metadata": {},
   "outputs": [],
   "source": []
  }
 ],
 "metadata": {
  "kernelspec": {
   "display_name": "Django Shell-Plus",
   "language": "python",
   "name": "django_extensions"
  },
  "language_info": {
   "codemirror_mode": {
    "name": "ipython",
    "version": 3
   },
   "file_extension": ".py",
   "mimetype": "text/x-python",
   "name": "python",
   "nbconvert_exporter": "python",
   "pygments_lexer": "ipython3",
   "version": "3.7.9"
  }
 },
 "nbformat": 4,
 "nbformat_minor": 4
}
