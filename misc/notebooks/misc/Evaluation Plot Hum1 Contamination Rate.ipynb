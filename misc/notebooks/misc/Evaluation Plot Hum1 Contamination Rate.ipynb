{
 "cells": [
  {
   "cell_type": "code",
   "execution_count": 1,
   "metadata": {},
   "outputs": [],
   "source": [
    "from vadetisweb.anomaly_algorithms.detection.cluster import cluster_gaussian_mixture\n",
    "from vadetisweb.anomaly_algorithms.detection.histogram import histogram\n",
    "from vadetisweb.anomaly_algorithms.detection.svm import svm\n",
    "from vadetisweb.anomaly_algorithms.detection.isolation_forest import isolation_forest\n",
    "from vadetisweb.anomaly_algorithms.detection.lisa import lisa_pearson, lisa_dtw, lisa_geo\n",
    "from vadetisweb.anomaly_algorithms.detection.robust_pca import robust_pca_huber_loss\n",
    "from vadetisweb.models import DataSet, TimeSeries"
   ]
  },
  {
   "cell_type": "code",
   "execution_count": 10,
   "metadata": {},
   "outputs": [],
   "source": [
    "import numpy as np\n",
    "import matplotlib\n",
    "import matplotlib.pyplot as plt"
   ]
  },
  {
   "cell_type": "code",
   "execution_count": 3,
   "metadata": {},
   "outputs": [],
   "source": [
    "#input\n",
    "def get_dataset(title):\n",
    "    dataset = DataSet.objects.filter(title=title).first()\n",
    "    training_dataset = dataset.training_dataset.all().first()\n",
    "    return dataset, training_dataset\n",
    "\n",
    "def get_ts_ids(dataset, ts_names):\n",
    "    ts_ids = []\n",
    "    time_series = dataset.timeseries_set.all()\n",
    "    for ts in time_series:\n",
    "        if ts.name in ts_names:\n",
    "            ts_ids.append(ts.id)\n",
    "            \n",
    "    return ts_ids\n",
    "\n",
    "def get_lisa_detection_ts_id(dataset, ts_name):\n",
    "    time_series = dataset.timeseries_set.all()\n",
    "    for ts in time_series:\n",
    "        if ts.name == ts_name:\n",
    "            return ts.id\n",
    "    return None"
   ]
  },
  {
   "cell_type": "code",
   "execution_count": 4,
   "metadata": {},
   "outputs": [],
   "source": [
    "def lisa_pearson_l(df, df_class, time_series_id, maximize_score='F1-Score', window_size=10):\n",
    "    return lisa_pearson(df, df_class, time_series_id, maximize_score=maximize_score, window_size=window_size)"
   ]
  },
  {
   "cell_type": "code",
   "execution_count": 5,
   "metadata": {},
   "outputs": [],
   "source": [
    "def lisa_dtw_l(df, df_class, time_series_id, maximize_score='F1-Score', window_size=10, distance_function='euclidean'):\n",
    "    return lisa_dtw(df, df_class, time_series_id, maximize_score=maximize_score, window_size=window_size, distance_function=distance_function)"
   ]
  },
  {
   "cell_type": "code",
   "execution_count": 6,
   "metadata": {},
   "outputs": [],
   "source": [
    "def lisa_geo_l(df, df_class, time_series_id, maximize_score='F1-Score'):\n",
    "    return lisa_geo(df, df_class, time_series_id, maximize_score=maximize_score)"
   ]
  },
  {
   "cell_type": "code",
   "execution_count": 7,
   "metadata": {},
   "outputs": [],
   "source": [
    "def rpca_detection_l(df, df_class, df_train, df_train_class, delta=1, n_components=2, maximize_score='F1-Score', train_size=0.5):\n",
    "    return robust_pca_huber_loss(df, df_class, df_train, df_train_class, delta=delta, n_components=n_components, maximize_score=maximize_score, train_size=train_size)"
   ]
  },
  {
   "cell_type": "code",
   "execution_count": 8,
   "metadata": {},
   "outputs": [],
   "source": [
    "def histogram_detection_l(df, df_class, df_train, df_train_class, maximize_score='F1-Score', train_size=0.5):\n",
    "    return histogram(df, df_class, df_train, df_train_class, maximize_score=maximize_score, train_size=train_size)"
   ]
  },
  {
   "cell_type": "code",
   "execution_count": 9,
   "metadata": {},
   "outputs": [],
   "source": [
    "def cluster_detection_l(df, df_class, df_train, df_train_class, maximize_score='F1-Score', n_components=3, n_init=3, train_size=0.5):\n",
    "    return cluster_gaussian_mixture(df, df_class, df_train, df_train_class, maximize_score=maximize_score, n_components=n_components, n_init=n_init, train_size=train_size)"
   ]
  },
  {
   "cell_type": "code",
   "execution_count": 10,
   "metadata": {},
   "outputs": [],
   "source": [
    "def svm_detection_l(df, df_class, df_train, df_train_class, maximize_score='F1-Score', nu=0.95, kernel='rbf', train_size=0.5):\n",
    "    return svm(df, df_class, df_train, df_train_class, maximize_score=maximize_score, nu=nu, kernel=kernel, train_size=train_size)"
   ]
  },
  {
   "cell_type": "code",
   "execution_count": 11,
   "metadata": {},
   "outputs": [],
   "source": [
    "def isolation_forest_detection_l(df, df_class, df_train, df_train_class, maximize_score='F1-Score', n_jobs=-1, bootstrap=False, n_estimators=40, train_size=0.5):\n",
    "    return isolation_forest(df, df_class, df_train, df_train_class, maximize_score=maximize_score, n_jobs=n_jobs, bootstrap=bootstrap, n_estimators=n_estimators, train_size=train_size)"
   ]
  },
  {
   "cell_type": "code",
   "execution_count": 1,
   "metadata": {},
   "outputs": [],
   "source": [
    "# Hum1 Single - Contamination Rate\n",
    "dataset_names = [\n",
    "    'Humidity',\n",
    "    'Humidity CL100',\n",
    "    'Humidity CL150',\n",
    "    'Humidity CL200',\n",
    "    'Humidity CL250'\n",
    "]\n",
    "dimensions = [50, 100, 150, 200, 250]\n",
    "ts_name_lisa = 'LUZ'"
   ]
  },
  {
   "cell_type": "code",
   "execution_count": 13,
   "metadata": {},
   "outputs": [],
   "source": [
    "# Contamination Rate - LISA PEARSON\n",
    "# Results array [nmi, rmse, f1]\n",
    "pearson_results = []\n",
    "for dataset_name in dataset_names:\n",
    "    dataset, training_dataset = get_dataset(dataset_name)\n",
    "    df = dataset.dataframe\n",
    "    df_class = dataset.dataframe_class\n",
    "    \n",
    "    ts_id = get_lisa_detection_ts_id(dataset, ts_name_lisa)\n",
    "    \n",
    "    scores, y_hat_results, info, df_response, df_class_response = lisa_pearson_l(df, df_class, ts_id)\n",
    "    result = [np.round(info['nmi'], 3), np.round(info['rmse'], 3), np.round(info['f1_score'], 3)]\n",
    "    pearson_results.append(result)\n",
    "    \n",
    "lisa_pearson_results = np.array(pearson_results)"
   ]
  },
  {
   "cell_type": "code",
   "execution_count": 14,
   "metadata": {},
   "outputs": [],
   "source": [
    "# Contamination Rate - LISA DTW\n",
    "# Results array [nmi, rmse, f1]\n",
    "dtw_results = []\n",
    "for dataset_name in dataset_names:\n",
    "    dataset, training_dataset = get_dataset(dataset_name)\n",
    "    df = dataset.dataframe\n",
    "    df_class = dataset.dataframe_class\n",
    "    \n",
    "    ts_id = get_lisa_detection_ts_id(dataset, ts_name_lisa)\n",
    "    \n",
    "    scores, y_hat_results, info, df_response, df_class_response = lisa_dtw_l(df, df_class, ts_id)\n",
    "    result = [np.round(info['nmi'], 3), np.round(info['rmse'], 3), np.round(info['f1_score'], 3)]\n",
    "    dtw_results.append(result)\n",
    "    \n",
    "lisa_dtw_results = np.array(dtw_results)"
   ]
  },
  {
   "cell_type": "code",
   "execution_count": 15,
   "metadata": {},
   "outputs": [],
   "source": [
    "# Contamination Rate - LISA GEO\n",
    "# Results array [nmi, rmse, f1]\n",
    "geo_results = []\n",
    "for dataset_name in dataset_names:\n",
    "    dataset, training_dataset = get_dataset(dataset_name)\n",
    "    df = dataset.dataframe\n",
    "    df_class = dataset.dataframe_class\n",
    "    \n",
    "    ts_id = get_lisa_detection_ts_id(dataset, ts_name_lisa)\n",
    "    \n",
    "    scores, y_hat_results, info = lisa_geo_l(df, df_class, ts_id)\n",
    "    result = [np.round(info['nmi'], 3), np.round(info['rmse'], 3), np.round(info['f1_score'], 3)]\n",
    "    geo_results.append(result)\n",
    "    \n",
    "lisa_spatial_results = np.array(geo_results)"
   ]
  },
  {
   "cell_type": "code",
   "execution_count": 16,
   "metadata": {},
   "outputs": [],
   "source": [
    "# Contamination Rate - RPCA\n",
    "# Results array [nmi, rmse, f1]\n",
    "r_results = []\n",
    "for dataset_name in dataset_names:\n",
    "    dataset, training_dataset = get_dataset(dataset_name)\n",
    "    df = dataset.dataframe\n",
    "    df_class = dataset.dataframe_class\n",
    "    df_train = training_dataset.dataframe\n",
    "    df_train_class = training_dataset.dataframe_class\n",
    "    \n",
    "    scores, y_hat_results, df_common_class, info = rpca_detection_l(df, df_class, df_train, df_train_class)\n",
    "    result = [np.round(info['nmi'], 3), np.round(info['rmse'], 3), np.round(info['f1_score'], 3)]\n",
    "    r_results.append(result)\n",
    "    \n",
    "rpca_results = np.array(r_results)  "
   ]
  },
  {
   "cell_type": "code",
   "execution_count": 17,
   "metadata": {},
   "outputs": [],
   "source": [
    "# Contamination Rate - HISTOGRAM\n",
    "# Results array [nmi, rmse, f1]\n",
    "h_results = []\n",
    "for dataset_name in dataset_names:\n",
    "    dataset, training_dataset = get_dataset(dataset_name)\n",
    "    df = dataset.dataframe\n",
    "    df_class = dataset.dataframe_class\n",
    "    df_train = training_dataset.dataframe\n",
    "    df_train_class = training_dataset.dataframe_class\n",
    "    \n",
    "    scores, y_hat_results, df_common_class, info = histogram_detection_l(df, df_class, df_train, df_train_class)\n",
    "    result = [np.round(info['nmi'], 3), np.round(info['rmse'], 3), np.round(info['f1_score'], 3)]\n",
    "    h_results.append(result)\n",
    "    \n",
    "histogram_results = np.array(h_results)"
   ]
  },
  {
   "cell_type": "code",
   "execution_count": 18,
   "metadata": {},
   "outputs": [],
   "source": [
    "# Contamination Rate - CLUSTER\n",
    "# Results array [nmi, rmse, f1]\n",
    "c_results = []\n",
    "for dataset_name in dataset_names:\n",
    "    dataset, training_dataset = get_dataset(dataset_name)\n",
    "    df = dataset.dataframe\n",
    "    df_class = dataset.dataframe_class\n",
    "    df_train = training_dataset.dataframe\n",
    "    df_train_class = training_dataset.dataframe_class\n",
    "    \n",
    "    scores, y_hat_results, df_common_class, info = cluster_detection_l(df, df_class, df_train, df_train_class)\n",
    "    result = [np.round(info['nmi'], 3), np.round(info['rmse'], 3), np.round(info['f1_score'], 3)]\n",
    "    c_results.append(result)\n",
    "    \n",
    "cluster_results = np.array(c_results)  "
   ]
  },
  {
   "cell_type": "code",
   "execution_count": 19,
   "metadata": {},
   "outputs": [],
   "source": [
    "# Contamination Rate - SVM\n",
    "# Results array [nmi, rmse, f1]\n",
    "s_results = []\n",
    "for dataset_name in dataset_names:\n",
    "    dataset, training_dataset = get_dataset(dataset_name)\n",
    "    df = dataset.dataframe\n",
    "    df_class = dataset.dataframe_class\n",
    "    df_train = training_dataset.dataframe\n",
    "    df_train_class = training_dataset.dataframe_class\n",
    "    \n",
    "    scores, y_hat_results, df_common_class, info = svm_detection_l(df, df_class, df_train, df_train_class)\n",
    "    result = [np.round(info['nmi'], 3), np.round(info['rmse'], 3), np.round(info['f1_score'], 3)]\n",
    "    s_results.append(result)\n",
    "    \n",
    "svm_results = np.array(s_results)  "
   ]
  },
  {
   "cell_type": "code",
   "execution_count": 20,
   "metadata": {},
   "outputs": [],
   "source": [
    "# Contamination Rate - ISOLATION FOREST\n",
    "# Results array [nmi, rmse, f1]\n",
    "i_results = []\n",
    "for dataset_name in dataset_names:\n",
    "    dataset, training_dataset = get_dataset(dataset_name)\n",
    "    df = dataset.dataframe\n",
    "    df_class = dataset.dataframe_class\n",
    "    df_train = training_dataset.dataframe\n",
    "    df_train_class = training_dataset.dataframe_class\n",
    "    \n",
    "    scores, y_hat_results, df_common_class, info = isolation_forest_detection_l(df, df_class, df_train, df_train_class)\n",
    "    result = [np.round(info['nmi'], 3), np.round(info['rmse'], 3), np.round(info['f1_score'], 3)]\n",
    "    i_results.append(result)\n",
    "\n",
    "isolation_results = np.array(i_results)"
   ]
  },
  {
   "cell_type": "code",
   "execution_count": 21,
   "metadata": {},
   "outputs": [],
   "source": [
    "scores = [{ 'title' : 'LISA (Pearson)', 'scores' : lisa_pearson_results }, \n",
    "          { 'title' : 'LISA (DTW)', 'scores' : lisa_dtw_results }, \n",
    "          { 'title' : 'LISA (Vanilla)', 'scores' :  lisa_spatial_results }, \n",
    "          { 'title' : 'RPCA', 'scores' :  rpca_results }, \n",
    "          { 'title' : 'Histogram', 'scores' :  histogram_results }, \n",
    "          { 'title' : 'Cluster', 'scores' :  cluster_results }, \n",
    "          { 'title' : 'SVM', 'scores' :  svm_results }, \n",
    "          { 'title' : 'Isolation Forest', 'scores' :  isolation_results }\n",
    "         ]"
   ]
  },
  {
   "cell_type": "code",
   "execution_count": 22,
   "metadata": {},
   "outputs": [
    {
     "name": "stdout",
     "output_type": "stream",
     "text": [
      "[{'title': 'LISA (Pearson)', 'scores': array([[0.381, 0.027, 0.617],\n",
      "       [0.43 , 0.04 , 0.691],\n",
      "       [0.418, 0.056, 0.702],\n",
      "       [0.438, 0.069, 0.743],\n",
      "       [0.467, 0.074, 0.776]])}, {'title': 'LISA (DTW)', 'scores': array([[0.358, 0.027, 0.594],\n",
      "       [0.435, 0.042, 0.699],\n",
      "       [0.417, 0.064, 0.709],\n",
      "       [0.462, 0.067, 0.761],\n",
      "       [0.459, 0.076, 0.772]])}, {'title': 'LISA (Vanilla)', 'scores': array([[0.454, 0.022, 0.68 ],\n",
      "       [0.508, 0.032, 0.747],\n",
      "       [0.58 , 0.037, 0.818],\n",
      "       [0.613, 0.045, 0.845],\n",
      "       [0.622, 0.049, 0.863]])}, {'title': 'RPCA', 'scores': array([[0.563, 0.015, 0.744],\n",
      "       [0.362, 0.045, 0.496],\n",
      "       [0.368, 0.065, 0.522],\n",
      "       [0.335, 0.089, 0.496],\n",
      "       [0.318, 0.113, 0.489]])}, {'title': 'Histogram', 'scores': array([[0.   , 0.583, 0.068],\n",
      "       [0.015, 0.554, 0.161],\n",
      "       [0.009, 0.549, 0.211],\n",
      "       [0.01 , 0.537, 0.265],\n",
      "       [0.013, 0.525, 0.317]])}, {'title': 'Cluster', 'scores': array([[0.451, 0.02 , 0.667],\n",
      "       [0.287, 0.05 , 0.4  ],\n",
      "       [0.314, 0.071, 0.454],\n",
      "       [0.295, 0.095, 0.444],\n",
      "       [0.288, 0.119, 0.447]])}, {'title': 'SVM', 'scores': array([[0.209, 0.039, 0.438],\n",
      "       [0.176, 0.065, 0.419],\n",
      "       [0.227, 0.079, 0.48 ],\n",
      "       [0.21 , 0.104, 0.466],\n",
      "       [0.204, 0.127, 0.465]])}, {'title': 'Isolation Forest', 'scores': array([[0.048, 0.363, 0.142],\n",
      "       [0.091, 0.352, 0.258],\n",
      "       [0.089, 0.348, 0.329],\n",
      "       [0.117, 0.332, 0.41 ],\n",
      "       [0.11 , 0.337, 0.452]])}]\n"
     ]
    }
   ],
   "source": [
    "print(scores)"
   ]
  },
  {
   "cell_type": "code",
   "execution_count": 2,
   "metadata": {},
   "outputs": [],
   "source": [
    "import numpy as np\n",
    "scores = [{'title': 'LISA (Pearson)', 'scores': np.array([[0.381, 0.027, 0.617],\n",
    "       [0.43 , 0.04 , 0.691],\n",
    "       [0.418, 0.056, 0.702],\n",
    "       [0.438, 0.069, 0.743],\n",
    "       [0.467, 0.074, 0.776]])}, {'title': 'LISA (DTW)', 'scores': np.array([[0.358, 0.027, 0.594],\n",
    "       [0.435, 0.042, 0.699],\n",
    "       [0.417, 0.064, 0.709],\n",
    "       [0.462, 0.067, 0.761],\n",
    "       [0.459, 0.076, 0.772]])}, {'title': 'LISA (Vanilla)', 'scores': np.array([[0.454, 0.022, 0.68 ],\n",
    "       [0.508, 0.032, 0.747],\n",
    "       [0.58 , 0.037, 0.818],\n",
    "       [0.613, 0.045, 0.845],\n",
    "       [0.622, 0.049, 0.863]])}, {'title': 'RPCA', 'scores': np.array([[0.563, 0.015, 0.744],\n",
    "       [0.362, 0.045, 0.496],\n",
    "       [0.368, 0.065, 0.522],\n",
    "       [0.335, 0.089, 0.496],\n",
    "       [0.318, 0.113, 0.489]])}, {'title': 'Histogram', 'scores': np.array([[0.   , 0.583, 0.068],\n",
    "       [0.015, 0.554, 0.161],\n",
    "       [0.009, 0.549, 0.211],\n",
    "       [0.01 , 0.537, 0.265],\n",
    "       [0.013, 0.525, 0.317]])}, {'title': 'Cluster', 'scores': np.array([[0.451, 0.02 , 0.667],\n",
    "       [0.287, 0.05 , 0.4  ],\n",
    "       [0.314, 0.071, 0.454],\n",
    "       [0.295, 0.095, 0.444],\n",
    "       [0.288, 0.119, 0.447]])}, {'title': 'SVM', 'scores': np.array([[0.209, 0.039, 0.438],\n",
    "       [0.176, 0.065, 0.419],\n",
    "       [0.227, 0.079, 0.48 ],\n",
    "       [0.21 , 0.104, 0.466],\n",
    "       [0.204, 0.127, 0.465]])}, {'title': 'Isolation Forest', 'scores': np.array([[0.048, 0.363, 0.142],\n",
    "       [0.091, 0.352, 0.258],\n",
    "       [0.089, 0.348, 0.329],\n",
    "       [0.117, 0.332, 0.41 ],\n",
    "       [0.11 , 0.337, 0.452]])}]"
   ]
  },
  {
   "cell_type": "code",
   "execution_count": 5,
   "metadata": {},
   "outputs": [],
   "source": [
    "#NMI\n",
    "results = []\n",
    "for score in scores:\n",
    "    res = []\n",
    "    values = score['scores']\n",
    "    for i in range(len(dimensions)):\n",
    "        dim = dimensions[i]\n",
    "        val = values[i][0]\n",
    "        res.append((dim, val))\n",
    "    results.append({'title' : score['title'], 'plotdata' : res}) "
   ]
  },
  {
   "cell_type": "code",
   "execution_count": 6,
   "metadata": {},
   "outputs": [
    {
     "name": "stdout",
     "output_type": "stream",
     "text": [
      "[   {   'plotdata': [   (50, 0.381),\n",
      "                        (100, 0.43),\n",
      "                        (150, 0.418),\n",
      "                        (200, 0.438),\n",
      "                        (250, 0.467)],\n",
      "        'title': 'LISA (Pearson)'},\n",
      "    {   'plotdata': [   (50, 0.358),\n",
      "                        (100, 0.435),\n",
      "                        (150, 0.417),\n",
      "                        (200, 0.462),\n",
      "                        (250, 0.459)],\n",
      "        'title': 'LISA (DTW)'},\n",
      "    {   'plotdata': [   (50, 0.454),\n",
      "                        (100, 0.508),\n",
      "                        (150, 0.58),\n",
      "                        (200, 0.613),\n",
      "                        (250, 0.622)],\n",
      "        'title': 'LISA (Vanilla)'},\n",
      "    {   'plotdata': [   (50, 0.563),\n",
      "                        (100, 0.362),\n",
      "                        (150, 0.368),\n",
      "                        (200, 0.335),\n",
      "                        (250, 0.318)],\n",
      "        'title': 'RPCA'},\n",
      "    {   'plotdata': [   (50, 0.0),\n",
      "                        (100, 0.015),\n",
      "                        (150, 0.009),\n",
      "                        (200, 0.01),\n",
      "                        (250, 0.013)],\n",
      "        'title': 'Histogram'},\n",
      "    {   'plotdata': [   (50, 0.451),\n",
      "                        (100, 0.287),\n",
      "                        (150, 0.314),\n",
      "                        (200, 0.295),\n",
      "                        (250, 0.288)],\n",
      "        'title': 'Cluster'},\n",
      "    {   'plotdata': [   (50, 0.209),\n",
      "                        (100, 0.176),\n",
      "                        (150, 0.227),\n",
      "                        (200, 0.21),\n",
      "                        (250, 0.204)],\n",
      "        'title': 'SVM'},\n",
      "    {   'plotdata': [   (50, 0.048),\n",
      "                        (100, 0.091),\n",
      "                        (150, 0.089),\n",
      "                        (200, 0.117),\n",
      "                        (250, 0.11)],\n",
      "        'title': 'Isolation Forest'}]\n"
     ]
    }
   ],
   "source": [
    "import pprint\n",
    "pp = pprint.PrettyPrinter(indent=4)\n",
    "pp.pprint(results)"
   ]
  },
  {
   "cell_type": "code",
   "execution_count": 7,
   "metadata": {},
   "outputs": [],
   "source": [
    "#RMSE\n",
    "results = []\n",
    "for score in scores:\n",
    "    res = []\n",
    "    values = score['scores']\n",
    "    for i in range(len(dimensions)):\n",
    "        dim = dimensions[i]\n",
    "        val = values[i][1]\n",
    "        res.append((dim, val))\n",
    "    results.append({'title' : score['title'], 'plotdata' : res}) "
   ]
  },
  {
   "cell_type": "code",
   "execution_count": 8,
   "metadata": {},
   "outputs": [
    {
     "name": "stdout",
     "output_type": "stream",
     "text": [
      "[   {   'plotdata': [   (50, 0.027),\n",
      "                        (100, 0.04),\n",
      "                        (150, 0.056),\n",
      "                        (200, 0.069),\n",
      "                        (250, 0.074)],\n",
      "        'title': 'LISA (Pearson)'},\n",
      "    {   'plotdata': [   (50, 0.027),\n",
      "                        (100, 0.042),\n",
      "                        (150, 0.064),\n",
      "                        (200, 0.067),\n",
      "                        (250, 0.076)],\n",
      "        'title': 'LISA (DTW)'},\n",
      "    {   'plotdata': [   (50, 0.022),\n",
      "                        (100, 0.032),\n",
      "                        (150, 0.037),\n",
      "                        (200, 0.045),\n",
      "                        (250, 0.049)],\n",
      "        'title': 'LISA (Vanilla)'},\n",
      "    {   'plotdata': [   (50, 0.015),\n",
      "                        (100, 0.045),\n",
      "                        (150, 0.065),\n",
      "                        (200, 0.089),\n",
      "                        (250, 0.113)],\n",
      "        'title': 'RPCA'},\n",
      "    {   'plotdata': [   (50, 0.583),\n",
      "                        (100, 0.554),\n",
      "                        (150, 0.549),\n",
      "                        (200, 0.537),\n",
      "                        (250, 0.525)],\n",
      "        'title': 'Histogram'},\n",
      "    {   'plotdata': [   (50, 0.02),\n",
      "                        (100, 0.05),\n",
      "                        (150, 0.071),\n",
      "                        (200, 0.095),\n",
      "                        (250, 0.119)],\n",
      "        'title': 'Cluster'},\n",
      "    {   'plotdata': [   (50, 0.039),\n",
      "                        (100, 0.065),\n",
      "                        (150, 0.079),\n",
      "                        (200, 0.104),\n",
      "                        (250, 0.127)],\n",
      "        'title': 'SVM'},\n",
      "    {   'plotdata': [   (50, 0.363),\n",
      "                        (100, 0.352),\n",
      "                        (150, 0.348),\n",
      "                        (200, 0.332),\n",
      "                        (250, 0.337)],\n",
      "        'title': 'Isolation Forest'}]\n"
     ]
    }
   ],
   "source": [
    "import pprint\n",
    "pp = pprint.PrettyPrinter(indent=4)\n",
    "pp.pprint(results)"
   ]
  },
  {
   "cell_type": "code",
   "execution_count": 10,
   "metadata": {},
   "outputs": [],
   "source": [
    "#F1\n",
    "results = []\n",
    "for score in scores:\n",
    "    res = []\n",
    "    values = score['scores']\n",
    "    for i in range(len(dimensions)):\n",
    "        dim = dimensions[i]\n",
    "        val = values[i][2]\n",
    "        res.append((dim, val))\n",
    "    results.append({'title' : score['title'], 'plotdata' : res}) "
   ]
  },
  {
   "cell_type": "code",
   "execution_count": 11,
   "metadata": {},
   "outputs": [
    {
     "name": "stdout",
     "output_type": "stream",
     "text": [
      "[   {   'plotdata': [   (50, 0.617),\n",
      "                        (100, 0.691),\n",
      "                        (150, 0.702),\n",
      "                        (200, 0.743),\n",
      "                        (250, 0.776)],\n",
      "        'title': 'LISA (Pearson)'},\n",
      "    {   'plotdata': [   (50, 0.594),\n",
      "                        (100, 0.699),\n",
      "                        (150, 0.709),\n",
      "                        (200, 0.761),\n",
      "                        (250, 0.772)],\n",
      "        'title': 'LISA (DTW)'},\n",
      "    {   'plotdata': [   (50, 0.68),\n",
      "                        (100, 0.747),\n",
      "                        (150, 0.818),\n",
      "                        (200, 0.845),\n",
      "                        (250, 0.863)],\n",
      "        'title': 'LISA (Vanilla)'},\n",
      "    {   'plotdata': [   (50, 0.744),\n",
      "                        (100, 0.496),\n",
      "                        (150, 0.522),\n",
      "                        (200, 0.496),\n",
      "                        (250, 0.489)],\n",
      "        'title': 'RPCA'},\n",
      "    {   'plotdata': [   (50, 0.068),\n",
      "                        (100, 0.161),\n",
      "                        (150, 0.211),\n",
      "                        (200, 0.265),\n",
      "                        (250, 0.317)],\n",
      "        'title': 'Histogram'},\n",
      "    {   'plotdata': [   (50, 0.667),\n",
      "                        (100, 0.4),\n",
      "                        (150, 0.454),\n",
      "                        (200, 0.444),\n",
      "                        (250, 0.447)],\n",
      "        'title': 'Cluster'},\n",
      "    {   'plotdata': [   (50, 0.438),\n",
      "                        (100, 0.419),\n",
      "                        (150, 0.48),\n",
      "                        (200, 0.466),\n",
      "                        (250, 0.465)],\n",
      "        'title': 'SVM'},\n",
      "    {   'plotdata': [   (50, 0.142),\n",
      "                        (100, 0.258),\n",
      "                        (150, 0.329),\n",
      "                        (200, 0.41),\n",
      "                        (250, 0.452)],\n",
      "        'title': 'Isolation Forest'}]\n"
     ]
    }
   ],
   "source": [
    "import pprint\n",
    "pp = pprint.PrettyPrinter(indent=4)\n",
    "pp.pprint(results)"
   ]
  },
  {
   "cell_type": "code",
   "execution_count": null,
   "metadata": {},
   "outputs": [],
   "source": []
  },
  {
   "cell_type": "code",
   "execution_count": 11,
   "metadata": {},
   "outputs": [],
   "source": [
    "def generate_nmi_line_chart(dimension, scores):\n",
    "    fig, ax = plt.subplots()\n",
    "    \n",
    "    for score in scores:\n",
    "        title = score['title']\n",
    "        results = score['scores']\n",
    "        ax.plot(dimension, results[:,0], marker=\".\", label=title)\n",
    "    ax.set_ylabel('Score (NMI)')\n",
    "    ax.set_xlabel('Number of Outliers')\n",
    "    ax.legend(bbox_to_anchor=(0,1.02,1,0.2), loc=\"lower left\", borderaxespad=0, ncol=3)\n",
    "    plt.xticks(np.arange(min(dimension), max(dimension)+1, 50))\n",
    "    ax.set_ylim([-0.1, 1.05])\n",
    "    plt.yticks(np.arange(0, 1.1, 0.1))\n",
    "    \n",
    "    fig.tight_layout()\n",
    "    plt.show()"
   ]
  },
  {
   "cell_type": "code",
   "execution_count": 12,
   "metadata": {},
   "outputs": [],
   "source": [
    "def generate_rmse_line_chart(dimension, scores):\n",
    "    fig, ax = plt.subplots()\n",
    "    \n",
    "    for score in scores:\n",
    "        title = score['title']\n",
    "        results = score['scores']\n",
    "        ax.plot(dimension, results[:,1], marker=\".\", label=title)\n",
    "    ax.set_ylabel('Score (RMSE)')\n",
    "    ax.set_xlabel('Number of Outliers')\n",
    "    ax.legend(bbox_to_anchor=(0,1.02,1,0.2), loc=\"lower left\", borderaxespad=0, ncol=3)\n",
    "    plt.xticks(np.arange(min(dimension), max(dimension)+1, 50))\n",
    "    ax.set_ylim([-0.1, 1.05])\n",
    "    plt.yticks(np.arange(0, 1.1, 0.1))\n",
    "    \n",
    "    fig.tight_layout()\n",
    "    plt.show()"
   ]
  },
  {
   "cell_type": "code",
   "execution_count": 13,
   "metadata": {},
   "outputs": [],
   "source": [
    "def generate_f1_line_chart(dimension, scores):\n",
    "    fig, ax = plt.subplots()\n",
    "    \n",
    "    for score in scores:\n",
    "        title = score['title']\n",
    "        results = score['scores']\n",
    "        ax.plot(dimension, results[:,2], marker=\".\", label=title)\n",
    "    ax.set_ylabel('Score (F1)')\n",
    "    ax.set_xlabel('Number of Outliers')\n",
    "    ax.legend(bbox_to_anchor=(0,1.02,1,0.2), loc=\"lower left\", borderaxespad=0, ncol=3)\n",
    "    plt.xticks(np.arange(min(dimension), max(dimension)+1, 50))\n",
    "    ax.set_ylim([-0.1, 1.05])\n",
    "    plt.yticks(np.arange(0, 1.1, 0.1))\n",
    "    \n",
    "    fig.tight_layout()\n",
    "    plt.show()"
   ]
  },
  {
   "cell_type": "code",
   "execution_count": 14,
   "metadata": {},
   "outputs": [
    {
     "data": {
      "image/png": "[encoded data removed]",
      "text/plain": [
       "<Figure size 432x288 with 1 Axes>"
      ]
     },
     "metadata": {
      "needs_background": "light"
     },
     "output_type": "display_data"
    }
   ],
   "source": [
    "generate_nmi_line_chart(dimensions, scores)"
   ]
  },
  {
   "cell_type": "code",
   "execution_count": 15,
   "metadata": {},
   "outputs": [
    {
     "data": {
      "image/png": "[encoded data removed]",
      "text/plain": [
       "<Figure size 432x288 with 1 Axes>"
      ]
     },
     "metadata": {
      "needs_background": "light"
     },
     "output_type": "display_data"
    }
   ],
   "source": [
    "generate_rmse_line_chart(dimensions, scores)"
   ]
  },
  {
   "cell_type": "code",
   "execution_count": 16,
   "metadata": {},
   "outputs": [
    {
     "data": {
      "image/png": "[encoded data removed]",
      "text/plain": [
       "<Figure size 432x288 with 1 Axes>"
      ]
     },
     "metadata": {
      "needs_background": "light"
     },
     "output_type": "display_data"
    }
   ],
   "source": [
    "generate_f1_line_chart(dimensions, scores)"
   ]
  },
  {
   "cell_type": "code",
   "execution_count": null,
   "metadata": {},
   "outputs": [],
   "source": []
  }
 ],
 "metadata": {
  "kernelspec": {
   "display_name": "Django Shell-Plus",
   "language": "python",
   "name": "django_extensions"
  },
  "language_info": {
   "codemirror_mode": {
    "name": "ipython",
    "version": 3
   },
   "file_extension": ".py",
   "mimetype": "text/x-python",
   "name": "python",
   "nbconvert_exporter": "python",
   "pygments_lexer": "ipython3",
   "version": "3.7.9"
  }
 },
 "nbformat": 4,
 "nbformat_minor": 4
}
