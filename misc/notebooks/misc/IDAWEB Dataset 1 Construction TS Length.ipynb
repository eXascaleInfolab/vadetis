{
 "cells": [
  {
   "cell_type": "code",
   "execution_count": 41,
   "metadata": {},
   "outputs": [],
   "source": [
    "import pandas as pd\n",
    "import numpy as np\n",
    "import json, csv, datetime\n",
    "from vadetisweb.models import DataSet, TimeSeries"
   ]
  },
  {
   "cell_type": "code",
   "execution_count": 42,
   "metadata": {},
   "outputs": [],
   "source": [
    "#input\n",
    "\n",
    "d8 = DataSet.objects.filter(title='Idaweb Swiss Temperature TS8').first()\n",
    "time_series = d8.timeseries_set.all()\n",
    "\n",
    "#output\n",
    "output_path = '/home/adrian/Dokumente/real_data/idaweb_out/'"
   ]
  },
  {
   "cell_type": "code",
   "execution_count": 43,
   "metadata": {},
   "outputs": [],
   "source": [
    "def init_file(outputfile):\n",
    "    with open(outputfile, 'w') as file_output:\n",
    "        writer = csv.writer(file_output, delimiter=';')\n",
    "        header = ['ts_name', 'time', 'unit', 'value', 'class']\n",
    "        writer.writerow(header)\n",
    "        \n",
    "def append_to_file(df, df_class, ts, unit, outputfile):\n",
    "    ts_name = ts.name\n",
    "    ts_id = ts.id\n",
    "    \n",
    "    df_part = df[ts.id]\n",
    "    df_class_part = df_class[ts.id]\n",
    "    \n",
    "    with open(outputfile, 'a') as file_output:\n",
    "        writer = csv.writer(file_output, delimiter=';')\n",
    "        for index, value in df_part.iteritems():\n",
    "            row = [ts_name, index.isoformat(), unit, value, int(df_class_part[index] == True)]\n",
    "            writer.writerow(row)"
   ]
  },
  {
   "cell_type": "code",
   "execution_count": 44,
   "metadata": {},
   "outputs": [],
   "source": [
    "def generate_output(df, df_class, time_series, path_addition, file_suffix, ts_length=1000):\n",
    "    test_file_name = output_path + path_addition + 'test_' + file_suffix + '.csv'\n",
    "    #train_file_name = output_path + path_addition + 'train_' + file_suffix + '.csv'\n",
    "    init_file(test_file_name)\n",
    "    #init_file(train_file_name)\n",
    "    \n",
    "    df_test = df.iloc[0:ts_length]\n",
    "    df_test_class = df_class.iloc[0:ts_length]\n",
    "    \n",
    "    for ts in time_series:\n",
    "        append_to_file(df_test, df_test_class, ts, 'Celsius', test_file_name)\n"
   ]
  },
  {
   "cell_type": "code",
   "execution_count": 45,
   "metadata": {},
   "outputs": [],
   "source": [
    "df = d8.dataframe\n",
    "df_class = d8.dataframe_class\n",
    "generate_output(df, df_class, time_series, 'ts_len_set1_200/', file_suffix='200', ts_length=200)\n",
    "generate_output(df, df_class, time_series, 'ts_len_set1_400/', file_suffix='400', ts_length=400)\n",
    "generate_output(df, df_class, time_series, 'ts_len_set1_600/', file_suffix='600', ts_length=600)\n",
    "generate_output(df, df_class, time_series, 'ts_len_set1_800/', file_suffix='800', ts_length=800)"
   ]
  },
  {
   "cell_type": "code",
   "execution_count": null,
   "metadata": {},
   "outputs": [],
   "source": []
  }
 ],
 "metadata": {
  "kernelspec": {
   "display_name": "Django Shell-Plus",
   "language": "python",
   "name": "django_extensions"
  },
  "language_info": {
   "codemirror_mode": {
    "name": "ipython",
    "version": 3
   },
   "file_extension": ".py",
   "mimetype": "text/x-python",
   "name": "python",
   "nbconvert_exporter": "python",
   "pygments_lexer": "ipython3",
   "version": "3.7.9"
  }
 },
 "nbformat": 4,
 "nbformat_minor": 4
}
