{
 "cells": [
  {
   "cell_type": "code",
   "execution_count": 1,
   "metadata": {},
   "outputs": [],
   "source": [
    "from vadetisweb.anomaly_algorithms.detection.cluster import cluster_gaussian_mixture\n",
    "from vadetisweb.anomaly_algorithms.detection.histogram import histogram\n",
    "from vadetisweb.anomaly_algorithms.detection.svm import svm\n",
    "from vadetisweb.anomaly_algorithms.detection.isolation_forest import isolation_forest\n",
    "from vadetisweb.anomaly_algorithms.detection.lisa import lisa_pearson, lisa_dtw, lisa_geo\n",
    "from vadetisweb.anomaly_algorithms.detection.robust_pca import robust_pca_huber_loss\n",
    "from vadetisweb.models import DataSet, TimeSeries"
   ]
  },
  {
   "cell_type": "code",
   "execution_count": 4,
   "metadata": {},
   "outputs": [],
   "source": [
    "import numpy as np\n",
    "import matplotlib\n",
    "import matplotlib.pyplot as plt"
   ]
  },
  {
   "cell_type": "code",
   "execution_count": 3,
   "metadata": {},
   "outputs": [],
   "source": [
    "#input\n",
    "def get_dataset(title):\n",
    "    dataset = DataSet.objects.filter(title=title).first()\n",
    "    training_dataset = dataset.training_dataset.all().first()\n",
    "    return dataset, training_dataset\n",
    "\n",
    "def get_ts_ids(dataset, ts_names):\n",
    "    ts_ids = []\n",
    "    time_series = dataset.timeseries_set.all()\n",
    "    for ts in time_series:\n",
    "        if ts.name in ts_names:\n",
    "            ts_ids.append(ts.id)\n",
    "            \n",
    "    return ts_ids"
   ]
  },
  {
   "cell_type": "code",
   "execution_count": 4,
   "metadata": {},
   "outputs": [],
   "source": [
    "def rpca_detection_l(df, df_class, df_train, df_train_class, delta=1, n_components=2, maximize_score='F1-Score', train_size=0.5):\n",
    "    return robust_pca_huber_loss(df, df_class, df_train, df_train_class, delta=delta, n_components=n_components, maximize_score=maximize_score, train_size=train_size)"
   ]
  },
  {
   "cell_type": "code",
   "execution_count": 5,
   "metadata": {},
   "outputs": [],
   "source": [
    "def histogram_detection_l(df, df_class, df_train, df_train_class, maximize_score='F1-Score', train_size=0.5):\n",
    "    return histogram(df, df_class, df_train, df_train_class, maximize_score=maximize_score, train_size=train_size)"
   ]
  },
  {
   "cell_type": "code",
   "execution_count": 6,
   "metadata": {},
   "outputs": [],
   "source": [
    "def cluster_detection_l(df, df_class, df_train, df_train_class, maximize_score='F1-Score', n_components=3, n_init=3, train_size=0.5):\n",
    "    return cluster_gaussian_mixture(df, df_class, df_train, df_train_class, maximize_score=maximize_score, n_components=n_components, n_init=n_init, train_size=train_size)"
   ]
  },
  {
   "cell_type": "code",
   "execution_count": 7,
   "metadata": {},
   "outputs": [],
   "source": [
    "def svm_detection_l(df, df_class, df_train, df_train_class, maximize_score='F1-Score', nu=0.95, kernel='rbf', train_size=0.5):\n",
    "    return svm(df, df_class, df_train, df_train_class, maximize_score=maximize_score, nu=nu, kernel=kernel, train_size=train_size)"
   ]
  },
  {
   "cell_type": "code",
   "execution_count": 8,
   "metadata": {},
   "outputs": [],
   "source": [
    "def isolation_forest_detection_l(df, df_class, df_train, df_train_class, maximize_score='F1-Score', n_jobs=-1, bootstrap=False, n_estimators=40, train_size=0.5):\n",
    "    return isolation_forest(df, df_class, df_train, df_train_class, maximize_score=maximize_score, n_jobs=n_jobs, bootstrap=bootstrap, n_estimators=n_estimators, train_size=train_size)"
   ]
  },
  {
   "cell_type": "code",
   "execution_count": 1,
   "metadata": {},
   "outputs": [],
   "source": [
    "# Temp1 Multi - TS NUMBER\n",
    "dataset_name = 'Idaweb Swiss Temperature Multi TS14'\n",
    "ts_names = ['REH', 'KLO', 'SHA', 'NABZUE', 'SMA', 'WYN', 'WAE', 'SAG', 'SRS', 'THU', 'VAD', 'RUE', 'HAI', 'VLS']\n",
    "dimensions = [4, 5, 6, 7, 8, 9, 10, 11, 12, 13, 14]"
   ]
  },
  {
   "cell_type": "code",
   "execution_count": 10,
   "metadata": {},
   "outputs": [],
   "source": [
    "# TS NUMBER - RPCA\n",
    "dataset, training_dataset = get_dataset(dataset_name)\n",
    "# Results array [nmi, rmse, f1]\n",
    "r_results = []\n",
    "for l in dimensions:\n",
    "    set_names = ts_names[0:l]\n",
    "    ts_ids = get_ts_ids(dataset, set_names)\n",
    "    \n",
    "    df = dataset.dataframe[ts_ids]\n",
    "    df_class = dataset.dataframe_class[ts_ids]\n",
    "    df_train = training_dataset.dataframe[ts_ids]\n",
    "    df_train_class = training_dataset.dataframe_class[ts_ids]\n",
    "    \n",
    "    scores, y_hat_results, df_common_class, info = rpca_detection_l(df, df_class, df_train, df_train_class)\n",
    "    result = [np.round(info['nmi'], 3), np.round(info['rmse'], 3), np.round(info['f1_score'], 3)]\n",
    "    r_results.append(result)\n",
    "    \n",
    "rpca_results = np.array(r_results)  "
   ]
  },
  {
   "cell_type": "code",
   "execution_count": 11,
   "metadata": {},
   "outputs": [],
   "source": [
    "# TS NUMBER - HISTOGRAM\n",
    "dataset, training_dataset = get_dataset(dataset_name)\n",
    "\n",
    "# Results array [nmi, rmse, f1]\n",
    "h_results = []\n",
    "for l in dimensions:\n",
    "    set_names = ts_names[0:l]\n",
    "    ts_ids = get_ts_ids(dataset, set_names)\n",
    "    \n",
    "    df = dataset.dataframe[ts_ids]\n",
    "    df_class = dataset.dataframe_class[ts_ids]\n",
    "    df_train = training_dataset.dataframe[ts_ids]\n",
    "    df_train_class = training_dataset.dataframe_class[ts_ids]\n",
    "    \n",
    "    scores, y_hat_results, df_common_class, info = histogram_detection_l(df, df_class, df_train, df_train_class)\n",
    "    result = [np.round(info['nmi'], 3), np.round(info['rmse'], 3), np.round(info['f1_score'], 3)]\n",
    "    h_results.append(result)\n",
    "    \n",
    "histogram_results = np.array(h_results)"
   ]
  },
  {
   "cell_type": "code",
   "execution_count": 12,
   "metadata": {},
   "outputs": [],
   "source": [
    "# TS NUMBER - CLUSTER\n",
    "dataset, training_dataset = get_dataset(dataset_name)\n",
    "\n",
    "# Results array [nmi, rmse, f1]\n",
    "c_results = []\n",
    "for l in dimensions:\n",
    "    set_names = ts_names[0:l]\n",
    "    ts_ids = get_ts_ids(dataset, set_names)\n",
    "    \n",
    "    df = dataset.dataframe[ts_ids]\n",
    "    df_class = dataset.dataframe_class[ts_ids]\n",
    "    df_train = training_dataset.dataframe[ts_ids]\n",
    "    df_train_class = training_dataset.dataframe_class[ts_ids]\n",
    "    \n",
    "    scores, y_hat_results, df_common_class, info = cluster_detection_l(df, df_class, df_train, df_train_class)\n",
    "    result = [np.round(info['nmi'], 3), np.round(info['rmse'], 3), np.round(info['f1_score'], 3)]\n",
    "    c_results.append(result)\n",
    "    \n",
    "cluster_results = np.array(c_results)  "
   ]
  },
  {
   "cell_type": "code",
   "execution_count": 13,
   "metadata": {},
   "outputs": [],
   "source": [
    "# TS NUMBER - SVM\n",
    "dataset, training_dataset = get_dataset(dataset_name)\n",
    "\n",
    "# Results array [nmi, rmse, f1]\n",
    "s_results = []\n",
    "for l in dimensions:\n",
    "    set_names = ts_names[0:l]\n",
    "    ts_ids = get_ts_ids(dataset, set_names)\n",
    "    \n",
    "    df = dataset.dataframe[ts_ids]\n",
    "    df_class = dataset.dataframe_class[ts_ids]\n",
    "    df_train = training_dataset.dataframe[ts_ids]\n",
    "    df_train_class = training_dataset.dataframe_class[ts_ids]\n",
    "    \n",
    "    scores, y_hat_results, df_common_class, info = svm_detection_l(df, df_class, df_train, df_train_class)\n",
    "    result = [np.round(info['nmi'], 3), np.round(info['rmse'], 3), np.round(info['f1_score'], 3)]\n",
    "    s_results.append(result)\n",
    "    \n",
    "svm_results = np.array(s_results)"
   ]
  },
  {
   "cell_type": "code",
   "execution_count": 14,
   "metadata": {},
   "outputs": [],
   "source": [
    "# TS NUMBER - ISOLATION FOREST\n",
    "dataset, training_dataset = get_dataset(dataset_name)\n",
    "\n",
    "# Results array [nmi, rmse, f1]\n",
    "i_results = []\n",
    "for l in dimensions:\n",
    "    set_names = ts_names[0:l]\n",
    "    ts_ids = get_ts_ids(dataset, set_names)\n",
    "    \n",
    "    df = dataset.dataframe[ts_ids]\n",
    "    df_class = dataset.dataframe_class[ts_ids]\n",
    "    df_train = training_dataset.dataframe[ts_ids]\n",
    "    df_train_class = training_dataset.dataframe_class[ts_ids]\n",
    "    \n",
    "    scores, y_hat_results, df_common_class, info = isolation_forest_detection_l(df, df_class, df_train, df_train_class)\n",
    "    result = [np.round(info['nmi'], 3), np.round(info['rmse'], 3), np.round(info['f1_score'], 3)]\n",
    "    i_results.append(result)\n",
    "\n",
    "isolation_results = np.array(i_results)"
   ]
  },
  {
   "cell_type": "code",
   "execution_count": 15,
   "metadata": {},
   "outputs": [],
   "source": [
    "scores = [{ 'title' : 'RPCA', 'scores' :  rpca_results }, \n",
    "          { 'title' : 'Histogram', 'scores' :  histogram_results }, \n",
    "          { 'title' : 'Cluster', 'scores' :  cluster_results }, \n",
    "          { 'title' : 'SVM', 'scores' :  svm_results }, \n",
    "          { 'title' : 'Isolation Forest', 'scores' :  isolation_results }\n",
    "         ]"
   ]
  },
  {
   "cell_type": "code",
   "execution_count": 16,
   "metadata": {},
   "outputs": [
    {
     "name": "stdout",
     "output_type": "stream",
     "text": [
      "[{'title': 'RPCA', 'scores': array([[0.607, 0.02 , 0.75 ],\n",
      "       [0.59 , 0.021, 0.734],\n",
      "       [0.798, 0.009, 0.901],\n",
      "       [0.727, 0.013, 0.851],\n",
      "       [0.59 , 0.021, 0.734],\n",
      "       [0.504, 0.026, 0.649],\n",
      "       [0.487, 0.027, 0.63 ],\n",
      "       [0.487, 0.027, 0.63 ],\n",
      "       [0.304, 0.037, 0.413],\n",
      "       [0.284, 0.038, 0.387],\n",
      "       [0.156, 0.044, 0.214]])}, {'title': 'Histogram', 'scores': array([[0.023, 0.12 , 0.178],\n",
      "       [0.04 , 0.09 , 0.211],\n",
      "       [0.045, 0.085, 0.22 ],\n",
      "       [0.031, 0.093, 0.191],\n",
      "       [0.025, 0.101, 0.179],\n",
      "       [0.03 , 0.088, 0.185],\n",
      "       [0.041, 0.064, 0.179],\n",
      "       [0.038, 0.07 , 0.186],\n",
      "       [0.038, 0.07 , 0.186],\n",
      "       [0.025, 0.064, 0.135],\n",
      "       [0.003, 0.056, 0.   ]])}, {'title': 'Cluster', 'scores': array([[0.641, 0.018, 0.78 ],\n",
      "       [0.38 , 0.033, 0.507],\n",
      "       [0.487, 0.027, 0.63 ],\n",
      "       [0.284, 0.038, 0.387],\n",
      "       [0.434, 0.03 , 0.571],\n",
      "       [0.304, 0.037, 0.413],\n",
      "       [0.361, 0.034, 0.485],\n",
      "       [0.304, 0.037, 0.413],\n",
      "       [0.487, 0.027, 0.63 ],\n",
      "       [0.323, 0.036, 0.438],\n",
      "       [0.357, 0.035, 0.598]])}, {'title': 'SVM', 'scores': array([[0.346, 0.035, 0.578],\n",
      "       [0.331, 0.036, 0.561],\n",
      "       [0.222, 0.041, 0.388],\n",
      "       [0.22 , 0.046, 0.452],\n",
      "       [0.184, 0.062, 0.436],\n",
      "       [0.195, 0.059, 0.449],\n",
      "       [0.184, 0.06 , 0.434],\n",
      "       [0.176, 0.062, 0.426],\n",
      "       [0.158, 0.068, 0.404],\n",
      "       [0.152, 0.07 , 0.397],\n",
      "       [0.084, 0.077, 0.294]])}, {'title': 'Isolation Forest', 'scores': array([[0.285, 0.069, 0.531],\n",
      "       [0.155, 0.088, 0.397],\n",
      "       [0.162, 0.096, 0.4  ],\n",
      "       [0.17 , 0.104, 0.402],\n",
      "       [0.024, 0.119, 0.179],\n",
      "       [0.025, 0.124, 0.184],\n",
      "       [0.047, 0.17 , 0.227],\n",
      "       [0.04 , 0.159, 0.217],\n",
      "       [0.093, 0.242, 0.258],\n",
      "       [0.021, 0.142, 0.174],\n",
      "       [0.012, 0.13 , 0.145]])}]\n"
     ]
    }
   ],
   "source": [
    "print(scores)"
   ]
  },
  {
   "cell_type": "code",
   "execution_count": 2,
   "metadata": {},
   "outputs": [],
   "source": [
    "import numpy as np\n",
    "scores = [{'title': 'RPCA', 'scores': np.array([[0.607, 0.02 , 0.75 ],\n",
    "       [0.59 , 0.021, 0.734],\n",
    "       [0.798, 0.009, 0.901],\n",
    "       [0.727, 0.013, 0.851],\n",
    "       [0.59 , 0.021, 0.734],\n",
    "       [0.504, 0.026, 0.649],\n",
    "       [0.487, 0.027, 0.63 ],\n",
    "       [0.487, 0.027, 0.63 ],\n",
    "       [0.304, 0.037, 0.413],\n",
    "       [0.284, 0.038, 0.387],\n",
    "       [0.156, 0.044, 0.214]])}, {'title': 'Histogram', 'scores': np.array([[0.023, 0.12 , 0.178],\n",
    "       [0.04 , 0.09 , 0.211],\n",
    "       [0.045, 0.085, 0.22 ],\n",
    "       [0.031, 0.093, 0.191],\n",
    "       [0.025, 0.101, 0.179],\n",
    "       [0.03 , 0.088, 0.185],\n",
    "       [0.041, 0.064, 0.179],\n",
    "       [0.038, 0.07 , 0.186],\n",
    "       [0.038, 0.07 , 0.186],\n",
    "       [0.025, 0.064, 0.135],\n",
    "       [0.003, 0.056, 0.   ]])}, {'title': 'Cluster', 'scores': np.array([[0.641, 0.018, 0.78 ],\n",
    "       [0.38 , 0.033, 0.507],\n",
    "       [0.487, 0.027, 0.63 ],\n",
    "       [0.284, 0.038, 0.387],\n",
    "       [0.434, 0.03 , 0.571],\n",
    "       [0.304, 0.037, 0.413],\n",
    "       [0.361, 0.034, 0.485],\n",
    "       [0.304, 0.037, 0.413],\n",
    "       [0.487, 0.027, 0.63 ],\n",
    "       [0.323, 0.036, 0.438],\n",
    "       [0.357, 0.035, 0.598]])}, {'title': 'SVM', 'scores': np.array([[0.346, 0.035, 0.578],\n",
    "       [0.331, 0.036, 0.561],\n",
    "       [0.222, 0.041, 0.388],\n",
    "       [0.22 , 0.046, 0.452],\n",
    "       [0.184, 0.062, 0.436],\n",
    "       [0.195, 0.059, 0.449],\n",
    "       [0.184, 0.06 , 0.434],\n",
    "       [0.176, 0.062, 0.426],\n",
    "       [0.158, 0.068, 0.404],\n",
    "       [0.152, 0.07 , 0.397],\n",
    "       [0.084, 0.077, 0.294]])}, {'title': 'Isolation Forest', 'scores': np.array([[0.285, 0.069, 0.531],\n",
    "       [0.155, 0.088, 0.397],\n",
    "       [0.162, 0.096, 0.4  ],\n",
    "       [0.17 , 0.104, 0.402],\n",
    "       [0.024, 0.119, 0.179],\n",
    "       [0.025, 0.124, 0.184],\n",
    "       [0.047, 0.17 , 0.227],\n",
    "       [0.04 , 0.159, 0.217],\n",
    "       [0.093, 0.242, 0.258],\n",
    "       [0.021, 0.142, 0.174],\n",
    "       [0.012, 0.13 , 0.145]])}]"
   ]
  },
  {
   "cell_type": "code",
   "execution_count": 3,
   "metadata": {},
   "outputs": [],
   "source": [
    "#NMI\n",
    "results = []\n",
    "for score in scores:\n",
    "    res = []\n",
    "    values = score['scores']\n",
    "    for i in range(len(dimensions)):\n",
    "        dim = dimensions[i]\n",
    "        val = values[i][0]\n",
    "        res.append((dim, val))\n",
    "    results.append({'title' : score['title'], 'plotdata' : res}) "
   ]
  },
  {
   "cell_type": "code",
   "execution_count": 4,
   "metadata": {},
   "outputs": [
    {
     "name": "stdout",
     "output_type": "stream",
     "text": [
      "[   {   'plotdata': [   (4, 0.607),\n",
      "                        (5, 0.59),\n",
      "                        (6, 0.798),\n",
      "                        (7, 0.727),\n",
      "                        (8, 0.59),\n",
      "                        (9, 0.504),\n",
      "                        (10, 0.487),\n",
      "                        (11, 0.487),\n",
      "                        (12, 0.304),\n",
      "                        (13, 0.284),\n",
      "                        (14, 0.156)],\n",
      "        'title': 'RPCA'},\n",
      "    {   'plotdata': [   (4, 0.023),\n",
      "                        (5, 0.04),\n",
      "                        (6, 0.045),\n",
      "                        (7, 0.031),\n",
      "                        (8, 0.025),\n",
      "                        (9, 0.03),\n",
      "                        (10, 0.041),\n",
      "                        (11, 0.038),\n",
      "                        (12, 0.038),\n",
      "                        (13, 0.025),\n",
      "                        (14, 0.003)],\n",
      "        'title': 'Histogram'},\n",
      "    {   'plotdata': [   (4, 0.641),\n",
      "                        (5, 0.38),\n",
      "                        (6, 0.487),\n",
      "                        (7, 0.284),\n",
      "                        (8, 0.434),\n",
      "                        (9, 0.304),\n",
      "                        (10, 0.361),\n",
      "                        (11, 0.304),\n",
      "                        (12, 0.487),\n",
      "                        (13, 0.323),\n",
      "                        (14, 0.357)],\n",
      "        'title': 'Cluster'},\n",
      "    {   'plotdata': [   (4, 0.346),\n",
      "                        (5, 0.331),\n",
      "                        (6, 0.222),\n",
      "                        (7, 0.22),\n",
      "                        (8, 0.184),\n",
      "                        (9, 0.195),\n",
      "                        (10, 0.184),\n",
      "                        (11, 0.176),\n",
      "                        (12, 0.158),\n",
      "                        (13, 0.152),\n",
      "                        (14, 0.084)],\n",
      "        'title': 'SVM'},\n",
      "    {   'plotdata': [   (4, 0.285),\n",
      "                        (5, 0.155),\n",
      "                        (6, 0.162),\n",
      "                        (7, 0.17),\n",
      "                        (8, 0.024),\n",
      "                        (9, 0.025),\n",
      "                        (10, 0.047),\n",
      "                        (11, 0.04),\n",
      "                        (12, 0.093),\n",
      "                        (13, 0.021),\n",
      "                        (14, 0.012)],\n",
      "        'title': 'Isolation Forest'}]\n"
     ]
    }
   ],
   "source": [
    "import pprint\n",
    "pp = pprint.PrettyPrinter(indent=4)\n",
    "pp.pprint(results)"
   ]
  },
  {
   "cell_type": "code",
   "execution_count": 5,
   "metadata": {},
   "outputs": [],
   "source": [
    "#RMSE\n",
    "results = []\n",
    "for score in scores:\n",
    "    res = []\n",
    "    values = score['scores']\n",
    "    for i in range(len(dimensions)):\n",
    "        dim = dimensions[i]\n",
    "        val = values[i][1]\n",
    "        res.append((dim, val))\n",
    "    results.append({'title' : score['title'], 'plotdata' : res}) "
   ]
  },
  {
   "cell_type": "code",
   "execution_count": 6,
   "metadata": {},
   "outputs": [
    {
     "name": "stdout",
     "output_type": "stream",
     "text": [
      "[   {   'plotdata': [   (4, 0.02),\n",
      "                        (5, 0.021),\n",
      "                        (6, 0.009),\n",
      "                        (7, 0.013),\n",
      "                        (8, 0.021),\n",
      "                        (9, 0.026),\n",
      "                        (10, 0.027),\n",
      "                        (11, 0.027),\n",
      "                        (12, 0.037),\n",
      "                        (13, 0.038),\n",
      "                        (14, 0.044)],\n",
      "        'title': 'RPCA'},\n",
      "    {   'plotdata': [   (4, 0.12),\n",
      "                        (5, 0.09),\n",
      "                        (6, 0.085),\n",
      "                        (7, 0.093),\n",
      "                        (8, 0.101),\n",
      "                        (9, 0.088),\n",
      "                        (10, 0.064),\n",
      "                        (11, 0.07),\n",
      "                        (12, 0.07),\n",
      "                        (13, 0.064),\n",
      "                        (14, 0.056)],\n",
      "        'title': 'Histogram'},\n",
      "    {   'plotdata': [   (4, 0.018),\n",
      "                        (5, 0.033),\n",
      "                        (6, 0.027),\n",
      "                        (7, 0.038),\n",
      "                        (8, 0.03),\n",
      "                        (9, 0.037),\n",
      "                        (10, 0.034),\n",
      "                        (11, 0.037),\n",
      "                        (12, 0.027),\n",
      "                        (13, 0.036),\n",
      "                        (14, 0.035)],\n",
      "        'title': 'Cluster'},\n",
      "    {   'plotdata': [   (4, 0.035),\n",
      "                        (5, 0.036),\n",
      "                        (6, 0.041),\n",
      "                        (7, 0.046),\n",
      "                        (8, 0.062),\n",
      "                        (9, 0.059),\n",
      "                        (10, 0.06),\n",
      "                        (11, 0.062),\n",
      "                        (12, 0.068),\n",
      "                        (13, 0.07),\n",
      "                        (14, 0.077)],\n",
      "        'title': 'SVM'},\n",
      "    {   'plotdata': [   (4, 0.069),\n",
      "                        (5, 0.088),\n",
      "                        (6, 0.096),\n",
      "                        (7, 0.104),\n",
      "                        (8, 0.119),\n",
      "                        (9, 0.124),\n",
      "                        (10, 0.17),\n",
      "                        (11, 0.159),\n",
      "                        (12, 0.242),\n",
      "                        (13, 0.142),\n",
      "                        (14, 0.13)],\n",
      "        'title': 'Isolation Forest'}]\n"
     ]
    }
   ],
   "source": [
    "import pprint\n",
    "pp = pprint.PrettyPrinter(indent=4)\n",
    "pp.pprint(results)"
   ]
  },
  {
   "cell_type": "code",
   "execution_count": 7,
   "metadata": {},
   "outputs": [],
   "source": [
    "#F1\n",
    "results = []\n",
    "for score in scores:\n",
    "    res = []\n",
    "    values = score['scores']\n",
    "    for i in range(len(dimensions)):\n",
    "        dim = dimensions[i]\n",
    "        val = values[i][2]\n",
    "        res.append((dim, val))\n",
    "    results.append({'title' : score['title'], 'plotdata' : res}) "
   ]
  },
  {
   "cell_type": "code",
   "execution_count": 8,
   "metadata": {},
   "outputs": [
    {
     "name": "stdout",
     "output_type": "stream",
     "text": [
      "[   {   'plotdata': [   (4, 0.75),\n",
      "                        (5, 0.734),\n",
      "                        (6, 0.901),\n",
      "                        (7, 0.851),\n",
      "                        (8, 0.734),\n",
      "                        (9, 0.649),\n",
      "                        (10, 0.63),\n",
      "                        (11, 0.63),\n",
      "                        (12, 0.413),\n",
      "                        (13, 0.387),\n",
      "                        (14, 0.214)],\n",
      "        'title': 'RPCA'},\n",
      "    {   'plotdata': [   (4, 0.178),\n",
      "                        (5, 0.211),\n",
      "                        (6, 0.22),\n",
      "                        (7, 0.191),\n",
      "                        (8, 0.179),\n",
      "                        (9, 0.185),\n",
      "                        (10, 0.179),\n",
      "                        (11, 0.186),\n",
      "                        (12, 0.186),\n",
      "                        (13, 0.135),\n",
      "                        (14, 0.0)],\n",
      "        'title': 'Histogram'},\n",
      "    {   'plotdata': [   (4, 0.78),\n",
      "                        (5, 0.507),\n",
      "                        (6, 0.63),\n",
      "                        (7, 0.387),\n",
      "                        (8, 0.571),\n",
      "                        (9, 0.413),\n",
      "                        (10, 0.485),\n",
      "                        (11, 0.413),\n",
      "                        (12, 0.63),\n",
      "                        (13, 0.438),\n",
      "                        (14, 0.598)],\n",
      "        'title': 'Cluster'},\n",
      "    {   'plotdata': [   (4, 0.578),\n",
      "                        (5, 0.561),\n",
      "                        (6, 0.388),\n",
      "                        (7, 0.452),\n",
      "                        (8, 0.436),\n",
      "                        (9, 0.449),\n",
      "                        (10, 0.434),\n",
      "                        (11, 0.426),\n",
      "                        (12, 0.404),\n",
      "                        (13, 0.397),\n",
      "                        (14, 0.294)],\n",
      "        'title': 'SVM'},\n",
      "    {   'plotdata': [   (4, 0.531),\n",
      "                        (5, 0.397),\n",
      "                        (6, 0.4),\n",
      "                        (7, 0.402),\n",
      "                        (8, 0.179),\n",
      "                        (9, 0.184),\n",
      "                        (10, 0.227),\n",
      "                        (11, 0.217),\n",
      "                        (12, 0.258),\n",
      "                        (13, 0.174),\n",
      "                        (14, 0.145)],\n",
      "        'title': 'Isolation Forest'}]\n"
     ]
    }
   ],
   "source": [
    "import pprint\n",
    "pp = pprint.PrettyPrinter(indent=4)\n",
    "pp.pprint(results)"
   ]
  },
  {
   "cell_type": "code",
   "execution_count": null,
   "metadata": {},
   "outputs": [],
   "source": []
  },
  {
   "cell_type": "code",
   "execution_count": null,
   "metadata": {},
   "outputs": [],
   "source": []
  },
  {
   "cell_type": "code",
   "execution_count": 12,
   "metadata": {},
   "outputs": [],
   "source": [
    "def generate_nmi_line_chart(dimension, scores):\n",
    "    fig, ax = plt.subplots()\n",
    "    \n",
    "    for score in scores:\n",
    "        title = score['title']\n",
    "        results = score['scores']\n",
    "        ax.plot(dimension, results[:,0], marker=\".\", label=title)\n",
    "    ax.set_ylabel('Score (NMI)')\n",
    "    ax.set_xlabel('Number of TS')\n",
    "    ax.legend(bbox_to_anchor=(0,1.02,1,0.2), loc=\"lower left\", borderaxespad=0, ncol=3)\n",
    "    plt.xticks(np.arange(min(dimension), max(dimension)+1, 1))\n",
    "    ax.set_ylim([-0.1, 1.05])\n",
    "    plt.yticks(np.arange(0, 1.1, 0.1))\n",
    "    \n",
    "    fig.tight_layout()\n",
    "    plt.show()"
   ]
  },
  {
   "cell_type": "code",
   "execution_count": 13,
   "metadata": {},
   "outputs": [],
   "source": [
    "def generate_rmse_line_chart(dimension, scores):\n",
    "    fig, ax = plt.subplots()\n",
    "    \n",
    "    for score in scores:\n",
    "        title = score['title']\n",
    "        results = score['scores']\n",
    "        ax.plot(dimension, results[:,1], marker=\".\", label=title)\n",
    "    ax.set_ylabel('Score (RMSE)')\n",
    "    ax.set_xlabel('Number of TS')\n",
    "    ax.legend(bbox_to_anchor=(0,1.02,1,0.2), loc=\"lower left\", borderaxespad=0, ncol=3)\n",
    "    plt.xticks(np.arange(min(dimension), max(dimension)+1, 1))\n",
    "    ax.set_ylim([-0.1, 1.05])\n",
    "    plt.yticks(np.arange(0, 1.1, 0.1))\n",
    "    \n",
    "    fig.tight_layout()\n",
    "    plt.show()"
   ]
  },
  {
   "cell_type": "code",
   "execution_count": 14,
   "metadata": {},
   "outputs": [],
   "source": [
    "def generate_f1_line_chart(dimension, scores):\n",
    "    fig, ax = plt.subplots()\n",
    "    \n",
    "    for score in scores:\n",
    "        title = score['title']\n",
    "        results = score['scores']\n",
    "        ax.plot(dimension, results[:,2], marker=\".\", label=title)\n",
    "    ax.set_ylabel('Score (F1)')\n",
    "    ax.set_xlabel('Number of TS')\n",
    "    ax.legend(bbox_to_anchor=(0,1.02,1,0.2), loc=\"lower left\", borderaxespad=0, ncol=3)\n",
    "    plt.xticks(np.arange(min(dimension), max(dimension)+1, 1))\n",
    "    ax.set_ylim([-0.1, 1.05])\n",
    "    plt.yticks(np.arange(0, 1.1, 0.1))\n",
    "    \n",
    "    fig.tight_layout()\n",
    "    plt.show()"
   ]
  },
  {
   "cell_type": "code",
   "execution_count": 15,
   "metadata": {},
   "outputs": [
    {
     "data": {
      "image/png": "[encoded data removed]",
      "text/plain": [
       "<Figure size 432x288 with 1 Axes>"
      ]
     },
     "metadata": {
      "needs_background": "light"
     },
     "output_type": "display_data"
    }
   ],
   "source": [
    "generate_nmi_line_chart(dimensions, scores)"
   ]
  },
  {
   "cell_type": "code",
   "execution_count": 16,
   "metadata": {},
   "outputs": [
    {
     "data": {
      "image/png": "[encoded data removed]",
      "text/plain": [
       "<Figure size 432x288 with 1 Axes>"
      ]
     },
     "metadata": {
      "needs_background": "light"
     },
     "output_type": "display_data"
    }
   ],
   "source": [
    "generate_rmse_line_chart(dimensions, scores)"
   ]
  },
  {
   "cell_type": "code",
   "execution_count": 17,
   "metadata": {},
   "outputs": [
    {
     "data": {
      "image/png": "[encoded data removed]",
      "text/plain": [
       "<Figure size 432x288 with 1 Axes>"
      ]
     },
     "metadata": {
      "needs_background": "light"
     },
     "output_type": "display_data"
    }
   ],
   "source": [
    "generate_f1_line_chart(dimensions, scores)"
   ]
  },
  {
   "cell_type": "code",
   "execution_count": null,
   "metadata": {},
   "outputs": [],
   "source": []
  }
 ],
 "metadata": {
  "kernelspec": {
   "display_name": "Django Shell-Plus",
   "language": "python",
   "name": "django_extensions"
  },
  "language_info": {
   "codemirror_mode": {
    "name": "ipython",
    "version": 3
   },
   "file_extension": ".py",
   "mimetype": "text/x-python",
   "name": "python",
   "nbconvert_exporter": "python",
   "pygments_lexer": "ipython3",
   "version": "3.7.9"
  }
 },
 "nbformat": 4,
 "nbformat_minor": 4
}
