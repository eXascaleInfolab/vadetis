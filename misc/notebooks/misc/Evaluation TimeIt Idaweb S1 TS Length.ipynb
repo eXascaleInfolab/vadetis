{
 "cells": [
  {
   "cell_type": "code",
   "execution_count": 1,
   "metadata": {},
   "outputs": [],
   "source": [
    "from vadetisweb.anomaly_algorithms.detection.cluster import cluster_gaussian_mixture\n",
    "from vadetisweb.anomaly_algorithms.detection.histogram import histogram\n",
    "from vadetisweb.anomaly_algorithms.detection.svm import svm\n",
    "from vadetisweb.anomaly_algorithms.detection.isolation_forest import isolation_forest\n",
    "from vadetisweb.anomaly_algorithms.detection.lisa import lisa_pearson, lisa_dtw, lisa_geo\n",
    "from vadetisweb.anomaly_algorithms.detection.robust_pca import robust_pca_huber_loss\n",
    "from vadetisweb.models import DataSet, TimeSeries"
   ]
  },
  {
   "cell_type": "code",
   "execution_count": 2,
   "metadata": {},
   "outputs": [],
   "source": [
    "import numpy as np\n",
    "import matplotlib\n",
    "import matplotlib.pyplot as plt"
   ]
  },
  {
   "cell_type": "code",
   "execution_count": 2,
   "metadata": {},
   "outputs": [],
   "source": [
    "#input\n",
    "def get_dataset(title, ts_name=None):\n",
    "    ts_id = None\n",
    "    dataset = DataSet.objects.filter(title=title).first()\n",
    "    training_dataset = dataset.training_dataset.all().first()\n",
    "    if ts_name is not None:\n",
    "        ts_id = dataset.timeseries_set.all().filter(name=ts_name).first().id\n",
    "\n",
    "    return dataset, training_dataset, ts_id"
   ]
  },
  {
   "cell_type": "code",
   "execution_count": 3,
   "metadata": {},
   "outputs": [],
   "source": [
    "def lisa_pearson_detection_time_it(df, df_class, time_series_id, maximize_score='F1-Score', window_size=10):\n",
    "    %timeit lisa_pearson(df, df_class, time_series_id, maximize_score=maximize_score, window_size=window_size)"
   ]
  },
  {
   "cell_type": "code",
   "execution_count": 4,
   "metadata": {},
   "outputs": [],
   "source": [
    "def lisa_dtw_detection_time_it(df, df_class, time_series_id, maximize_score='F1-Score', window_size=10):\n",
    "    %timeit lisa_dtw(df, df_class, time_series_id, maximize_score=maximize_score, window_size=window_size, distance_function='euclidean')"
   ]
  },
  {
   "cell_type": "code",
   "execution_count": 5,
   "metadata": {},
   "outputs": [],
   "source": [
    "def lisa_geo_detection_time_it(df, df_class, time_series_id, maximize_score='F1-Score'):\n",
    "    %timeit lisa_geo(df, df_class, time_series_id, maximize_score=maximize_score)"
   ]
  },
  {
   "cell_type": "code",
   "execution_count": 6,
   "metadata": {},
   "outputs": [],
   "source": [
    "def rpca_detection_time_it(df, df_class, df_train, df_train_class, delta=1, n_components=2, maximize_score='F1-Score', train_size=0.5):\n",
    "    %timeit robust_pca_huber_loss(df, df_class, df_train, df_train_class, delta=delta, n_components=n_components, maximize_score=maximize_score, train_size=train_size)"
   ]
  },
  {
   "cell_type": "code",
   "execution_count": 7,
   "metadata": {},
   "outputs": [],
   "source": [
    "def histogram_detection_time_it(df, df_class, df_train, df_train_class, maximize_score='F1-Score', train_size=0.5):\n",
    "    %timeit histogram(df, df_class, df_train, df_train_class, maximize_score=maximize_score, train_size=train_size)"
   ]
  },
  {
   "cell_type": "code",
   "execution_count": 8,
   "metadata": {},
   "outputs": [],
   "source": [
    "def cluster_detection_time_it(df, df_class, df_train, df_train_class, maximize_score='F1-Score', n_components=3, n_init=3, train_size=0.5):\n",
    "    %timeit cluster_gaussian_mixture(df, df_class, df_train, df_train_class, maximize_score=maximize_score, n_components=n_components, n_init=n_init, train_size=train_size)"
   ]
  },
  {
   "cell_type": "code",
   "execution_count": 9,
   "metadata": {},
   "outputs": [],
   "source": [
    "def svm_detection_time_it(df, df_class, df_train, df_train_class, maximize_score='F1-Score', nu=0.95, kernel='rbf', train_size=0.5):\n",
    "    %timeit svm(df, df_class, df_train, df_train_class, maximize_score=maximize_score, nu=nu, kernel=kernel, train_size=train_size)"
   ]
  },
  {
   "cell_type": "code",
   "execution_count": 10,
   "metadata": {},
   "outputs": [],
   "source": [
    "def isolation_forest_detection_time_it(df, df_class, df_train, df_train_class, maximize_score='F1-Score', n_jobs=-1, bootstrap=False, n_estimators=40, train_size=0.5):\n",
    "    %timeit isolation_forest(df, df_class, df_train, df_train_class, maximize_score=maximize_score, n_jobs=n_jobs, bootstrap=bootstrap, n_estimators=n_estimators, train_size=train_size)"
   ]
  },
  {
   "cell_type": "code",
   "execution_count": 11,
   "metadata": {},
   "outputs": [],
   "source": [
    "# Temp1 - TS LENGTH\n",
    "dataset_names = ['Idaweb Swiss Temperature TS8 200', \n",
    "                 'Idaweb Swiss Temperature TS8 400', \n",
    "                 'Idaweb Swiss Temperature TS8 600', \n",
    "                 'Idaweb Swiss Temperature TS8 800', \n",
    "                 'Idaweb Swiss Temperature TS8']\n",
    "ts_name = 'REH'"
   ]
  },
  {
   "cell_type": "code",
   "execution_count": 13,
   "metadata": {},
   "outputs": [
    {
     "name": "stdout",
     "output_type": "stream",
     "text": [
      "1.42 s ± 34.4 ms per loop (mean ± std. dev. of 7 runs, 1 loop each)\n",
      "1.68 s ± 11.1 ms per loop (mean ± std. dev. of 7 runs, 1 loop each)\n",
      "2.01 s ± 7.62 ms per loop (mean ± std. dev. of 7 runs, 1 loop each)\n",
      "2.37 s ± 44.2 ms per loop (mean ± std. dev. of 7 runs, 1 loop each)\n",
      "2.73 s ± 53.7 ms per loop (mean ± std. dev. of 7 runs, 1 loop each)\n"
     ]
    }
   ],
   "source": [
    "# TIME TS LENGTH - Pearson\n",
    "for dataset_name in dataset_names:\n",
    "    dataset, _, ts_id = get_dataset(dataset_name, ts_name)\n",
    "    lisa_pearson_detection_time_it(dataset.dataframe, dataset.dataframe_class, ts_id)"
   ]
  },
  {
   "cell_type": "code",
   "execution_count": 14,
   "metadata": {},
   "outputs": [
    {
     "name": "stdout",
     "output_type": "stream",
     "text": [
      "2.35 s ± 42.8 ms per loop (mean ± std. dev. of 7 runs, 1 loop each)\n",
      "3.7 s ± 86.3 ms per loop (mean ± std. dev. of 7 runs, 1 loop each)\n",
      "5.08 s ± 48.9 ms per loop (mean ± std. dev. of 7 runs, 1 loop each)\n",
      "6.37 s ± 123 ms per loop (mean ± std. dev. of 7 runs, 1 loop each)\n",
      "7.65 s ± 213 ms per loop (mean ± std. dev. of 7 runs, 1 loop each)\n"
     ]
    }
   ],
   "source": [
    "# TIME TS LENGTH - DTW\n",
    "for dataset_name in dataset_names:\n",
    "    dataset, _, ts_id = get_dataset(dataset_name, ts_name)\n",
    "    lisa_dtw_detection_time_it(dataset.dataframe, dataset.dataframe_class, ts_id)"
   ]
  },
  {
   "cell_type": "code",
   "execution_count": 15,
   "metadata": {},
   "outputs": [
    {
     "name": "stdout",
     "output_type": "stream",
     "text": [
      "1.54 s ± 6.9 ms per loop (mean ± std. dev. of 7 runs, 1 loop each)\n",
      "1.86 s ± 15.5 ms per loop (mean ± std. dev. of 7 runs, 1 loop each)\n",
      "2.21 s ± 10.1 ms per loop (mean ± std. dev. of 7 runs, 1 loop each)\n",
      "2.52 s ± 16.8 ms per loop (mean ± std. dev. of 7 runs, 1 loop each)\n",
      "2.88 s ± 29.2 ms per loop (mean ± std. dev. of 7 runs, 1 loop each)\n"
     ]
    }
   ],
   "source": [
    "# TIME TS LENGTH - LISA VANILLA\n",
    "for dataset_name in dataset_names:\n",
    "    dataset, _, ts_id = get_dataset(dataset_name, ts_name)\n",
    "    lisa_geo_detection_time_it(dataset.dataframe, dataset.dataframe_class, ts_id)"
   ]
  },
  {
   "cell_type": "code",
   "execution_count": 12,
   "metadata": {},
   "outputs": [
    {
     "name": "stdout",
     "output_type": "stream",
     "text": [
      "2.43 s ± 82.1 ms per loop (mean ± std. dev. of 7 runs, 1 loop each)\n",
      "2.5 s ± 108 ms per loop (mean ± std. dev. of 7 runs, 1 loop each)\n",
      "2.67 s ± 56.7 ms per loop (mean ± std. dev. of 7 runs, 1 loop each)\n",
      "2.64 s ± 36.7 ms per loop (mean ± std. dev. of 7 runs, 1 loop each)\n",
      "2.75 s ± 90.3 ms per loop (mean ± std. dev. of 7 runs, 1 loop each)\n"
     ]
    }
   ],
   "source": [
    "# TIME TS LENGTH - RPCA\n",
    "for dataset_name in dataset_names:\n",
    "    dataset, training_dataset, _ = get_dataset(dataset_name)\n",
    "    rpca_detection_time_it(dataset.dataframe, dataset.dataframe_class, training_dataset.dataframe, training_dataset.dataframe_class)"
   ]
  },
  {
   "cell_type": "code",
   "execution_count": 13,
   "metadata": {},
   "outputs": [
    {
     "name": "stdout",
     "output_type": "stream",
     "text": [
      "2.35 s ± 42 ms per loop (mean ± std. dev. of 7 runs, 1 loop each)\n",
      "2.39 s ± 37.4 ms per loop (mean ± std. dev. of 7 runs, 1 loop each)\n",
      "2.48 s ± 76.8 ms per loop (mean ± std. dev. of 7 runs, 1 loop each)\n",
      "2.56 s ± 42 ms per loop (mean ± std. dev. of 7 runs, 1 loop each)\n",
      "2.7 s ± 63.2 ms per loop (mean ± std. dev. of 7 runs, 1 loop each)\n"
     ]
    }
   ],
   "source": [
    "# TIME TS LENGTH - HISTOGRAM\n",
    "for dataset_name in dataset_names:\n",
    "    dataset, training_dataset, _ = get_dataset(dataset_name)\n",
    "    histogram_detection_time_it(dataset.dataframe, dataset.dataframe_class, training_dataset.dataframe, training_dataset.dataframe_class)"
   ]
  },
  {
   "cell_type": "code",
   "execution_count": 14,
   "metadata": {},
   "outputs": [
    {
     "name": "stdout",
     "output_type": "stream",
     "text": [
      "2.44 s ± 65.8 ms per loop (mean ± std. dev. of 7 runs, 1 loop each)\n",
      "2.48 s ± 66.6 ms per loop (mean ± std. dev. of 7 runs, 1 loop each)\n",
      "2.48 s ± 42.5 ms per loop (mean ± std. dev. of 7 runs, 1 loop each)\n",
      "2.66 s ± 44.5 ms per loop (mean ± std. dev. of 7 runs, 1 loop each)\n",
      "2.7 s ± 58.5 ms per loop (mean ± std. dev. of 7 runs, 1 loop each)\n"
     ]
    }
   ],
   "source": [
    "# TIME TS LENGTH - CLUSTER\n",
    "for dataset_name in dataset_names:\n",
    "    dataset, training_dataset, _ = get_dataset(dataset_name)\n",
    "    cluster_detection_time_it(dataset.dataframe, dataset.dataframe_class, training_dataset.dataframe, training_dataset.dataframe_class)"
   ]
  },
  {
   "cell_type": "code",
   "execution_count": 17,
   "metadata": {},
   "outputs": [
    {
     "name": "stdout",
     "output_type": "stream",
     "text": [
      "2.25 s ± 45 ms per loop (mean ± std. dev. of 7 runs, 1 loop each)\n",
      "2.34 s ± 59.2 ms per loop (mean ± std. dev. of 7 runs, 1 loop each)\n",
      "2.45 s ± 53.7 ms per loop (mean ± std. dev. of 7 runs, 1 loop each)\n",
      "2.48 s ± 81.6 ms per loop (mean ± std. dev. of 7 runs, 1 loop each)\n",
      "2.64 s ± 66.7 ms per loop (mean ± std. dev. of 7 runs, 1 loop each)\n"
     ]
    }
   ],
   "source": [
    "# TIME TS LENGTH - SVM\n",
    "for dataset_name in dataset_names:\n",
    "    dataset, training_dataset, _ = get_dataset(dataset_name)\n",
    "    svm_detection_time_it(dataset.dataframe, dataset.dataframe_class, training_dataset.dataframe, training_dataset.dataframe_class)"
   ]
  },
  {
   "cell_type": "code",
   "execution_count": 18,
   "metadata": {},
   "outputs": [
    {
     "name": "stdout",
     "output_type": "stream",
     "text": [
      "2.65 s ± 47.1 ms per loop (mean ± std. dev. of 7 runs, 1 loop each)\n",
      "2.71 s ± 25.3 ms per loop (mean ± std. dev. of 7 runs, 1 loop each)\n",
      "2.79 s ± 41.8 ms per loop (mean ± std. dev. of 7 runs, 1 loop each)\n",
      "2.86 s ± 30.6 ms per loop (mean ± std. dev. of 7 runs, 1 loop each)\n",
      "2.94 s ± 66.8 ms per loop (mean ± std. dev. of 7 runs, 1 loop each)\n"
     ]
    }
   ],
   "source": [
    "# TIME TS LENGTH - ISOLATION FOREST\n",
    "for dataset_name in dataset_names:\n",
    "    dataset, training_dataset, _ = get_dataset(dataset_name)\n",
    "    isolation_forest_detection_time_it(dataset.dataframe, dataset.dataframe_class, training_dataset.dataframe, training_dataset.dataframe_class)"
   ]
  },
  {
   "cell_type": "code",
   "execution_count": 3,
   "metadata": {},
   "outputs": [],
   "source": [
    "dimension = np.array([200, 400, 600, 800, 1000])\n",
    "\n",
    "lisa_pearson_results = np.array([1.42, 1.68, 2.01, 2.37, 2.73])\n",
    "lisa_dtw_results = np.array([2.35, 3.7, 5.08, 6.37, 7.65])\n",
    "lisa_spatial_results = np.array([1.54, 1.86, 2.21, 2.52, 2.88])\n",
    "\n",
    "rpca_results = np.array([2.43, 2.5, 2.67, 2.64, 2.75])\n",
    "histogram_results = np.array([2.35, 2.39, 2.48, 2.56, 2.7])\n",
    "cluster_results = np.array([2.44, 2.48, 2.48, 2.66, 2.7])\n",
    "svm_results = np.array([2.25, 2.34, 2.45, 2.48, 2.64])\n",
    "isolation_results = np.array([2.65, 2.71, 2.79, 2.86, 2.94])\n",
    "\n",
    "scores = [{ 'title' : 'LISA (Pearson)', 'scores' : lisa_pearson_results }, \n",
    "          { 'title' : 'LISA (DTW)', 'scores' : lisa_dtw_results }, \n",
    "          { 'title' : 'LISA (Vanilla)', 'scores' :  lisa_spatial_results }, \n",
    "          { 'title' : 'RPCA', 'scores' :  rpca_results }, \n",
    "          { 'title' : 'Histogram', 'scores' :  histogram_results }, \n",
    "          { 'title' : 'Cluster', 'scores' :  cluster_results }, \n",
    "          { 'title' : 'SVM', 'scores' :  svm_results }, \n",
    "          { 'title' : 'Isolation Forest', 'scores' :  isolation_results }\n",
    "         ]"
   ]
  },
  {
   "cell_type": "code",
   "execution_count": 4,
   "metadata": {},
   "outputs": [],
   "source": [
    "def generate_timeit_line_chart(dimension, scores):\n",
    "    fig, ax = plt.subplots()\n",
    "    \n",
    "    for score in scores:\n",
    "        title = score['title']\n",
    "        results = score['scores']\n",
    "        ax.plot(dimension, results, label=title)\n",
    "    ax.set_ylabel('Run-Time (s)')\n",
    "    ax.set_xlabel('Length of TS')\n",
    "    ax.set_yscale('log')\n",
    "    ax.legend(bbox_to_anchor=(0,1.02,1,0.2), loc=\"lower left\", borderaxespad=0, ncol=3)\n",
    "    \n",
    "    fig.tight_layout()\n",
    "    plt.show()"
   ]
  },
  {
   "cell_type": "code",
   "execution_count": 5,
   "metadata": {},
   "outputs": [
    {
     "data": {
      "image/png": "[encoded data removed]",
      "text/plain": [
       "<Figure size 432x288 with 1 Axes>"
      ]
     },
     "metadata": {
      "needs_background": "light"
     },
     "output_type": "display_data"
    }
   ],
   "source": [
    "#PLOT\n",
    "generate_timeit_line_chart(dimension, scores)\n"
   ]
  },
  {
   "cell_type": "code",
   "execution_count": null,
   "metadata": {},
   "outputs": [],
   "source": []
  }
 ],
 "metadata": {
  "kernelspec": {
   "display_name": "Django Shell-Plus",
   "language": "python",
   "name": "django_extensions"
  },
  "language_info": {
   "codemirror_mode": {
    "name": "ipython",
    "version": 3
   },
   "file_extension": ".py",
   "mimetype": "text/x-python",
   "name": "python",
   "nbconvert_exporter": "python",
   "pygments_lexer": "ipython3",
   "version": "3.7.9"
  }
 },
 "nbformat": 4,
 "nbformat_minor": 4
}
