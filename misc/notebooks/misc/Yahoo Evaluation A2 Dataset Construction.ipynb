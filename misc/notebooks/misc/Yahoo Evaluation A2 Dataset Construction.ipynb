{
 "cells": [
  {
   "cell_type": "code",
   "execution_count": 1,
   "metadata": {},
   "outputs": [],
   "source": [
    "import pandas as pd\n",
    "import numpy as np\n",
    "import json, csv, datetime"
   ]
  },
  {
   "cell_type": "code",
   "execution_count": 2,
   "metadata": {},
   "outputs": [],
   "source": [
    "#input\n",
    "\n",
    "yahoo_path = '/home/adrian/Dokumente/real_data/ydata-labeled-time-series-anomalies-v1_0'\n",
    "\n",
    "a1_path = '/A1Benchmark/'\n",
    "a2_path = '/A2Benchmark/'\n",
    "a3_path = '/A3Benchmark/'\n",
    "a4_path = '/A4Benchmark/'\n",
    "\n",
    "a1_elements = np.arange(1, 68).tolist()\n",
    "a234_elements = np.arange(1, 101).tolist()\n",
    "\n",
    "a1files = [{ 'name' : 'TS' + str(x), 'file_path' : yahoo_path + a1_path + 'real_' + str(x) + '.csv' } for x in a1_elements]\n",
    "a2files = [{ 'name' : 'TS' + str(x), 'file_path' : yahoo_path + a2_path + 'synthetic_' + str(x) + '.csv' } for x in a234_elements]\n",
    "a3files = [{ 'name' : 'TS' + str(x), 'file_path' : yahoo_path + a3_path + 'A3Benchmark-TS' + str(x) + '.csv' } for x in a234_elements]\n",
    "a4files = [{ 'name' : 'TS' + str(x), 'file_path' : yahoo_path + a4_path + 'A4Benchmark-TS' + str(x) + '.csv' } for x in a234_elements]\n",
    "\n",
    "#output\n",
    "output_path = '/home/adrian/Dokumente/real_data/yahoo_out_eval'\n",
    "\n",
    "test_file_name = output_path + a2_path + 'test.csv'\n",
    "train_file_name = output_path + a2_path + 'train.csv'"
   ]
  },
  {
   "cell_type": "code",
   "execution_count": 3,
   "metadata": {},
   "outputs": [],
   "source": [
    "def load_data_frame(ts_name, file_path):\n",
    "    df = pd.read_csv(file_path)\n",
    "    df.insert(0, 'ts_name', ts_name)\n",
    "    df.insert(2, 'unit', \"Value\")\n",
    "    df = df.rename(columns={'timestamp': 'time', 'is_anomaly' : 'class'})\n",
    "    return df"
   ]
  },
  {
   "cell_type": "code",
   "execution_count": 4,
   "metadata": {},
   "outputs": [],
   "source": [
    "def time_index_to_dt(df):\n",
    "    for idx, row in df.iterrows():\n",
    "        dt = datetime.datetime.fromtimestamp(row['time'])\n",
    "        df.loc[idx, 'time'] = dt\n",
    "    return df\n",
    "        "
   ]
  },
  {
   "cell_type": "code",
   "execution_count": 5,
   "metadata": {},
   "outputs": [],
   "source": [
    "def init_file(outputfile):\n",
    "    with open(outputfile, 'w') as file_output:\n",
    "        writer = csv.writer(file_output, delimiter=';')\n",
    "        header = ['ts_name', 'time', 'unit', 'value', 'class']\n",
    "        writer.writerow(header)\n",
    "        \n",
    "def append_to_file(df, outputfile):\n",
    "    with open(outputfile, 'a') as file_output:\n",
    "        writer = csv.writer(file_output, delimiter=';')\n",
    "        for index, row in df.iterrows():\n",
    "            row = [row[0], row[1].isoformat(), row[2], row[3], row[4]]\n",
    "            writer.writerow(row)"
   ]
  },
  {
   "cell_type": "code",
   "execution_count": 18,
   "metadata": {},
   "outputs": [],
   "source": [
    "# S1 set - Corr > 0.95\n",
    "#names_set_a2_s1 = ['TS' + str(x) for x in [100, 28, 37, 42, 44, 49, 51, 56, 58, 63, 67, 70, 72, 76, 79, 84, 86, 88, 91, 93, 98]]\n",
    "#file_suffix_s1 = \"a2\"\n",
    "\n",
    "#names_set_a2_s1 = ['TS' + str(x) for x in [24, 10, 17, 31, 38, 45, 66, 73, 80, 87]]\n",
    "names_set_a2_s1 = ['TS' + str(x) for x in [24, 66, 3, 10, 45, 17, 87, 73, 31, 38]]\n",
    "file_suffix_s1 = \"a2\""
   ]
  },
  {
   "cell_type": "code",
   "execution_count": 19,
   "metadata": {},
   "outputs": [],
   "source": [
    "def create_set(path, files, file_set_names, file_suffix):\n",
    "    test_file_name = output_path + path + 'test_' + file_suffix + '.csv'\n",
    "    train_file_name = output_path + path + 'train_' + file_suffix + '.csv'\n",
    "    init_file(test_file_name)\n",
    "    init_file(train_file_name)\n",
    "    \n",
    "    for entry in files:\n",
    "        ts_name = entry['name']\n",
    "        if ts_name in file_set_names:\n",
    "            file_path = entry['file_path']\n",
    "            df = load_data_frame(ts_name, file_path)\n",
    "            df = time_index_to_dt(df)\n",
    "            print(ts_name + \"\\t anomalies \" \n",
    "                  + str(df.loc[df['class']==1].shape[0]) \n",
    "                  + '\\t values ' + str(df.shape[0])\n",
    "                  + '\\t min ' + str(df.loc[df['class']==0, 'value'].min()) \n",
    "                  + '\\t max ' + str(df.loc[df['class']==0, 'value'].max()))\n",
    "            df_test = df.iloc[0:710]\n",
    "            print('test' + \"\\t anomalies \" + str(df_test.loc[df_test['class']==1].shape[0]) + '\\t values ' + str(df_test.shape[0]))\n",
    "\n",
    "            df_train = df.iloc[710:1420]\n",
    "            print('train' + \"\\t anomalies \" + str(df_train.loc[df_train['class']==1].shape[0]) + '\\t values ' + str(df_train.shape[0]))\n",
    "            print('\\n')\n",
    "            append_to_file(df_test, test_file_name)\n",
    "            append_to_file(df_train, train_file_name)"
   ]
  },
  {
   "cell_type": "code",
   "execution_count": 20,
   "metadata": {},
   "outputs": [
    {
     "name": "stdout",
     "output_type": "stream",
     "text": [
      "TS3\t anomalies 1\t values 1421\t min -1469.17024959319\t max 1476.17862753322\n",
      "test\t anomalies 0\t values 710\n",
      "train\t anomalies 1\t values 710\n",
      "\n",
      "\n",
      "TS10\t anomalies 4\t values 1421\t min -1549.60051249137\t max 1781.47914710953\n",
      "test\t anomalies 2\t values 710\n",
      "train\t anomalies 2\t values 710\n",
      "\n",
      "\n",
      "TS17\t anomalies 9\t values 1421\t min -1619.89508548574\t max 2212.82357199317\n",
      "test\t anomalies 6\t values 710\n",
      "train\t anomalies 3\t values 710\n",
      "\n",
      "\n",
      "TS24\t anomalies 1\t values 1421\t min -1841.0297711985002\t max 2729.6232025764803\n",
      "test\t anomalies 0\t values 710\n",
      "train\t anomalies 1\t values 710\n",
      "\n",
      "\n",
      "TS31\t anomalies 4\t values 1421\t min -1747.1208457847101\t max 3696.4468132008396\n",
      "test\t anomalies 2\t values 710\n",
      "train\t anomalies 2\t values 710\n",
      "\n",
      "\n",
      "TS38\t anomalies 9\t values 1421\t min -1787.15788146886\t max 4738.29344409956\n",
      "test\t anomalies 6\t values 710\n",
      "train\t anomalies 3\t values 710\n",
      "\n",
      "\n",
      "TS45\t anomalies 1\t values 1421\t min -2044.18178008182\t max 4791.57054077542\n",
      "test\t anomalies 0\t values 710\n",
      "train\t anomalies 1\t values 710\n",
      "\n",
      "\n",
      "TS66\t anomalies 1\t values 1421\t min -1462.6141903562198\t max 1917.2919262614998\n",
      "test\t anomalies 0\t values 710\n",
      "train\t anomalies 1\t values 710\n",
      "\n",
      "\n",
      "TS73\t anomalies 4\t values 1421\t min -1445.93891892915\t max 3275.1045929661896\n",
      "test\t anomalies 2\t values 710\n",
      "train\t anomalies 2\t values 710\n",
      "\n",
      "\n",
      "TS87\t anomalies 1\t values 1421\t min -1569.3619062555401\t max 4429.938034909121\n",
      "test\t anomalies 0\t values 710\n",
      "train\t anomalies 1\t values 710\n",
      "\n",
      "\n"
     ]
    }
   ],
   "source": [
    "create_set(a2_path, a2files, names_set_a2_s1, file_suffix_s1)"
   ]
  },
  {
   "cell_type": "code",
   "execution_count": null,
   "metadata": {},
   "outputs": [],
   "source": []
  },
  {
   "cell_type": "code",
   "execution_count": null,
   "metadata": {},
   "outputs": [],
   "source": []
  }
 ],
 "metadata": {
  "kernelspec": {
   "display_name": "Django Shell-Plus",
   "language": "python",
   "name": "django_extensions"
  },
  "language_info": {
   "codemirror_mode": {
    "name": "ipython",
    "version": 3
   },
   "file_extension": ".py",
   "mimetype": "text/x-python",
   "name": "python",
   "nbconvert_exporter": "python",
   "pygments_lexer": "ipython3",
   "version": "3.7.9"
  }
 },
 "nbformat": 4,
 "nbformat_minor": 4
}
