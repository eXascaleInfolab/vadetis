{
 "cells": [
  {
   "cell_type": "code",
   "execution_count": 1,
   "metadata": {
    "collapsed": true
   },
   "outputs": [],
   "source": [
    "from lisa.utils import *\n",
    "from lisa.library import *\n",
    "import lisa.models, pytz\n",
    "import numpy as np, pandas as pd, datetime\n",
    "from matplotlib import pyplot as plt, style # for ploting\n",
    "import seaborn as sns # for ploting\n",
    "from sklearn.metrics import fbeta_score, precision_score, recall_score, confusion_matrix # for evaluation\n",
    "import itertools"
   ]
  },
  {
   "cell_type": "code",
   "execution_count": 79,
   "metadata": {
    "collapsed": true
   },
   "outputs": [],
   "source": [
    "style.use('ggplot')\n",
    "np.random.seed(42) \n",
    "\n",
    "def plot_confusion_matrix(cm, classes,\n",
    "                          normalize=False,\n",
    "                          title='Confusion matrix',\n",
    "                          cmap=plt.cm.binary):\n",
    "    \"\"\"\n",
    "    This function prints and plots the confusion matrix.\n",
    "    Normalization can be applied by setting `normalize=True`.\n",
    "    Copyed from a kernel by joparga3 https://www.kaggle.com/joparga3/kernels\n",
    "    \"\"\"\n",
    "    plt.figure()\n",
    "    plt.imshow(cm, interpolation='nearest', cmap=cmap)\n",
    "    plt.title(title)\n",
    "    plt.colorbar()\n",
    "    tick_marks = np.arange(len(classes))\n",
    "    plt.xticks(tick_marks, classes, rotation=0)\n",
    "    plt.yticks(tick_marks, classes)\n",
    "\n",
    "    thresh = cm.max() / 2.\n",
    "    for i, j in itertools.product(range(cm.shape[0]), range(cm.shape[1])):\n",
    "        plt.text(j, i, cm[i, j],\n",
    "                 horizontalalignment=\"center\",\n",
    "                 color=\"white\" if cm[i, j] > thresh else \"black\")\n",
    "\n",
    "    plt.tight_layout()\n",
    "    plt.ylabel('True label')\n",
    "    plt.xlabel('Predicted label')\n",
    "    plt.show()"
   ]
  },
  {
   "cell_type": "code",
   "execution_count": 3,
   "metadata": {},
   "outputs": [
    {
     "name": "stdout",
     "output_type": "stream",
     "text": [
      "(2016, 14)\n"
     ]
    }
   ],
   "source": [
    "dataset = DataSet.objects.get(id=6)\n",
    "df = dataset.dataframe\n",
    "print(df.shape)\n",
    "df_res = pd.DataFrame(index=df.index, columns=df.columns)\n",
    "df_mean = df.mean(axis=1)\n",
    "df_std = df.std(axis=1)\n",
    "df_quantile_25 = df.quantile(0.25, axis=1)\n",
    "df_quantile_75 = df.quantile(0.75, axis=1)"
   ]
  },
  {
   "cell_type": "code",
   "execution_count": 4,
   "metadata": {},
   "outputs": [
    {
     "name": "stdout",
     "output_type": "stream",
     "text": [
      "287\n",
      "station\n",
      "23      9.0\n",
      "24     13.0\n",
      "25     13.0\n",
      "26      NaN\n",
      "27     70.0\n",
      "28      NaN\n",
      "29     34.0\n",
      "30      NaN\n",
      "31      NaN\n",
      "32      NaN\n",
      "33      NaN\n",
      "34      NaN\n",
      "35    148.0\n",
      "37      NaN\n",
      "dtype: float64\n"
     ]
    }
   ],
   "source": [
    "count=0\n",
    "for index, row in df.iterrows():\n",
    "    for column in df.columns:\n",
    "        IQR = df_quantile_75[index] - df_quantile_25[index]\n",
    "        \n",
    "        if row[column] < (df_quantile_25[index] - (1.5 * IQR)) or row[column] > (df_quantile_75[index] + (1.5 * IQR)):\n",
    "            df_res.loc[index, column] = 1\n",
    "            count+=1\n",
    "            #print(index)\n",
    "            #print('Val:', np.abs(row[column]))\n",
    "            #print('Mean:', df_mean[index])\n",
    "            #print('2 Std:', 2*df_std[index])\n",
    "print(count)\n",
    "print(df_res.sum(axis=0))"
   ]
  },
  {
   "cell_type": "code",
   "execution_count": 5,
   "metadata": {},
   "outputs": [
    {
     "name": "stdout",
     "output_type": "stream",
     "text": [
      "222\n"
     ]
    }
   ],
   "source": [
    "indexes = []\n",
    "for index, row in df_res.iterrows():\n",
    "    for column in df_res.columns:\n",
    "        if row[column] == 1:\n",
    "            indexes.append(index)\n",
    "            break\n",
    "print(len(indexes))"
   ]
  },
  {
   "cell_type": "code",
   "execution_count": 6,
   "metadata": {
    "collapsed": true
   },
   "outputs": [],
   "source": [
    "df_class = pd.DataFrame(index=df.index)\n",
    "df_class['Class'] = 0\n",
    "\n",
    "for index in indexes:\n",
    "    df_class.loc[index,'Class'] = 1\n",
    "df = df.join(df_class)"
   ]
  },
  {
   "cell_type": "code",
   "execution_count": 8,
   "metadata": {},
   "outputs": [
    {
     "name": "stdout",
     "output_type": "stream",
     "text": [
      "station_id: 23\n",
      "Execution time for pearson values for series: 0:00:00.139935\n",
      "Execution time for lisa values: 0:00:03.064224\n",
      "station_id: 24\n",
      "Execution time for pearson values for series: 0:00:00.049037\n",
      "Execution time for lisa values: 0:00:03.013976\n",
      "station_id: 25\n",
      "Execution time for pearson values for series: 0:00:00.048814\n",
      "Execution time for lisa values: 0:00:03.564182\n",
      "station_id: 26\n",
      "Execution time for pearson values for series: 0:00:00.063523\n",
      "Execution time for lisa values: 0:00:04.564943\n",
      "station_id: 27\n",
      "Execution time for pearson values for series: 0:00:00.062835\n",
      "Execution time for lisa values: 0:00:03.596617\n",
      "station_id: 28\n",
      "Execution time for pearson values for series: 0:00:00.069879\n",
      "Execution time for lisa values: 0:00:03.823363\n",
      "station_id: 29\n",
      "Execution time for pearson values for series: 0:00:00.048021\n",
      "Execution time for lisa values: 0:00:03.145693\n",
      "station_id: 30\n",
      "Execution time for pearson values for series: 0:00:00.051178\n",
      "Execution time for lisa values: 0:00:03.336894\n",
      "station_id: 31\n",
      "Execution time for pearson values for series: 0:00:00.047555\n",
      "Execution time for lisa values: 0:00:03.052146\n",
      "station_id: 32\n",
      "Execution time for pearson values for series: 0:00:00.048022\n",
      "Execution time for lisa values: 0:00:03.076642\n",
      "station_id: 33\n",
      "Execution time for pearson values for series: 0:00:00.048000\n",
      "Execution time for lisa values: 0:00:02.999080\n",
      "station_id: 34\n",
      "Execution time for pearson values for series: 0:00:00.056503\n",
      "Execution time for lisa values: 0:00:03.212871\n",
      "station_id: 35\n",
      "Execution time for pearson values for series: 0:00:00.048997\n",
      "Execution time for lisa values: 0:00:03.087287\n",
      "station_id: 37\n",
      "Execution time for pearson values for series: 0:00:00.050052\n",
      "Execution time for lisa values: 0:00:03.077439\n",
      "                                 23        24        25        26        27  \\\n",
      "time                                                                          \n",
      "2017-06-01 00:00:00+00:00       NaN       NaN       NaN       NaN       NaN   \n",
      "2017-06-01 00:10:00+00:00       NaN       NaN       NaN       NaN       NaN   \n",
      "2017-06-01 00:20:00+00:00       NaN       NaN       NaN       NaN       NaN   \n",
      "2017-06-01 00:30:00+00:00       NaN       NaN       NaN       NaN       NaN   \n",
      "2017-06-01 00:40:00+00:00       NaN       NaN       NaN       NaN       NaN   \n",
      "2017-06-01 00:50:00+00:00       NaN       NaN       NaN       NaN       NaN   \n",
      "2017-06-01 01:00:00+00:00       NaN       NaN       NaN       NaN       NaN   \n",
      "2017-06-01 01:10:00+00:00       NaN       NaN       NaN       NaN       NaN   \n",
      "2017-06-01 01:20:00+00:00       NaN       NaN       NaN       NaN       NaN   \n",
      "2017-06-01 01:30:00+00:00       NaN       NaN       NaN       NaN       NaN   \n",
      "2017-06-01 01:40:00+00:00       NaN       NaN       NaN       NaN       NaN   \n",
      "2017-06-01 01:50:00+00:00       NaN       NaN       NaN       NaN       NaN   \n",
      "2017-06-01 02:00:00+00:00       NaN       NaN       NaN       NaN       NaN   \n",
      "2017-06-01 02:10:00+00:00       NaN       NaN       NaN       NaN       NaN   \n",
      "2017-06-01 02:20:00+00:00       NaN       NaN       NaN       NaN       NaN   \n",
      "2017-06-01 02:30:00+00:00 -0.053888 -0.039762 -0.039762 -0.054896 -0.168881   \n",
      "2017-06-01 02:40:00+00:00 -0.046924 -0.045441 -0.045441 -0.049018 -0.158023   \n",
      "2017-06-01 02:50:00+00:00 -0.051557 -0.039621 -0.039621 -0.042982 -0.166387   \n",
      "2017-06-01 03:00:00+00:00 -0.046733 -0.036479 -0.036479 -0.038257 -0.159194   \n",
      "2017-06-01 03:10:00+00:00 -0.045169 -0.037399 -0.037399 -0.034370 -0.167221   \n",
      "2017-06-01 03:20:00+00:00 -0.044304 -0.035594 -0.035594 -0.031996 -0.168014   \n",
      "2017-06-01 03:30:00+00:00 -0.047725 -0.029514 -0.029514 -0.027902 -0.177640   \n",
      "2017-06-01 03:40:00+00:00 -0.043873 -0.034796 -0.034796 -0.032163 -0.188074   \n",
      "2017-06-01 03:50:00+00:00 -0.037609 -0.028870 -0.028870 -0.028267 -0.177227   \n",
      "2017-06-01 04:00:00+00:00 -0.042881 -0.024613 -0.024613 -0.024023 -0.190122   \n",
      "2017-06-01 04:10:00+00:00 -0.042866 -0.022829 -0.022829 -0.019039 -0.181090   \n",
      "2017-06-01 04:20:00+00:00 -0.037530 -0.026481 -0.026481 -0.015408 -0.190080   \n",
      "2017-06-01 04:30:00+00:00 -0.035248 -0.027006 -0.027006 -0.018424 -0.181996   \n",
      "2017-06-01 04:40:00+00:00 -0.030173 -0.022893 -0.022893 -0.013750 -0.184352   \n",
      "2017-06-01 04:50:00+00:00 -0.026296 -0.027915 -0.027915 -0.010347 -0.194791   \n",
      "...                             ...       ...       ...       ...       ...   \n",
      "2017-06-14 19:00:00+00:00 -0.012462 -0.006480 -0.006480 -0.244928 -0.114304   \n",
      "2017-06-14 19:10:00+00:00  0.048531 -0.069497 -0.069497 -0.179427 -0.078305   \n",
      "2017-06-14 19:20:00+00:00 -0.071443  0.010587  0.010587 -0.287434 -0.147044   \n",
      "2017-06-14 19:30:00+00:00  0.002804 -0.053142 -0.053142 -0.204962 -0.102881   \n",
      "2017-06-14 19:40:00+00:00 -0.120346 -0.029326 -0.029326 -0.242105 -0.132858   \n",
      "2017-06-14 19:50:00+00:00 -0.316311 -0.000336 -0.000336 -0.272089 -0.176112   \n",
      "2017-06-14 20:00:00+00:00  0.001712 -0.054945 -0.054945 -0.175645 -0.108325   \n",
      "2017-06-14 20:10:00+00:00  0.009114 -0.055624 -0.055624 -0.155508 -0.090068   \n",
      "2017-06-14 20:20:00+00:00  0.010865 -0.047352 -0.047352 -0.149457 -0.096658   \n",
      "2017-06-14 20:30:00+00:00  0.014062 -0.050547 -0.050547 -0.134236 -0.091384   \n",
      "2017-06-14 20:40:00+00:00  0.005955 -0.038998 -0.038998 -0.151808 -0.109185   \n",
      "2017-06-14 20:50:00+00:00 -0.307225  0.008356  0.008356 -0.203109 -0.187237   \n",
      "2017-06-14 21:00:00+00:00 -0.058462 -0.021325 -0.021325 -0.179190 -0.159020   \n",
      "2017-06-14 21:10:00+00:00 -1.039778  0.092653  0.092653 -0.165503 -0.164162   \n",
      "2017-06-14 21:20:00+00:00 -0.764636  0.025398  0.025398 -0.260719 -0.231153   \n",
      "2017-06-14 21:30:00+00:00 -0.120709  0.028846  0.028846 -0.242228 -0.208839   \n",
      "2017-06-14 21:40:00+00:00 -0.176260  0.020506  0.020506 -0.178884 -0.175364   \n",
      "2017-06-14 21:50:00+00:00  0.038621 -0.021487 -0.021487 -0.161634 -0.158237   \n",
      "2017-06-14 22:00:00+00:00  0.046320 -0.016120 -0.016120 -0.174810 -0.173237   \n",
      "2017-06-14 22:10:00+00:00  0.069659 -0.016928 -0.016928 -0.181396 -0.180506   \n",
      "2017-06-14 22:20:00+00:00 -0.025750 -0.017211 -0.017211 -0.172712 -0.193512   \n",
      "2017-06-14 22:30:00+00:00 -0.005628 -0.026828 -0.026828 -0.155873 -0.148094   \n",
      "2017-06-14 22:40:00+00:00 -0.082337 -0.023400 -0.023400 -0.169355 -0.177334   \n",
      "2017-06-14 22:50:00+00:00 -0.023581 -0.027210 -0.027210 -0.146503 -0.142279   \n",
      "2017-06-14 23:00:00+00:00 -0.017811 -0.020214 -0.020214 -0.145572 -0.157070   \n",
      "2017-06-14 23:10:00+00:00 -0.139226  0.006952  0.006952 -0.175799 -0.176701   \n",
      "2017-06-14 23:20:00+00:00 -0.048149 -0.004910 -0.004910 -0.157593 -0.162739   \n",
      "2017-06-14 23:30:00+00:00 -0.028361 -0.003094 -0.003094 -0.167921 -0.173382   \n",
      "2017-06-14 23:40:00+00:00 -0.022193 -0.007901 -0.007901 -0.156586 -0.162710   \n",
      "2017-06-14 23:50:00+00:00  0.024478 -0.015980 -0.015980 -0.151733 -0.165262   \n",
      "\n",
      "                                 28        29        30        31        32  \\\n",
      "time                                                                          \n",
      "2017-06-01 00:00:00+00:00       NaN       NaN       NaN       NaN       NaN   \n",
      "2017-06-01 00:10:00+00:00       NaN       NaN       NaN       NaN       NaN   \n",
      "2017-06-01 00:20:00+00:00       NaN       NaN       NaN       NaN       NaN   \n",
      "2017-06-01 00:30:00+00:00       NaN       NaN       NaN       NaN       NaN   \n",
      "2017-06-01 00:40:00+00:00       NaN       NaN       NaN       NaN       NaN   \n",
      "2017-06-01 00:50:00+00:00       NaN       NaN       NaN       NaN       NaN   \n",
      "2017-06-01 01:00:00+00:00       NaN       NaN       NaN       NaN       NaN   \n",
      "2017-06-01 01:10:00+00:00       NaN       NaN       NaN       NaN       NaN   \n",
      "2017-06-01 01:20:00+00:00       NaN       NaN       NaN       NaN       NaN   \n",
      "2017-06-01 01:30:00+00:00       NaN       NaN       NaN       NaN       NaN   \n",
      "2017-06-01 01:40:00+00:00       NaN       NaN       NaN       NaN       NaN   \n",
      "2017-06-01 01:50:00+00:00       NaN       NaN       NaN       NaN       NaN   \n",
      "2017-06-01 02:00:00+00:00       NaN       NaN       NaN       NaN       NaN   \n",
      "2017-06-01 02:10:00+00:00       NaN       NaN       NaN       NaN       NaN   \n",
      "2017-06-01 02:20:00+00:00       NaN       NaN       NaN       NaN       NaN   \n",
      "2017-06-01 02:30:00+00:00 -0.010576 -0.094531 -0.197861 -0.031944 -0.016214   \n",
      "2017-06-01 02:40:00+00:00 -0.008176 -0.102910 -0.208379 -0.036717 -0.020234   \n",
      "2017-06-01 02:50:00+00:00 -0.005970 -0.109453 -0.217388 -0.041239 -0.023677   \n",
      "2017-06-01 03:00:00+00:00 -0.008384 -0.117919 -0.209677 -0.037499 -0.020528   \n",
      "2017-06-01 03:10:00+00:00 -0.005850 -0.118091 -0.218228 -0.040217 -0.022425   \n",
      "2017-06-01 03:20:00+00:00 -0.008917 -0.119085 -0.221140 -0.037206 -0.019613   \n",
      "2017-06-01 03:30:00+00:00 -0.006136 -0.126150 -0.230701 -0.041269 -0.022665   \n",
      "2017-06-01 03:40:00+00:00 -0.008295 -0.136981 -0.215577 -0.036198 -0.026933   \n",
      "2017-06-01 03:50:00+00:00 -0.005789 -0.143504 -0.229247 -0.039911 -0.022378   \n",
      "2017-06-01 04:00:00+00:00 -0.008054 -0.137926 -0.244373 -0.035329 -0.026795   \n",
      "2017-06-01 04:10:00+00:00 -0.006751 -0.150395 -0.231422 -0.043794 -0.025116   \n",
      "2017-06-01 04:20:00+00:00 -0.009162 -0.158384 -0.240186 -0.038184 -0.029015   \n",
      "2017-06-01 04:30:00+00:00 -0.008783 -0.142196 -0.230275 -0.036484 -0.028234   \n",
      "2017-06-01 04:40:00+00:00 -0.011544 -0.147407 -0.231399 -0.040716 -0.032447   \n",
      "2017-06-01 04:50:00+00:00 -0.009454 -0.156956 -0.219001 -0.047134 -0.028727   \n",
      "...                             ...       ...       ...       ...       ...   \n",
      "2017-06-14 19:00:00+00:00  0.005707  0.015451  0.000000 -0.052207  0.011002   \n",
      "2017-06-14 19:10:00+00:00 -0.060880 -0.006460 -0.030649 -0.013272 -0.003158   \n",
      "2017-06-14 19:20:00+00:00  0.011715  0.019083 -0.005794 -0.049638  0.012465   \n",
      "2017-06-14 19:30:00+00:00 -0.044922 -0.002622 -0.015406 -0.023116 -0.001750   \n",
      "2017-06-14 19:40:00+00:00 -0.024238  0.001612 -0.014892 -0.037402  0.000212   \n",
      "2017-06-14 19:50:00+00:00  0.001866  0.010371 -0.016515 -0.048865  0.006324   \n",
      "2017-06-14 20:00:00+00:00 -0.045710 -0.005566 -0.005744 -0.017256 -0.002308   \n",
      "2017-06-14 20:10:00+00:00 -0.045529 -0.008502 -0.003992 -0.009057 -0.019736   \n",
      "2017-06-14 20:20:00+00:00 -0.046346 -0.004166 -0.005851 -0.006017 -0.037626   \n",
      "2017-06-14 20:30:00+00:00 -0.041562 -0.004679 -0.006651 -0.001525 -0.030330   \n",
      "2017-06-14 20:40:00+00:00 -0.031775 -0.005839 -0.012948 -0.014425 -0.031302   \n",
      "2017-06-14 20:50:00+00:00  0.019355  0.015654 -0.029486 -0.042631  0.011480   \n",
      "2017-06-14 21:00:00+00:00 -0.016760 -0.002195 -0.026192 -0.028270 -0.016222   \n",
      "2017-06-14 21:10:00+00:00  0.088629  0.060520 -0.029882 -0.005895  0.092340   \n",
      "2017-06-14 21:20:00+00:00  0.030266  0.018927 -0.053950 -0.040288  0.033049   \n",
      "2017-06-14 21:30:00+00:00  0.030216  0.018986 -0.060283 -0.031374  0.047772   \n",
      "2017-06-14 21:40:00+00:00  0.017746  0.013382 -0.045605 -0.022985  0.039972   \n",
      "2017-06-14 21:50:00+00:00 -0.016145 -0.013437 -0.032069 -0.012768 -0.010697   \n",
      "2017-06-14 22:00:00+00:00 -0.012301 -0.009851 -0.032702 -0.011274 -0.011530   \n",
      "2017-06-14 22:10:00+00:00 -0.012192 -0.010711 -0.043709 -0.011802 -0.005485   \n",
      "2017-06-14 22:20:00+00:00 -0.011984 -0.010257 -0.034498 -0.013611 -0.002916   \n",
      "2017-06-14 22:30:00+00:00 -0.019131 -0.023144 -0.019873 -0.002419 -0.012529   \n",
      "2017-06-14 22:40:00+00:00 -0.017515 -0.014301 -0.035515 -0.005630 -0.003685   \n",
      "2017-06-14 22:50:00+00:00 -0.023220 -0.025927 -0.031469 -0.001386 -0.017607   \n",
      "2017-06-14 23:00:00+00:00 -0.018440 -0.018949 -0.035343 -0.002113 -0.016880   \n",
      "2017-06-14 23:10:00+00:00  0.004439  0.001593 -0.049540 -0.011709  0.005395   \n",
      "2017-06-14 23:20:00+00:00 -0.005017 -0.010625 -0.050955 -0.006704 -0.004570   \n",
      "2017-06-14 23:30:00+00:00 -0.002392 -0.008889 -0.055029 -0.008504 -0.006793   \n",
      "2017-06-14 23:40:00+00:00 -0.002714 -0.009831 -0.057821 -0.005591 -0.011203   \n",
      "2017-06-14 23:50:00+00:00 -0.011880 -0.008863 -0.070278 -0.002038 -0.033992   \n",
      "\n",
      "                                     33        34        35        37  \n",
      "time                                                                   \n",
      "2017-06-01 00:00:00+00:00           NaN       NaN       NaN       NaN  \n",
      "2017-06-01 00:10:00+00:00           NaN       NaN       NaN       NaN  \n",
      "2017-06-01 00:20:00+00:00           NaN       NaN       NaN       NaN  \n",
      "2017-06-01 00:30:00+00:00           NaN       NaN       NaN       NaN  \n",
      "2017-06-01 00:40:00+00:00           NaN       NaN       NaN       NaN  \n",
      "2017-06-01 00:50:00+00:00           NaN       NaN       NaN       NaN  \n",
      "2017-06-01 01:00:00+00:00           NaN       NaN       NaN       NaN  \n",
      "2017-06-01 01:10:00+00:00           NaN       NaN       NaN       NaN  \n",
      "2017-06-01 01:20:00+00:00           NaN       NaN       NaN       NaN  \n",
      "2017-06-01 01:30:00+00:00           NaN       NaN       NaN       NaN  \n",
      "2017-06-01 01:40:00+00:00           NaN       NaN       NaN       NaN  \n",
      "2017-06-01 01:50:00+00:00           NaN       NaN       NaN       NaN  \n",
      "2017-06-01 02:00:00+00:00           NaN       NaN       NaN       NaN  \n",
      "2017-06-01 02:10:00+00:00           NaN       NaN       NaN       NaN  \n",
      "2017-06-01 02:20:00+00:00           NaN       NaN       NaN       NaN  \n",
      "2017-06-01 02:30:00+00:00 -3.118724e-04 -0.016681 -0.340426 -0.017082  \n",
      "2017-06-01 02:40:00+00:00  2.197416e-04 -0.013844 -0.326690 -0.020650  \n",
      "2017-06-01 02:50:00+00:00 -3.768605e-04 -0.016829 -0.311411 -0.016891  \n",
      "2017-06-01 03:00:00+00:00  1.517191e-04 -0.020655 -0.332061 -0.019984  \n",
      "2017-06-01 03:10:00+00:00 -3.273003e-04 -0.016229 -0.303605 -0.016559  \n",
      "2017-06-01 03:20:00+00:00  1.784524e-04 -0.020491 -0.310239 -0.014122  \n",
      "2017-06-01 03:30:00+00:00 -2.932348e-04 -0.023412 -0.286331 -0.011438  \n",
      "2017-06-01 03:40:00+00:00  4.552850e-05 -0.020351 -0.278977 -0.013882  \n",
      "2017-06-01 03:50:00+00:00 -2.749326e-04 -0.023026 -0.284312 -0.011961  \n",
      "2017-06-01 04:00:00+00:00  9.042186e-18 -0.019959 -0.275985 -0.009585  \n",
      "2017-06-01 04:10:00+00:00 -4.129936e-06 -0.026367 -0.277410 -0.011505  \n",
      "2017-06-01 04:20:00+00:00 -4.065250e-05 -0.021925 -0.258292 -0.008774  \n",
      "2017-06-01 04:30:00+00:00  1.631590e-06 -0.019972 -0.262080 -0.010972  \n",
      "2017-06-01 04:40:00+00:00 -1.422165e-04 -0.016239 -0.273950 -0.007535  \n",
      "2017-06-01 04:50:00+00:00 -5.295437e-04 -0.013622 -0.265517 -0.009647  \n",
      "...                                 ...       ...       ...       ...  \n",
      "2017-06-14 19:00:00+00:00 -4.319768e-02 -0.023937 -0.253733 -0.019100  \n",
      "2017-06-14 19:10:00+00:00 -9.145226e-03  0.003333 -0.692960  0.004034  \n",
      "2017-06-14 19:20:00+00:00 -5.972742e-02 -0.027545 -0.311826 -0.023303  \n",
      "2017-06-14 19:30:00+00:00 -2.202438e-02 -0.006151 -0.619583 -0.004700  \n",
      "2017-06-14 19:40:00+00:00 -3.664881e-02 -0.011801 -0.570731 -0.011631  \n",
      "2017-06-14 19:50:00+00:00 -4.846016e-02 -0.015013 -0.465467 -0.015443  \n",
      "2017-06-14 20:00:00+00:00 -1.800717e-02 -0.004049 -0.628096 -0.003444  \n",
      "2017-06-14 20:10:00+00:00 -9.757095e-03  0.000763 -0.629797  0.001950  \n",
      "2017-06-14 20:20:00+00:00 -6.198166e-03  0.002988 -0.614130  0.003086  \n",
      "2017-06-14 20:30:00+00:00 -1.092497e-03  0.006430 -0.613940  0.005231  \n",
      "2017-06-14 20:40:00+00:00 -9.314839e-03  0.001243 -0.610231  0.000629  \n",
      "2017-06-14 20:50:00+00:00 -4.160441e-02 -0.015734 -0.359316 -0.008945  \n",
      "2017-06-14 21:00:00+00:00 -2.738177e-02 -0.009139 -0.566004 -0.009361  \n",
      "2017-06-14 21:10:00+00:00 -3.070554e-02  0.015035  0.116323  0.014872  \n",
      "2017-06-14 21:20:00+00:00 -5.538616e-02 -0.010362 -0.305694 -0.010275  \n",
      "2017-06-14 21:30:00+00:00 -4.901825e-02 -0.013004 -0.213049 -0.003968  \n",
      "2017-06-14 21:40:00+00:00 -3.965903e-02 -0.003749 -0.216437 -0.003587  \n",
      "2017-06-14 21:50:00+00:00 -2.209154e-02 -0.002345 -0.575872 -0.001693  \n",
      "2017-06-14 22:00:00+00:00 -2.752121e-02 -0.004192 -0.549038 -0.001208  \n",
      "2017-06-14 22:10:00+00:00 -2.868701e-02 -0.004085 -0.544787 -0.003480  \n",
      "2017-06-14 22:20:00+00:00 -2.311508e-02 -0.005162 -0.570057 -0.001534  \n",
      "2017-06-14 22:30:00+00:00 -1.424085e-02  0.000571 -0.620739  0.001167  \n",
      "2017-06-14 22:40:00+00:00 -1.659022e-02 -0.000793 -0.555549 -0.000414  \n",
      "2017-06-14 22:50:00+00:00 -9.601760e-03  0.001199 -0.580930  0.001833  \n",
      "2017-06-14 23:00:00+00:00 -1.072612e-02  0.000314 -0.582729  0.000738  \n",
      "2017-06-14 23:10:00+00:00 -1.783147e-02 -0.000855 -0.373127 -0.000778  \n",
      "2017-06-14 23:20:00+00:00 -1.854124e-02 -0.000286 -0.456674 -0.000223  \n",
      "2017-06-14 23:30:00+00:00 -1.488851e-02 -0.000889 -0.453730 -0.000678  \n",
      "2017-06-14 23:40:00+00:00 -1.773036e-02 -0.000000 -0.460234 -0.000000  \n",
      "2017-06-14 23:50:00+00:00 -1.335494e-02 -0.000010 -0.526035 -0.000611  \n",
      "\n",
      "[2016 rows x 14 columns]\n"
     ]
    }
   ],
   "source": [
    "# append mean values of each row to dataframe\n",
    "df_val_mean = df_copy_with_mean(df.drop('Class', axis=1))\n",
    "\n",
    "df_lisa_station_results = []\n",
    "    \n",
    "for station in dataset.stations.all():\n",
    "    station_id = station.id\n",
    "    print(\"station_id: {0}\".format(station_id))\n",
    "\n",
    "    df_correlation, time_elapsed = pearson(df.drop('Class', axis=1), station_id, window_size=16, min_periods=None)\n",
    "    row_standardized = True\n",
    "    if row_standardized:\n",
    "        df_correlation = df_row_standardized(df_correlation)\n",
    "\n",
    "    df_lisa_results, lisa_time_elapsed = df_lisa_time_series(station_id, df_val_mean, df_correlation)\n",
    "    df_lisa_station_results.append(df_lisa_results)\n",
    "\n",
    "df_lisa = pd.DataFrame(index=df.index)\n",
    "for result in df_lisa_station_results:\n",
    "    df_lisa = df_lisa.join(result)"
   ]
  },
  {
   "cell_type": "code",
   "execution_count": 60,
   "metadata": {},
   "outputs": [
    {
     "name": "stdout",
     "output_type": "stream",
     "text": [
      "2016\n",
      "[ 0.          0.          0.         ..., -0.00888928 -0.00983127\n",
      " -0.00886267]\n"
     ]
    }
   ],
   "source": [
    "df_res = df_res.fillna(value=0)\n",
    "print(len(df_res[23].values))\n",
    "df_lisa = df_lisa.fillna(value=0)\n",
    "y_pred_score = df_lisa[29].values\n",
    "print(y_pred_score)"
   ]
  },
  {
   "cell_type": "code",
   "execution_count": 61,
   "metadata": {},
   "outputs": [],
   "source": [
    "tresholds = np.linspace(0, -1, 100)\n",
    "scores = []\n",
    "y_pred_score = df_lisa[29].values\n",
    "for treshold in tresholds:\n",
    "    y_hat = (y_pred_score < treshold).astype(int)\n",
    "    scores.append([recall_score(y_pred=y_hat, y_true=df_res[29].values),\n",
    "                 precision_score(y_pred=y_hat, y_true=df_res[29].values),\n",
    "                 fbeta_score(y_pred=y_hat, y_true=df_res[29].values, beta=1)])\n",
    "\n",
    "scores = np.array(scores)"
   ]
  },
  {
   "cell_type": "code",
   "execution_count": 78,
   "metadata": {},
   "outputs": [
    {
     "data": {
      "image/png": "[encoded data removed]",
      "text/plain": [
       "<matplotlib.figure.Figure at 0x1174e6d68>"
      ]
     },
     "metadata": {},
     "output_type": "display_data"
    }
   ],
   "source": [
    "plt.plot(tresholds, scores[:, 0], label='$Recall$')\n",
    "plt.plot(tresholds, scores[:, 1], label='$Precision$')\n",
    "plt.plot(tresholds, scores[:, 2], label='$F_1$')\n",
    "plt.ylabel('Score')\n",
    "plt.xlabel('Threshold')\n",
    "plt.legend(loc='best')\n",
    "plt.show()"
   ]
  },
  {
   "cell_type": "code",
   "execution_count": 74,
   "metadata": {},
   "outputs": [
    {
     "data": {
      "text/plain": [
       "-0.40404040404040409"
      ]
     },
     "execution_count": 74,
     "metadata": {},
     "output_type": "execute_result"
    }
   ],
   "source": []
  },
  {
   "cell_type": "code",
   "execution_count": 81,
   "metadata": {},
   "outputs": [
    {
     "name": "stdout",
     "output_type": "stream",
     "text": [
      "Final threshold: -0.404\n",
      "Recall Score: 0.794\n",
      "Precision Score: 0.794\n",
      "F1 Score: 0.794\n"
     ]
    },
    {
     "data": {
      "image/png": "[encoded data removed]",
      "text/plain": [
       "<matplotlib.figure.Figure at 0x1189e2a20>"
      ]
     },
     "metadata": {},
     "output_type": "display_data"
    }
   ],
   "source": [
    "final_tresh = tresholds[scores[:, 2].argmax()]\n",
    "#final_tresh = -0.4\n",
    "y_hat_test = (df_lisa[29].values < final_tresh).astype(int)\n",
    "\n",
    "print('Final threshold: %.3f' % final_tresh)\n",
    "print('Recall Score: %.3f' % recall_score(y_pred=y_hat_test, y_true=df_res[29].values))\n",
    "print('Precision Score: %.3f' % precision_score(y_pred=y_hat_test, y_true=df_res[29].values))\n",
    "print('F1 Score: %.3f' % fbeta_score(y_pred=y_hat_test, y_true=df_res[29].values, beta=1))\n",
    "\n",
    "cnf_matrix = confusion_matrix(df_res[29].values, y_hat_test)\n",
    "plot_confusion_matrix(cnf_matrix, classes=['Normal','Anormal'], title='Confusion matrix')"
   ]
  },
  {
   "cell_type": "code",
   "execution_count": 48,
   "metadata": {},
   "outputs": [
    {
     "data": {
      "text/plain": [
       "(623, 15)"
      ]
     },
     "execution_count": 48,
     "metadata": {},
     "output_type": "execute_result"
    }
   ],
   "source": [
    "#gets all anormal instances\n",
    "df[(model.predict(df_n.drop('Class', axis=1).values) < final_tresh)].shape"
   ]
  },
  {
   "cell_type": "code",
   "execution_count": 41,
   "metadata": {},
   "outputs": [
    {
     "name": "stdout",
     "output_type": "stream",
     "text": [
      "Final threshold: 21\n",
      "Test Recall Score: 0.468\n",
      "Test Precision Score: 0.283\n",
      "Test F1 Score: 0.353\n"
     ]
    },
    {
     "data": {
      "image/png": "[encoded data removed]",
      "text/plain": [
       "<matplotlib.figure.Figure at 0x114ec3c18>"
      ]
     },
     "metadata": {},
     "output_type": "display_data"
    }
   ],
   "source": [
    "final_tresh = tresholds[scores[:, 2].argmax()]\n",
    "y_hat_test = (model.predict(test.drop('Class', axis=1).values) < final_tresh).astype(int)\n",
    "\n",
    "print('Final threshold: %d' % final_tresh)\n",
    "print('Test Recall Score: %.3f' % recall_score(y_pred=y_hat_test, y_true=test['Class'].values))\n",
    "print('Test Precision Score: %.3f' % precision_score(y_pred=y_hat_test, y_true=test['Class'].values))\n",
    "print('Test F1 Score: %.3f' % fbeta_score(y_pred=y_hat_test, y_true=test['Class'].values, beta=1))\n",
    "\n",
    "cnf_matrix = confusion_matrix(test['Class'].values, y_hat_test)\n",
    "plot_confusion_matrix(cnf_matrix, classes=['Normal','Anormal'], title='Confusion matrix')"
   ]
  },
  {
   "cell_type": "code",
   "execution_count": null,
   "metadata": {
    "collapsed": true
   },
   "outputs": [],
   "source": []
  }
 ],
 "metadata": {
  "kernelspec": {
   "display_name": "Django Shell-Plus",
   "language": "python",
   "name": "django_extensions"
  },
  "language_info": {
   "codemirror_mode": {
    "name": "ipython",
    "version": 3
   },
   "file_extension": ".py",
   "mimetype": "text/x-python",
   "name": "python",
   "nbconvert_exporter": "python",
   "pygments_lexer": "ipython3",
   "version": "3.6.2"
  }
 },
 "nbformat": 4,
 "nbformat_minor": 2
}
