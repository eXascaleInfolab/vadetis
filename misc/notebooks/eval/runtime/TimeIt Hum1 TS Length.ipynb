{
 "cells": [
  {
   "cell_type": "code",
   "execution_count": 1,
   "metadata": {},
   "outputs": [],
   "source": [
    "from vadetisweb.anomaly_algorithms.detection.cluster import cluster_gaussian_mixture\n",
    "from vadetisweb.anomaly_algorithms.detection.histogram import histogram\n",
    "from vadetisweb.anomaly_algorithms.detection.svm import svm\n",
    "from vadetisweb.anomaly_algorithms.detection.isolation_forest import isolation_forest\n",
    "from vadetisweb.anomaly_algorithms.detection.lisa import lisa_pearson, lisa_dtw, lisa_geo\n",
    "from vadetisweb.anomaly_algorithms.detection.robust_pca import robust_pca_huber_loss\n",
    "from vadetisweb.models import DataSet, TimeSeries\n",
    "\n",
    "import pprint\n",
    "pp = pprint.PrettyPrinter(indent=4)"
   ]
  },
  {
   "cell_type": "code",
   "execution_count": 1,
   "metadata": {},
   "outputs": [],
   "source": [
    "# Hum1 Single - TS LENGTH\n",
    "dataset_name = 'Humidity'\n",
    "ts_name = 'LUZ'\n",
    "dimensions = [100, 200, 300, 400, 500, 600, 700, 800, 900, 1000, 1100, 1200, 1300, 1400, 1500]"
   ]
  },
  {
   "cell_type": "code",
   "execution_count": 3,
   "metadata": {},
   "outputs": [],
   "source": [
    "#input\n",
    "def get_dataset(title, ts_name=None):\n",
    "    ts_id = None\n",
    "    dataset = DataSet.objects.filter(title=title).first()\n",
    "    training_dataset = dataset.training_dataset.all().first()\n",
    "    if ts_name is not None:\n",
    "        ts_id = dataset.timeseries_set.all().filter(name=ts_name).first().id\n",
    "\n",
    "    return dataset, training_dataset, ts_id"
   ]
  },
  {
   "cell_type": "code",
   "execution_count": 4,
   "metadata": {},
   "outputs": [],
   "source": [
    "def lisa_pearson_detection_time_it(df, df_class, time_series_id, maximize_score='F1-Score', window_size=10):\n",
    "    result = %timeit -o lisa_pearson(df, df_class, time_series_id, maximize_score=maximize_score, window_size=window_size)\n",
    "    return result"
   ]
  },
  {
   "cell_type": "code",
   "execution_count": 5,
   "metadata": {},
   "outputs": [],
   "source": [
    "def lisa_dtw_detection_time_it(df, df_class, time_series_id, maximize_score='F1-Score', window_size=10):\n",
    "    result = %timeit -o lisa_dtw(df, df_class, time_series_id, maximize_score=maximize_score, window_size=window_size, distance_function='euclidean')\n",
    "    return result"
   ]
  },
  {
   "cell_type": "code",
   "execution_count": 6,
   "metadata": {},
   "outputs": [],
   "source": [
    "def lisa_geo_detection_time_it(df, df_class, time_series_id, maximize_score='F1-Score'):\n",
    "    result = %timeit -o lisa_geo(df, df_class, time_series_id, maximize_score=maximize_score)\n",
    "    return result"
   ]
  },
  {
   "cell_type": "code",
   "execution_count": 7,
   "metadata": {},
   "outputs": [],
   "source": [
    "def rpca_detection_time_it(df, df_class, df_train, df_train_class, delta=1, n_components=2, maximize_score='F1-Score', train_size=0.5):\n",
    "    result = %timeit -o robust_pca_huber_loss(df, df_class, df_train, df_train_class, delta=delta, n_components=n_components, maximize_score=maximize_score, train_size=train_size)\n",
    "    return result"
   ]
  },
  {
   "cell_type": "code",
   "execution_count": 8,
   "metadata": {},
   "outputs": [],
   "source": [
    "def histogram_detection_time_it(df, df_class, df_train, df_train_class, maximize_score='F1-Score', train_size=0.5):\n",
    "    result = %timeit -o histogram(df, df_class, df_train, df_train_class, maximize_score=maximize_score, train_size=train_size)\n",
    "    return result"
   ]
  },
  {
   "cell_type": "code",
   "execution_count": 9,
   "metadata": {},
   "outputs": [],
   "source": [
    "def cluster_detection_time_it(df, df_class, df_train, df_train_class, maximize_score='F1-Score', n_components=3, n_init=3, train_size=0.5):\n",
    "    result = %timeit -o cluster_gaussian_mixture(df, df_class, df_train, df_train_class, maximize_score=maximize_score, n_components=n_components, n_init=n_init, train_size=train_size)\n",
    "    return result"
   ]
  },
  {
   "cell_type": "code",
   "execution_count": 10,
   "metadata": {},
   "outputs": [],
   "source": [
    "def svm_detection_time_it(df, df_class, df_train, df_train_class, maximize_score='F1-Score', nu=0.95, kernel='rbf', train_size=0.5):\n",
    "    result = %timeit -o svm(df, df_class, df_train, df_train_class, maximize_score=maximize_score, nu=nu, kernel=kernel, train_size=train_size)\n",
    "    return result"
   ]
  },
  {
   "cell_type": "code",
   "execution_count": 11,
   "metadata": {},
   "outputs": [],
   "source": [
    "def isolation_forest_detection_time_it(df, df_class, df_train, df_train_class, maximize_score='F1-Score', n_jobs=-1, bootstrap=False, n_estimators=40, train_size=0.5):\n",
    "    result = %timeit -o isolation_forest(df, df_class, df_train, df_train_class, maximize_score=maximize_score, n_jobs=n_jobs, bootstrap=bootstrap, n_estimators=n_estimators, train_size=train_size)\n",
    "    return result"
   ]
  },
  {
   "cell_type": "code",
   "execution_count": 13,
   "metadata": {},
   "outputs": [
    {
     "name": "stdout",
     "output_type": "stream",
     "text": [
      "1.26 s ± 28 ms per loop (mean ± std. dev. of 7 runs, 1 loop each)\n",
      "1.4 s ± 30.8 ms per loop (mean ± std. dev. of 7 runs, 1 loop each)\n",
      "1.56 s ± 29.5 ms per loop (mean ± std. dev. of 7 runs, 1 loop each)\n",
      "1.7 s ± 38.2 ms per loop (mean ± std. dev. of 7 runs, 1 loop each)\n",
      "1.94 s ± 39.1 ms per loop (mean ± std. dev. of 7 runs, 1 loop each)\n",
      "2.06 s ± 34.8 ms per loop (mean ± std. dev. of 7 runs, 1 loop each)\n",
      "2.21 s ± 1.78 ms per loop (mean ± std. dev. of 7 runs, 1 loop each)\n",
      "2.4 s ± 32.7 ms per loop (mean ± std. dev. of 7 runs, 1 loop each)\n",
      "2.54 s ± 48 ms per loop (mean ± std. dev. of 7 runs, 1 loop each)\n",
      "2.65 s ± 1.6 ms per loop (mean ± std. dev. of 7 runs, 1 loop each)\n",
      "2.82 s ± 972 µs per loop (mean ± std. dev. of 7 runs, 1 loop each)\n",
      "2.99 s ± 2.6 ms per loop (mean ± std. dev. of 7 runs, 1 loop each)\n",
      "3.22 s ± 95 ms per loop (mean ± std. dev. of 7 runs, 1 loop each)\n",
      "3.47 s ± 74.7 ms per loop (mean ± std. dev. of 7 runs, 1 loop each)\n",
      "3.56 s ± 1.58 ms per loop (mean ± std. dev. of 7 runs, 1 loop each)\n"
     ]
    }
   ],
   "source": [
    "# TIME TS LENGTH - Pearson\n",
    "dataset, _, ts_id = get_dataset(dataset_name, ts_name)\n",
    "lisa_pearson_results = []\n",
    "for l in dimensions:\n",
    "    df = dataset.dataframe[0:l]\n",
    "    df_class = dataset.dataframe_class[0:l]\n",
    "    \n",
    "    r = lisa_pearson_detection_time_it(df, df_class, ts_id)\n",
    "    lisa_pearson_results.append(np.round(np.average(r.all_runs), 2))"
   ]
  },
  {
   "cell_type": "code",
   "execution_count": 14,
   "metadata": {},
   "outputs": [
    {
     "name": "stdout",
     "output_type": "stream",
     "text": [
      "1.72 s ± 46.9 ms per loop (mean ± std. dev. of 7 runs, 1 loop each)\n",
      "2.54 s ± 48 ms per loop (mean ± std. dev. of 7 runs, 1 loop each)\n",
      "3.23 s ± 67.4 ms per loop (mean ± std. dev. of 7 runs, 1 loop each)\n",
      "3.98 s ± 98.8 ms per loop (mean ± std. dev. of 7 runs, 1 loop each)\n",
      "4.61 s ± 95.1 ms per loop (mean ± std. dev. of 7 runs, 1 loop each)\n",
      "5.51 s ± 109 ms per loop (mean ± std. dev. of 7 runs, 1 loop each)\n",
      "6.17 s ± 68.6 ms per loop (mean ± std. dev. of 7 runs, 1 loop each)\n",
      "6.78 s ± 15.7 ms per loop (mean ± std. dev. of 7 runs, 1 loop each)\n",
      "7.56 s ± 139 ms per loop (mean ± std. dev. of 7 runs, 1 loop each)\n",
      "8.67 s ± 105 ms per loop (mean ± std. dev. of 7 runs, 1 loop each)\n",
      "9.16 s ± 167 ms per loop (mean ± std. dev. of 7 runs, 1 loop each)\n",
      "9.99 s ± 158 ms per loop (mean ± std. dev. of 7 runs, 1 loop each)\n",
      "10.7 s ± 234 ms per loop (mean ± std. dev. of 7 runs, 1 loop each)\n",
      "11.6 s ± 141 ms per loop (mean ± std. dev. of 7 runs, 1 loop each)\n",
      "12.2 s ± 180 ms per loop (mean ± std. dev. of 7 runs, 1 loop each)\n"
     ]
    }
   ],
   "source": [
    "# TIME TS LENGTH - DTW\n",
    "dataset, _, ts_id = get_dataset(dataset_name, ts_name)\n",
    "lisa_dtw_results = []\n",
    "for l in dimensions:\n",
    "    df = dataset.dataframe[0:l]\n",
    "    df_class = dataset.dataframe_class[0:l]\n",
    "    \n",
    "    r = lisa_dtw_detection_time_it(df, df_class, ts_id)\n",
    "    lisa_dtw_results.append(np.round(np.average(r.all_runs), 2))"
   ]
  },
  {
   "cell_type": "code",
   "execution_count": 15,
   "metadata": {},
   "outputs": [
    {
     "name": "stdout",
     "output_type": "stream",
     "text": [
      "1.42 s ± 14 ms per loop (mean ± std. dev. of 7 runs, 1 loop each)\n",
      "1.57 s ± 12.7 ms per loop (mean ± std. dev. of 7 runs, 1 loop each)\n",
      "1.74 s ± 2.59 ms per loop (mean ± std. dev. of 7 runs, 1 loop each)\n",
      "1.92 s ± 8.43 ms per loop (mean ± std. dev. of 7 runs, 1 loop each)\n",
      "2.11 s ± 16.1 ms per loop (mean ± std. dev. of 7 runs, 1 loop each)\n",
      "2.3 s ± 18.7 ms per loop (mean ± std. dev. of 7 runs, 1 loop each)\n",
      "2.45 s ± 35.5 ms per loop (mean ± std. dev. of 7 runs, 1 loop each)\n",
      "2.62 s ± 23.8 ms per loop (mean ± std. dev. of 7 runs, 1 loop each)\n",
      "2.82 s ± 16.7 ms per loop (mean ± std. dev. of 7 runs, 1 loop each)\n",
      "2.96 s ± 16.9 ms per loop (mean ± std. dev. of 7 runs, 1 loop each)\n",
      "3.1 s ± 23.9 ms per loop (mean ± std. dev. of 7 runs, 1 loop each)\n",
      "3.34 s ± 34.3 ms per loop (mean ± std. dev. of 7 runs, 1 loop each)\n",
      "3.53 s ± 10.4 ms per loop (mean ± std. dev. of 7 runs, 1 loop each)\n",
      "3.68 s ± 36.7 ms per loop (mean ± std. dev. of 7 runs, 1 loop each)\n",
      "3.85 s ± 34.9 ms per loop (mean ± std. dev. of 7 runs, 1 loop each)\n"
     ]
    }
   ],
   "source": [
    "# TIME TS LENGTH - LISA VANILLA\n",
    "dataset, _, ts_id = get_dataset(dataset_name, ts_name)\n",
    "lisa_geo_results = []\n",
    "for l in dimensions:\n",
    "    df = dataset.dataframe[0:l]\n",
    "    df_class = dataset.dataframe_class[0:l]\n",
    "    \n",
    "    r = lisa_geo_detection_time_it(df, df_class, ts_id)\n",
    "    lisa_geo_results.append(np.round(np.average(r.all_runs), 2))"
   ]
  },
  {
   "cell_type": "code",
   "execution_count": 16,
   "metadata": {},
   "outputs": [
    {
     "name": "stdout",
     "output_type": "stream",
     "text": [
      "2.56 s ± 108 ms per loop (mean ± std. dev. of 7 runs, 1 loop each)\n",
      "2.64 s ± 73.1 ms per loop (mean ± std. dev. of 7 runs, 1 loop each)\n",
      "2.66 s ± 126 ms per loop (mean ± std. dev. of 7 runs, 1 loop each)\n",
      "2.65 s ± 71.5 ms per loop (mean ± std. dev. of 7 runs, 1 loop each)\n",
      "2.63 s ± 63 ms per loop (mean ± std. dev. of 7 runs, 1 loop each)\n",
      "2.8 s ± 92 ms per loop (mean ± std. dev. of 7 runs, 1 loop each)\n",
      "2.8 s ± 62.5 ms per loop (mean ± std. dev. of 7 runs, 1 loop each)\n",
      "2.74 s ± 28 ms per loop (mean ± std. dev. of 7 runs, 1 loop each)\n",
      "2.85 s ± 41.1 ms per loop (mean ± std. dev. of 7 runs, 1 loop each)\n",
      "2.95 s ± 36.9 ms per loop (mean ± std. dev. of 7 runs, 1 loop each)\n",
      "2.96 s ± 85.7 ms per loop (mean ± std. dev. of 7 runs, 1 loop each)\n",
      "2.98 s ± 70.7 ms per loop (mean ± std. dev. of 7 runs, 1 loop each)\n",
      "2.98 s ± 89.9 ms per loop (mean ± std. dev. of 7 runs, 1 loop each)\n",
      "2.93 s ± 59.1 ms per loop (mean ± std. dev. of 7 runs, 1 loop each)\n",
      "3.1 s ± 137 ms per loop (mean ± std. dev. of 7 runs, 1 loop each)\n"
     ]
    }
   ],
   "source": [
    "# TIME TS LENGTH - RPCA\n",
    "dataset, training_dataset, _ = get_dataset(dataset_name)\n",
    "rpca_results = []\n",
    "for l in dimensions:\n",
    "    df = dataset.dataframe[0:l]\n",
    "    df_class = dataset.dataframe_class[0:l]\n",
    "    \n",
    "    r = rpca_detection_time_it(df, df_class, training_dataset.dataframe, training_dataset.dataframe_class)\n",
    "    rpca_results.append(np.round(np.average(r.all_runs), 2))"
   ]
  },
  {
   "cell_type": "code",
   "execution_count": 17,
   "metadata": {},
   "outputs": [
    {
     "name": "stdout",
     "output_type": "stream",
     "text": [
      "2.52 s ± 73.2 ms per loop (mean ± std. dev. of 7 runs, 1 loop each)\n",
      "2.54 s ± 61.1 ms per loop (mean ± std. dev. of 7 runs, 1 loop each)\n",
      "2.62 s ± 54.5 ms per loop (mean ± std. dev. of 7 runs, 1 loop each)\n",
      "2.64 s ± 46.2 ms per loop (mean ± std. dev. of 7 runs, 1 loop each)\n",
      "2.76 s ± 21.6 ms per loop (mean ± std. dev. of 7 runs, 1 loop each)\n",
      "2.75 s ± 51.7 ms per loop (mean ± std. dev. of 7 runs, 1 loop each)\n",
      "2.75 s ± 40.4 ms per loop (mean ± std. dev. of 7 runs, 1 loop each)\n",
      "2.86 s ± 72.3 ms per loop (mean ± std. dev. of 7 runs, 1 loop each)\n",
      "2.83 s ± 68.1 ms per loop (mean ± std. dev. of 7 runs, 1 loop each)\n",
      "2.93 s ± 54.8 ms per loop (mean ± std. dev. of 7 runs, 1 loop each)\n",
      "2.96 s ± 76 ms per loop (mean ± std. dev. of 7 runs, 1 loop each)\n",
      "2.98 s ± 64.3 ms per loop (mean ± std. dev. of 7 runs, 1 loop each)\n",
      "3.01 s ± 65.5 ms per loop (mean ± std. dev. of 7 runs, 1 loop each)\n",
      "3.04 s ± 74.2 ms per loop (mean ± std. dev. of 7 runs, 1 loop each)\n",
      "3.04 s ± 74.9 ms per loop (mean ± std. dev. of 7 runs, 1 loop each)\n"
     ]
    }
   ],
   "source": [
    "# TIME TS LENGTH - HISTOGRAM\n",
    "dataset, training_dataset, _ = get_dataset(dataset_name)\n",
    "histogram_results = []\n",
    "for l in dimensions:\n",
    "    df = dataset.dataframe[0:l]\n",
    "    df_class = dataset.dataframe_class[0:l]\n",
    "    \n",
    "    r = histogram_detection_time_it(df, df_class, training_dataset.dataframe, training_dataset.dataframe_class)\n",
    "    histogram_results.append(np.round(np.average(r.all_runs), 2))"
   ]
  },
  {
   "cell_type": "code",
   "execution_count": 18,
   "metadata": {},
   "outputs": [
    {
     "name": "stdout",
     "output_type": "stream",
     "text": [
      "2.58 s ± 70.6 ms per loop (mean ± std. dev. of 7 runs, 1 loop each)\n",
      "2.66 s ± 42.6 ms per loop (mean ± std. dev. of 7 runs, 1 loop each)\n",
      "2.63 s ± 59.4 ms per loop (mean ± std. dev. of 7 runs, 1 loop each)\n",
      "2.67 s ± 71.2 ms per loop (mean ± std. dev. of 7 runs, 1 loop each)\n",
      "2.68 s ± 67.6 ms per loop (mean ± std. dev. of 7 runs, 1 loop each)\n",
      "2.78 s ± 47.9 ms per loop (mean ± std. dev. of 7 runs, 1 loop each)\n",
      "2.67 s ± 5.54 ms per loop (mean ± std. dev. of 7 runs, 1 loop each)\n",
      "2.8 s ± 63.3 ms per loop (mean ± std. dev. of 7 runs, 1 loop each)\n",
      "2.86 s ± 75.4 ms per loop (mean ± std. dev. of 7 runs, 1 loop each)\n",
      "2.84 s ± 55.2 ms per loop (mean ± std. dev. of 7 runs, 1 loop each)\n",
      "2.86 s ± 54 ms per loop (mean ± std. dev. of 7 runs, 1 loop each)\n",
      "2.99 s ± 93.7 ms per loop (mean ± std. dev. of 7 runs, 1 loop each)\n",
      "2.99 s ± 91.7 ms per loop (mean ± std. dev. of 7 runs, 1 loop each)\n",
      "3.05 s ± 78.6 ms per loop (mean ± std. dev. of 7 runs, 1 loop each)\n",
      "3.11 s ± 52.2 ms per loop (mean ± std. dev. of 7 runs, 1 loop each)\n"
     ]
    }
   ],
   "source": [
    "# TIME TS LENGTH - CLUSTER\n",
    "dataset, training_dataset, _ = get_dataset(dataset_name)\n",
    "cluster_results = []\n",
    "for l in dimensions:\n",
    "    df = dataset.dataframe[0:l]\n",
    "    df_class = dataset.dataframe_class[0:l]\n",
    "    \n",
    "    r = cluster_detection_time_it(df, df_class, training_dataset.dataframe, training_dataset.dataframe_class)\n",
    "    cluster_results.append(np.round(np.average(r.all_runs), 2))"
   ]
  },
  {
   "cell_type": "code",
   "execution_count": 19,
   "metadata": {},
   "outputs": [
    {
     "name": "stdout",
     "output_type": "stream",
     "text": [
      "2.42 s ± 79 ms per loop (mean ± std. dev. of 7 runs, 1 loop each)\n",
      "2.51 s ± 54.5 ms per loop (mean ± std. dev. of 7 runs, 1 loop each)\n",
      "2.46 s ± 1.14 ms per loop (mean ± std. dev. of 7 runs, 1 loop each)\n",
      "2.59 s ± 46.3 ms per loop (mean ± std. dev. of 7 runs, 1 loop each)\n",
      "2.54 s ± 3.49 ms per loop (mean ± std. dev. of 7 runs, 1 loop each)\n",
      "2.72 s ± 70.3 ms per loop (mean ± std. dev. of 7 runs, 1 loop each)\n",
      "2.76 s ± 29.9 ms per loop (mean ± std. dev. of 7 runs, 1 loop each)\n",
      "2.67 s ± 32.5 ms per loop (mean ± std. dev. of 7 runs, 1 loop each)\n",
      "2.78 s ± 88.4 ms per loop (mean ± std. dev. of 7 runs, 1 loop each)\n",
      "2.88 s ± 54.4 ms per loop (mean ± std. dev. of 7 runs, 1 loop each)\n",
      "2.86 s ± 79.6 ms per loop (mean ± std. dev. of 7 runs, 1 loop each)\n",
      "2.95 s ± 81.8 ms per loop (mean ± std. dev. of 7 runs, 1 loop each)\n",
      "2.94 s ± 65 ms per loop (mean ± std. dev. of 7 runs, 1 loop each)\n",
      "3.05 s ± 85.6 ms per loop (mean ± std. dev. of 7 runs, 1 loop each)\n",
      "2.99 s ± 4.53 ms per loop (mean ± std. dev. of 7 runs, 1 loop each)\n"
     ]
    }
   ],
   "source": [
    "# TIME TS LENGTH - SVM\n",
    "dataset, training_dataset, _ = get_dataset(dataset_name)\n",
    "svm_results = []\n",
    "for l in dimensions:\n",
    "    df = dataset.dataframe[0:l]\n",
    "    df_class = dataset.dataframe_class[0:l]\n",
    "    \n",
    "    r = svm_detection_time_it(df, df_class, training_dataset.dataframe, training_dataset.dataframe_class)\n",
    "    svm_results.append(np.round(np.average(r.all_runs), 2))"
   ]
  },
  {
   "cell_type": "code",
   "execution_count": 20,
   "metadata": {},
   "outputs": [
    {
     "name": "stdout",
     "output_type": "stream",
     "text": [
      "2.76 s ± 39.9 ms per loop (mean ± std. dev. of 7 runs, 1 loop each)\n",
      "2.84 s ± 23.8 ms per loop (mean ± std. dev. of 7 runs, 1 loop each)\n",
      "2.87 s ± 28.3 ms per loop (mean ± std. dev. of 7 runs, 1 loop each)\n",
      "2.91 s ± 24 ms per loop (mean ± std. dev. of 7 runs, 1 loop each)\n",
      "2.94 s ± 28.7 ms per loop (mean ± std. dev. of 7 runs, 1 loop each)\n",
      "2.99 s ± 34.4 ms per loop (mean ± std. dev. of 7 runs, 1 loop each)\n",
      "3.04 s ± 29.6 ms per loop (mean ± std. dev. of 7 runs, 1 loop each)\n",
      "3.06 s ± 29.2 ms per loop (mean ± std. dev. of 7 runs, 1 loop each)\n",
      "3.08 s ± 64 ms per loop (mean ± std. dev. of 7 runs, 1 loop each)\n",
      "3.12 s ± 42.3 ms per loop (mean ± std. dev. of 7 runs, 1 loop each)\n",
      "3.19 s ± 19.2 ms per loop (mean ± std. dev. of 7 runs, 1 loop each)\n",
      "3.23 s ± 37.8 ms per loop (mean ± std. dev. of 7 runs, 1 loop each)\n",
      "3.27 s ± 21.8 ms per loop (mean ± std. dev. of 7 runs, 1 loop each)\n",
      "3.3 s ± 38.5 ms per loop (mean ± std. dev. of 7 runs, 1 loop each)\n",
      "3.39 s ± 54.4 ms per loop (mean ± std. dev. of 7 runs, 1 loop each)\n"
     ]
    }
   ],
   "source": [
    "# TIME TS LENGTH - ISOLATION FOREST\n",
    "dataset, training_dataset, _ = get_dataset(dataset_name)\n",
    "isolation_results = []\n",
    "for l in dimensions:\n",
    "    df = dataset.dataframe[0:l]\n",
    "    df_class = dataset.dataframe_class[0:l]\n",
    "    \n",
    "    r = isolation_forest_detection_time_it(df, df_class, training_dataset.dataframe, training_dataset.dataframe_class)\n",
    "    isolation_results.append(np.round(np.average(r.all_runs), 2))"
   ]
  },
  {
   "cell_type": "code",
   "execution_count": 22,
   "metadata": {},
   "outputs": [],
   "source": [
    "scores = [{ 'title' : 'LISA (Pearson)', 'scores' : lisa_pearson_results }, \n",
    "          { 'title' : 'LISA (DTW)', 'scores' : lisa_dtw_results }, \n",
    "          { 'title' : 'LISA (Vanilla)', 'scores' :  lisa_geo_results }, \n",
    "          { 'title' : 'RPCA', 'scores' :  rpca_results }, \n",
    "          { 'title' : 'Histogram', 'scores' :  histogram_results }, \n",
    "          { 'title' : 'Cluster', 'scores' :  cluster_results }, \n",
    "          { 'title' : 'SVM', 'scores' :  svm_results }, \n",
    "          { 'title' : 'Isolation Forest', 'scores' :  isolation_results }\n",
    "         ]"
   ]
  },
  {
   "cell_type": "code",
   "execution_count": 23,
   "metadata": {},
   "outputs": [
    {
     "name": "stdout",
     "output_type": "stream",
     "text": [
      "[{'title': 'LISA (Pearson)', 'scores': [1.26, 1.4, 1.56, 1.7, 1.94, 2.06, 2.21, 2.4, 2.54, 2.65, 2.82, 2.99, 3.22, 3.47, 3.56]}, {'title': 'LISA (DTW)', 'scores': [1.72, 2.54, 3.23, 3.98, 4.61, 5.51, 6.17, 6.78, 7.56, 8.67, 9.16, 9.99, 10.74, 11.61, 12.19]}, {'title': 'LISA (Vanilla)', 'scores': [1.42, 1.57, 1.74, 1.92, 2.11, 2.3, 2.45, 2.62, 2.82, 2.96, 3.1, 3.34, 3.53, 3.68, 3.85]}, {'title': 'RPCA', 'scores': [2.56, 2.64, 2.66, 2.65, 2.63, 2.8, 2.8, 2.74, 2.85, 2.95, 2.96, 2.98, 2.98, 2.93, 3.1]}, {'title': 'Histogram', 'scores': [2.52, 2.54, 2.62, 2.64, 2.76, 2.75, 2.75, 2.86, 2.83, 2.93, 2.96, 2.98, 3.01, 3.04, 3.04]}, {'title': 'Cluster', 'scores': [2.58, 2.66, 2.63, 2.67, 2.68, 2.78, 2.67, 2.8, 2.86, 2.84, 2.86, 2.99, 2.99, 3.05, 3.11]}, {'title': 'SVM', 'scores': [2.42, 2.51, 2.46, 2.59, 2.54, 2.72, 2.76, 2.67, 2.78, 2.88, 2.86, 2.95, 2.94, 3.05, 2.99]}, {'title': 'Isolation Forest', 'scores': [2.76, 2.84, 2.87, 2.91, 2.94, 2.99, 3.04, 3.06, 3.08, 3.12, 3.19, 3.23, 3.27, 3.3, 3.39]}]\n"
     ]
    }
   ],
   "source": [
    "print(scores)"
   ]
  },
  {
   "cell_type": "code",
   "execution_count": 3,
   "metadata": {},
   "outputs": [],
   "source": [
    "scores = [{'title': 'LISA (Pearson)', 'scores': [1.26, 1.4, 1.56, 1.7, 1.94, 2.06, 2.21, 2.4, 2.54, 2.65, 2.82, 2.99, 3.22, 3.47, 3.56]}, {'title': 'LISA (DTW)', 'scores': [1.72, 2.54, 3.23, 3.98, 4.61, 5.51, 6.17, 6.78, 7.56, 8.67, 9.16, 9.99, 10.74, 11.61, 12.19]}, {'title': 'LISA (Vanilla)', 'scores': [1.42, 1.57, 1.74, 1.92, 2.11, 2.3, 2.45, 2.62, 2.82, 2.96, 3.1, 3.34, 3.53, 3.68, 3.85]}, {'title': 'RPCA', 'scores': [2.56, 2.64, 2.66, 2.65, 2.63, 2.8, 2.8, 2.74, 2.85, 2.95, 2.96, 2.98, 2.98, 2.93, 3.1]}, {'title': 'Histogram', 'scores': [2.52, 2.54, 2.62, 2.64, 2.76, 2.75, 2.75, 2.86, 2.83, 2.93, 2.96, 2.98, 3.01, 3.04, 3.04]}, {'title': 'Cluster', 'scores': [2.58, 2.66, 2.63, 2.67, 2.68, 2.78, 2.67, 2.8, 2.86, 2.84, 2.86, 2.99, 2.99, 3.05, 3.11]}, {'title': 'SVM', 'scores': [2.42, 2.51, 2.46, 2.59, 2.54, 2.72, 2.76, 2.67, 2.78, 2.88, 2.86, 2.95, 2.94, 3.05, 2.99]}, {'title': 'Isolation Forest', 'scores': [2.76, 2.84, 2.87, 2.91, 2.94, 2.99, 3.04, 3.06, 3.08, 3.12, 3.19, 3.23, 3.27, 3.3, 3.39]}]"
   ]
  },
  {
   "cell_type": "code",
   "execution_count": 4,
   "metadata": {},
   "outputs": [],
   "source": [
    "results = []\n",
    "for score in scores:\n",
    "    res = []\n",
    "    values = score['scores']\n",
    "    for i in range(len(dimensions)):\n",
    "        dim = int(dimensions[i] / 10)\n",
    "        val = int(values[i]*1000)\n",
    "        res.append((dim, val))\n",
    "    results.append({'title' : score['title'], 'plotdata' : res})  "
   ]
  },
  {
   "cell_type": "code",
   "execution_count": 5,
   "metadata": {},
   "outputs": [
    {
     "name": "stdout",
     "output_type": "stream",
     "text": [
      "[   {   'plotdata': [   (10, 1260),\n",
      "                        (20, 1400),\n",
      "                        (30, 1560),\n",
      "                        (40, 1700),\n",
      "                        (50, 1940),\n",
      "                        (60, 2060),\n",
      "                        (70, 2210),\n",
      "                        (80, 2400),\n",
      "                        (90, 2540),\n",
      "                        (100, 2650),\n",
      "                        (110, 2820),\n",
      "                        (120, 2990),\n",
      "                        (130, 3220),\n",
      "                        (140, 3470),\n",
      "                        (150, 3560)],\n",
      "        'title': 'LISA (Pearson)'},\n",
      "    {   'plotdata': [   (10, 1720),\n",
      "                        (20, 2540),\n",
      "                        (30, 3230),\n",
      "                        (40, 3980),\n",
      "                        (50, 4610),\n",
      "                        (60, 5510),\n",
      "                        (70, 6170),\n",
      "                        (80, 6780),\n",
      "                        (90, 7560),\n",
      "                        (100, 8670),\n",
      "                        (110, 9160),\n",
      "                        (120, 9990),\n",
      "                        (130, 10740),\n",
      "                        (140, 11610),\n",
      "                        (150, 12190)],\n",
      "        'title': 'LISA (DTW)'},\n",
      "    {   'plotdata': [   (10, 1420),\n",
      "                        (20, 1570),\n",
      "                        (30, 1740),\n",
      "                        (40, 1920),\n",
      "                        (50, 2110),\n",
      "                        (60, 2300),\n",
      "                        (70, 2450),\n",
      "                        (80, 2620),\n",
      "                        (90, 2820),\n",
      "                        (100, 2960),\n",
      "                        (110, 3100),\n",
      "                        (120, 3340),\n",
      "                        (130, 3530),\n",
      "                        (140, 3680),\n",
      "                        (150, 3850)],\n",
      "        'title': 'LISA (Vanilla)'},\n",
      "    {   'plotdata': [   (10, 2560),\n",
      "                        (20, 2640),\n",
      "                        (30, 2660),\n",
      "                        (40, 2650),\n",
      "                        (50, 2630),\n",
      "                        (60, 2800),\n",
      "                        (70, 2800),\n",
      "                        (80, 2740),\n",
      "                        (90, 2850),\n",
      "                        (100, 2950),\n",
      "                        (110, 2960),\n",
      "                        (120, 2980),\n",
      "                        (130, 2980),\n",
      "                        (140, 2930),\n",
      "                        (150, 3100)],\n",
      "        'title': 'RPCA'},\n",
      "    {   'plotdata': [   (10, 2520),\n",
      "                        (20, 2540),\n",
      "                        (30, 2620),\n",
      "                        (40, 2640),\n",
      "                        (50, 2760),\n",
      "                        (60, 2750),\n",
      "                        (70, 2750),\n",
      "                        (80, 2860),\n",
      "                        (90, 2830),\n",
      "                        (100, 2930),\n",
      "                        (110, 2960),\n",
      "                        (120, 2980),\n",
      "                        (130, 3010),\n",
      "                        (140, 3040),\n",
      "                        (150, 3040)],\n",
      "        'title': 'Histogram'},\n",
      "    {   'plotdata': [   (10, 2580),\n",
      "                        (20, 2660),\n",
      "                        (30, 2630),\n",
      "                        (40, 2670),\n",
      "                        (50, 2680),\n",
      "                        (60, 2780),\n",
      "                        (70, 2670),\n",
      "                        (80, 2800),\n",
      "                        (90, 2860),\n",
      "                        (100, 2840),\n",
      "                        (110, 2860),\n",
      "                        (120, 2990),\n",
      "                        (130, 2990),\n",
      "                        (140, 3050),\n",
      "                        (150, 3110)],\n",
      "        'title': 'Cluster'},\n",
      "    {   'plotdata': [   (10, 2420),\n",
      "                        (20, 2510),\n",
      "                        (30, 2460),\n",
      "                        (40, 2590),\n",
      "                        (50, 2540),\n",
      "                        (60, 2720),\n",
      "                        (70, 2760),\n",
      "                        (80, 2670),\n",
      "                        (90, 2780),\n",
      "                        (100, 2880),\n",
      "                        (110, 2860),\n",
      "                        (120, 2950),\n",
      "                        (130, 2940),\n",
      "                        (140, 3050),\n",
      "                        (150, 2990)],\n",
      "        'title': 'SVM'},\n",
      "    {   'plotdata': [   (10, 2760),\n",
      "                        (20, 2840),\n",
      "                        (30, 2870),\n",
      "                        (40, 2910),\n",
      "                        (50, 2940),\n",
      "                        (60, 2990),\n",
      "                        (70, 3040),\n",
      "                        (80, 3060),\n",
      "                        (90, 3080),\n",
      "                        (100, 3120),\n",
      "                        (110, 3190),\n",
      "                        (120, 3230),\n",
      "                        (130, 3270),\n",
      "                        (140, 3300),\n",
      "                        (150, 3390)],\n",
      "        'title': 'Isolation Forest'}]\n"
     ]
    }
   ],
   "source": [
    "pp.pprint(results)"
   ]
  }
 ],
 "metadata": {
  "kernelspec": {
   "display_name": "Django Shell-Plus",
   "language": "python",
   "name": "django_extensions"
  },
  "language_info": {
   "codemirror_mode": {
    "name": "ipython",
    "version": 3
   },
   "file_extension": ".py",
   "mimetype": "text/x-python",
   "name": "python",
   "nbconvert_exporter": "python",
   "pygments_lexer": "ipython3",
   "version": "3.7.9"
  }
 },
 "nbformat": 4,
 "nbformat_minor": 4
}
