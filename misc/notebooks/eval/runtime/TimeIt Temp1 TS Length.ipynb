{
 "cells": [
  {
   "cell_type": "code",
   "execution_count": 1,
   "metadata": {},
   "outputs": [],
   "source": [
    "from vadetisweb.anomaly_algorithms.detection.cluster import cluster_gaussian_mixture\n",
    "from vadetisweb.anomaly_algorithms.detection.histogram import histogram\n",
    "from vadetisweb.anomaly_algorithms.detection.svm import svm\n",
    "from vadetisweb.anomaly_algorithms.detection.isolation_forest import isolation_forest\n",
    "from vadetisweb.anomaly_algorithms.detection.lisa import lisa_pearson, lisa_dtw, lisa_geo\n",
    "from vadetisweb.anomaly_algorithms.detection.robust_pca import robust_pca_huber_loss\n",
    "from vadetisweb.models import DataSet, TimeSeries\n",
    "\n",
    "import numpy as np\n",
    "import pprint\n",
    "pp = pprint.PrettyPrinter(indent=4)"
   ]
  },
  {
   "cell_type": "code",
   "execution_count": null,
   "metadata": {},
   "outputs": [],
   "source": [
    "# Temp1 Single - TS LENGTH\n",
    "dataset_name = 'Temperature TS14'\n",
    "ts_name = 'REH'\n",
    "dimensions = [100, 200, 300, 400, 500, 600, 700, 800, 900, 1000]"
   ]
  },
  {
   "cell_type": "code",
   "execution_count": 3,
   "metadata": {},
   "outputs": [],
   "source": [
    "#input\n",
    "def get_dataset(title, ts_name=None):\n",
    "    ts_id = None\n",
    "    dataset = DataSet.objects.filter(title=title).first()\n",
    "    training_dataset = dataset.training_dataset.all().first()\n",
    "    if ts_name is not None:\n",
    "        ts_id = dataset.timeseries_set.all().filter(name=ts_name).first().id\n",
    "\n",
    "    return dataset, training_dataset, ts_id"
   ]
  },
  {
   "cell_type": "code",
   "execution_count": 4,
   "metadata": {},
   "outputs": [],
   "source": [
    "def lisa_pearson_detection_time_it(df, df_class, time_series_id, maximize_score='F1-Score', window_size=10):\n",
    "    result = %timeit -o lisa_pearson(df, df_class, time_series_id, maximize_score=maximize_score, window_size=window_size)\n",
    "    return result"
   ]
  },
  {
   "cell_type": "code",
   "execution_count": 5,
   "metadata": {},
   "outputs": [],
   "source": [
    "def lisa_dtw_detection_time_it(df, df_class, time_series_id, maximize_score='F1-Score', window_size=10):\n",
    "    result = %timeit -o lisa_dtw(df, df_class, time_series_id, maximize_score=maximize_score, window_size=window_size, distance_function='euclidean')\n",
    "    return result"
   ]
  },
  {
   "cell_type": "code",
   "execution_count": 6,
   "metadata": {},
   "outputs": [],
   "source": [
    "def lisa_geo_detection_time_it(df, df_class, time_series_id, maximize_score='F1-Score'):\n",
    "    result = %timeit -o lisa_geo(df, df_class, time_series_id, maximize_score=maximize_score)\n",
    "    return result"
   ]
  },
  {
   "cell_type": "code",
   "execution_count": 7,
   "metadata": {},
   "outputs": [],
   "source": [
    "def rpca_detection_time_it(df, df_class, df_train, df_train_class, delta=1, n_components=2, maximize_score='F1-Score', train_size=0.5):\n",
    "    result = %timeit -o robust_pca_huber_loss(df, df_class, df_train, df_train_class, delta=delta, n_components=n_components, maximize_score=maximize_score, train_size=train_size)\n",
    "    return result"
   ]
  },
  {
   "cell_type": "code",
   "execution_count": 8,
   "metadata": {},
   "outputs": [],
   "source": [
    "def histogram_detection_time_it(df, df_class, df_train, df_train_class, maximize_score='F1-Score', train_size=0.5):\n",
    "    result = %timeit -o histogram(df, df_class, df_train, df_train_class, maximize_score=maximize_score, train_size=train_size)\n",
    "    return result"
   ]
  },
  {
   "cell_type": "code",
   "execution_count": 9,
   "metadata": {},
   "outputs": [],
   "source": [
    "def cluster_detection_time_it(df, df_class, df_train, df_train_class, maximize_score='F1-Score', n_components=3, n_init=3, train_size=0.5):\n",
    "    result = %timeit -o cluster_gaussian_mixture(df, df_class, df_train, df_train_class, maximize_score=maximize_score, n_components=n_components, n_init=n_init, train_size=train_size)\n",
    "    return result"
   ]
  },
  {
   "cell_type": "code",
   "execution_count": 10,
   "metadata": {},
   "outputs": [],
   "source": [
    "def svm_detection_time_it(df, df_class, df_train, df_train_class, maximize_score='F1-Score', nu=0.95, kernel='rbf', train_size=0.5):\n",
    "    result = %timeit -o svm(df, df_class, df_train, df_train_class, maximize_score=maximize_score, nu=nu, kernel=kernel, train_size=train_size)\n",
    "    return result"
   ]
  },
  {
   "cell_type": "code",
   "execution_count": 11,
   "metadata": {},
   "outputs": [],
   "source": [
    "def isolation_forest_detection_time_it(df, df_class, df_train, df_train_class, maximize_score='F1-Score', n_jobs=-1, bootstrap=False, n_estimators=40, train_size=0.5):\n",
    "    result = %timeit -o isolation_forest(df, df_class, df_train, df_train_class, maximize_score=maximize_score, n_jobs=n_jobs, bootstrap=bootstrap, n_estimators=n_estimators, train_size=train_size)\n",
    "    return result"
   ]
  },
  {
   "cell_type": "code",
   "execution_count": 13,
   "metadata": {},
   "outputs": [
    {
     "name": "stdout",
     "output_type": "stream",
     "text": [
      "1.3 s ± 16.7 ms per loop (mean ± std. dev. of 7 runs, 1 loop each)\n",
      "1.48 s ± 18.6 ms per loop (mean ± std. dev. of 7 runs, 1 loop each)\n",
      "1.64 s ± 25.5 ms per loop (mean ± std. dev. of 7 runs, 1 loop each)\n",
      "1.72 s ± 12 ms per loop (mean ± std. dev. of 7 runs, 1 loop each)\n",
      "1.97 s ± 26 ms per loop (mean ± std. dev. of 7 runs, 1 loop each)\n",
      "2.08 s ± 44.4 ms per loop (mean ± std. dev. of 7 runs, 1 loop each)\n",
      "2.31 s ± 61.4 ms per loop (mean ± std. dev. of 7 runs, 1 loop each)\n",
      "2.43 s ± 2.23 ms per loop (mean ± std. dev. of 7 runs, 1 loop each)\n",
      "2.6 s ± 2.34 ms per loop (mean ± std. dev. of 7 runs, 1 loop each)\n",
      "2.86 s ± 61.7 ms per loop (mean ± std. dev. of 7 runs, 1 loop each)\n"
     ]
    }
   ],
   "source": [
    "# TIME TS LENGTH - Pearson\n",
    "dataset, _, ts_id = get_dataset(dataset_name, ts_name)\n",
    "lisa_pearson_results = []\n",
    "for l in dimensions:\n",
    "    df = dataset.dataframe[0:l]\n",
    "    df_class = dataset.dataframe_class[0:l]\n",
    "    \n",
    "    r = lisa_pearson_detection_time_it(df, df_class, ts_id)\n",
    "    lisa_pearson_results.append(np.round(np.average(r.all_runs), 2))"
   ]
  },
  {
   "cell_type": "code",
   "execution_count": 14,
   "metadata": {},
   "outputs": [
    {
     "name": "stdout",
     "output_type": "stream",
     "text": [
      "1.98 s ± 52.3 ms per loop (mean ± std. dev. of 7 runs, 1 loop each)\n",
      "3.05 s ± 68.7 ms per loop (mean ± std. dev. of 7 runs, 1 loop each)\n",
      "4.18 s ± 95.3 ms per loop (mean ± std. dev. of 7 runs, 1 loop each)\n",
      "5.27 s ± 72.4 ms per loop (mean ± std. dev. of 7 runs, 1 loop each)\n",
      "6.2 s ± 161 ms per loop (mean ± std. dev. of 7 runs, 1 loop each)\n",
      "7.2 s ± 81.2 ms per loop (mean ± std. dev. of 7 runs, 1 loop each)\n",
      "8.39 s ± 133 ms per loop (mean ± std. dev. of 7 runs, 1 loop each)\n",
      "9.82 s ± 126 ms per loop (mean ± std. dev. of 7 runs, 1 loop each)\n",
      "10.8 s ± 226 ms per loop (mean ± std. dev. of 7 runs, 1 loop each)\n",
      "11.8 s ± 172 ms per loop (mean ± std. dev. of 7 runs, 1 loop each)\n"
     ]
    }
   ],
   "source": [
    "# TIME TS LENGTH - DTW\n",
    "dataset, _, ts_id = get_dataset(dataset_name, ts_name)\n",
    "lisa_dtw_results = []\n",
    "for l in dimensions:\n",
    "    df = dataset.dataframe[0:l]\n",
    "    df_class = dataset.dataframe_class[0:l]\n",
    "    \n",
    "    r = lisa_dtw_detection_time_it(df, df_class, ts_id)\n",
    "    lisa_dtw_results.append(np.round(np.average(r.all_runs), 2))"
   ]
  },
  {
   "cell_type": "code",
   "execution_count": 15,
   "metadata": {},
   "outputs": [
    {
     "name": "stdout",
     "output_type": "stream",
     "text": [
      "1.65 s ± 18.1 ms per loop (mean ± std. dev. of 7 runs, 1 loop each)\n",
      "1.82 s ± 17.3 ms per loop (mean ± std. dev. of 7 runs, 1 loop each)\n",
      "2 s ± 23.1 ms per loop (mean ± std. dev. of 7 runs, 1 loop each)\n",
      "2.17 s ± 15.5 ms per loop (mean ± std. dev. of 7 runs, 1 loop each)\n",
      "2.37 s ± 23.9 ms per loop (mean ± std. dev. of 7 runs, 1 loop each)\n",
      "2.53 s ± 29.4 ms per loop (mean ± std. dev. of 7 runs, 1 loop each)\n",
      "2.73 s ± 24.9 ms per loop (mean ± std. dev. of 7 runs, 1 loop each)\n",
      "2.92 s ± 11.1 ms per loop (mean ± std. dev. of 7 runs, 1 loop each)\n",
      "3.05 s ± 30.5 ms per loop (mean ± std. dev. of 7 runs, 1 loop each)\n",
      "3.23 s ± 36.3 ms per loop (mean ± std. dev. of 7 runs, 1 loop each)\n"
     ]
    }
   ],
   "source": [
    "# TIME TS LENGTH - LISA VANILLA\n",
    "dataset, _, ts_id = get_dataset(dataset_name, ts_name)\n",
    "lisa_geo_results = []\n",
    "for l in dimensions:\n",
    "    df = dataset.dataframe[0:l]\n",
    "    df_class = dataset.dataframe_class[0:l]\n",
    "    \n",
    "    r = lisa_geo_detection_time_it(df, df_class, ts_id)\n",
    "    lisa_geo_results.append(np.round(np.average(r.all_runs), 2))"
   ]
  },
  {
   "cell_type": "code",
   "execution_count": 16,
   "metadata": {},
   "outputs": [
    {
     "name": "stdout",
     "output_type": "stream",
     "text": [
      "2.37 s ± 52.9 ms per loop (mean ± std. dev. of 7 runs, 1 loop each)\n",
      "2.58 s ± 40.7 ms per loop (mean ± std. dev. of 7 runs, 1 loop each)\n",
      "2.5 s ± 115 ms per loop (mean ± std. dev. of 7 runs, 1 loop each)\n",
      "2.54 s ± 81.9 ms per loop (mean ± std. dev. of 7 runs, 1 loop each)\n",
      "2.51 s ± 17.5 ms per loop (mean ± std. dev. of 7 runs, 1 loop each)\n",
      "2.62 s ± 62.9 ms per loop (mean ± std. dev. of 7 runs, 1 loop each)\n",
      "2.64 s ± 78.7 ms per loop (mean ± std. dev. of 7 runs, 1 loop each)\n",
      "2.66 s ± 87.6 ms per loop (mean ± std. dev. of 7 runs, 1 loop each)\n",
      "2.7 s ± 65.1 ms per loop (mean ± std. dev. of 7 runs, 1 loop each)\n",
      "2.78 s ± 59.1 ms per loop (mean ± std. dev. of 7 runs, 1 loop each)\n"
     ]
    }
   ],
   "source": [
    "# TIME TS LENGTH - RPCA\n",
    "dataset, training_dataset, _ = get_dataset(dataset_name)\n",
    "rpca_results = []\n",
    "for l in dimensions:\n",
    "    df = dataset.dataframe[0:l]\n",
    "    df_class = dataset.dataframe_class[0:l]\n",
    "    \n",
    "    r = rpca_detection_time_it(df, df_class, training_dataset.dataframe, training_dataset.dataframe_class)\n",
    "    rpca_results.append(np.round(np.average(r.all_runs), 2))"
   ]
  },
  {
   "cell_type": "code",
   "execution_count": 17,
   "metadata": {},
   "outputs": [
    {
     "name": "stdout",
     "output_type": "stream",
     "text": [
      "2.41 s ± 75.5 ms per loop (mean ± std. dev. of 7 runs, 1 loop each)\n",
      "2.46 s ± 43.8 ms per loop (mean ± std. dev. of 7 runs, 1 loop each)\n",
      "2.49 s ± 56.6 ms per loop (mean ± std. dev. of 7 runs, 1 loop each)\n",
      "2.58 s ± 22.1 ms per loop (mean ± std. dev. of 7 runs, 1 loop each)\n",
      "2.56 s ± 72 ms per loop (mean ± std. dev. of 7 runs, 1 loop each)\n",
      "2.63 s ± 70.8 ms per loop (mean ± std. dev. of 7 runs, 1 loop each)\n",
      "2.68 s ± 71.5 ms per loop (mean ± std. dev. of 7 runs, 1 loop each)\n",
      "2.67 s ± 54.6 ms per loop (mean ± std. dev. of 7 runs, 1 loop each)\n",
      "2.69 s ± 39.5 ms per loop (mean ± std. dev. of 7 runs, 1 loop each)\n",
      "2.7 s ± 1.69 ms per loop (mean ± std. dev. of 7 runs, 1 loop each)\n"
     ]
    }
   ],
   "source": [
    "# TIME TS LENGTH - HISTOGRAM\n",
    "dataset, training_dataset, _ = get_dataset(dataset_name)\n",
    "histogram_results = []\n",
    "for l in dimensions:\n",
    "    df = dataset.dataframe[0:l]\n",
    "    df_class = dataset.dataframe_class[0:l]\n",
    "    \n",
    "    r = histogram_detection_time_it(df, df_class, training_dataset.dataframe, training_dataset.dataframe_class)\n",
    "    histogram_results.append(np.round(np.average(r.all_runs), 2))"
   ]
  },
  {
   "cell_type": "code",
   "execution_count": 18,
   "metadata": {},
   "outputs": [
    {
     "name": "stdout",
     "output_type": "stream",
     "text": [
      "2.52 s ± 82.7 ms per loop (mean ± std. dev. of 7 runs, 1 loop each)\n",
      "2.56 s ± 59.6 ms per loop (mean ± std. dev. of 7 runs, 1 loop each)\n",
      "2.62 s ± 81.1 ms per loop (mean ± std. dev. of 7 runs, 1 loop each)\n",
      "2.76 s ± 152 ms per loop (mean ± std. dev. of 7 runs, 1 loop each)\n",
      "2.8 s ± 109 ms per loop (mean ± std. dev. of 7 runs, 1 loop each)\n",
      "2.77 s ± 77.7 ms per loop (mean ± std. dev. of 7 runs, 1 loop each)\n",
      "2.73 s ± 102 ms per loop (mean ± std. dev. of 7 runs, 1 loop each)\n",
      "2.74 s ± 59.3 ms per loop (mean ± std. dev. of 7 runs, 1 loop each)\n",
      "2.78 s ± 77.2 ms per loop (mean ± std. dev. of 7 runs, 1 loop each)\n",
      "2.84 s ± 70.2 ms per loop (mean ± std. dev. of 7 runs, 1 loop each)\n"
     ]
    }
   ],
   "source": [
    "# TIME TS LENGTH - CLUSTER\n",
    "dataset, training_dataset, _ = get_dataset(dataset_name)\n",
    "cluster_results = []\n",
    "for l in dimensions:\n",
    "    df = dataset.dataframe[0:l]\n",
    "    df_class = dataset.dataframe_class[0:l]\n",
    "    \n",
    "    r = cluster_detection_time_it(df, df_class, training_dataset.dataframe, training_dataset.dataframe_class)\n",
    "    cluster_results.append(np.round(np.average(r.all_runs), 2))"
   ]
  },
  {
   "cell_type": "code",
   "execution_count": 19,
   "metadata": {},
   "outputs": [
    {
     "name": "stdout",
     "output_type": "stream",
     "text": [
      "2.39 s ± 48.1 ms per loop (mean ± std. dev. of 7 runs, 1 loop each)\n",
      "2.37 s ± 81.9 ms per loop (mean ± std. dev. of 7 runs, 1 loop each)\n",
      "2.43 s ± 50.5 ms per loop (mean ± std. dev. of 7 runs, 1 loop each)\n",
      "2.39 s ± 34 ms per loop (mean ± std. dev. of 7 runs, 1 loop each)\n",
      "2.41 s ± 842 µs per loop (mean ± std. dev. of 7 runs, 1 loop each)\n",
      "2.58 s ± 65 ms per loop (mean ± std. dev. of 7 runs, 1 loop each)\n",
      "2.55 s ± 1.86 ms per loop (mean ± std. dev. of 7 runs, 1 loop each)\n",
      "2.6 s ± 6.23 ms per loop (mean ± std. dev. of 7 runs, 1 loop each)\n",
      "2.66 s ± 42.9 ms per loop (mean ± std. dev. of 7 runs, 1 loop each)\n",
      "2.75 s ± 48.8 ms per loop (mean ± std. dev. of 7 runs, 1 loop each)\n"
     ]
    }
   ],
   "source": [
    "# TIME TS LENGTH - SVM\n",
    "dataset, training_dataset, _ = get_dataset(dataset_name)\n",
    "svm_results = []\n",
    "for l in dimensions:\n",
    "    df = dataset.dataframe[0:l]\n",
    "    df_class = dataset.dataframe_class[0:l]\n",
    "    \n",
    "    r = svm_detection_time_it(df, df_class, training_dataset.dataframe, training_dataset.dataframe_class)\n",
    "    svm_results.append(np.round(np.average(r.all_runs), 2))"
   ]
  },
  {
   "cell_type": "code",
   "execution_count": 20,
   "metadata": {},
   "outputs": [
    {
     "name": "stdout",
     "output_type": "stream",
     "text": [
      "2.66 s ± 25.1 ms per loop (mean ± std. dev. of 7 runs, 1 loop each)\n",
      "2.71 s ± 25.1 ms per loop (mean ± std. dev. of 7 runs, 1 loop each)\n",
      "2.77 s ± 17.7 ms per loop (mean ± std. dev. of 7 runs, 1 loop each)\n",
      "2.75 s ± 48.6 ms per loop (mean ± std. dev. of 7 runs, 1 loop each)\n",
      "2.84 s ± 29.8 ms per loop (mean ± std. dev. of 7 runs, 1 loop each)\n",
      "2.9 s ± 23.6 ms per loop (mean ± std. dev. of 7 runs, 1 loop each)\n",
      "2.94 s ± 28.6 ms per loop (mean ± std. dev. of 7 runs, 1 loop each)\n",
      "2.94 s ± 49.5 ms per loop (mean ± std. dev. of 7 runs, 1 loop each)\n",
      "3 s ± 47.2 ms per loop (mean ± std. dev. of 7 runs, 1 loop each)\n",
      "3.03 s ± 57.6 ms per loop (mean ± std. dev. of 7 runs, 1 loop each)\n"
     ]
    }
   ],
   "source": [
    "# TIME TS LENGTH - ISOLATION FOREST\n",
    "dataset, training_dataset, _ = get_dataset(dataset_name)\n",
    "isolation_results = []\n",
    "for l in dimensions:\n",
    "    df = dataset.dataframe[0:l]\n",
    "    df_class = dataset.dataframe_class[0:l]\n",
    "    \n",
    "    r = isolation_forest_detection_time_it(df, df_class, training_dataset.dataframe, training_dataset.dataframe_class)\n",
    "    isolation_results.append(np.round(np.average(r.all_runs), 2))"
   ]
  },
  {
   "cell_type": "code",
   "execution_count": 21,
   "metadata": {},
   "outputs": [],
   "source": [
    "scores = [{ 'title' : 'LISA (Pearson)', 'scores' : lisa_pearson_results }, \n",
    "          { 'title' : 'LISA (DTW)', 'scores' : lisa_dtw_results }, \n",
    "          { 'title' : 'LISA (Vanilla)', 'scores' :  lisa_geo_results }, \n",
    "          { 'title' : 'RPCA', 'scores' :  rpca_results }, \n",
    "          { 'title' : 'Histogram', 'scores' :  histogram_results }, \n",
    "          { 'title' : 'Cluster', 'scores' :  cluster_results }, \n",
    "          { 'title' : 'SVM', 'scores' :  svm_results }, \n",
    "          { 'title' : 'Isolation Forest', 'scores' :  isolation_results }\n",
    "         ]"
   ]
  },
  {
   "cell_type": "code",
   "execution_count": 22,
   "metadata": {},
   "outputs": [
    {
     "name": "stdout",
     "output_type": "stream",
     "text": [
      "[{'title': 'LISA (Pearson)', 'scores': [1.3, 1.48, 1.64, 1.72, 1.97, 2.08, 2.31, 2.43, 2.6, 2.86]}, {'title': 'LISA (DTW)', 'scores': [1.98, 3.05, 4.18, 5.27, 6.2, 7.2, 8.39, 9.82, 10.79, 11.77]}, {'title': 'LISA (Vanilla)', 'scores': [1.65, 1.82, 2.0, 2.17, 2.37, 2.53, 2.73, 2.92, 3.05, 3.23]}, {'title': 'RPCA', 'scores': [2.37, 2.58, 2.5, 2.54, 2.51, 2.62, 2.64, 2.66, 2.7, 2.78]}, {'title': 'Histogram', 'scores': [2.41, 2.46, 2.49, 2.58, 2.56, 2.63, 2.68, 2.67, 2.69, 2.7]}, {'title': 'Cluster', 'scores': [2.52, 2.56, 2.62, 2.76, 2.8, 2.77, 2.73, 2.74, 2.78, 2.84]}, {'title': 'SVM', 'scores': [2.39, 2.37, 2.43, 2.39, 2.41, 2.58, 2.55, 2.6, 2.66, 2.75]}, {'title': 'Isolation Forest', 'scores': [2.66, 2.71, 2.77, 2.75, 2.84, 2.9, 2.94, 2.94, 3.0, 3.03]}]\n"
     ]
    }
   ],
   "source": [
    "print(scores)"
   ]
  },
  {
   "cell_type": "code",
   "execution_count": 3,
   "metadata": {},
   "outputs": [],
   "source": [
    "# import numpy as np\n",
    "# scores = [{'title': 'LISA (Pearson)', 'scores': [1.3, 1.48, 1.64, 1.72, 1.97, 2.08, 2.31, 2.43, 2.6, 2.86]}, \n",
    "#           {'title': 'LISA (DTW)', 'scores': [1.98, 3.05, 4.18, 5.27, 6.2, 7.2, 8.39, 9.82, 10.79, 11.77]}, \n",
    "#           {'title': 'LISA (Vanilla)', 'scores': [1.65, 1.82, 2.0, 2.17, 2.37, 2.53, 2.73, 2.92, 3.05, 3.23]}, \n",
    "#           {'title': 'RPCA', 'scores': [2.37, 2.58, 2.5, 2.54, 2.51, 2.62, 2.64, 2.66, 2.7, 2.78]}, \n",
    "#           {'title': 'Histogram', 'scores': [2.41, 2.46, 2.49, 2.58, 2.56, 2.63, 2.68, 2.67, 2.69, 2.7]}, \n",
    "#           {'title': 'Cluster', 'scores': [2.52, 2.56, 2.62, 2.76, 2.8, 2.77, 2.73, 2.74, 2.78, 2.84]}, \n",
    "#           {'title': 'SVM', 'scores': [2.39, 2.37, 2.43, 2.39, 2.41, 2.58, 2.55, 2.6, 2.66, 2.75]}, \n",
    "#           {'title': 'Isolation Forest', 'scores': [2.66, 2.71, 2.77, 2.75, 2.84, 2.9, 2.94, 2.94, 3.0, 3.03]}]\n"
   ]
  },
  {
   "cell_type": "code",
   "execution_count": 4,
   "metadata": {},
   "outputs": [],
   "source": [
    "results = []\n",
    "for score in scores:\n",
    "    res = []\n",
    "    values = score['scores']\n",
    "    for i in range(len(dimensions)):\n",
    "        dim = int(dimensions[i] / 10)\n",
    "        val = int(values[i]*1000)\n",
    "        res.append((dim, val))\n",
    "    results.append({'title' : score['title'], 'plotdata' : res})    "
   ]
  },
  {
   "cell_type": "code",
   "execution_count": 5,
   "metadata": {},
   "outputs": [
    {
     "name": "stdout",
     "output_type": "stream",
     "text": [
      "[   {   'plotdata': [   (10, 1300),\n",
      "                        (20, 1480),\n",
      "                        (30, 1640),\n",
      "                        (40, 1720),\n",
      "                        (50, 1970),\n",
      "                        (60, 2080),\n",
      "                        (70, 2310),\n",
      "                        (80, 2430),\n",
      "                        (90, 2600),\n",
      "                        (100, 2860)],\n",
      "        'title': 'LISA (Pearson)'},\n",
      "    {   'plotdata': [   (10, 1980),\n",
      "                        (20, 3050),\n",
      "                        (30, 4180),\n",
      "                        (40, 5270),\n",
      "                        (50, 6200),\n",
      "                        (60, 7200),\n",
      "                        (70, 8390),\n",
      "                        (80, 9820),\n",
      "                        (90, 10790),\n",
      "                        (100, 11770)],\n",
      "        'title': 'LISA (DTW)'},\n",
      "    {   'plotdata': [   (10, 1650),\n",
      "                        (20, 1820),\n",
      "                        (30, 2000),\n",
      "                        (40, 2170),\n",
      "                        (50, 2370),\n",
      "                        (60, 2530),\n",
      "                        (70, 2730),\n",
      "                        (80, 2920),\n",
      "                        (90, 3050),\n",
      "                        (100, 3230)],\n",
      "        'title': 'LISA (Vanilla)'},\n",
      "    {   'plotdata': [   (10, 2370),\n",
      "                        (20, 2580),\n",
      "                        (30, 2500),\n",
      "                        (40, 2540),\n",
      "                        (50, 2510),\n",
      "                        (60, 2620),\n",
      "                        (70, 2640),\n",
      "                        (80, 2660),\n",
      "                        (90, 2700),\n",
      "                        (100, 2780)],\n",
      "        'title': 'RPCA'},\n",
      "    {   'plotdata': [   (10, 2410),\n",
      "                        (20, 2460),\n",
      "                        (30, 2490),\n",
      "                        (40, 2580),\n",
      "                        (50, 2560),\n",
      "                        (60, 2630),\n",
      "                        (70, 2680),\n",
      "                        (80, 2670),\n",
      "                        (90, 2690),\n",
      "                        (100, 2700)],\n",
      "        'title': 'Histogram'},\n",
      "    {   'plotdata': [   (10, 2520),\n",
      "                        (20, 2560),\n",
      "                        (30, 2620),\n",
      "                        (40, 2760),\n",
      "                        (50, 2800),\n",
      "                        (60, 2770),\n",
      "                        (70, 2730),\n",
      "                        (80, 2740),\n",
      "                        (90, 2780),\n",
      "                        (100, 2840)],\n",
      "        'title': 'Cluster'},\n",
      "    {   'plotdata': [   (10, 2390),\n",
      "                        (20, 2370),\n",
      "                        (30, 2430),\n",
      "                        (40, 2390),\n",
      "                        (50, 2410),\n",
      "                        (60, 2580),\n",
      "                        (70, 2550),\n",
      "                        (80, 2600),\n",
      "                        (90, 2660),\n",
      "                        (100, 2750)],\n",
      "        'title': 'SVM'},\n",
      "    {   'plotdata': [   (10, 2660),\n",
      "                        (20, 2710),\n",
      "                        (30, 2770),\n",
      "                        (40, 2750),\n",
      "                        (50, 2840),\n",
      "                        (60, 2900),\n",
      "                        (70, 2940),\n",
      "                        (80, 2940),\n",
      "                        (90, 3000),\n",
      "                        (100, 3030)],\n",
      "        'title': 'Isolation Forest'}]\n"
     ]
    }
   ],
   "source": [
    "pp.pprint(results)"
   ]
  }
 ],
 "metadata": {
  "kernelspec": {
   "display_name": "Django Shell-Plus",
   "language": "python",
   "name": "django_extensions"
  },
  "language_info": {
   "codemirror_mode": {
    "name": "ipython",
    "version": 3
   },
   "file_extension": ".py",
   "mimetype": "text/x-python",
   "name": "python",
   "nbconvert_exporter": "python",
   "pygments_lexer": "ipython3",
   "version": "3.7.9"
  }
 },
 "nbformat": 4,
 "nbformat_minor": 4
}
