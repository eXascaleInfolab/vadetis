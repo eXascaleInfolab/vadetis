{
 "cells": [
  {
   "cell_type": "code",
   "execution_count": 1,
   "metadata": {},
   "outputs": [],
   "source": [
    "from vadetisweb.anomaly_algorithms.detection.cluster import cluster_gaussian_mixture\n",
    "from vadetisweb.anomaly_algorithms.detection.histogram import histogram\n",
    "from vadetisweb.anomaly_algorithms.detection.svm import svm\n",
    "from vadetisweb.anomaly_algorithms.detection.isolation_forest import isolation_forest\n",
    "from vadetisweb.anomaly_algorithms.detection.lisa import lisa_pearson, lisa_dtw, lisa_geo\n",
    "from vadetisweb.anomaly_algorithms.detection.robust_pca import robust_pca_huber_loss\n",
    "from vadetisweb.models import DataSet, TimeSeries\n",
    "\n",
    "import pprint\n",
    "pp = pprint.PrettyPrinter(indent=4)"
   ]
  },
  {
   "cell_type": "code",
   "execution_count": 1,
   "metadata": {},
   "outputs": [],
   "source": [
    "# A2 Multi - Contamination Level\n",
    "dataset_names = [\n",
    "    'A2 Yahoo',\n",
    "    'A2 Yahoo Contamination 100',\n",
    "    'A2 Yahoo Contamination 150',\n",
    "    'A2 Yahoo Contamination 200',\n",
    "    'A2 Yahoo Contamination 250'\n",
    "]\n",
    "dimensions = [50, 100, 150, 200, 250]"
   ]
  },
  {
   "cell_type": "code",
   "execution_count": 3,
   "metadata": {},
   "outputs": [],
   "source": [
    "#input\n",
    "def get_dataset(title, ts_name=None):\n",
    "    ts_id = None\n",
    "    dataset = DataSet.objects.filter(title=title).first()\n",
    "    training_dataset = dataset.training_dataset.all().first()\n",
    "\n",
    "    return dataset, training_dataset"
   ]
  },
  {
   "cell_type": "code",
   "execution_count": 4,
   "metadata": {},
   "outputs": [],
   "source": [
    "def rpca_detection_l(df, df_class, df_train, df_train_class, delta=1, n_components=2, maximize_score='F1-Score', train_size=0.5):\n",
    "    return robust_pca_huber_loss(df, df_class, df_train, df_train_class, delta=delta, n_components=n_components, maximize_score=maximize_score, train_size=train_size)"
   ]
  },
  {
   "cell_type": "code",
   "execution_count": 5,
   "metadata": {},
   "outputs": [],
   "source": [
    "def histogram_detection_l(df, df_class, df_train, df_train_class, maximize_score='F1-Score', train_size=0.5):\n",
    "    return histogram(df, df_class, df_train, df_train_class, maximize_score=maximize_score, train_size=train_size)"
   ]
  },
  {
   "cell_type": "code",
   "execution_count": 6,
   "metadata": {},
   "outputs": [],
   "source": [
    "def cluster_detection_l(df, df_class, df_train, df_train_class, maximize_score='F1-Score', n_components=3, n_init=3, train_size=0.5):\n",
    "    return cluster_gaussian_mixture(df, df_class, df_train, df_train_class, maximize_score=maximize_score, n_components=n_components, n_init=n_init, train_size=train_size)"
   ]
  },
  {
   "cell_type": "code",
   "execution_count": 7,
   "metadata": {},
   "outputs": [],
   "source": [
    "def svm_detection_l(df, df_class, df_train, df_train_class, maximize_score='F1-Score', nu=0.95, kernel='rbf', train_size=0.5):\n",
    "    return svm(df, df_class, df_train, df_train_class, maximize_score=maximize_score, nu=nu, kernel=kernel, train_size=train_size)"
   ]
  },
  {
   "cell_type": "code",
   "execution_count": 8,
   "metadata": {},
   "outputs": [],
   "source": [
    "def isolation_forest_detection_l(df, df_class, df_train, df_train_class, maximize_score='F1-Score', n_jobs=-1, bootstrap=False, n_estimators=40, train_size=0.5):\n",
    "    return isolation_forest(df, df_class, df_train, df_train_class, maximize_score=maximize_score, n_jobs=n_jobs, bootstrap=bootstrap, n_estimators=n_estimators, train_size=train_size)"
   ]
  },
  {
   "cell_type": "code",
   "execution_count": 10,
   "metadata": {},
   "outputs": [],
   "source": [
    "# Cont Level - RPCA\n",
    "# Results array [nmi, rmse, f1]\n",
    "\n",
    "r_results = []\n",
    "for dataset_name in dataset_names:\n",
    "    dataset, training_dataset = get_dataset(dataset_name)\n",
    "    df = dataset.dataframe\n",
    "    df_class = dataset.dataframe_class\n",
    "    scores, y_hat_results, df_common_class, info = rpca_detection_l(df, df_class, training_dataset.dataframe, training_dataset.dataframe_class)\n",
    "    result = [np.round(info['nmi'], 3), np.round(info['rmse'], 3), np.round(info['f1_score'], 3)]\n",
    "    r_results.append(result)\n",
    "    \n",
    "rpca_results = np.array(r_results)   "
   ]
  },
  {
   "cell_type": "code",
   "execution_count": 11,
   "metadata": {},
   "outputs": [],
   "source": [
    "# Cont Level - HISTOGRAM\n",
    "# Results array [nmi, rmse, f1]\n",
    "\n",
    "h_results = []\n",
    "for dataset_name in dataset_names:\n",
    "    dataset, training_dataset = get_dataset(dataset_name)\n",
    "    df = dataset.dataframe\n",
    "    df_class = dataset.dataframe_class\n",
    "    scores, y_hat_results, df_common_class, info = histogram_detection_l(df, df_class, training_dataset.dataframe, training_dataset.dataframe_class)\n",
    "    result = [np.round(info['nmi'], 3), np.round(info['rmse'], 3), np.round(info['f1_score'], 3)]\n",
    "    h_results.append(result)\n",
    "    \n",
    "histogram_results = np.array(h_results)  "
   ]
  },
  {
   "cell_type": "code",
   "execution_count": 12,
   "metadata": {},
   "outputs": [],
   "source": [
    "# Cont Level - CLUSTER\n",
    "# Results array [nmi, rmse, f1]\n",
    "\n",
    "c_results = []\n",
    "for dataset_name in dataset_names:\n",
    "    dataset, training_dataset = get_dataset(dataset_name)\n",
    "    df = dataset.dataframe\n",
    "    df_class = dataset.dataframe_class\n",
    "    scores, y_hat_results, df_common_class, info = cluster_detection_l(df, df_class, training_dataset.dataframe, training_dataset.dataframe_class)\n",
    "    result = [np.round(info['nmi'], 3), np.round(info['rmse'], 3), np.round(info['f1_score'], 3)]\n",
    "    c_results.append(result)\n",
    "    \n",
    "cluster_results = np.array(c_results)  "
   ]
  },
  {
   "cell_type": "code",
   "execution_count": 13,
   "metadata": {},
   "outputs": [],
   "source": [
    "# Cont Level - SVM\n",
    "# Results array [nmi, rmse, f1]\n",
    "\n",
    "s_results = []\n",
    "for dataset_name in dataset_names:\n",
    "    dataset, training_dataset = get_dataset(dataset_name)\n",
    "    df = dataset.dataframe\n",
    "    df_class = dataset.dataframe_class\n",
    "    scores, y_hat_results, df_common_class, info = svm_detection_l(df, df_class, training_dataset.dataframe, training_dataset.dataframe_class)\n",
    "    result = [np.round(info['nmi'], 3), np.round(info['rmse'], 3), np.round(info['f1_score'], 3)]\n",
    "    s_results.append(result)\n",
    "    \n",
    "svm_results = np.array(s_results)    "
   ]
  },
  {
   "cell_type": "code",
   "execution_count": 14,
   "metadata": {},
   "outputs": [],
   "source": [
    "# Cont Level - ISOLATION FOREST\n",
    "# Results array [nmi, rmse, f1]\n",
    "\n",
    "i_results = []\n",
    "for dataset_name in dataset_names:\n",
    "    dataset, training_dataset = get_dataset(dataset_name)\n",
    "    df = dataset.dataframe\n",
    "    df_class = dataset.dataframe_class\n",
    "    scores, y_hat_results, df_common_class, info = isolation_forest_detection_l(df, df_class, training_dataset.dataframe, training_dataset.dataframe_class)\n",
    "    result = [np.round(info['nmi'], 3), np.round(info['rmse'], 3), np.round(info['f1_score'], 3)]\n",
    "    i_results.append(result)\n",
    "\n",
    "isolation_results = np.array(i_results)"
   ]
  },
  {
   "cell_type": "code",
   "execution_count": 15,
   "metadata": {},
   "outputs": [],
   "source": [
    "scores = [{ 'title' : 'RPCA', 'scores' :  rpca_results }, \n",
    "          { 'title' : 'Histogram', 'scores' :  histogram_results }, \n",
    "          { 'title' : 'Cluster', 'scores' :  cluster_results }, \n",
    "          { 'title' : 'SVM', 'scores' :  svm_results }, \n",
    "          { 'title' : 'Isolation Forest', 'scores' :  isolation_results }\n",
    "         ]"
   ]
  },
  {
   "cell_type": "code",
   "execution_count": 16,
   "metadata": {},
   "outputs": [
    {
     "name": "stdout",
     "output_type": "stream",
     "text": [
      "[{'title': 'RPCA', 'scores': array([[0.114, 0.106, 0.348],\n",
      "       [0.24 , 0.117, 0.579],\n",
      "       [0.316, 0.125, 0.69 ],\n",
      "       [0.355, 0.124, 0.733],\n",
      "       [0.434, 0.107, 0.791]])}, {'title': 'Histogram', 'scores': array([[0.002, 0.896, 0.104],\n",
      "       [0.001, 0.799, 0.214],\n",
      "       [0.002, 0.748, 0.309],\n",
      "       [0.007, 0.73 , 0.341],\n",
      "       [0.003, 0.697, 0.397]])}, {'title': 'Cluster', 'scores': array([[0.897, 0.004, 0.959],\n",
      "       [0.79 , 0.02 , 0.914],\n",
      "       [0.827, 0.021, 0.943],\n",
      "       [0.839, 0.021, 0.951],\n",
      "       [0.706, 0.052, 0.891]])}, {'title': 'SVM', 'scores': array([[0.052, 0.089, 0.241],\n",
      "       [0.019, 0.155, 0.191],\n",
      "       [0.034, 0.201, 0.235],\n",
      "       [0.079, 0.208, 0.345],\n",
      "       [0.06 , 0.246, 0.314]])}, {'title': 'Isolation Forest', 'scores': array([[0.042, 0.507, 0.163],\n",
      "       [0.091, 0.468, 0.333],\n",
      "       [0.049, 0.466, 0.406],\n",
      "       [0.073, 0.43 , 0.471],\n",
      "       [0.062, 0.424, 0.504]])}]\n"
     ]
    }
   ],
   "source": [
    "print(scores)"
   ]
  },
  {
   "cell_type": "code",
   "execution_count": 2,
   "metadata": {},
   "outputs": [],
   "source": [
    "# import numpy as np\n",
    "# scores = [{'title': 'RPCA', 'scores': np.array([[0.114, 0.106, 0.348],\n",
    "#        [0.24 , 0.117, 0.579],\n",
    "#        [0.316, 0.125, 0.69 ],\n",
    "#        [0.355, 0.124, 0.733],\n",
    "#        [0.434, 0.107, 0.791]])}, {'title': 'Histogram', 'scores': np.array([[0.002, 0.896, 0.104],\n",
    "#        [0.001, 0.799, 0.214],\n",
    "#        [0.002, 0.748, 0.309],\n",
    "#        [0.007, 0.73 , 0.341],\n",
    "#        [0.003, 0.697, 0.397]])}, {'title': 'Cluster', 'scores': np.array([[0.897, 0.004, 0.959],\n",
    "#        [0.79 , 0.02 , 0.914],\n",
    "#        [0.827, 0.021, 0.943],\n",
    "#        [0.839, 0.021, 0.951],\n",
    "#        [0.706, 0.052, 0.891]])}, {'title': 'SVM', 'scores': np.array([[0.052, 0.089, 0.241],\n",
    "#        [0.019, 0.155, 0.191],\n",
    "#        [0.034, 0.201, 0.235],\n",
    "#        [0.079, 0.208, 0.345],\n",
    "#        [0.06 , 0.246, 0.314]])}, {'title': 'Isolation Forest', 'scores': np.array([[0.042, 0.507, 0.163],\n",
    "#        [0.091, 0.468, 0.333],\n",
    "#        [0.049, 0.466, 0.406],\n",
    "#        [0.073, 0.43 , 0.471],\n",
    "#        [0.062, 0.424, 0.504]])}]"
   ]
  },
  {
   "cell_type": "code",
   "execution_count": 3,
   "metadata": {},
   "outputs": [],
   "source": [
    "#NMI\n",
    "results = []\n",
    "for score in scores:\n",
    "    res = []\n",
    "    values = score['scores']\n",
    "    for i in range(len(dimensions)):\n",
    "        dim = dimensions[i]\n",
    "        val = values[i][0]\n",
    "        res.append((dim, val))\n",
    "    results.append({'title' : score['title'], 'plotdata' : res}) "
   ]
  },
  {
   "cell_type": "code",
   "execution_count": 4,
   "metadata": {},
   "outputs": [
    {
     "name": "stdout",
     "output_type": "stream",
     "text": [
      "[   {   'plotdata': [   (50, 0.114),\n",
      "                        (100, 0.24),\n",
      "                        (150, 0.316),\n",
      "                        (200, 0.355),\n",
      "                        (250, 0.434)],\n",
      "        'title': 'RPCA'},\n",
      "    {   'plotdata': [   (50, 0.002),\n",
      "                        (100, 0.001),\n",
      "                        (150, 0.002),\n",
      "                        (200, 0.007),\n",
      "                        (250, 0.003)],\n",
      "        'title': 'Histogram'},\n",
      "    {   'plotdata': [   (50, 0.897),\n",
      "                        (100, 0.79),\n",
      "                        (150, 0.827),\n",
      "                        (200, 0.839),\n",
      "                        (250, 0.706)],\n",
      "        'title': 'Cluster'},\n",
      "    {   'plotdata': [   (50, 0.052),\n",
      "                        (100, 0.019),\n",
      "                        (150, 0.034),\n",
      "                        (200, 0.079),\n",
      "                        (250, 0.06)],\n",
      "        'title': 'SVM'},\n",
      "    {   'plotdata': [   (50, 0.042),\n",
      "                        (100, 0.091),\n",
      "                        (150, 0.049),\n",
      "                        (200, 0.073),\n",
      "                        (250, 0.062)],\n",
      "        'title': 'Isolation Forest'}]\n"
     ]
    }
   ],
   "source": [
    "pp.pprint(results)"
   ]
  },
  {
   "cell_type": "code",
   "execution_count": 5,
   "metadata": {},
   "outputs": [],
   "source": [
    "#RMSE\n",
    "results = []\n",
    "for score in scores:\n",
    "    res = []\n",
    "    values = score['scores']\n",
    "    for i in range(len(dimensions)):\n",
    "        dim = dimensions[i]\n",
    "        val = values[i][1]\n",
    "        res.append((dim, val))\n",
    "    results.append({'title' : score['title'], 'plotdata' : res}) "
   ]
  },
  {
   "cell_type": "code",
   "execution_count": 6,
   "metadata": {},
   "outputs": [
    {
     "name": "stdout",
     "output_type": "stream",
     "text": [
      "[   {   'plotdata': [   (50, 0.106),\n",
      "                        (100, 0.117),\n",
      "                        (150, 0.125),\n",
      "                        (200, 0.124),\n",
      "                        (250, 0.107)],\n",
      "        'title': 'RPCA'},\n",
      "    {   'plotdata': [   (50, 0.896),\n",
      "                        (100, 0.799),\n",
      "                        (150, 0.748),\n",
      "                        (200, 0.73),\n",
      "                        (250, 0.697)],\n",
      "        'title': 'Histogram'},\n",
      "    {   'plotdata': [   (50, 0.004),\n",
      "                        (100, 0.02),\n",
      "                        (150, 0.021),\n",
      "                        (200, 0.021),\n",
      "                        (250, 0.052)],\n",
      "        'title': 'Cluster'},\n",
      "    {   'plotdata': [   (50, 0.089),\n",
      "                        (100, 0.155),\n",
      "                        (150, 0.201),\n",
      "                        (200, 0.208),\n",
      "                        (250, 0.246)],\n",
      "        'title': 'SVM'},\n",
      "    {   'plotdata': [   (50, 0.507),\n",
      "                        (100, 0.468),\n",
      "                        (150, 0.466),\n",
      "                        (200, 0.43),\n",
      "                        (250, 0.424)],\n",
      "        'title': 'Isolation Forest'}]\n"
     ]
    }
   ],
   "source": [
    "pp.pprint(results)"
   ]
  },
  {
   "cell_type": "code",
   "execution_count": 9,
   "metadata": {},
   "outputs": [],
   "source": [
    "#F1\n",
    "results = []\n",
    "for score in scores:\n",
    "    res = []\n",
    "    values = score['scores']\n",
    "    for i in range(len(dimensions)):\n",
    "        dim = dimensions[i]\n",
    "        val = values[i][2]\n",
    "        res.append((dim, val))\n",
    "    results.append({'title' : score['title'], 'plotdata' : res}) "
   ]
  },
  {
   "cell_type": "code",
   "execution_count": 10,
   "metadata": {},
   "outputs": [
    {
     "name": "stdout",
     "output_type": "stream",
     "text": [
      "[   {   'plotdata': [   (50, 0.348),\n",
      "                        (100, 0.579),\n",
      "                        (150, 0.69),\n",
      "                        (200, 0.733),\n",
      "                        (250, 0.791)],\n",
      "        'title': 'RPCA'},\n",
      "    {   'plotdata': [   (50, 0.104),\n",
      "                        (100, 0.214),\n",
      "                        (150, 0.309),\n",
      "                        (200, 0.341),\n",
      "                        (250, 0.397)],\n",
      "        'title': 'Histogram'},\n",
      "    {   'plotdata': [   (50, 0.959),\n",
      "                        (100, 0.914),\n",
      "                        (150, 0.943),\n",
      "                        (200, 0.951),\n",
      "                        (250, 0.891)],\n",
      "        'title': 'Cluster'},\n",
      "    {   'plotdata': [   (50, 0.241),\n",
      "                        (100, 0.191),\n",
      "                        (150, 0.235),\n",
      "                        (200, 0.345),\n",
      "                        (250, 0.314)],\n",
      "        'title': 'SVM'},\n",
      "    {   'plotdata': [   (50, 0.163),\n",
      "                        (100, 0.333),\n",
      "                        (150, 0.406),\n",
      "                        (200, 0.471),\n",
      "                        (250, 0.504)],\n",
      "        'title': 'Isolation Forest'}]\n"
     ]
    }
   ],
   "source": [
    "pp.pprint(results)"
   ]
  }
 ],
 "metadata": {
  "kernelspec": {
   "display_name": "Django Shell-Plus",
   "language": "python",
   "name": "django_extensions"
  },
  "language_info": {
   "codemirror_mode": {
    "name": "ipython",
    "version": 3
   },
   "file_extension": ".py",
   "mimetype": "text/x-python",
   "name": "python",
   "nbconvert_exporter": "python",
   "pygments_lexer": "ipython3",
   "version": "3.7.9"
  }
 },
 "nbformat": 4,
 "nbformat_minor": 4
}
