{
 "cells": [
  {
   "cell_type": "code",
   "execution_count": 1,
   "metadata": {},
   "outputs": [],
   "source": [
    "from vadetisweb.anomaly_algorithms.detection.cluster import cluster_gaussian_mixture\n",
    "from vadetisweb.anomaly_algorithms.detection.histogram import histogram\n",
    "from vadetisweb.anomaly_algorithms.detection.svm import svm\n",
    "from vadetisweb.anomaly_algorithms.detection.isolation_forest import isolation_forest\n",
    "from vadetisweb.anomaly_algorithms.detection.lisa import lisa_pearson, lisa_dtw, lisa_geo\n",
    "from vadetisweb.anomaly_algorithms.detection.robust_pca import robust_pca_huber_loss\n",
    "from vadetisweb.models import DataSet, TimeSeries\n",
    "\n",
    "import numpy as np\n",
    "import pprint\n",
    "pp = pprint.PrettyPrinter(indent=4)"
   ]
  },
  {
   "cell_type": "code",
   "execution_count": 1,
   "metadata": {},
   "outputs": [],
   "source": [
    "# Temp1 Multi - TS LENGTH\n",
    "dataset_name = 'Temperature TS8 Multi'\n",
    "dimensions = [100, 200, 300, 400, 500, 600, 700, 800, 900, 1000]"
   ]
  },
  {
   "cell_type": "code",
   "execution_count": 3,
   "metadata": {},
   "outputs": [],
   "source": [
    "#input\n",
    "def get_dataset(title, ts_name=None):\n",
    "    ts_id = None\n",
    "    dataset = DataSet.objects.filter(title=title).first()\n",
    "    training_dataset = dataset.training_dataset.all().first()\n",
    "\n",
    "    return dataset, training_dataset"
   ]
  },
  {
   "cell_type": "code",
   "execution_count": 4,
   "metadata": {},
   "outputs": [],
   "source": [
    "def rpca_detection_l(df, df_class, df_train, df_train_class, delta=1, n_components=2, maximize_score='F1-Score', train_size=0.5):\n",
    "    return robust_pca_huber_loss(df, df_class, df_train, df_train_class, delta=delta, n_components=n_components, maximize_score=maximize_score, train_size=train_size)"
   ]
  },
  {
   "cell_type": "code",
   "execution_count": 5,
   "metadata": {},
   "outputs": [],
   "source": [
    "def histogram_detection_l(df, df_class, df_train, df_train_class, maximize_score='F1-Score', train_size=0.5):\n",
    "    return histogram(df, df_class, df_train, df_train_class, maximize_score=maximize_score, train_size=train_size)"
   ]
  },
  {
   "cell_type": "code",
   "execution_count": 6,
   "metadata": {},
   "outputs": [],
   "source": [
    "def cluster_detection_l(df, df_class, df_train, df_train_class, maximize_score='F1-Score', n_components=3, n_init=3, train_size=0.5):\n",
    "    return cluster_gaussian_mixture(df, df_class, df_train, df_train_class, maximize_score=maximize_score, n_components=n_components, n_init=n_init, train_size=train_size)"
   ]
  },
  {
   "cell_type": "code",
   "execution_count": 7,
   "metadata": {},
   "outputs": [],
   "source": [
    "def svm_detection_l(df, df_class, df_train, df_train_class, maximize_score='F1-Score', nu=0.95, kernel='rbf', train_size=0.5):\n",
    "    return svm(df, df_class, df_train, df_train_class, maximize_score=maximize_score, nu=nu, kernel=kernel, train_size=train_size)"
   ]
  },
  {
   "cell_type": "code",
   "execution_count": 8,
   "metadata": {},
   "outputs": [],
   "source": [
    "def isolation_forest_detection_l(df, df_class, df_train, df_train_class, maximize_score='F1-Score', n_jobs=-1, bootstrap=False, n_estimators=40, train_size=0.5):\n",
    "    return isolation_forest(df, df_class, df_train, df_train_class, maximize_score=maximize_score, n_jobs=n_jobs, bootstrap=bootstrap, n_estimators=n_estimators, train_size=train_size)"
   ]
  },
  {
   "cell_type": "code",
   "execution_count": 10,
   "metadata": {},
   "outputs": [],
   "source": [
    "# TS LENGTH - RPCA\n",
    "dataset, training_dataset = get_dataset(dataset_name)\n",
    "\n",
    "# Results array [nmi, rmse, f1]\n",
    "r_results = []\n",
    "for l in ts_lengths:\n",
    "    df = dataset.dataframe[0:l]\n",
    "    df_class = dataset.dataframe_class[0:l]\n",
    "    scores, y_hat_results, df_common_class, info = rpca_detection_l(df, df_class, training_dataset.dataframe, training_dataset.dataframe_class)\n",
    "    result = [np.round(info['nmi'], 3), np.round(info['rmse'], 3), np.round(info['f1_score'], 3)]\n",
    "    r_results.append(result)\n",
    "    \n",
    "rpca_results = np.array(r_results)   "
   ]
  },
  {
   "cell_type": "code",
   "execution_count": 11,
   "metadata": {},
   "outputs": [],
   "source": [
    "# TS LENGTH - HISTOGRAM\n",
    "dataset, training_dataset = get_dataset(dataset_name)\n",
    "\n",
    "# Results array [nmi, rmse, f1]\n",
    "h_results = []\n",
    "for l in ts_lengths:\n",
    "    df = dataset.dataframe[0:l]\n",
    "    df_class = dataset.dataframe_class[0:l]\n",
    "    scores, y_hat_results, df_common_class, info = histogram_detection_l(df, df_class, training_dataset.dataframe, training_dataset.dataframe_class)\n",
    "    result = [np.round(info['nmi'], 3), np.round(info['rmse'], 3), np.round(info['f1_score'], 3)]\n",
    "    h_results.append(result)\n",
    "    \n",
    "histogram_results = np.array(h_results)    "
   ]
  },
  {
   "cell_type": "code",
   "execution_count": 12,
   "metadata": {},
   "outputs": [],
   "source": [
    "# TS LENGTH - CLUSTER\n",
    "dataset, training_dataset = get_dataset(dataset_name)\n",
    "\n",
    "# Results array [nmi, rmse, f1]\n",
    "c_results = []\n",
    "for l in ts_lengths:\n",
    "    df = dataset.dataframe[0:l]\n",
    "    df_class = dataset.dataframe_class[0:l]\n",
    "    scores, y_hat_results, df_common_class, info = cluster_detection_l(df, df_class, training_dataset.dataframe, training_dataset.dataframe_class)\n",
    "    result = [np.round(info['nmi'], 3), np.round(info['rmse'], 3), np.round(info['f1_score'], 3)]\n",
    "    c_results.append(result)\n",
    "    \n",
    "cluster_results = np.array(c_results)    "
   ]
  },
  {
   "cell_type": "code",
   "execution_count": 13,
   "metadata": {},
   "outputs": [],
   "source": [
    "# TS LENGTH - SVM\n",
    "dataset, training_dataset = get_dataset(dataset_name)\n",
    "\n",
    "# Results array [nmi, rmse, f1]\n",
    "s_results = []\n",
    "for l in ts_lengths:\n",
    "    df = dataset.dataframe[0:l]\n",
    "    df_class = dataset.dataframe_class[0:l]\n",
    "    scores, y_hat_results, df_common_class, info = svm_detection_l(df, df_class, training_dataset.dataframe, training_dataset.dataframe_class)\n",
    "    result = [np.round(info['nmi'], 3), np.round(info['rmse'], 3), np.round(info['f1_score'], 3)]\n",
    "    s_results.append(result)\n",
    "    \n",
    "svm_results = np.array(s_results)    "
   ]
  },
  {
   "cell_type": "code",
   "execution_count": 14,
   "metadata": {},
   "outputs": [],
   "source": [
    "# TS LENGTH - ISOLATION FOREST\n",
    "dataset, training_dataset = get_dataset(dataset_name)\n",
    "\n",
    "# Results array [nmi, rmse, f1]\n",
    "i_results = []\n",
    "for l in ts_lengths:\n",
    "    df = dataset.dataframe[0:l]\n",
    "    df_class = dataset.dataframe_class[0:l]\n",
    "    scores, y_hat_results, df_common_class, info = isolation_forest_detection_l(df, df_class, training_dataset.dataframe, training_dataset.dataframe_class)\n",
    "    result = [np.round(info['nmi'], 3), np.round(info['rmse'], 3), np.round(info['f1_score'], 3)]\n",
    "    i_results.append(result)\n",
    "\n",
    "isolation_results = np.array(i_results)"
   ]
  },
  {
   "cell_type": "code",
   "execution_count": 15,
   "metadata": {},
   "outputs": [],
   "source": [
    "scores = [{ 'title' : 'RPCA', 'scores' :  rpca_results }, \n",
    "          { 'title' : 'Histogram', 'scores' :  histogram_results }, \n",
    "          { 'title' : 'Cluster', 'scores' :  cluster_results }, \n",
    "          { 'title' : 'SVM', 'scores' :  svm_results }, \n",
    "          { 'title' : 'Isolation Forest', 'scores' :  isolation_results }\n",
    "         ]"
   ]
  },
  {
   "cell_type": "code",
   "execution_count": 16,
   "metadata": {},
   "outputs": [
    {
     "name": "stdout",
     "output_type": "stream",
     "text": [
      "[{'title': 'RPCA', 'scores': array([[0.092, 0.56 , 0.263],\n",
      "       [0.082, 0.445, 0.183],\n",
      "       [0.053, 0.537, 0.13 ],\n",
      "       [0.051, 0.475, 0.112],\n",
      "       [0.132, 0.28 , 0.247],\n",
      "       [0.579, 0.018, 0.718],\n",
      "       [0.559, 0.019, 0.698],\n",
      "       [0.664, 0.016, 0.8  ],\n",
      "       [0.586, 0.023, 0.734],\n",
      "       [0.59 , 0.021, 0.734]])}, {'title': 'Histogram', 'scores': array([[0.048, 0.26 , 0.   ],\n",
      "       [0.032, 0.245, 0.   ],\n",
      "       [0.025, 0.217, 0.   ],\n",
      "       [0.021, 0.218, 0.   ],\n",
      "       [0.025, 0.196, 0.   ],\n",
      "       [0.02 , 0.16 , 0.   ],\n",
      "       [0.008, 0.164, 0.017],\n",
      "       [0.009, 0.201, 0.024],\n",
      "       [0.027, 0.104, 0.19 ],\n",
      "       [0.025, 0.101, 0.179]])}, {'title': 'Cluster', 'scores': array([[0.247, 0.24 , 0.455],\n",
      "       [0.207, 0.185, 0.351],\n",
      "       [0.485, 0.043, 0.649],\n",
      "       [0.463, 0.038, 0.615],\n",
      "       [0.68 , 0.02 , 0.821],\n",
      "       [0.366, 0.028, 0.485],\n",
      "       [0.369, 0.027, 0.486],\n",
      "       [0.533, 0.024, 0.678],\n",
      "       [0.431, 0.033, 0.571],\n",
      "       [0.434, 0.03 , 0.571]])}, {'title': 'SVM', 'scores': array([[0.407, 0.12 , 0.625],\n",
      "       [0.343, 0.095, 0.513],\n",
      "       [0.325, 0.067, 0.524],\n",
      "       [0.262, 0.072, 0.431],\n",
      "       [0.847, 0.006, 0.93 ],\n",
      "       [0.057, 0.04 , 0.077],\n",
      "       [0.099, 0.037, 0.133],\n",
      "       [0.374, 0.032, 0.5  ],\n",
      "       [0.193, 0.064, 0.453],\n",
      "       [0.184, 0.062, 0.436]])}, {'title': 'Isolation Forest', 'scores': array([[0.388, 0.13 , 0.606],\n",
      "       [0.189, 0.205, 0.328],\n",
      "       [0.144, 0.177, 0.293],\n",
      "       [0.061, 0.305, 0.153],\n",
      "       [0.297, 0.094, 0.484],\n",
      "       [0.342, 0.072, 0.527],\n",
      "       [0.253, 0.089, 0.446],\n",
      "       [0.2  , 0.146, 0.381],\n",
      "       [0.028, 0.118, 0.197],\n",
      "       [0.024, 0.119, 0.179]])}]\n"
     ]
    }
   ],
   "source": [
    "print(scores)"
   ]
  },
  {
   "cell_type": "code",
   "execution_count": 2,
   "metadata": {},
   "outputs": [],
   "source": [
    "# import numpy as np\n",
    "# scores = [{'title': 'RPCA', 'scores': np.array([[0.092, 0.56 , 0.263],\n",
    "#        [0.082, 0.445, 0.183],\n",
    "#        [0.053, 0.537, 0.13 ],\n",
    "#        [0.051, 0.475, 0.112],\n",
    "#        [0.132, 0.28 , 0.247],\n",
    "#        [0.579, 0.018, 0.718],\n",
    "#        [0.559, 0.019, 0.698],\n",
    "#        [0.664, 0.016, 0.8  ],\n",
    "#        [0.586, 0.023, 0.734],\n",
    "#        [0.59 , 0.021, 0.734]])}, {'title': 'Histogram', 'scores': np.array([[0.048, 0.26 , 0.   ],\n",
    "#        [0.032, 0.245, 0.   ],\n",
    "#        [0.025, 0.217, 0.   ],\n",
    "#        [0.021, 0.218, 0.   ],\n",
    "#        [0.025, 0.196, 0.   ],\n",
    "#        [0.02 , 0.16 , 0.   ],\n",
    "#        [0.008, 0.164, 0.017],\n",
    "#        [0.009, 0.201, 0.024],\n",
    "#        [0.027, 0.104, 0.19 ],\n",
    "#        [0.025, 0.101, 0.179]])}, {'title': 'Cluster', 'scores': np.array([[0.247, 0.24 , 0.455],\n",
    "#        [0.207, 0.185, 0.351],\n",
    "#        [0.485, 0.043, 0.649],\n",
    "#        [0.463, 0.038, 0.615],\n",
    "#        [0.68 , 0.02 , 0.821],\n",
    "#        [0.366, 0.028, 0.485],\n",
    "#        [0.369, 0.027, 0.486],\n",
    "#        [0.533, 0.024, 0.678],\n",
    "#        [0.431, 0.033, 0.571],\n",
    "#        [0.434, 0.03 , 0.571]])}, {'title': 'SVM', 'scores': np.array([[0.407, 0.12 , 0.625],\n",
    "#        [0.343, 0.095, 0.513],\n",
    "#        [0.325, 0.067, 0.524],\n",
    "#        [0.262, 0.072, 0.431],\n",
    "#        [0.847, 0.006, 0.93 ],\n",
    "#        [0.057, 0.04 , 0.077],\n",
    "#        [0.099, 0.037, 0.133],\n",
    "#        [0.374, 0.032, 0.5  ],\n",
    "#        [0.193, 0.064, 0.453],\n",
    "#        [0.184, 0.062, 0.436]])}, {'title': 'Isolation Forest', 'scores': np.array([[0.388, 0.13 , 0.606],\n",
    "#        [0.189, 0.205, 0.328],\n",
    "#        [0.144, 0.177, 0.293],\n",
    "#        [0.061, 0.305, 0.153],\n",
    "#        [0.297, 0.094, 0.484],\n",
    "#        [0.342, 0.072, 0.527],\n",
    "#        [0.253, 0.089, 0.446],\n",
    "#        [0.2  , 0.146, 0.381],\n",
    "#        [0.028, 0.118, 0.197],\n",
    "#        [0.024, 0.119, 0.179]])}]"
   ]
  },
  {
   "cell_type": "code",
   "execution_count": 5,
   "metadata": {},
   "outputs": [],
   "source": [
    "#NMI\n",
    "results = []\n",
    "for score in scores:\n",
    "    res = []\n",
    "    values = score['scores']\n",
    "    for i in range(len(dimensions)):\n",
    "        dim = int(dimensions[i]/10)\n",
    "        val = values[i][0]\n",
    "        res.append((dim, val))\n",
    "    results.append({'title' : score['title'], 'plotdata' : res}) "
   ]
  },
  {
   "cell_type": "code",
   "execution_count": 6,
   "metadata": {},
   "outputs": [
    {
     "name": "stdout",
     "output_type": "stream",
     "text": [
      "[   {   'plotdata': [   (10, 0.092),\n",
      "                        (20, 0.082),\n",
      "                        (30, 0.053),\n",
      "                        (40, 0.051),\n",
      "                        (50, 0.132),\n",
      "                        (60, 0.579),\n",
      "                        (70, 0.559),\n",
      "                        (80, 0.664),\n",
      "                        (90, 0.586),\n",
      "                        (100, 0.59)],\n",
      "        'title': 'RPCA'},\n",
      "    {   'plotdata': [   (10, 0.048),\n",
      "                        (20, 0.032),\n",
      "                        (30, 0.025),\n",
      "                        (40, 0.021),\n",
      "                        (50, 0.025),\n",
      "                        (60, 0.02),\n",
      "                        (70, 0.008),\n",
      "                        (80, 0.009),\n",
      "                        (90, 0.027),\n",
      "                        (100, 0.025)],\n",
      "        'title': 'Histogram'},\n",
      "    {   'plotdata': [   (10, 0.247),\n",
      "                        (20, 0.207),\n",
      "                        (30, 0.485),\n",
      "                        (40, 0.463),\n",
      "                        (50, 0.68),\n",
      "                        (60, 0.366),\n",
      "                        (70, 0.369),\n",
      "                        (80, 0.533),\n",
      "                        (90, 0.431),\n",
      "                        (100, 0.434)],\n",
      "        'title': 'Cluster'},\n",
      "    {   'plotdata': [   (10, 0.407),\n",
      "                        (20, 0.343),\n",
      "                        (30, 0.325),\n",
      "                        (40, 0.262),\n",
      "                        (50, 0.847),\n",
      "                        (60, 0.057),\n",
      "                        (70, 0.099),\n",
      "                        (80, 0.374),\n",
      "                        (90, 0.193),\n",
      "                        (100, 0.184)],\n",
      "        'title': 'SVM'},\n",
      "    {   'plotdata': [   (10, 0.388),\n",
      "                        (20, 0.189),\n",
      "                        (30, 0.144),\n",
      "                        (40, 0.061),\n",
      "                        (50, 0.297),\n",
      "                        (60, 0.342),\n",
      "                        (70, 0.253),\n",
      "                        (80, 0.2),\n",
      "                        (90, 0.028),\n",
      "                        (100, 0.024)],\n",
      "        'title': 'Isolation Forest'}]\n"
     ]
    }
   ],
   "source": [
    "pp.pprint(results)"
   ]
  },
  {
   "cell_type": "code",
   "execution_count": 7,
   "metadata": {},
   "outputs": [],
   "source": [
    "#RMSE\n",
    "results = []\n",
    "for score in scores:\n",
    "    res = []\n",
    "    values = score['scores']\n",
    "    for i in range(len(dimensions)):\n",
    "        dim = int(dimensions[i]/10)\n",
    "        val = values[i][1]\n",
    "        res.append((dim, val))\n",
    "    results.append({'title' : score['title'], 'plotdata' : res}) "
   ]
  },
  {
   "cell_type": "code",
   "execution_count": 8,
   "metadata": {},
   "outputs": [
    {
     "name": "stdout",
     "output_type": "stream",
     "text": [
      "[   {   'plotdata': [   (10, 0.56),\n",
      "                        (20, 0.445),\n",
      "                        (30, 0.537),\n",
      "                        (40, 0.475),\n",
      "                        (50, 0.28),\n",
      "                        (60, 0.018),\n",
      "                        (70, 0.019),\n",
      "                        (80, 0.016),\n",
      "                        (90, 0.023),\n",
      "                        (100, 0.021)],\n",
      "        'title': 'RPCA'},\n",
      "    {   'plotdata': [   (10, 0.26),\n",
      "                        (20, 0.245),\n",
      "                        (30, 0.217),\n",
      "                        (40, 0.218),\n",
      "                        (50, 0.196),\n",
      "                        (60, 0.16),\n",
      "                        (70, 0.164),\n",
      "                        (80, 0.201),\n",
      "                        (90, 0.104),\n",
      "                        (100, 0.101)],\n",
      "        'title': 'Histogram'},\n",
      "    {   'plotdata': [   (10, 0.24),\n",
      "                        (20, 0.185),\n",
      "                        (30, 0.043),\n",
      "                        (40, 0.038),\n",
      "                        (50, 0.02),\n",
      "                        (60, 0.028),\n",
      "                        (70, 0.027),\n",
      "                        (80, 0.024),\n",
      "                        (90, 0.033),\n",
      "                        (100, 0.03)],\n",
      "        'title': 'Cluster'},\n",
      "    {   'plotdata': [   (10, 0.12),\n",
      "                        (20, 0.095),\n",
      "                        (30, 0.067),\n",
      "                        (40, 0.072),\n",
      "                        (50, 0.006),\n",
      "                        (60, 0.04),\n",
      "                        (70, 0.037),\n",
      "                        (80, 0.032),\n",
      "                        (90, 0.064),\n",
      "                        (100, 0.062)],\n",
      "        'title': 'SVM'},\n",
      "    {   'plotdata': [   (10, 0.13),\n",
      "                        (20, 0.205),\n",
      "                        (30, 0.177),\n",
      "                        (40, 0.305),\n",
      "                        (50, 0.094),\n",
      "                        (60, 0.072),\n",
      "                        (70, 0.089),\n",
      "                        (80, 0.146),\n",
      "                        (90, 0.118),\n",
      "                        (100, 0.119)],\n",
      "        'title': 'Isolation Forest'}]\n"
     ]
    }
   ],
   "source": [
    "pp.pprint(results)"
   ]
  },
  {
   "cell_type": "code",
   "execution_count": 9,
   "metadata": {},
   "outputs": [],
   "source": [
    "#F1\n",
    "results = []\n",
    "for score in scores:\n",
    "    res = []\n",
    "    values = score['scores']\n",
    "    for i in range(len(dimensions)):\n",
    "        dim = int(dimensions[i]/10)\n",
    "        val = values[i][2]\n",
    "        res.append((dim, val))\n",
    "    results.append({'title' : score['title'], 'plotdata' : res}) "
   ]
  },
  {
   "cell_type": "code",
   "execution_count": 10,
   "metadata": {},
   "outputs": [
    {
     "name": "stdout",
     "output_type": "stream",
     "text": [
      "[   {   'plotdata': [   (10, 0.263),\n",
      "                        (20, 0.183),\n",
      "                        (30, 0.13),\n",
      "                        (40, 0.112),\n",
      "                        (50, 0.247),\n",
      "                        (60, 0.718),\n",
      "                        (70, 0.698),\n",
      "                        (80, 0.8),\n",
      "                        (90, 0.734),\n",
      "                        (100, 0.734)],\n",
      "        'title': 'RPCA'},\n",
      "    {   'plotdata': [   (10, 0.0),\n",
      "                        (20, 0.0),\n",
      "                        (30, 0.0),\n",
      "                        (40, 0.0),\n",
      "                        (50, 0.0),\n",
      "                        (60, 0.0),\n",
      "                        (70, 0.017),\n",
      "                        (80, 0.024),\n",
      "                        (90, 0.19),\n",
      "                        (100, 0.179)],\n",
      "        'title': 'Histogram'},\n",
      "    {   'plotdata': [   (10, 0.455),\n",
      "                        (20, 0.351),\n",
      "                        (30, 0.649),\n",
      "                        (40, 0.615),\n",
      "                        (50, 0.821),\n",
      "                        (60, 0.485),\n",
      "                        (70, 0.486),\n",
      "                        (80, 0.678),\n",
      "                        (90, 0.571),\n",
      "                        (100, 0.571)],\n",
      "        'title': 'Cluster'},\n",
      "    {   'plotdata': [   (10, 0.625),\n",
      "                        (20, 0.513),\n",
      "                        (30, 0.524),\n",
      "                        (40, 0.431),\n",
      "                        (50, 0.93),\n",
      "                        (60, 0.077),\n",
      "                        (70, 0.133),\n",
      "                        (80, 0.5),\n",
      "                        (90, 0.453),\n",
      "                        (100, 0.436)],\n",
      "        'title': 'SVM'},\n",
      "    {   'plotdata': [   (10, 0.606),\n",
      "                        (20, 0.328),\n",
      "                        (30, 0.293),\n",
      "                        (40, 0.153),\n",
      "                        (50, 0.484),\n",
      "                        (60, 0.527),\n",
      "                        (70, 0.446),\n",
      "                        (80, 0.381),\n",
      "                        (90, 0.197),\n",
      "                        (100, 0.179)],\n",
      "        'title': 'Isolation Forest'}]\n"
     ]
    }
   ],
   "source": [
    "pp.pprint(results)"
   ]
  }
 ],
 "metadata": {
  "kernelspec": {
   "display_name": "Django Shell-Plus",
   "language": "python",
   "name": "django_extensions"
  },
  "language_info": {
   "codemirror_mode": {
    "name": "ipython",
    "version": 3
   },
   "file_extension": ".py",
   "mimetype": "text/x-python",
   "name": "python",
   "nbconvert_exporter": "python",
   "pygments_lexer": "ipython3",
   "version": "3.7.9"
  }
 },
 "nbformat": 4,
 "nbformat_minor": 4
}
