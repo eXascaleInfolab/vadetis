{
 "cells": [
  {
   "cell_type": "code",
   "execution_count": 1,
   "metadata": {},
   "outputs": [],
   "source": [
    "from vadetisweb.anomaly_algorithms.detection.cluster import cluster_gaussian_mixture\n",
    "from vadetisweb.anomaly_algorithms.detection.histogram import histogram\n",
    "from vadetisweb.anomaly_algorithms.detection.svm import svm\n",
    "from vadetisweb.anomaly_algorithms.detection.isolation_forest import isolation_forest\n",
    "from vadetisweb.anomaly_algorithms.detection.lisa import lisa_pearson, lisa_dtw, lisa_geo\n",
    "from vadetisweb.anomaly_algorithms.detection.robust_pca import robust_pca_huber_loss\n",
    "from vadetisweb.models import DataSet, TimeSeries\n",
    "\n",
    "import numpy as np\n",
    "import pprint\n",
    "pp = pprint.PrettyPrinter(indent=4)"
   ]
  },
  {
   "cell_type": "code",
   "execution_count": 1,
   "metadata": {},
   "outputs": [],
   "source": [
    "# A2 Multi - TS LENGTH\n",
    "dataset_name = 'A2 Yahoo'\n",
    "dimensions = [100, 200, 300, 400, 500, 600, 700]"
   ]
  },
  {
   "cell_type": "code",
   "execution_count": 3,
   "metadata": {},
   "outputs": [],
   "source": [
    "#input\n",
    "def get_dataset(title, ts_name=None):\n",
    "    ts_id = None\n",
    "    dataset = DataSet.objects.filter(title=title).first()\n",
    "    training_dataset = dataset.training_dataset.all().first()\n",
    "\n",
    "    return dataset, training_dataset"
   ]
  },
  {
   "cell_type": "code",
   "execution_count": 4,
   "metadata": {},
   "outputs": [],
   "source": [
    "def rpca_detection_l(df, df_class, df_train, df_train_class, delta=1, n_components=2, maximize_score='F1-Score', train_size=0.5):\n",
    "    return robust_pca_huber_loss(df, df_class, df_train, df_train_class, delta=delta, n_components=n_components, maximize_score=maximize_score, train_size=train_size)"
   ]
  },
  {
   "cell_type": "code",
   "execution_count": 5,
   "metadata": {},
   "outputs": [],
   "source": [
    "def histogram_detection_l(df, df_class, df_train, df_train_class, maximize_score='F1-Score', train_size=0.5):\n",
    "    return histogram(df, df_class, df_train, df_train_class, maximize_score=maximize_score, train_size=train_size)"
   ]
  },
  {
   "cell_type": "code",
   "execution_count": 6,
   "metadata": {},
   "outputs": [],
   "source": [
    "def cluster_detection_l(df, df_class, df_train, df_train_class, maximize_score='F1-Score', n_components=3, n_init=3, train_size=0.5):\n",
    "    return cluster_gaussian_mixture(df, df_class, df_train, df_train_class, maximize_score=maximize_score, n_components=n_components, n_init=n_init, train_size=train_size)"
   ]
  },
  {
   "cell_type": "code",
   "execution_count": 7,
   "metadata": {},
   "outputs": [],
   "source": [
    "def svm_detection_l(df, df_class, df_train, df_train_class, maximize_score='F1-Score', nu=0.95, kernel='rbf', train_size=0.5):\n",
    "    return svm(df, df_class, df_train, df_train_class, maximize_score=maximize_score, nu=nu, kernel=kernel, train_size=train_size)"
   ]
  },
  {
   "cell_type": "code",
   "execution_count": 8,
   "metadata": {},
   "outputs": [],
   "source": [
    "def isolation_forest_detection_l(df, df_class, df_train, df_train_class, maximize_score='F1-Score', n_jobs=-1, bootstrap=False, n_estimators=40, train_size=0.5):\n",
    "    return isolation_forest(df, df_class, df_train, df_train_class, maximize_score=maximize_score, n_jobs=n_jobs, bootstrap=bootstrap, n_estimators=n_estimators, train_size=train_size)"
   ]
  },
  {
   "cell_type": "code",
   "execution_count": 10,
   "metadata": {},
   "outputs": [],
   "source": [
    "# TS LENGTH - RPCA\n",
    "dataset, training_dataset = get_dataset(dataset_name)\n",
    "\n",
    "# Results array [nmi, rmse, f1]\n",
    "r_results = []\n",
    "for l in ts_lengths:\n",
    "    df = dataset.dataframe[0:l]\n",
    "    df_class = dataset.dataframe_class[0:l]\n",
    "    scores, y_hat_results, df_common_class, info = rpca_detection_l(df, df_class, training_dataset.dataframe, training_dataset.dataframe_class)\n",
    "    result = [np.round(info['nmi'], 3), np.round(info['rmse'], 3), np.round(info['f1_score'], 3)]\n",
    "    r_results.append(result)\n",
    "    \n",
    "rpca_results = np.array(r_results)   "
   ]
  },
  {
   "cell_type": "code",
   "execution_count": 11,
   "metadata": {},
   "outputs": [],
   "source": [
    "# TS LENGTH - HISTOGRAM\n",
    "dataset, training_dataset = get_dataset(dataset_name)\n",
    "\n",
    "# Results array [nmi, rmse, f1]\n",
    "h_results = []\n",
    "for l in ts_lengths:\n",
    "    df = dataset.dataframe[0:l]\n",
    "    df_class = dataset.dataframe_class[0:l]\n",
    "    scores, y_hat_results, df_common_class, info = histogram_detection_l(df, df_class, training_dataset.dataframe, training_dataset.dataframe_class)\n",
    "    result = [np.round(info['nmi'], 3), np.round(info['rmse'], 3), np.round(info['f1_score'], 3)]\n",
    "    h_results.append(result)\n",
    "    \n",
    "histogram_results = np.array(h_results)    "
   ]
  },
  {
   "cell_type": "code",
   "execution_count": 12,
   "metadata": {},
   "outputs": [],
   "source": [
    "# TS LENGTH - CLUSTER\n",
    "dataset, training_dataset = get_dataset(dataset_name)\n",
    "\n",
    "# Results array [nmi, rmse, f1]\n",
    "c_results = []\n",
    "for l in ts_lengths:\n",
    "    df = dataset.dataframe[0:l]\n",
    "    df_class = dataset.dataframe_class[0:l]\n",
    "    scores, y_hat_results, df_common_class, info = cluster_detection_l(df, df_class, training_dataset.dataframe, training_dataset.dataframe_class)\n",
    "    result = [np.round(info['nmi'], 3), np.round(info['rmse'], 3), np.round(info['f1_score'], 3)]\n",
    "    c_results.append(result)\n",
    "    \n",
    "cluster_results = np.array(c_results)    "
   ]
  },
  {
   "cell_type": "code",
   "execution_count": 13,
   "metadata": {},
   "outputs": [],
   "source": [
    "# TS LENGTH - SVM\n",
    "dataset, training_dataset = get_dataset(dataset_name)\n",
    "\n",
    "# Results array [nmi, rmse, f1]\n",
    "s_results = []\n",
    "for l in ts_lengths:\n",
    "    df = dataset.dataframe[0:l]\n",
    "    df_class = dataset.dataframe_class[0:l]\n",
    "    scores, y_hat_results, df_common_class, info = svm_detection_l(df, df_class, training_dataset.dataframe, training_dataset.dataframe_class)\n",
    "    result = [np.round(info['nmi'], 3), np.round(info['rmse'], 3), np.round(info['f1_score'], 3)]\n",
    "    s_results.append(result)\n",
    "    \n",
    "svm_results = np.array(s_results)    "
   ]
  },
  {
   "cell_type": "code",
   "execution_count": 14,
   "metadata": {},
   "outputs": [],
   "source": [
    "# TS LENGTH - ISOLATION FOREST\n",
    "dataset, training_dataset = get_dataset(dataset_name)\n",
    "\n",
    "# Results array [nmi, rmse, f1]\n",
    "i_results = []\n",
    "for l in ts_lengths:\n",
    "    df = dataset.dataframe[0:l]\n",
    "    df_class = dataset.dataframe_class[0:l]\n",
    "    scores, y_hat_results, df_common_class, info = isolation_forest_detection_l(df, df_class, training_dataset.dataframe, training_dataset.dataframe_class)\n",
    "    result = [np.round(info['nmi'], 3), np.round(info['rmse'], 3), np.round(info['f1_score'], 3)]\n",
    "    i_results.append(result)\n",
    "\n",
    "isolation_results = np.array(i_results)"
   ]
  },
  {
   "cell_type": "code",
   "execution_count": 15,
   "metadata": {},
   "outputs": [],
   "source": [
    "scores = [{ 'title' : 'RPCA', 'scores' :  rpca_results }, \n",
    "          { 'title' : 'Histogram', 'scores' :  histogram_results }, \n",
    "          { 'title' : 'Cluster', 'scores' :  cluster_results }, \n",
    "          { 'title' : 'SVM', 'scores' :  svm_results }, \n",
    "          { 'title' : 'Isolation Forest', 'scores' :  isolation_results }\n",
    "         ]"
   ]
  },
  {
   "cell_type": "code",
   "execution_count": 16,
   "metadata": {},
   "outputs": [
    {
     "name": "stdout",
     "output_type": "stream",
     "text": [
      "[{'title': 'RPCA', 'scores': array([[0.   , 0.86 , 0.   ],\n",
      "       [0.1  , 0.235, 0.175],\n",
      "       [0.054, 0.267, 0.286],\n",
      "       [0.062, 0.148, 0.289],\n",
      "       [0.07 , 0.128, 0.289],\n",
      "       [0.071, 0.118, 0.283],\n",
      "       [0.113, 0.107, 0.348]])}, {'title': 'Histogram', 'scores': array([[0.   , 0.84 , 0.   ],\n",
      "       [0.011, 0.885, 0.053],\n",
      "       [0.037, 0.873, 0.127],\n",
      "       [0.011, 0.865, 0.113],\n",
      "       [0.01 , 0.878, 0.099],\n",
      "       [0.015, 0.89 , 0.089],\n",
      "       [0.003, 0.894, 0.106]])}, {'title': 'Cluster', 'scores': array([[0.   , 0.92 , 0.   ],\n",
      "       [1.   , 0.   , 1.   ],\n",
      "       [1.   , 0.   , 1.   ],\n",
      "       [1.   , 0.   , 1.   ],\n",
      "       [0.947, 0.002, 0.982],\n",
      "       [0.881, 0.005, 0.951],\n",
      "       [0.896, 0.004, 0.959]])}, {'title': 'SVM', 'scores': array([[0.   , 0.05 , 0.   ],\n",
      "       [0.037, 0.18 , 0.143],\n",
      "       [0.014, 0.23 , 0.207],\n",
      "       [0.052, 0.148, 0.272],\n",
      "       [0.045, 0.15 , 0.242],\n",
      "       [0.045, 0.13 , 0.235],\n",
      "       [0.052, 0.09 , 0.241]])}, {'title': 'Isolation Forest', 'scores': array([[0.   , 0.48 , 0.   ],\n",
      "       [0.001, 0.485, 0.04 ],\n",
      "       [0.002, 0.45 , 0.161],\n",
      "       [0.014, 0.462, 0.17 ],\n",
      "       [0.016, 0.494, 0.151],\n",
      "       [0.016, 0.507, 0.141],\n",
      "       [0.041, 0.514, 0.163]])}]\n"
     ]
    }
   ],
   "source": [
    "print(scores)"
   ]
  },
  {
   "cell_type": "code",
   "execution_count": 3,
   "metadata": {},
   "outputs": [],
   "source": [
    "# import numpy as np\n",
    "# scores = [{'title': 'RPCA', 'scores': np.array([[0.   , 0.86 , 0.   ],\n",
    "#        [0.1  , 0.235, 0.175],\n",
    "#        [0.054, 0.267, 0.286],\n",
    "#        [0.062, 0.148, 0.289],\n",
    "#        [0.07 , 0.128, 0.289],\n",
    "#        [0.071, 0.118, 0.283],\n",
    "#        [0.113, 0.107, 0.348]])}, {'title': 'Histogram', 'scores': np.array([[0.   , 0.84 , 0.   ],\n",
    "#        [0.011, 0.885, 0.053],\n",
    "#        [0.037, 0.873, 0.127],\n",
    "#        [0.011, 0.865, 0.113],\n",
    "#        [0.01 , 0.878, 0.099],\n",
    "#        [0.015, 0.89 , 0.089],\n",
    "#        [0.003, 0.894, 0.106]])}, {'title': 'Cluster', 'scores': np.array([[0.   , 0.92 , 0.   ],\n",
    "#        [1.   , 0.   , 1.   ],\n",
    "#        [1.   , 0.   , 1.   ],\n",
    "#        [1.   , 0.   , 1.   ],\n",
    "#        [0.947, 0.002, 0.982],\n",
    "#        [0.881, 0.005, 0.951],\n",
    "#        [0.896, 0.004, 0.959]])}, {'title': 'SVM', 'scores': np.array([[0.   , 0.05 , 0.   ],\n",
    "#        [0.037, 0.18 , 0.143],\n",
    "#        [0.014, 0.23 , 0.207],\n",
    "#        [0.052, 0.148, 0.272],\n",
    "#        [0.045, 0.15 , 0.242],\n",
    "#        [0.045, 0.13 , 0.235],\n",
    "#        [0.052, 0.09 , 0.241]])}, {'title': 'Isolation Forest', 'scores': np.array([[0.   , 0.48 , 0.   ],\n",
    "#        [0.001, 0.485, 0.04 ],\n",
    "#        [0.002, 0.45 , 0.161],\n",
    "#        [0.014, 0.462, 0.17 ],\n",
    "#        [0.016, 0.494, 0.151],\n",
    "#        [0.016, 0.507, 0.141],\n",
    "#        [0.041, 0.514, 0.163]])}]"
   ]
  },
  {
   "cell_type": "code",
   "execution_count": 4,
   "metadata": {},
   "outputs": [],
   "source": [
    "#NMI\n",
    "results = []\n",
    "for score in scores:\n",
    "    res = []\n",
    "    values = score['scores']\n",
    "    for i in range(len(dimensions)):\n",
    "        dim = int(dimensions[i]/10)\n",
    "        val = values[i][0]\n",
    "        res.append((dim, val))\n",
    "    results.append({'title' : score['title'], 'plotdata' : res}) "
   ]
  },
  {
   "cell_type": "code",
   "execution_count": 5,
   "metadata": {},
   "outputs": [
    {
     "name": "stdout",
     "output_type": "stream",
     "text": [
      "[   {   'plotdata': [   (10, 0.0),\n",
      "                        (20, 0.1),\n",
      "                        (30, 0.054),\n",
      "                        (40, 0.062),\n",
      "                        (50, 0.07),\n",
      "                        (60, 0.071),\n",
      "                        (70, 0.113)],\n",
      "        'title': 'RPCA'},\n",
      "    {   'plotdata': [   (10, 0.0),\n",
      "                        (20, 0.011),\n",
      "                        (30, 0.037),\n",
      "                        (40, 0.011),\n",
      "                        (50, 0.01),\n",
      "                        (60, 0.015),\n",
      "                        (70, 0.003)],\n",
      "        'title': 'Histogram'},\n",
      "    {   'plotdata': [   (10, 0.0),\n",
      "                        (20, 1.0),\n",
      "                        (30, 1.0),\n",
      "                        (40, 1.0),\n",
      "                        (50, 0.947),\n",
      "                        (60, 0.881),\n",
      "                        (70, 0.896)],\n",
      "        'title': 'Cluster'},\n",
      "    {   'plotdata': [   (10, 0.0),\n",
      "                        (20, 0.037),\n",
      "                        (30, 0.014),\n",
      "                        (40, 0.052),\n",
      "                        (50, 0.045),\n",
      "                        (60, 0.045),\n",
      "                        (70, 0.052)],\n",
      "        'title': 'SVM'},\n",
      "    {   'plotdata': [   (10, 0.0),\n",
      "                        (20, 0.001),\n",
      "                        (30, 0.002),\n",
      "                        (40, 0.014),\n",
      "                        (50, 0.016),\n",
      "                        (60, 0.016),\n",
      "                        (70, 0.041)],\n",
      "        'title': 'Isolation Forest'}]\n"
     ]
    }
   ],
   "source": [
    "pp.pprint(results)"
   ]
  },
  {
   "cell_type": "code",
   "execution_count": 6,
   "metadata": {},
   "outputs": [],
   "source": [
    "#RMSE\n",
    "results = []\n",
    "for score in scores:\n",
    "    res = []\n",
    "    values = score['scores']\n",
    "    for i in range(len(dimensions)):\n",
    "        dim = int(dimensions[i]/10)\n",
    "        val = values[i][1]\n",
    "        res.append((dim, val))\n",
    "    results.append({'title' : score['title'], 'plotdata' : res}) "
   ]
  },
  {
   "cell_type": "code",
   "execution_count": 7,
   "metadata": {},
   "outputs": [
    {
     "name": "stdout",
     "output_type": "stream",
     "text": [
      "[   {   'plotdata': [   (10, 0.86),\n",
      "                        (20, 0.235),\n",
      "                        (30, 0.267),\n",
      "                        (40, 0.148),\n",
      "                        (50, 0.128),\n",
      "                        (60, 0.118),\n",
      "                        (70, 0.107)],\n",
      "        'title': 'RPCA'},\n",
      "    {   'plotdata': [   (10, 0.84),\n",
      "                        (20, 0.885),\n",
      "                        (30, 0.873),\n",
      "                        (40, 0.865),\n",
      "                        (50, 0.878),\n",
      "                        (60, 0.89),\n",
      "                        (70, 0.894)],\n",
      "        'title': 'Histogram'},\n",
      "    {   'plotdata': [   (10, 0.92),\n",
      "                        (20, 0.0),\n",
      "                        (30, 0.0),\n",
      "                        (40, 0.0),\n",
      "                        (50, 0.002),\n",
      "                        (60, 0.005),\n",
      "                        (70, 0.004)],\n",
      "        'title': 'Cluster'},\n",
      "    {   'plotdata': [   (10, 0.05),\n",
      "                        (20, 0.18),\n",
      "                        (30, 0.23),\n",
      "                        (40, 0.148),\n",
      "                        (50, 0.15),\n",
      "                        (60, 0.13),\n",
      "                        (70, 0.09)],\n",
      "        'title': 'SVM'},\n",
      "    {   'plotdata': [   (10, 0.48),\n",
      "                        (20, 0.485),\n",
      "                        (30, 0.45),\n",
      "                        (40, 0.462),\n",
      "                        (50, 0.494),\n",
      "                        (60, 0.507),\n",
      "                        (70, 0.514)],\n",
      "        'title': 'Isolation Forest'}]\n"
     ]
    }
   ],
   "source": [
    "pp.pprint(results)"
   ]
  },
  {
   "cell_type": "code",
   "execution_count": 8,
   "metadata": {},
   "outputs": [],
   "source": [
    "#F1\n",
    "results = []\n",
    "for score in scores:\n",
    "    res = []\n",
    "    values = score['scores']\n",
    "    for i in range(len(dimensions)):\n",
    "        dim = int(dimensions[i]/10)\n",
    "        val = values[i][2]\n",
    "        res.append((dim, val))\n",
    "    results.append({'title' : score['title'], 'plotdata' : res}) "
   ]
  },
  {
   "cell_type": "code",
   "execution_count": 9,
   "metadata": {},
   "outputs": [
    {
     "name": "stdout",
     "output_type": "stream",
     "text": [
      "[   {   'plotdata': [   (10, 0.0),\n",
      "                        (20, 0.175),\n",
      "                        (30, 0.286),\n",
      "                        (40, 0.289),\n",
      "                        (50, 0.289),\n",
      "                        (60, 0.283),\n",
      "                        (70, 0.348)],\n",
      "        'title': 'RPCA'},\n",
      "    {   'plotdata': [   (10, 0.0),\n",
      "                        (20, 0.053),\n",
      "                        (30, 0.127),\n",
      "                        (40, 0.113),\n",
      "                        (50, 0.099),\n",
      "                        (60, 0.089),\n",
      "                        (70, 0.106)],\n",
      "        'title': 'Histogram'},\n",
      "    {   'plotdata': [   (10, 0.0),\n",
      "                        (20, 1.0),\n",
      "                        (30, 1.0),\n",
      "                        (40, 1.0),\n",
      "                        (50, 0.982),\n",
      "                        (60, 0.951),\n",
      "                        (70, 0.959)],\n",
      "        'title': 'Cluster'},\n",
      "    {   'plotdata': [   (10, 0.0),\n",
      "                        (20, 0.143),\n",
      "                        (30, 0.207),\n",
      "                        (40, 0.272),\n",
      "                        (50, 0.242),\n",
      "                        (60, 0.235),\n",
      "                        (70, 0.241)],\n",
      "        'title': 'SVM'},\n",
      "    {   'plotdata': [   (10, 0.0),\n",
      "                        (20, 0.04),\n",
      "                        (30, 0.161),\n",
      "                        (40, 0.17),\n",
      "                        (50, 0.151),\n",
      "                        (60, 0.141),\n",
      "                        (70, 0.163)],\n",
      "        'title': 'Isolation Forest'}]\n"
     ]
    }
   ],
   "source": [
    "pp.pprint(results)"
   ]
  }
 ],
 "metadata": {
  "kernelspec": {
   "display_name": "Django Shell-Plus",
   "language": "python",
   "name": "django_extensions"
  },
  "language_info": {
   "codemirror_mode": {
    "name": "ipython",
    "version": 3
   },
   "file_extension": ".py",
   "mimetype": "text/x-python",
   "name": "python",
   "nbconvert_exporter": "python",
   "pygments_lexer": "ipython3",
   "version": "3.7.9"
  }
 },
 "nbformat": 4,
 "nbformat_minor": 4
}
