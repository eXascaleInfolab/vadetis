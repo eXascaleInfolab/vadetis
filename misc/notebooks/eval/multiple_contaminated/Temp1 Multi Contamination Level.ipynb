{
 "cells": [
  {
   "cell_type": "code",
   "execution_count": 1,
   "metadata": {},
   "outputs": [],
   "source": [
    "from vadetisweb.anomaly_algorithms.detection.cluster import cluster_gaussian_mixture\n",
    "from vadetisweb.anomaly_algorithms.detection.histogram import histogram\n",
    "from vadetisweb.anomaly_algorithms.detection.svm import svm\n",
    "from vadetisweb.anomaly_algorithms.detection.isolation_forest import isolation_forest\n",
    "from vadetisweb.anomaly_algorithms.detection.lisa import lisa_pearson, lisa_dtw, lisa_geo\n",
    "from vadetisweb.anomaly_algorithms.detection.robust_pca import robust_pca_huber_loss\n",
    "from vadetisweb.models import DataSet, TimeSeries\n",
    "\n",
    "import pprint\n",
    "pp = pprint.PrettyPrinter(indent=4)"
   ]
  },
  {
   "cell_type": "code",
   "execution_count": 2,
   "metadata": {},
   "outputs": [],
   "source": [
    "# Temp1 Multi - Contamination Level\n",
    "dataset_names = [\n",
    "    'Idaweb Swiss Temperature Multi TS8',\n",
    "    'Idaweb Swiss Temperature Multi TS8 CL10',\n",
    "    'Idaweb Swiss Temperature Multi TS8 CL15',\n",
    "    'Idaweb Swiss Temperature Multi TS8 CL20',\n",
    "    'Idaweb Swiss Temperature Multi TS8 CL25'\n",
    "]\n",
    "dimensions = [50, 100, 150, 200, 250]"
   ]
  },
  {
   "cell_type": "code",
   "execution_count": 3,
   "metadata": {},
   "outputs": [],
   "source": [
    "#input\n",
    "def get_dataset(title, ts_name=None):\n",
    "    ts_id = None\n",
    "    dataset = DataSet.objects.filter(title=title).first()\n",
    "    training_dataset = dataset.training_dataset.all().first()\n",
    "\n",
    "    return dataset, training_dataset"
   ]
  },
  {
   "cell_type": "code",
   "execution_count": 4,
   "metadata": {},
   "outputs": [],
   "source": [
    "def rpca_detection_l(df, df_class, df_train, df_train_class, delta=1, n_components=2, maximize_score='F1-Score', train_size=0.5):\n",
    "    return robust_pca_huber_loss(df, df_class, df_train, df_train_class, delta=delta, n_components=n_components, maximize_score=maximize_score, train_size=train_size)"
   ]
  },
  {
   "cell_type": "code",
   "execution_count": 5,
   "metadata": {},
   "outputs": [],
   "source": [
    "def histogram_detection_l(df, df_class, df_train, df_train_class, maximize_score='F1-Score', train_size=0.5):\n",
    "    return histogram(df, df_class, df_train, df_train_class, maximize_score=maximize_score, train_size=train_size)"
   ]
  },
  {
   "cell_type": "code",
   "execution_count": 6,
   "metadata": {},
   "outputs": [],
   "source": [
    "def cluster_detection_l(df, df_class, df_train, df_train_class, maximize_score='F1-Score', n_components=3, n_init=3, train_size=0.5):\n",
    "    return cluster_gaussian_mixture(df, df_class, df_train, df_train_class, maximize_score=maximize_score, n_components=n_components, n_init=n_init, train_size=train_size)"
   ]
  },
  {
   "cell_type": "code",
   "execution_count": 7,
   "metadata": {},
   "outputs": [],
   "source": [
    "def svm_detection_l(df, df_class, df_train, df_train_class, maximize_score='F1-Score', nu=0.95, kernel='rbf', train_size=0.5):\n",
    "    return svm(df, df_class, df_train, df_train_class, maximize_score=maximize_score, nu=nu, kernel=kernel, train_size=train_size)"
   ]
  },
  {
   "cell_type": "code",
   "execution_count": 8,
   "metadata": {},
   "outputs": [],
   "source": [
    "def isolation_forest_detection_l(df, df_class, df_train, df_train_class, maximize_score='F1-Score', n_jobs=-1, bootstrap=False, n_estimators=40, train_size=0.5):\n",
    "    return isolation_forest(df, df_class, df_train, df_train_class, maximize_score=maximize_score, n_jobs=n_jobs, bootstrap=bootstrap, n_estimators=n_estimators, train_size=train_size)"
   ]
  },
  {
   "cell_type": "code",
   "execution_count": 10,
   "metadata": {},
   "outputs": [],
   "source": [
    "# Cont Level - RPCA\n",
    "# Results array [nmi, rmse, f1]\n",
    "\n",
    "r_results = []\n",
    "for dataset_name in dataset_names:\n",
    "    dataset, training_dataset = get_dataset(dataset_name)\n",
    "    df = dataset.dataframe\n",
    "    df_class = dataset.dataframe_class\n",
    "    scores, y_hat_results, df_common_class, info = rpca_detection_l(df, df_class, training_dataset.dataframe, training_dataset.dataframe_class)\n",
    "    result = [np.round(info['nmi'], 3), np.round(info['rmse'], 3), np.round(info['f1_score'], 3)]\n",
    "    r_results.append(result)\n",
    "    \n",
    "rpca_results = np.array(r_results)   "
   ]
  },
  {
   "cell_type": "code",
   "execution_count": 11,
   "metadata": {},
   "outputs": [],
   "source": [
    "# Cont Level - HISTOGRAM\n",
    "# Results array [nmi, rmse, f1]\n",
    "\n",
    "h_results = []\n",
    "for dataset_name in dataset_names:\n",
    "    dataset, training_dataset = get_dataset(dataset_name)\n",
    "    df = dataset.dataframe\n",
    "    df_class = dataset.dataframe_class\n",
    "    scores, y_hat_results, df_common_class, info = histogram_detection_l(df, df_class, training_dataset.dataframe, training_dataset.dataframe_class)\n",
    "    result = [np.round(info['nmi'], 3), np.round(info['rmse'], 3), np.round(info['f1_score'], 3)]\n",
    "    h_results.append(result)\n",
    "    \n",
    "histogram_results = np.array(h_results)  "
   ]
  },
  {
   "cell_type": "code",
   "execution_count": 12,
   "metadata": {},
   "outputs": [],
   "source": [
    "# Cont Level - CLUSTER\n",
    "# Results array [nmi, rmse, f1]\n",
    "\n",
    "c_results = []\n",
    "for dataset_name in dataset_names:\n",
    "    dataset, training_dataset = get_dataset(dataset_name)\n",
    "    df = dataset.dataframe\n",
    "    df_class = dataset.dataframe_class\n",
    "    scores, y_hat_results, df_common_class, info = cluster_detection_l(df, df_class, training_dataset.dataframe, training_dataset.dataframe_class)\n",
    "    result = [np.round(info['nmi'], 3), np.round(info['rmse'], 3), np.round(info['f1_score'], 3)]\n",
    "    c_results.append(result)\n",
    "    \n",
    "cluster_results = np.array(c_results)  "
   ]
  },
  {
   "cell_type": "code",
   "execution_count": 13,
   "metadata": {},
   "outputs": [],
   "source": [
    "# Cont Level - SVM\n",
    "# Results array [nmi, rmse, f1]\n",
    "\n",
    "s_results = []\n",
    "for dataset_name in dataset_names:\n",
    "    dataset, training_dataset = get_dataset(dataset_name)\n",
    "    df = dataset.dataframe\n",
    "    df_class = dataset.dataframe_class\n",
    "    scores, y_hat_results, df_common_class, info = svm_detection_l(df, df_class, training_dataset.dataframe, training_dataset.dataframe_class)\n",
    "    result = [np.round(info['nmi'], 3), np.round(info['rmse'], 3), np.round(info['f1_score'], 3)]\n",
    "    s_results.append(result)\n",
    "    \n",
    "svm_results = np.array(s_results)    "
   ]
  },
  {
   "cell_type": "code",
   "execution_count": 14,
   "metadata": {},
   "outputs": [],
   "source": [
    "# Cont Level - ISOLATION FOREST\n",
    "# Results array [nmi, rmse, f1]\n",
    "\n",
    "i_results = []\n",
    "for dataset_name in dataset_names:\n",
    "    dataset, training_dataset = get_dataset(dataset_name)\n",
    "    df = dataset.dataframe\n",
    "    df_class = dataset.dataframe_class\n",
    "    scores, y_hat_results, df_common_class, info = isolation_forest_detection_l(df, df_class, training_dataset.dataframe, training_dataset.dataframe_class)\n",
    "    result = [np.round(info['nmi'], 3), np.round(info['rmse'], 3), np.round(info['f1_score'], 3)]\n",
    "    i_results.append(result)\n",
    "\n",
    "isolation_results = np.array(i_results)"
   ]
  },
  {
   "cell_type": "code",
   "execution_count": 15,
   "metadata": {},
   "outputs": [],
   "source": [
    "scores = [{ 'title' : 'RPCA', 'scores' :  rpca_results }, \n",
    "          { 'title' : 'Histogram', 'scores' :  histogram_results }, \n",
    "          { 'title' : 'Cluster', 'scores' :  cluster_results }, \n",
    "          { 'title' : 'SVM', 'scores' :  svm_results }, \n",
    "          { 'title' : 'Isolation Forest', 'scores' :  isolation_results }\n",
    "         ]"
   ]
  },
  {
   "cell_type": "code",
   "execution_count": 16,
   "metadata": {},
   "outputs": [
    {
     "name": "stdout",
     "output_type": "stream",
     "text": [
      "[{'title': 'RPCA', 'scores': array([[0.59 , 0.021, 0.734],\n",
      "       [0.46 , 0.054, 0.63 ],\n",
      "       [0.374, 0.092, 0.553],\n",
      "       [0.333, 0.128, 0.522],\n",
      "       [0.312, 0.162, 0.515]])}, {'title': 'Histogram', 'scores': array([[0.025, 0.101, 0.179],\n",
      "       [0.008, 0.147, 0.15 ],\n",
      "       [0.002, 0.194, 0.134],\n",
      "       [0.   , 0.241, 0.117],\n",
      "       [0.   , 0.287, 0.1  ]])}, {'title': 'Cluster', 'scores': array([[0.434, 0.03 , 0.571],\n",
      "       [0.356, 0.066, 0.507],\n",
      "       [0.252, 0.113, 0.389],\n",
      "       [0.257, 0.146, 0.416],\n",
      "       [0.277, 0.173, 0.464]])}, {'title': 'SVM', 'scores': array([[0.184, 0.062, 0.436],\n",
      "       [0.145, 0.1  , 0.419],\n",
      "       [0.092, 0.146, 0.348],\n",
      "       [0.061, 0.193, 0.298],\n",
      "       [0.066, 0.229, 0.316]])}, {'title': 'Isolation Forest', 'scores': array([[0.024, 0.119, 0.179],\n",
      "       [0.011, 0.163, 0.181],\n",
      "       [0.007, 0.205, 0.19 ],\n",
      "       [0.003, 0.25 , 0.178],\n",
      "       [0.005, 0.285, 0.206]])}]\n"
     ]
    }
   ],
   "source": [
    "print(scores)"
   ]
  },
  {
   "cell_type": "code",
   "execution_count": 4,
   "metadata": {},
   "outputs": [],
   "source": [
    "import numpy as np\n",
    "scores = [{'title': 'RPCA', 'scores': np.array([[0.59 , 0.021, 0.734],\n",
    "       [0.46 , 0.054, 0.63 ],\n",
    "       [0.374, 0.092, 0.553],\n",
    "       [0.333, 0.128, 0.522],\n",
    "       [0.312, 0.162, 0.515]])}, {'title': 'Histogram', 'scores': np.array([[0.025, 0.101, 0.179],\n",
    "       [0.008, 0.147, 0.15 ],\n",
    "       [0.002, 0.194, 0.134],\n",
    "       [0.   , 0.241, 0.117],\n",
    "       [0.   , 0.287, 0.1  ]])}, {'title': 'Cluster', 'scores': np.array([[0.434, 0.03 , 0.571],\n",
    "       [0.356, 0.066, 0.507],\n",
    "       [0.252, 0.113, 0.389],\n",
    "       [0.257, 0.146, 0.416],\n",
    "       [0.277, 0.173, 0.464]])}, {'title': 'SVM', 'scores': np.array([[0.184, 0.062, 0.436],\n",
    "       [0.145, 0.1  , 0.419],\n",
    "       [0.092, 0.146, 0.348],\n",
    "       [0.061, 0.193, 0.298],\n",
    "       [0.066, 0.229, 0.316]])}, {'title': 'Isolation Forest', 'scores': np.array([[0.024, 0.119, 0.179],\n",
    "       [0.011, 0.163, 0.181],\n",
    "       [0.007, 0.205, 0.19 ],\n",
    "       [0.003, 0.25 , 0.178],\n",
    "       [0.005, 0.285, 0.206]])}]"
   ]
  },
  {
   "cell_type": "code",
   "execution_count": 5,
   "metadata": {},
   "outputs": [],
   "source": [
    "#NMI\n",
    "results = []\n",
    "for score in scores:\n",
    "    res = []\n",
    "    values = score['scores']\n",
    "    for i in range(len(dimensions)):\n",
    "        dim = dimensions[i]\n",
    "        val = values[i][0]\n",
    "        res.append((dim, val))\n",
    "    results.append({'title' : score['title'], 'plotdata' : res}) "
   ]
  },
  {
   "cell_type": "code",
   "execution_count": 6,
   "metadata": {},
   "outputs": [
    {
     "name": "stdout",
     "output_type": "stream",
     "text": [
      "[   {   'plotdata': [   (50, 0.59),\n",
      "                        (100, 0.46),\n",
      "                        (150, 0.374),\n",
      "                        (200, 0.333),\n",
      "                        (250, 0.312)],\n",
      "        'title': 'RPCA'},\n",
      "    {   'plotdata': [   (50, 0.025),\n",
      "                        (100, 0.008),\n",
      "                        (150, 0.002),\n",
      "                        (200, 0.0),\n",
      "                        (250, 0.0)],\n",
      "        'title': 'Histogram'},\n",
      "    {   'plotdata': [   (50, 0.434),\n",
      "                        (100, 0.356),\n",
      "                        (150, 0.252),\n",
      "                        (200, 0.257),\n",
      "                        (250, 0.277)],\n",
      "        'title': 'Cluster'},\n",
      "    {   'plotdata': [   (50, 0.184),\n",
      "                        (100, 0.145),\n",
      "                        (150, 0.092),\n",
      "                        (200, 0.061),\n",
      "                        (250, 0.066)],\n",
      "        'title': 'SVM'},\n",
      "    {   'plotdata': [   (50, 0.024),\n",
      "                        (100, 0.011),\n",
      "                        (150, 0.007),\n",
      "                        (200, 0.003),\n",
      "                        (250, 0.005)],\n",
      "        'title': 'Isolation Forest'}]\n"
     ]
    }
   ],
   "source": [
    "pp.pprint(results)"
   ]
  },
  {
   "cell_type": "code",
   "execution_count": 7,
   "metadata": {},
   "outputs": [],
   "source": [
    "#RMSE\n",
    "results = []\n",
    "for score in scores:\n",
    "    res = []\n",
    "    values = score['scores']\n",
    "    for i in range(len(dimensions)):\n",
    "        dim = dimensions[i]\n",
    "        val = values[i][1]\n",
    "        res.append((dim, val))\n",
    "    results.append({'title' : score['title'], 'plotdata' : res}) "
   ]
  },
  {
   "cell_type": "code",
   "execution_count": 8,
   "metadata": {},
   "outputs": [
    {
     "name": "stdout",
     "output_type": "stream",
     "text": [
      "[   {   'plotdata': [   (50, 0.021),\n",
      "                        (100, 0.054),\n",
      "                        (150, 0.092),\n",
      "                        (200, 0.128),\n",
      "                        (250, 0.162)],\n",
      "        'title': 'RPCA'},\n",
      "    {   'plotdata': [   (50, 0.101),\n",
      "                        (100, 0.147),\n",
      "                        (150, 0.194),\n",
      "                        (200, 0.241),\n",
      "                        (250, 0.287)],\n",
      "        'title': 'Histogram'},\n",
      "    {   'plotdata': [   (50, 0.03),\n",
      "                        (100, 0.066),\n",
      "                        (150, 0.113),\n",
      "                        (200, 0.146),\n",
      "                        (250, 0.173)],\n",
      "        'title': 'Cluster'},\n",
      "    {   'plotdata': [   (50, 0.062),\n",
      "                        (100, 0.1),\n",
      "                        (150, 0.146),\n",
      "                        (200, 0.193),\n",
      "                        (250, 0.229)],\n",
      "        'title': 'SVM'},\n",
      "    {   'plotdata': [   (50, 0.119),\n",
      "                        (100, 0.163),\n",
      "                        (150, 0.205),\n",
      "                        (200, 0.25),\n",
      "                        (250, 0.285)],\n",
      "        'title': 'Isolation Forest'}]\n"
     ]
    }
   ],
   "source": [
    "pp.pprint(results)"
   ]
  },
  {
   "cell_type": "code",
   "execution_count": 9,
   "metadata": {},
   "outputs": [],
   "source": [
    "#F1\n",
    "results = []\n",
    "for score in scores:\n",
    "    res = []\n",
    "    values = score['scores']\n",
    "    for i in range(len(dimensions)):\n",
    "        dim = dimensions[i]\n",
    "        val = values[i][2]\n",
    "        res.append((dim, val))\n",
    "    results.append({'title' : score['title'], 'plotdata' : res}) "
   ]
  },
  {
   "cell_type": "code",
   "execution_count": 10,
   "metadata": {},
   "outputs": [
    {
     "name": "stdout",
     "output_type": "stream",
     "text": [
      "[   {   'plotdata': [   (50, 0.734),\n",
      "                        (100, 0.63),\n",
      "                        (150, 0.553),\n",
      "                        (200, 0.522),\n",
      "                        (250, 0.515)],\n",
      "        'title': 'RPCA'},\n",
      "    {   'plotdata': [   (50, 0.179),\n",
      "                        (100, 0.15),\n",
      "                        (150, 0.134),\n",
      "                        (200, 0.117),\n",
      "                        (250, 0.1)],\n",
      "        'title': 'Histogram'},\n",
      "    {   'plotdata': [   (50, 0.571),\n",
      "                        (100, 0.507),\n",
      "                        (150, 0.389),\n",
      "                        (200, 0.416),\n",
      "                        (250, 0.464)],\n",
      "        'title': 'Cluster'},\n",
      "    {   'plotdata': [   (50, 0.436),\n",
      "                        (100, 0.419),\n",
      "                        (150, 0.348),\n",
      "                        (200, 0.298),\n",
      "                        (250, 0.316)],\n",
      "        'title': 'SVM'},\n",
      "    {   'plotdata': [   (50, 0.179),\n",
      "                        (100, 0.181),\n",
      "                        (150, 0.19),\n",
      "                        (200, 0.178),\n",
      "                        (250, 0.206)],\n",
      "        'title': 'Isolation Forest'}]\n"
     ]
    }
   ],
   "source": [
    "pp.pprint(results)"
   ]
  }
 ],
 "metadata": {
  "kernelspec": {
   "display_name": "Django Shell-Plus",
   "language": "python",
   "name": "django_extensions"
  },
  "language_info": {
   "codemirror_mode": {
    "name": "ipython",
    "version": 3
   },
   "file_extension": ".py",
   "mimetype": "text/x-python",
   "name": "python",
   "nbconvert_exporter": "python",
   "pygments_lexer": "ipython3",
   "version": "3.7.9"
  }
 },
 "nbformat": 4,
 "nbformat_minor": 4
}
