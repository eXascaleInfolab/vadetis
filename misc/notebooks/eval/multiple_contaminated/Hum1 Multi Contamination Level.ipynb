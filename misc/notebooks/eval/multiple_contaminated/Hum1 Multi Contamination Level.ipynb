{
 "cells": [
  {
   "cell_type": "code",
   "execution_count": 1,
   "metadata": {},
   "outputs": [],
   "source": [
    "from vadetisweb.anomaly_algorithms.detection.cluster import cluster_gaussian_mixture\n",
    "from vadetisweb.anomaly_algorithms.detection.histogram import histogram\n",
    "from vadetisweb.anomaly_algorithms.detection.svm import svm\n",
    "from vadetisweb.anomaly_algorithms.detection.isolation_forest import isolation_forest\n",
    "from vadetisweb.anomaly_algorithms.detection.lisa import lisa_pearson, lisa_dtw, lisa_geo\n",
    "from vadetisweb.anomaly_algorithms.detection.robust_pca import robust_pca_huber_loss\n",
    "from vadetisweb.models import DataSet, TimeSeries\n",
    "\n",
    "import pprint\n",
    "pp = pprint.PrettyPrinter(indent=4)"
   ]
  },
  {
   "cell_type": "code",
   "execution_count": 1,
   "metadata": {},
   "outputs": [],
   "source": [
    "# Hum1 Multi - Contamination Level\n",
    "dataset_names = [\n",
    "    'Humidity Multi',\n",
    "    'Humidity Multi CL100',\n",
    "    'Humidity Multi CL150',\n",
    "    'Humidity Multi CL200',\n",
    "    'Humidity Multi CL250'\n",
    "]\n",
    "dimensions = [50, 100, 150, 200, 250]"
   ]
  },
  {
   "cell_type": "code",
   "execution_count": 3,
   "metadata": {},
   "outputs": [],
   "source": [
    "#input\n",
    "def get_dataset(title, ts_name=None):\n",
    "    ts_id = None\n",
    "    dataset = DataSet.objects.filter(title=title).first()\n",
    "    training_dataset = dataset.training_dataset.all().first()\n",
    "\n",
    "    return dataset, training_dataset"
   ]
  },
  {
   "cell_type": "code",
   "execution_count": 4,
   "metadata": {},
   "outputs": [],
   "source": [
    "def rpca_detection_l(df, df_class, df_train, df_train_class, delta=1, n_components=2, maximize_score='F1-Score', train_size=0.5):\n",
    "    return robust_pca_huber_loss(df, df_class, df_train, df_train_class, delta=delta, n_components=n_components, maximize_score=maximize_score, train_size=train_size)"
   ]
  },
  {
   "cell_type": "code",
   "execution_count": 5,
   "metadata": {},
   "outputs": [],
   "source": [
    "def histogram_detection_l(df, df_class, df_train, df_train_class, maximize_score='F1-Score', train_size=0.5):\n",
    "    return histogram(df, df_class, df_train, df_train_class, maximize_score=maximize_score, train_size=train_size)"
   ]
  },
  {
   "cell_type": "code",
   "execution_count": 6,
   "metadata": {},
   "outputs": [],
   "source": [
    "def cluster_detection_l(df, df_class, df_train, df_train_class, maximize_score='F1-Score', n_components=3, n_init=3, train_size=0.5):\n",
    "    return cluster_gaussian_mixture(df, df_class, df_train, df_train_class, maximize_score=maximize_score, n_components=n_components, n_init=n_init, train_size=train_size)"
   ]
  },
  {
   "cell_type": "code",
   "execution_count": 7,
   "metadata": {},
   "outputs": [],
   "source": [
    "def svm_detection_l(df, df_class, df_train, df_train_class, maximize_score='F1-Score', nu=0.95, kernel='rbf', train_size=0.5):\n",
    "    return svm(df, df_class, df_train, df_train_class, maximize_score=maximize_score, nu=nu, kernel=kernel, train_size=train_size)"
   ]
  },
  {
   "cell_type": "code",
   "execution_count": 8,
   "metadata": {},
   "outputs": [],
   "source": [
    "def isolation_forest_detection_l(df, df_class, df_train, df_train_class, maximize_score='F1-Score', n_jobs=-1, bootstrap=False, n_estimators=40, train_size=0.5):\n",
    "    return isolation_forest(df, df_class, df_train, df_train_class, maximize_score=maximize_score, n_jobs=n_jobs, bootstrap=bootstrap, n_estimators=n_estimators, train_size=train_size)"
   ]
  },
  {
   "cell_type": "code",
   "execution_count": 10,
   "metadata": {},
   "outputs": [],
   "source": [
    "# Cont Level - RPCA\n",
    "# Results array [nmi, rmse, f1]\n",
    "\n",
    "r_results = []\n",
    "for dataset_name in dataset_names:\n",
    "    dataset, training_dataset = get_dataset(dataset_name)\n",
    "    df = dataset.dataframe\n",
    "    df_class = dataset.dataframe_class\n",
    "    scores, y_hat_results, df_common_class, info = rpca_detection_l(df, df_class, training_dataset.dataframe, training_dataset.dataframe_class)\n",
    "    result = [np.round(info['nmi'], 3), np.round(info['rmse'], 3), np.round(info['f1_score'], 3)]\n",
    "    r_results.append(result)\n",
    "    \n",
    "rpca_results = np.array(r_results)   "
   ]
  },
  {
   "cell_type": "code",
   "execution_count": 11,
   "metadata": {},
   "outputs": [],
   "source": [
    "# Cont Level - HISTOGRAM\n",
    "# Results array [nmi, rmse, f1]\n",
    "\n",
    "h_results = []\n",
    "for dataset_name in dataset_names:\n",
    "    dataset, training_dataset = get_dataset(dataset_name)\n",
    "    df = dataset.dataframe\n",
    "    df_class = dataset.dataframe_class\n",
    "    scores, y_hat_results, df_common_class, info = histogram_detection_l(df, df_class, training_dataset.dataframe, training_dataset.dataframe_class)\n",
    "    result = [np.round(info['nmi'], 3), np.round(info['rmse'], 3), np.round(info['f1_score'], 3)]\n",
    "    h_results.append(result)\n",
    "    \n",
    "histogram_results = np.array(h_results)  "
   ]
  },
  {
   "cell_type": "code",
   "execution_count": 12,
   "metadata": {},
   "outputs": [],
   "source": [
    "# Cont Level - CLUSTER\n",
    "# Results array [nmi, rmse, f1]\n",
    "\n",
    "c_results = []\n",
    "for dataset_name in dataset_names:\n",
    "    dataset, training_dataset = get_dataset(dataset_name)\n",
    "    df = dataset.dataframe\n",
    "    df_class = dataset.dataframe_class\n",
    "    scores, y_hat_results, df_common_class, info = cluster_detection_l(df, df_class, training_dataset.dataframe, training_dataset.dataframe_class)\n",
    "    result = [np.round(info['nmi'], 3), np.round(info['rmse'], 3), np.round(info['f1_score'], 3)]\n",
    "    c_results.append(result)\n",
    "    \n",
    "cluster_results = np.array(c_results)  "
   ]
  },
  {
   "cell_type": "code",
   "execution_count": 13,
   "metadata": {},
   "outputs": [],
   "source": [
    "# Cont Level - SVM\n",
    "# Results array [nmi, rmse, f1]\n",
    "\n",
    "s_results = []\n",
    "for dataset_name in dataset_names:\n",
    "    dataset, training_dataset = get_dataset(dataset_name)\n",
    "    df = dataset.dataframe\n",
    "    df_class = dataset.dataframe_class\n",
    "    scores, y_hat_results, df_common_class, info = svm_detection_l(df, df_class, training_dataset.dataframe, training_dataset.dataframe_class)\n",
    "    result = [np.round(info['nmi'], 3), np.round(info['rmse'], 3), np.round(info['f1_score'], 3)]\n",
    "    s_results.append(result)\n",
    "    \n",
    "svm_results = np.array(s_results)    "
   ]
  },
  {
   "cell_type": "code",
   "execution_count": 14,
   "metadata": {},
   "outputs": [],
   "source": [
    "# Cont Level - ISOLATION FOREST\n",
    "# Results array [nmi, rmse, f1]\n",
    "\n",
    "i_results = []\n",
    "for dataset_name in dataset_names:\n",
    "    dataset, training_dataset = get_dataset(dataset_name)\n",
    "    df = dataset.dataframe\n",
    "    df_class = dataset.dataframe_class\n",
    "    scores, y_hat_results, df_common_class, info = isolation_forest_detection_l(df, df_class, training_dataset.dataframe, training_dataset.dataframe_class)\n",
    "    result = [np.round(info['nmi'], 3), np.round(info['rmse'], 3), np.round(info['f1_score'], 3)]\n",
    "    i_results.append(result)\n",
    "\n",
    "isolation_results = np.array(i_results)"
   ]
  },
  {
   "cell_type": "code",
   "execution_count": 15,
   "metadata": {},
   "outputs": [],
   "source": [
    "scores = [{ 'title' : 'RPCA', 'scores' :  rpca_results }, \n",
    "          { 'title' : 'Histogram', 'scores' :  histogram_results }, \n",
    "          { 'title' : 'Cluster', 'scores' :  cluster_results }, \n",
    "          { 'title' : 'SVM', 'scores' :  svm_results }, \n",
    "          { 'title' : 'Isolation Forest', 'scores' :  isolation_results }\n",
    "         ]"
   ]
  },
  {
   "cell_type": "code",
   "execution_count": 16,
   "metadata": {},
   "outputs": [
    {
     "name": "stdout",
     "output_type": "stream",
     "text": [
      "[{'title': 'RPCA', 'scores': array([[0.755, 0.008, 0.887],\n",
      "       [0.441, 0.038, 0.59 ],\n",
      "       [0.445, 0.055, 0.613],\n",
      "       [0.512, 0.06 , 0.7  ],\n",
      "       [0.427, 0.088, 0.623]])}, {'title': 'Histogram', 'scores': array([[0.001, 0.703, 0.059],\n",
      "       [0.002, 0.683, 0.131],\n",
      "       [0.009, 0.656, 0.2  ],\n",
      "       [0.011, 0.641, 0.254],\n",
      "       [0.017, 0.618, 0.309]])}, {'title': 'Cluster', 'scores': array([[0.49 , 0.018, 0.697],\n",
      "       [0.396, 0.041, 0.537],\n",
      "       [0.404, 0.059, 0.566],\n",
      "       [0.469, 0.067, 0.655],\n",
      "       [0.414, 0.091, 0.607]])}, {'title': 'SVM', 'scores': array([[0.082, 0.153, 0.233],\n",
      "       [0.141, 0.153, 0.382],\n",
      "       [0.212, 0.148, 0.509],\n",
      "       [0.284, 0.142, 0.606],\n",
      "       [0.336, 0.137, 0.671]])}, {'title': 'Isolation Forest', 'scores': array([[0.004, 0.345, 0.088],\n",
      "       [0.02 , 0.333, 0.188],\n",
      "       [0.05 , 0.321, 0.295],\n",
      "       [0.073, 0.312, 0.374],\n",
      "       [0.092, 0.3  , 0.439]])}]\n"
     ]
    }
   ],
   "source": [
    "print(scores)"
   ]
  },
  {
   "cell_type": "code",
   "execution_count": 2,
   "metadata": {},
   "outputs": [],
   "source": [
    "# import numpy as np\n",
    "# scores = [{'title': 'RPCA', 'scores': np.array([[0.755, 0.008, 0.887],\n",
    "#        [0.441, 0.038, 0.59 ],\n",
    "#        [0.445, 0.055, 0.613],\n",
    "#        [0.512, 0.06 , 0.7  ],\n",
    "#        [0.427, 0.088, 0.623]])}, {'title': 'Histogram', 'scores': np.array([[0.001, 0.703, 0.059],\n",
    "#        [0.002, 0.683, 0.131],\n",
    "#        [0.009, 0.656, 0.2  ],\n",
    "#        [0.011, 0.641, 0.254],\n",
    "#        [0.017, 0.618, 0.309]])}, {'title': 'Cluster', 'scores': np.array([[0.49 , 0.018, 0.697],\n",
    "#        [0.396, 0.041, 0.537],\n",
    "#        [0.404, 0.059, 0.566],\n",
    "#        [0.469, 0.067, 0.655],\n",
    "#        [0.414, 0.091, 0.607]])}, {'title': 'SVM', 'scores': np.array([[0.082, 0.153, 0.233],\n",
    "#        [0.141, 0.153, 0.382],\n",
    "#        [0.212, 0.148, 0.509],\n",
    "#        [0.284, 0.142, 0.606],\n",
    "#        [0.336, 0.137, 0.671]])}, {'title': 'Isolation Forest', 'scores': np.array([[0.004, 0.345, 0.088],\n",
    "#        [0.02 , 0.333, 0.188],\n",
    "#        [0.05 , 0.321, 0.295],\n",
    "#        [0.073, 0.312, 0.374],\n",
    "#        [0.092, 0.3  , 0.439]])}]"
   ]
  },
  {
   "cell_type": "code",
   "execution_count": 3,
   "metadata": {},
   "outputs": [],
   "source": [
    "#NMI\n",
    "results = []\n",
    "for score in scores:\n",
    "    res = []\n",
    "    values = score['scores']\n",
    "    for i in range(len(dimensions)):\n",
    "        dim = dimensions[i]\n",
    "        val = values[i][0]\n",
    "        res.append((dim, val))\n",
    "    results.append({'title' : score['title'], 'plotdata' : res}) "
   ]
  },
  {
   "cell_type": "code",
   "execution_count": 4,
   "metadata": {},
   "outputs": [
    {
     "name": "stdout",
     "output_type": "stream",
     "text": [
      "[   {   'plotdata': [   (50, 0.755),\n",
      "                        (100, 0.441),\n",
      "                        (150, 0.445),\n",
      "                        (200, 0.512),\n",
      "                        (250, 0.427)],\n",
      "        'title': 'RPCA'},\n",
      "    {   'plotdata': [   (50, 0.001),\n",
      "                        (100, 0.002),\n",
      "                        (150, 0.009),\n",
      "                        (200, 0.011),\n",
      "                        (250, 0.017)],\n",
      "        'title': 'Histogram'},\n",
      "    {   'plotdata': [   (50, 0.49),\n",
      "                        (100, 0.396),\n",
      "                        (150, 0.404),\n",
      "                        (200, 0.469),\n",
      "                        (250, 0.414)],\n",
      "        'title': 'Cluster'},\n",
      "    {   'plotdata': [   (50, 0.082),\n",
      "                        (100, 0.141),\n",
      "                        (150, 0.212),\n",
      "                        (200, 0.284),\n",
      "                        (250, 0.336)],\n",
      "        'title': 'SVM'},\n",
      "    {   'plotdata': [   (50, 0.004),\n",
      "                        (100, 0.02),\n",
      "                        (150, 0.05),\n",
      "                        (200, 0.073),\n",
      "                        (250, 0.092)],\n",
      "        'title': 'Isolation Forest'}]\n"
     ]
    }
   ],
   "source": [
    "pp.pprint(results)"
   ]
  },
  {
   "cell_type": "code",
   "execution_count": 5,
   "metadata": {},
   "outputs": [],
   "source": [
    "#RMSE\n",
    "results = []\n",
    "for score in scores:\n",
    "    res = []\n",
    "    values = score['scores']\n",
    "    for i in range(len(dimensions)):\n",
    "        dim = dimensions[i]\n",
    "        val = values[i][1]\n",
    "        res.append((dim, val))\n",
    "    results.append({'title' : score['title'], 'plotdata' : res}) "
   ]
  },
  {
   "cell_type": "code",
   "execution_count": 6,
   "metadata": {},
   "outputs": [
    {
     "name": "stdout",
     "output_type": "stream",
     "text": [
      "[   {   'plotdata': [   (50, 0.008),\n",
      "                        (100, 0.038),\n",
      "                        (150, 0.055),\n",
      "                        (200, 0.06),\n",
      "                        (250, 0.088)],\n",
      "        'title': 'RPCA'},\n",
      "    {   'plotdata': [   (50, 0.703),\n",
      "                        (100, 0.683),\n",
      "                        (150, 0.656),\n",
      "                        (200, 0.641),\n",
      "                        (250, 0.618)],\n",
      "        'title': 'Histogram'},\n",
      "    {   'plotdata': [   (50, 0.018),\n",
      "                        (100, 0.041),\n",
      "                        (150, 0.059),\n",
      "                        (200, 0.067),\n",
      "                        (250, 0.091)],\n",
      "        'title': 'Cluster'},\n",
      "    {   'plotdata': [   (50, 0.153),\n",
      "                        (100, 0.153),\n",
      "                        (150, 0.148),\n",
      "                        (200, 0.142),\n",
      "                        (250, 0.137)],\n",
      "        'title': 'SVM'},\n",
      "    {   'plotdata': [   (50, 0.345),\n",
      "                        (100, 0.333),\n",
      "                        (150, 0.321),\n",
      "                        (200, 0.312),\n",
      "                        (250, 0.3)],\n",
      "        'title': 'Isolation Forest'}]\n"
     ]
    }
   ],
   "source": [
    "pp.pprint(results)"
   ]
  },
  {
   "cell_type": "code",
   "execution_count": 7,
   "metadata": {},
   "outputs": [],
   "source": [
    "#F1\n",
    "results = []\n",
    "for score in scores:\n",
    "    res = []\n",
    "    values = score['scores']\n",
    "    for i in range(len(dimensions)):\n",
    "        dim = dimensions[i]\n",
    "        val = values[i][2]\n",
    "        res.append((dim, val))\n",
    "    results.append({'title' : score['title'], 'plotdata' : res}) "
   ]
  },
  {
   "cell_type": "code",
   "execution_count": 8,
   "metadata": {},
   "outputs": [
    {
     "name": "stdout",
     "output_type": "stream",
     "text": [
      "[   {   'plotdata': [   (50, 0.887),\n",
      "                        (100, 0.59),\n",
      "                        (150, 0.613),\n",
      "                        (200, 0.7),\n",
      "                        (250, 0.623)],\n",
      "        'title': 'RPCA'},\n",
      "    {   'plotdata': [   (50, 0.059),\n",
      "                        (100, 0.131),\n",
      "                        (150, 0.2),\n",
      "                        (200, 0.254),\n",
      "                        (250, 0.309)],\n",
      "        'title': 'Histogram'},\n",
      "    {   'plotdata': [   (50, 0.697),\n",
      "                        (100, 0.537),\n",
      "                        (150, 0.566),\n",
      "                        (200, 0.655),\n",
      "                        (250, 0.607)],\n",
      "        'title': 'Cluster'},\n",
      "    {   'plotdata': [   (50, 0.233),\n",
      "                        (100, 0.382),\n",
      "                        (150, 0.509),\n",
      "                        (200, 0.606),\n",
      "                        (250, 0.671)],\n",
      "        'title': 'SVM'},\n",
      "    {   'plotdata': [   (50, 0.088),\n",
      "                        (100, 0.188),\n",
      "                        (150, 0.295),\n",
      "                        (200, 0.374),\n",
      "                        (250, 0.439)],\n",
      "        'title': 'Isolation Forest'}]\n"
     ]
    }
   ],
   "source": [
    "pp.pprint(results)"
   ]
  }
 ],
 "metadata": {
  "kernelspec": {
   "display_name": "Django Shell-Plus",
   "language": "python",
   "name": "django_extensions"
  },
  "language_info": {
   "codemirror_mode": {
    "name": "ipython",
    "version": 3
   },
   "file_extension": ".py",
   "mimetype": "text/x-python",
   "name": "python",
   "nbconvert_exporter": "python",
   "pygments_lexer": "ipython3",
   "version": "3.7.9"
  }
 },
 "nbformat": 4,
 "nbformat_minor": 4
}
