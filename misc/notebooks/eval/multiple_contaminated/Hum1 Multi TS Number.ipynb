{
 "cells": [
  {
   "cell_type": "code",
   "execution_count": 1,
   "metadata": {},
   "outputs": [],
   "source": [
    "from vadetisweb.anomaly_algorithms.detection.cluster import cluster_gaussian_mixture\n",
    "from vadetisweb.anomaly_algorithms.detection.histogram import histogram\n",
    "from vadetisweb.anomaly_algorithms.detection.svm import svm\n",
    "from vadetisweb.anomaly_algorithms.detection.isolation_forest import isolation_forest\n",
    "from vadetisweb.anomaly_algorithms.detection.lisa import lisa_pearson, lisa_dtw, lisa_geo\n",
    "from vadetisweb.anomaly_algorithms.detection.robust_pca import robust_pca_huber_loss\n",
    "from vadetisweb.models import DataSet, TimeSeries\n",
    "\n",
    "import pprint\n",
    "pp = pprint.PrettyPrinter(indent=4)"
   ]
  },
  {
   "cell_type": "code",
   "execution_count": 1,
   "metadata": {},
   "outputs": [],
   "source": [
    "# Hum1 Multi - TS NUMBER\n",
    "dataset_name = 'Humidity Multi'\n",
    "ts_names = ['LUZ', 'RGNOT', 'MOA', 'KOP', 'LAG', 'OBR', 'LAE', 'ORO', 'PAY']\n",
    "ts_name_lisa = 'LUZ'\n",
    "dimensions = [4, 5, 6, 7, 8, 9]"
   ]
  },
  {
   "cell_type": "code",
   "execution_count": 3,
   "metadata": {},
   "outputs": [],
   "source": [
    "#input\n",
    "def get_dataset(title):\n",
    "    dataset = DataSet.objects.filter(title=title).first()\n",
    "    training_dataset = dataset.training_dataset.all().first()\n",
    "    return dataset, training_dataset\n",
    "\n",
    "def get_ts_ids(dataset, ts_names):\n",
    "    ts_ids = []\n",
    "    time_series = dataset.timeseries_set.all()\n",
    "    for ts in time_series:\n",
    "        if ts.name in ts_names:\n",
    "            ts_ids.append(ts.id)\n",
    "            \n",
    "    return ts_ids"
   ]
  },
  {
   "cell_type": "code",
   "execution_count": 4,
   "metadata": {},
   "outputs": [],
   "source": [
    "def rpca_detection_l(df, df_class, df_train, df_train_class, delta=1, n_components=2, maximize_score='F1-Score', train_size=0.5):\n",
    "    return robust_pca_huber_loss(df, df_class, df_train, df_train_class, delta=delta, n_components=n_components, maximize_score=maximize_score, train_size=train_size)"
   ]
  },
  {
   "cell_type": "code",
   "execution_count": 5,
   "metadata": {},
   "outputs": [],
   "source": [
    "def histogram_detection_l(df, df_class, df_train, df_train_class, maximize_score='F1-Score', train_size=0.5):\n",
    "    return histogram(df, df_class, df_train, df_train_class, maximize_score=maximize_score, train_size=train_size)"
   ]
  },
  {
   "cell_type": "code",
   "execution_count": 6,
   "metadata": {},
   "outputs": [],
   "source": [
    "def cluster_detection_l(df, df_class, df_train, df_train_class, maximize_score='F1-Score', n_components=3, n_init=3, train_size=0.5):\n",
    "    return cluster_gaussian_mixture(df, df_class, df_train, df_train_class, maximize_score=maximize_score, n_components=n_components, n_init=n_init, train_size=train_size)"
   ]
  },
  {
   "cell_type": "code",
   "execution_count": 7,
   "metadata": {},
   "outputs": [],
   "source": [
    "def svm_detection_l(df, df_class, df_train, df_train_class, maximize_score='F1-Score', nu=0.95, kernel='rbf', train_size=0.5):\n",
    "    return svm(df, df_class, df_train, df_train_class, maximize_score=maximize_score, nu=nu, kernel=kernel, train_size=train_size)"
   ]
  },
  {
   "cell_type": "code",
   "execution_count": 8,
   "metadata": {},
   "outputs": [],
   "source": [
    "def isolation_forest_detection_l(df, df_class, df_train, df_train_class, maximize_score='F1-Score', n_jobs=-1, bootstrap=False, n_estimators=40, train_size=0.5):\n",
    "    return isolation_forest(df, df_class, df_train, df_train_class, maximize_score=maximize_score, n_jobs=n_jobs, bootstrap=bootstrap, n_estimators=n_estimators, train_size=train_size)"
   ]
  },
  {
   "cell_type": "code",
   "execution_count": 10,
   "metadata": {},
   "outputs": [],
   "source": [
    "# TS NUMBER - RPCA\n",
    "dataset, training_dataset = get_dataset(dataset_name)\n",
    "# Results array [nmi, rmse, f1]\n",
    "r_results = []\n",
    "for l in dimensions:\n",
    "    set_names = ts_names[0:l]\n",
    "    ts_ids = get_ts_ids(dataset, set_names)\n",
    "    \n",
    "    df = dataset.dataframe[ts_ids]\n",
    "    df_class = dataset.dataframe_class[ts_ids]\n",
    "    df_train = training_dataset.dataframe[ts_ids]\n",
    "    df_train_class = training_dataset.dataframe_class[ts_ids]\n",
    "    \n",
    "    scores, y_hat_results, df_common_class, info = rpca_detection_l(df, df_class, df_train, df_train_class)\n",
    "    result = [np.round(info['nmi'], 3), np.round(info['rmse'], 3), np.round(info['f1_score'], 3)]\n",
    "    r_results.append(result)\n",
    "    \n",
    "rpca_results = np.array(r_results)  "
   ]
  },
  {
   "cell_type": "code",
   "execution_count": 11,
   "metadata": {},
   "outputs": [],
   "source": [
    "# TS NUMBER - HISTOGRAM\n",
    "dataset, training_dataset = get_dataset(dataset_name)\n",
    "\n",
    "# Results array [nmi, rmse, f1]\n",
    "h_results = []\n",
    "for l in dimensions:\n",
    "    set_names = ts_names[0:l]\n",
    "    ts_ids = get_ts_ids(dataset, set_names)\n",
    "    \n",
    "    df = dataset.dataframe[ts_ids]\n",
    "    df_class = dataset.dataframe_class[ts_ids]\n",
    "    df_train = training_dataset.dataframe[ts_ids]\n",
    "    df_train_class = training_dataset.dataframe_class[ts_ids]\n",
    "    \n",
    "    scores, y_hat_results, df_common_class, info = histogram_detection_l(df, df_class, df_train, df_train_class)\n",
    "    result = [np.round(info['nmi'], 3), np.round(info['rmse'], 3), np.round(info['f1_score'], 3)]\n",
    "    h_results.append(result)\n",
    "    \n",
    "histogram_results = np.array(h_results)"
   ]
  },
  {
   "cell_type": "code",
   "execution_count": 12,
   "metadata": {},
   "outputs": [],
   "source": [
    "# TS NUMBER - CLUSTER\n",
    "dataset, training_dataset = get_dataset(dataset_name)\n",
    "\n",
    "# Results array [nmi, rmse, f1]\n",
    "c_results = []\n",
    "for l in dimensions:\n",
    "    set_names = ts_names[0:l]\n",
    "    ts_ids = get_ts_ids(dataset, set_names)\n",
    "    \n",
    "    df = dataset.dataframe[ts_ids]\n",
    "    df_class = dataset.dataframe_class[ts_ids]\n",
    "    df_train = training_dataset.dataframe[ts_ids]\n",
    "    df_train_class = training_dataset.dataframe_class[ts_ids]\n",
    "    \n",
    "    scores, y_hat_results, df_common_class, info = cluster_detection_l(df, df_class, df_train, df_train_class)\n",
    "    result = [np.round(info['nmi'], 3), np.round(info['rmse'], 3), np.round(info['f1_score'], 3)]\n",
    "    c_results.append(result)\n",
    "    \n",
    "cluster_results = np.array(c_results)  "
   ]
  },
  {
   "cell_type": "code",
   "execution_count": 13,
   "metadata": {},
   "outputs": [],
   "source": [
    "# TS NUMBER - SVM\n",
    "dataset, training_dataset = get_dataset(dataset_name)\n",
    "\n",
    "# Results array [nmi, rmse, f1]\n",
    "s_results = []\n",
    "for l in dimensions:\n",
    "    set_names = ts_names[0:l]\n",
    "    ts_ids = get_ts_ids(dataset, set_names)\n",
    "    \n",
    "    df = dataset.dataframe[ts_ids]\n",
    "    df_class = dataset.dataframe_class[ts_ids]\n",
    "    df_train = training_dataset.dataframe[ts_ids]\n",
    "    df_train_class = training_dataset.dataframe_class[ts_ids]\n",
    "    \n",
    "    scores, y_hat_results, df_common_class, info = svm_detection_l(df, df_class, df_train, df_train_class)\n",
    "    result = [np.round(info['nmi'], 3), np.round(info['rmse'], 3), np.round(info['f1_score'], 3)]\n",
    "    s_results.append(result)\n",
    "    \n",
    "svm_results = np.array(s_results)"
   ]
  },
  {
   "cell_type": "code",
   "execution_count": 14,
   "metadata": {},
   "outputs": [],
   "source": [
    "# TS NUMBER - ISOLATION FOREST\n",
    "dataset, training_dataset = get_dataset(dataset_name)\n",
    "\n",
    "# Results array [nmi, rmse, f1]\n",
    "i_results = []\n",
    "for l in dimensions:\n",
    "    set_names = ts_names[0:l]\n",
    "    ts_ids = get_ts_ids(dataset, set_names)\n",
    "    \n",
    "    df = dataset.dataframe[ts_ids]\n",
    "    df_class = dataset.dataframe_class[ts_ids]\n",
    "    df_train = training_dataset.dataframe[ts_ids]\n",
    "    df_train_class = training_dataset.dataframe_class[ts_ids]\n",
    "    \n",
    "    scores, y_hat_results, df_common_class, info = isolation_forest_detection_l(df, df_class, df_train, df_train_class)\n",
    "    result = [np.round(info['nmi'], 3), np.round(info['rmse'], 3), np.round(info['f1_score'], 3)]\n",
    "    i_results.append(result)\n",
    "\n",
    "isolation_results = np.array(i_results)"
   ]
  },
  {
   "cell_type": "code",
   "execution_count": 15,
   "metadata": {},
   "outputs": [],
   "source": [
    "scores = [{ 'title' : 'RPCA', 'scores' :  rpca_results }, \n",
    "          { 'title' : 'Histogram', 'scores' :  histogram_results }, \n",
    "          { 'title' : 'Cluster', 'scores' :  cluster_results }, \n",
    "          { 'title' : 'SVM', 'scores' :  svm_results }, \n",
    "          { 'title' : 'Isolation Forest', 'scores' :  isolation_results }\n",
    "         ]"
   ]
  },
  {
   "cell_type": "code",
   "execution_count": 16,
   "metadata": {},
   "outputs": [
    {
     "name": "stdout",
     "output_type": "stream",
     "text": [
      "[{'title': 'RPCA', 'scores': array([[0.751, 0.009, 0.881],\n",
      "       [0.483, 0.035, 0.653],\n",
      "       [0.702, 0.009, 0.857],\n",
      "       [0.72 , 0.009, 0.857],\n",
      "       [0.687, 0.01 , 0.848],\n",
      "       [0.755, 0.008, 0.887]])}, {'title': 'Histogram', 'scores': array([[0.013, 0.571, 0.032],\n",
      "       [0.006, 0.589, 0.043],\n",
      "       [0.004, 0.615, 0.048],\n",
      "       [0.008, 0.656, 0.043],\n",
      "       [0.   , 0.687, 0.06 ],\n",
      "       [0.001, 0.703, 0.059]])}, {'title': 'Cluster', 'scores': array([[0.59 , 0.015, 0.784],\n",
      "       [0.525, 0.019, 0.736],\n",
      "       [0.536, 0.017, 0.742],\n",
      "       [0.535, 0.016, 0.733],\n",
      "       [0.552, 0.015, 0.747],\n",
      "       [0.49 , 0.018, 0.697]])}, {'title': 'SVM', 'scores': array([[0.568, 0.015, 0.761],\n",
      "       [0.482, 0.019, 0.611],\n",
      "       [0.312, 0.025, 0.513],\n",
      "       [0.213, 0.036, 0.437],\n",
      "       [0.169, 0.036, 0.372],\n",
      "       [0.082, 0.153, 0.233]])}, {'title': 'Isolation Forest', 'scores': array([[0.026, 0.237, 0.14 ],\n",
      "       [0.015, 0.285, 0.116],\n",
      "       [0.005, 0.289, 0.092],\n",
      "       [0.008, 0.285, 0.101],\n",
      "       [0.012, 0.386, 0.102],\n",
      "       [0.004, 0.345, 0.088]])}]\n"
     ]
    }
   ],
   "source": [
    "print(scores)"
   ]
  },
  {
   "cell_type": "code",
   "execution_count": 2,
   "metadata": {},
   "outputs": [],
   "source": [
    "import numpy as np\n",
    "scores = [{'title': 'RPCA', 'scores': np.array([[0.751, 0.009, 0.881],\n",
    "       [0.483, 0.035, 0.653],\n",
    "       [0.702, 0.009, 0.857],\n",
    "       [0.72 , 0.009, 0.857],\n",
    "       [0.687, 0.01 , 0.848],\n",
    "       [0.755, 0.008, 0.887]])}, {'title': 'Histogram', 'scores': np.array([[0.013, 0.571, 0.032],\n",
    "       [0.006, 0.589, 0.043],\n",
    "       [0.004, 0.615, 0.048],\n",
    "       [0.008, 0.656, 0.043],\n",
    "       [0.   , 0.687, 0.06 ],\n",
    "       [0.001, 0.703, 0.059]])}, {'title': 'Cluster', 'scores': np.array([[0.59 , 0.015, 0.784],\n",
    "       [0.525, 0.019, 0.736],\n",
    "       [0.536, 0.017, 0.742],\n",
    "       [0.535, 0.016, 0.733],\n",
    "       [0.552, 0.015, 0.747],\n",
    "       [0.49 , 0.018, 0.697]])}, {'title': 'SVM', 'scores': np.array([[0.568, 0.015, 0.761],\n",
    "       [0.482, 0.019, 0.611],\n",
    "       [0.312, 0.025, 0.513],\n",
    "       [0.213, 0.036, 0.437],\n",
    "       [0.169, 0.036, 0.372],\n",
    "       [0.082, 0.153, 0.233]])}, {'title': 'Isolation Forest', 'scores': np.array([[0.026, 0.237, 0.14 ],\n",
    "       [0.015, 0.285, 0.116],\n",
    "       [0.005, 0.289, 0.092],\n",
    "       [0.008, 0.285, 0.101],\n",
    "       [0.012, 0.386, 0.102],\n",
    "       [0.004, 0.345, 0.088]])}]"
   ]
  },
  {
   "cell_type": "code",
   "execution_count": 3,
   "metadata": {},
   "outputs": [],
   "source": [
    "#NMI\n",
    "results = []\n",
    "for score in scores:\n",
    "    res = []\n",
    "    values = score['scores']\n",
    "    for i in range(len(dimensions)):\n",
    "        dim = dimensions[i]\n",
    "        val = values[i][0]\n",
    "        res.append((dim, val))\n",
    "    results.append({'title' : score['title'], 'plotdata' : res}) "
   ]
  },
  {
   "cell_type": "code",
   "execution_count": 4,
   "metadata": {},
   "outputs": [
    {
     "name": "stdout",
     "output_type": "stream",
     "text": [
      "[   {   'plotdata': [   (4, 0.751),\n",
      "                        (5, 0.483),\n",
      "                        (6, 0.702),\n",
      "                        (7, 0.72),\n",
      "                        (8, 0.687),\n",
      "                        (9, 0.755)],\n",
      "        'title': 'RPCA'},\n",
      "    {   'plotdata': [   (4, 0.013),\n",
      "                        (5, 0.006),\n",
      "                        (6, 0.004),\n",
      "                        (7, 0.008),\n",
      "                        (8, 0.0),\n",
      "                        (9, 0.001)],\n",
      "        'title': 'Histogram'},\n",
      "    {   'plotdata': [   (4, 0.59),\n",
      "                        (5, 0.525),\n",
      "                        (6, 0.536),\n",
      "                        (7, 0.535),\n",
      "                        (8, 0.552),\n",
      "                        (9, 0.49)],\n",
      "        'title': 'Cluster'},\n",
      "    {   'plotdata': [   (4, 0.568),\n",
      "                        (5, 0.482),\n",
      "                        (6, 0.312),\n",
      "                        (7, 0.213),\n",
      "                        (8, 0.169),\n",
      "                        (9, 0.082)],\n",
      "        'title': 'SVM'},\n",
      "    {   'plotdata': [   (4, 0.026),\n",
      "                        (5, 0.015),\n",
      "                        (6, 0.005),\n",
      "                        (7, 0.008),\n",
      "                        (8, 0.012),\n",
      "                        (9, 0.004)],\n",
      "        'title': 'Isolation Forest'}]\n"
     ]
    }
   ],
   "source": [
    "pp.pprint(results)"
   ]
  },
  {
   "cell_type": "code",
   "execution_count": 5,
   "metadata": {},
   "outputs": [],
   "source": [
    "#RMSE\n",
    "results = []\n",
    "for score in scores:\n",
    "    res = []\n",
    "    values = score['scores']\n",
    "    for i in range(len(dimensions)):\n",
    "        dim = dimensions[i]\n",
    "        val = values[i][1]\n",
    "        res.append((dim, val))\n",
    "    results.append({'title' : score['title'], 'plotdata' : res}) "
   ]
  },
  {
   "cell_type": "code",
   "execution_count": 6,
   "metadata": {},
   "outputs": [
    {
     "name": "stdout",
     "output_type": "stream",
     "text": [
      "[   {   'plotdata': [   (4, 0.009),\n",
      "                        (5, 0.035),\n",
      "                        (6, 0.009),\n",
      "                        (7, 0.009),\n",
      "                        (8, 0.01),\n",
      "                        (9, 0.008)],\n",
      "        'title': 'RPCA'},\n",
      "    {   'plotdata': [   (4, 0.571),\n",
      "                        (5, 0.589),\n",
      "                        (6, 0.615),\n",
      "                        (7, 0.656),\n",
      "                        (8, 0.687),\n",
      "                        (9, 0.703)],\n",
      "        'title': 'Histogram'},\n",
      "    {   'plotdata': [   (4, 0.015),\n",
      "                        (5, 0.019),\n",
      "                        (6, 0.017),\n",
      "                        (7, 0.016),\n",
      "                        (8, 0.015),\n",
      "                        (9, 0.018)],\n",
      "        'title': 'Cluster'},\n",
      "    {   'plotdata': [   (4, 0.015),\n",
      "                        (5, 0.019),\n",
      "                        (6, 0.025),\n",
      "                        (7, 0.036),\n",
      "                        (8, 0.036),\n",
      "                        (9, 0.153)],\n",
      "        'title': 'SVM'},\n",
      "    {   'plotdata': [   (4, 0.237),\n",
      "                        (5, 0.285),\n",
      "                        (6, 0.289),\n",
      "                        (7, 0.285),\n",
      "                        (8, 0.386),\n",
      "                        (9, 0.345)],\n",
      "        'title': 'Isolation Forest'}]\n"
     ]
    }
   ],
   "source": [
    "pp.pprint(results)"
   ]
  },
  {
   "cell_type": "code",
   "execution_count": 7,
   "metadata": {},
   "outputs": [],
   "source": [
    "#F1\n",
    "results = []\n",
    "for score in scores:\n",
    "    res = []\n",
    "    values = score['scores']\n",
    "    for i in range(len(dimensions)):\n",
    "        dim = dimensions[i]\n",
    "        val = values[i][2]\n",
    "        res.append((dim, val))\n",
    "    results.append({'title' : score['title'], 'plotdata' : res}) "
   ]
  },
  {
   "cell_type": "code",
   "execution_count": 8,
   "metadata": {},
   "outputs": [
    {
     "name": "stdout",
     "output_type": "stream",
     "text": [
      "[   {   'plotdata': [   (4, 0.881),\n",
      "                        (5, 0.653),\n",
      "                        (6, 0.857),\n",
      "                        (7, 0.857),\n",
      "                        (8, 0.848),\n",
      "                        (9, 0.887)],\n",
      "        'title': 'RPCA'},\n",
      "    {   'plotdata': [   (4, 0.032),\n",
      "                        (5, 0.043),\n",
      "                        (6, 0.048),\n",
      "                        (7, 0.043),\n",
      "                        (8, 0.06),\n",
      "                        (9, 0.059)],\n",
      "        'title': 'Histogram'},\n",
      "    {   'plotdata': [   (4, 0.784),\n",
      "                        (5, 0.736),\n",
      "                        (6, 0.742),\n",
      "                        (7, 0.733),\n",
      "                        (8, 0.747),\n",
      "                        (9, 0.697)],\n",
      "        'title': 'Cluster'},\n",
      "    {   'plotdata': [   (4, 0.761),\n",
      "                        (5, 0.611),\n",
      "                        (6, 0.513),\n",
      "                        (7, 0.437),\n",
      "                        (8, 0.372),\n",
      "                        (9, 0.233)],\n",
      "        'title': 'SVM'},\n",
      "    {   'plotdata': [   (4, 0.14),\n",
      "                        (5, 0.116),\n",
      "                        (6, 0.092),\n",
      "                        (7, 0.101),\n",
      "                        (8, 0.102),\n",
      "                        (9, 0.088)],\n",
      "        'title': 'Isolation Forest'}]\n"
     ]
    }
   ],
   "source": [
    "pp.pprint(results)"
   ]
  }
 ],
 "metadata": {
  "kernelspec": {
   "display_name": "Django Shell-Plus",
   "language": "python",
   "name": "django_extensions"
  },
  "language_info": {
   "codemirror_mode": {
    "name": "ipython",
    "version": 3
   },
   "file_extension": ".py",
   "mimetype": "text/x-python",
   "name": "python",
   "nbconvert_exporter": "python",
   "pygments_lexer": "ipython3",
   "version": "3.7.9"
  }
 },
 "nbformat": 4,
 "nbformat_minor": 4
}
