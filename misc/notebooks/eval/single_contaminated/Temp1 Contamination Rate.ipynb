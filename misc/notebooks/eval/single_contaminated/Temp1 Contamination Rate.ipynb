{
 "cells": [
  {
   "cell_type": "code",
   "execution_count": 1,
   "metadata": {},
   "outputs": [],
   "source": [
    "from vadetisweb.anomaly_algorithms.detection.cluster import cluster_gaussian_mixture\n",
    "from vadetisweb.anomaly_algorithms.detection.histogram import histogram\n",
    "from vadetisweb.anomaly_algorithms.detection.svm import svm\n",
    "from vadetisweb.anomaly_algorithms.detection.isolation_forest import isolation_forest\n",
    "from vadetisweb.anomaly_algorithms.detection.lisa import lisa_pearson, lisa_dtw, lisa_geo\n",
    "from vadetisweb.anomaly_algorithms.detection.robust_pca import robust_pca_huber_loss\n",
    "from vadetisweb.models import DataSet, TimeSeries\n",
    "\n",
    "import numpy as np\n",
    "import pprint\n",
    "pp = pprint.PrettyPrinter(indent=4)"
   ]
  },
  {
   "cell_type": "code",
   "execution_count": null,
   "metadata": {},
   "outputs": [],
   "source": [
    "# Temp1 Single - Contamination Rate\n",
    "dataset_names = [\n",
    "    'Temperature TS8',\n",
    "    'Temperature TS8 CL100',\n",
    "    'Temperature TS8 CL150',\n",
    "    'Temperature TS8 CL200',\n",
    "    'Temperature TS8 CL250'\n",
    "]\n",
    "dimensions = [50, 100, 150, 200, 250]\n",
    "ts_name_lisa = 'REH'"
   ]
  },
  {
   "cell_type": "code",
   "execution_count": 3,
   "metadata": {},
   "outputs": [],
   "source": [
    "#input\n",
    "def get_dataset(title):\n",
    "    dataset = DataSet.objects.filter(title=title).first()\n",
    "    training_dataset = dataset.training_dataset.all().first()\n",
    "    return dataset, training_dataset\n",
    "\n",
    "def get_ts_ids(dataset, ts_names):\n",
    "    ts_ids = []\n",
    "    time_series = dataset.timeseries_set.all()\n",
    "    for ts in time_series:\n",
    "        if ts.name in ts_names:\n",
    "            ts_ids.append(ts.id)\n",
    "            \n",
    "    return ts_ids\n",
    "\n",
    "def get_lisa_detection_ts_id(dataset, ts_name):\n",
    "    time_series = dataset.timeseries_set.all()\n",
    "    for ts in time_series:\n",
    "        if ts.name == ts_name:\n",
    "            return ts.id\n",
    "    return None"
   ]
  },
  {
   "cell_type": "code",
   "execution_count": 4,
   "metadata": {},
   "outputs": [],
   "source": [
    "def lisa_pearson_l(df, df_class, time_series_id, maximize_score='F1-Score', window_size=10):\n",
    "    return lisa_pearson(df, df_class, time_series_id, maximize_score=maximize_score, window_size=window_size)"
   ]
  },
  {
   "cell_type": "code",
   "execution_count": 5,
   "metadata": {},
   "outputs": [],
   "source": [
    "def lisa_dtw_l(df, df_class, time_series_id, maximize_score='F1-Score', window_size=10, distance_function='euclidean'):\n",
    "    return lisa_dtw(df, df_class, time_series_id, maximize_score=maximize_score, window_size=window_size, distance_function=distance_function)"
   ]
  },
  {
   "cell_type": "code",
   "execution_count": 6,
   "metadata": {},
   "outputs": [],
   "source": [
    "def lisa_geo_l(df, df_class, time_series_id, maximize_score='F1-Score'):\n",
    "    return lisa_geo(df, df_class, time_series_id, maximize_score=maximize_score)"
   ]
  },
  {
   "cell_type": "code",
   "execution_count": 7,
   "metadata": {},
   "outputs": [],
   "source": [
    "def rpca_detection_l(df, df_class, df_train, df_train_class, delta=1, n_components=2, maximize_score='F1-Score', train_size=0.5):\n",
    "    return robust_pca_huber_loss(df, df_class, df_train, df_train_class, delta=delta, n_components=n_components, maximize_score=maximize_score, train_size=train_size)"
   ]
  },
  {
   "cell_type": "code",
   "execution_count": 8,
   "metadata": {},
   "outputs": [],
   "source": [
    "def histogram_detection_l(df, df_class, df_train, df_train_class, maximize_score='F1-Score', train_size=0.5):\n",
    "    return histogram(df, df_class, df_train, df_train_class, maximize_score=maximize_score, train_size=train_size)"
   ]
  },
  {
   "cell_type": "code",
   "execution_count": 9,
   "metadata": {},
   "outputs": [],
   "source": [
    "def cluster_detection_l(df, df_class, df_train, df_train_class, maximize_score='F1-Score', n_components=3, n_init=3, train_size=0.5):\n",
    "    return cluster_gaussian_mixture(df, df_class, df_train, df_train_class, maximize_score=maximize_score, n_components=n_components, n_init=n_init, train_size=train_size)"
   ]
  },
  {
   "cell_type": "code",
   "execution_count": 10,
   "metadata": {},
   "outputs": [],
   "source": [
    "def svm_detection_l(df, df_class, df_train, df_train_class, maximize_score='F1-Score', nu=0.95, kernel='rbf', train_size=0.5):\n",
    "    return svm(df, df_class, df_train, df_train_class, maximize_score=maximize_score, nu=nu, kernel=kernel, train_size=train_size)"
   ]
  },
  {
   "cell_type": "code",
   "execution_count": 11,
   "metadata": {},
   "outputs": [],
   "source": [
    "def isolation_forest_detection_l(df, df_class, df_train, df_train_class, maximize_score='F1-Score', n_jobs=-1, bootstrap=False, n_estimators=40, train_size=0.5):\n",
    "    return isolation_forest(df, df_class, df_train, df_train_class, maximize_score=maximize_score, n_jobs=n_jobs, bootstrap=bootstrap, n_estimators=n_estimators, train_size=train_size)"
   ]
  },
  {
   "cell_type": "code",
   "execution_count": 13,
   "metadata": {},
   "outputs": [],
   "source": [
    "# Contamination Rate - LISA PEARSON\n",
    "# Results array [nmi, rmse, f1]\n",
    "pearson_results = []\n",
    "for dataset_name in dataset_names:\n",
    "    dataset, training_dataset = get_dataset(dataset_name)\n",
    "    df = dataset.dataframe\n",
    "    df_class = dataset.dataframe_class\n",
    "    \n",
    "    ts_id = get_lisa_detection_ts_id(dataset, ts_name_lisa)\n",
    "    \n",
    "    scores, y_hat_results, info, df_response, df_class_response = lisa_pearson_l(df, df_class, ts_id)\n",
    "    result = [np.round(info['nmi'], 3), np.round(info['rmse'], 3), np.round(info['f1_score'], 3)]\n",
    "    pearson_results.append(result)\n",
    "    \n",
    "lisa_pearson_results = np.array(pearson_results)"
   ]
  },
  {
   "cell_type": "code",
   "execution_count": 15,
   "metadata": {},
   "outputs": [],
   "source": [
    "# Contamination Rate - LISA DTW\n",
    "# Results array [nmi, rmse, f1]\n",
    "dtw_results = []\n",
    "for dataset_name in dataset_names:\n",
    "    dataset, training_dataset = get_dataset(dataset_name)\n",
    "    df = dataset.dataframe\n",
    "    df_class = dataset.dataframe_class\n",
    "    \n",
    "    ts_id = get_lisa_detection_ts_id(dataset, ts_name_lisa)\n",
    "    \n",
    "    scores, y_hat_results, info, df_response, df_class_response = lisa_dtw_l(df, df_class, ts_id)\n",
    "    result = [np.round(info['nmi'], 3), np.round(info['rmse'], 3), np.round(info['f1_score'], 3)]\n",
    "    dtw_results.append(result)\n",
    "    \n",
    "lisa_dtw_results = np.array(dtw_results)"
   ]
  },
  {
   "cell_type": "code",
   "execution_count": 16,
   "metadata": {},
   "outputs": [],
   "source": [
    "# Contamination Rate - LISA GEO\n",
    "# Results array [nmi, rmse, f1]\n",
    "geo_results = []\n",
    "for dataset_name in dataset_names:\n",
    "    dataset, training_dataset = get_dataset(dataset_name)\n",
    "    df = dataset.dataframe\n",
    "    df_class = dataset.dataframe_class\n",
    "    \n",
    "    ts_id = get_lisa_detection_ts_id(dataset, ts_name_lisa)\n",
    "    \n",
    "    scores, y_hat_results, info = lisa_geo_l(df, df_class, ts_id)\n",
    "    result = [np.round(info['nmi'], 3), np.round(info['rmse'], 3), np.round(info['f1_score'], 3)]\n",
    "    geo_results.append(result)\n",
    "    \n",
    "lisa_spatial_results = np.array(geo_results)"
   ]
  },
  {
   "cell_type": "code",
   "execution_count": 17,
   "metadata": {},
   "outputs": [],
   "source": [
    "# Contamination Rate - RPCA\n",
    "# Results array [nmi, rmse, f1]\n",
    "r_results = []\n",
    "for dataset_name in dataset_names:\n",
    "    dataset, training_dataset = get_dataset(dataset_name)\n",
    "    df = dataset.dataframe\n",
    "    df_class = dataset.dataframe_class\n",
    "    df_train = training_dataset.dataframe\n",
    "    df_train_class = training_dataset.dataframe_class\n",
    "    \n",
    "    scores, y_hat_results, df_common_class, info = rpca_detection_l(df, df_class, df_train, df_train_class)\n",
    "    result = [np.round(info['nmi'], 3), np.round(info['rmse'], 3), np.round(info['f1_score'], 3)]\n",
    "    r_results.append(result)\n",
    "    \n",
    "rpca_results = np.array(r_results)  "
   ]
  },
  {
   "cell_type": "code",
   "execution_count": 18,
   "metadata": {},
   "outputs": [],
   "source": [
    "# Contamination Rate - HISTOGRAM\n",
    "# Results array [nmi, rmse, f1]\n",
    "h_results = []\n",
    "for dataset_name in dataset_names:\n",
    "    dataset, training_dataset = get_dataset(dataset_name)\n",
    "    df = dataset.dataframe\n",
    "    df_class = dataset.dataframe_class\n",
    "    df_train = training_dataset.dataframe\n",
    "    df_train_class = training_dataset.dataframe_class\n",
    "    \n",
    "    scores, y_hat_results, df_common_class, info = histogram_detection_l(df, df_class, df_train, df_train_class)\n",
    "    result = [np.round(info['nmi'], 3), np.round(info['rmse'], 3), np.round(info['f1_score'], 3)]\n",
    "    h_results.append(result)\n",
    "    \n",
    "histogram_results = np.array(h_results)"
   ]
  },
  {
   "cell_type": "code",
   "execution_count": 19,
   "metadata": {},
   "outputs": [],
   "source": [
    "# Contamination Rate - CLUSTER\n",
    "# Results array [nmi, rmse, f1]\n",
    "c_results = []\n",
    "for dataset_name in dataset_names:\n",
    "    dataset, training_dataset = get_dataset(dataset_name)\n",
    "    df = dataset.dataframe\n",
    "    df_class = dataset.dataframe_class\n",
    "    df_train = training_dataset.dataframe\n",
    "    df_train_class = training_dataset.dataframe_class\n",
    "    \n",
    "    scores, y_hat_results, df_common_class, info = cluster_detection_l(df, df_class, df_train, df_train_class)\n",
    "    result = [np.round(info['nmi'], 3), np.round(info['rmse'], 3), np.round(info['f1_score'], 3)]\n",
    "    c_results.append(result)\n",
    "    \n",
    "cluster_results = np.array(c_results)  "
   ]
  },
  {
   "cell_type": "code",
   "execution_count": 20,
   "metadata": {},
   "outputs": [],
   "source": [
    "# Contamination Rate - SVM\n",
    "# Results array [nmi, rmse, f1]\n",
    "s_results = []\n",
    "for dataset_name in dataset_names:\n",
    "    dataset, training_dataset = get_dataset(dataset_name)\n",
    "    df = dataset.dataframe\n",
    "    df_class = dataset.dataframe_class\n",
    "    df_train = training_dataset.dataframe\n",
    "    df_train_class = training_dataset.dataframe_class\n",
    "    \n",
    "    scores, y_hat_results, df_common_class, info = svm_detection_l(df, df_class, df_train, df_train_class)\n",
    "    result = [np.round(info['nmi'], 3), np.round(info['rmse'], 3), np.round(info['f1_score'], 3)]\n",
    "    s_results.append(result)\n",
    "    \n",
    "svm_results = np.array(s_results)  "
   ]
  },
  {
   "cell_type": "code",
   "execution_count": 21,
   "metadata": {},
   "outputs": [],
   "source": [
    "# Contamination Rate - ISOLATION FOREST\n",
    "# Results array [nmi, rmse, f1]\n",
    "i_results = []\n",
    "for dataset_name in dataset_names:\n",
    "    dataset, training_dataset = get_dataset(dataset_name)\n",
    "    df = dataset.dataframe\n",
    "    df_class = dataset.dataframe_class\n",
    "    df_train = training_dataset.dataframe\n",
    "    df_train_class = training_dataset.dataframe_class\n",
    "    \n",
    "    scores, y_hat_results, df_common_class, info = isolation_forest_detection_l(df, df_class, df_train, df_train_class)\n",
    "    result = [np.round(info['nmi'], 3), np.round(info['rmse'], 3), np.round(info['f1_score'], 3)]\n",
    "    i_results.append(result)\n",
    "\n",
    "isolation_results = np.array(i_results)"
   ]
  },
  {
   "cell_type": "code",
   "execution_count": 22,
   "metadata": {},
   "outputs": [],
   "source": [
    "scores = [{ 'title' : 'LISA (Pearson)', 'scores' : lisa_pearson_results }, \n",
    "          { 'title' : 'LISA (DTW)', 'scores' : lisa_dtw_results }, \n",
    "          { 'title' : 'LISA (Vanilla)', 'scores' :  lisa_spatial_results }, \n",
    "          { 'title' : 'RPCA', 'scores' :  rpca_results }, \n",
    "          { 'title' : 'Histogram', 'scores' :  histogram_results }, \n",
    "          { 'title' : 'Cluster', 'scores' :  cluster_results }, \n",
    "          { 'title' : 'SVM', 'scores' :  svm_results }, \n",
    "          { 'title' : 'Isolation Forest', 'scores' :  isolation_results }\n",
    "         ]"
   ]
  },
  {
   "cell_type": "code",
   "execution_count": 23,
   "metadata": {},
   "outputs": [
    {
     "name": "stdout",
     "output_type": "stream",
     "text": [
      "[{'title': 'LISA (Pearson)', 'scores': array([[0.726, 0.013, 0.851],\n",
      "       [0.633, 0.03 , 0.848],\n",
      "       [0.567, 0.05 , 0.819],\n",
      "       [0.577, 0.06 , 0.844],\n",
      "       [0.576, 0.073, 0.839]])}, {'title': 'LISA (DTW)', 'scores': array([[0.721, 0.012, 0.872],\n",
      "       [0.66 , 0.027, 0.854],\n",
      "       [0.592, 0.046, 0.84 ],\n",
      "       [0.624, 0.05 , 0.869],\n",
      "       [0.611, 0.062, 0.87 ]])}, {'title': 'LISA (Vanilla)', 'scores': array([[0.911, 0.003, 0.97 ],\n",
      "       [0.813, 0.013, 0.932],\n",
      "       [0.781, 0.021, 0.927],\n",
      "       [0.809, 0.021, 0.946],\n",
      "       [0.784, 0.028, 0.942]])}, {'title': 'RPCA', 'scores': array([[0.756, 0.011, 0.895],\n",
      "       [0.787, 0.017, 0.907],\n",
      "       [0.567, 0.058, 0.76 ],\n",
      "       [0.588, 0.068, 0.795],\n",
      "       [0.544, 0.092, 0.775]])}, {'title': 'Histogram', 'scores': array([[0.007, 0.801, 0.105],\n",
      "       [0.02 , 0.753, 0.203],\n",
      "       [0.005, 0.725, 0.271],\n",
      "       [0.012, 0.68 , 0.351],\n",
      "       [0.004, 0.661, 0.404]])}, {'title': 'Cluster', 'scores': array([[0.679, 0.017, 0.847],\n",
      "       [0.776, 0.017, 0.908],\n",
      "       [0.644, 0.045, 0.824],\n",
      "       [0.643, 0.056, 0.837],\n",
      "       [0.629, 0.069, 0.84 ]])}, {'title': 'SVM', 'scores': array([[0.11 , 0.098, 0.338],\n",
      "       [0.074, 0.125, 0.324],\n",
      "       [0.071, 0.162, 0.341],\n",
      "       [0.135, 0.172, 0.456],\n",
      "       [0.09 , 0.222, 0.393]])}, {'title': 'Isolation Forest', 'scores': array([[0.   , 0.155, 0.061],\n",
      "       [0.017, 0.175, 0.215],\n",
      "       [0.015, 0.215, 0.24 ],\n",
      "       [0.028, 0.234, 0.299],\n",
      "       [0.019, 0.277, 0.288]])}]\n"
     ]
    }
   ],
   "source": [
    "print(scores)"
   ]
  },
  {
   "cell_type": "code",
   "execution_count": 2,
   "metadata": {},
   "outputs": [],
   "source": [
    "# import numpy as np\n",
    "# scores = [{'title': 'LISA (Pearson)', 'scores': np.array([[0.726, 0.013, 0.851],\n",
    "#        [0.633, 0.03 , 0.848],\n",
    "#        [0.567, 0.05 , 0.819],\n",
    "#        [0.577, 0.06 , 0.844],\n",
    "#        [0.576, 0.073, 0.839]])}, {'title': 'LISA (DTW)', 'scores': np.array([[0.721, 0.012, 0.872],\n",
    "#        [0.66 , 0.027, 0.854],\n",
    "#        [0.592, 0.046, 0.84 ],\n",
    "#        [0.624, 0.05 , 0.869],\n",
    "#        [0.611, 0.062, 0.87 ]])}, {'title': 'LISA (Vanilla)', 'scores': np.array([[0.911, 0.003, 0.97 ],\n",
    "#        [0.813, 0.013, 0.932],\n",
    "#        [0.781, 0.021, 0.927],\n",
    "#        [0.809, 0.021, 0.946],\n",
    "#        [0.784, 0.028, 0.942]])}, {'title': 'RPCA', 'scores': np.array([[0.756, 0.011, 0.895],\n",
    "#        [0.787, 0.017, 0.907],\n",
    "#        [0.567, 0.058, 0.76 ],\n",
    "#        [0.588, 0.068, 0.795],\n",
    "#        [0.544, 0.092, 0.775]])}, {'title': 'Histogram', 'scores': np.array([[0.007, 0.801, 0.105],\n",
    "#        [0.02 , 0.753, 0.203],\n",
    "#        [0.005, 0.725, 0.271],\n",
    "#        [0.012, 0.68 , 0.351],\n",
    "#        [0.004, 0.661, 0.404]])}, {'title': 'Cluster', 'scores': np.array([[0.679, 0.017, 0.847],\n",
    "#        [0.776, 0.017, 0.908],\n",
    "#        [0.644, 0.045, 0.824],\n",
    "#        [0.643, 0.056, 0.837],\n",
    "#        [0.629, 0.069, 0.84 ]])}, {'title': 'SVM', 'scores': np.array([[0.11 , 0.098, 0.338],\n",
    "#        [0.074, 0.125, 0.324],\n",
    "#        [0.071, 0.162, 0.341],\n",
    "#        [0.135, 0.172, 0.456],\n",
    "#        [0.09 , 0.222, 0.393]])}, {'title': 'Isolation Forest', 'scores': np.array([[0.   , 0.155, 0.061],\n",
    "#        [0.017, 0.175, 0.215],\n",
    "#        [0.015, 0.215, 0.24 ],\n",
    "#        [0.028, 0.234, 0.299],\n",
    "#        [0.019, 0.277, 0.288]])}]\n"
   ]
  },
  {
   "cell_type": "code",
   "execution_count": 3,
   "metadata": {},
   "outputs": [],
   "source": [
    "#NMI\n",
    "results = []\n",
    "for score in scores:\n",
    "    res = []\n",
    "    values = score['scores']\n",
    "    for i in range(len(dimensions)):\n",
    "        dim = dimensions[i]\n",
    "        val = values[i][0]\n",
    "        res.append((dim, val))\n",
    "    results.append({'title' : score['title'], 'plotdata' : res}) "
   ]
  },
  {
   "cell_type": "code",
   "execution_count": 4,
   "metadata": {},
   "outputs": [
    {
     "name": "stdout",
     "output_type": "stream",
     "text": [
      "[   {   'plotdata': [   (50, 0.726),\n",
      "                        (100, 0.633),\n",
      "                        (150, 0.567),\n",
      "                        (200, 0.577),\n",
      "                        (250, 0.576)],\n",
      "        'title': 'LISA (Pearson)'},\n",
      "    {   'plotdata': [   (50, 0.721),\n",
      "                        (100, 0.66),\n",
      "                        (150, 0.592),\n",
      "                        (200, 0.624),\n",
      "                        (250, 0.611)],\n",
      "        'title': 'LISA (DTW)'},\n",
      "    {   'plotdata': [   (50, 0.911),\n",
      "                        (100, 0.813),\n",
      "                        (150, 0.781),\n",
      "                        (200, 0.809),\n",
      "                        (250, 0.784)],\n",
      "        'title': 'LISA (Vanilla)'},\n",
      "    {   'plotdata': [   (50, 0.756),\n",
      "                        (100, 0.787),\n",
      "                        (150, 0.567),\n",
      "                        (200, 0.588),\n",
      "                        (250, 0.544)],\n",
      "        'title': 'RPCA'},\n",
      "    {   'plotdata': [   (50, 0.007),\n",
      "                        (100, 0.02),\n",
      "                        (150, 0.005),\n",
      "                        (200, 0.012),\n",
      "                        (250, 0.004)],\n",
      "        'title': 'Histogram'},\n",
      "    {   'plotdata': [   (50, 0.679),\n",
      "                        (100, 0.776),\n",
      "                        (150, 0.644),\n",
      "                        (200, 0.643),\n",
      "                        (250, 0.629)],\n",
      "        'title': 'Cluster'},\n",
      "    {   'plotdata': [   (50, 0.11),\n",
      "                        (100, 0.074),\n",
      "                        (150, 0.071),\n",
      "                        (200, 0.135),\n",
      "                        (250, 0.09)],\n",
      "        'title': 'SVM'},\n",
      "    {   'plotdata': [   (50, 0.0),\n",
      "                        (100, 0.017),\n",
      "                        (150, 0.015),\n",
      "                        (200, 0.028),\n",
      "                        (250, 0.019)],\n",
      "        'title': 'Isolation Forest'}]\n"
     ]
    }
   ],
   "source": [
    "pp.pprint(results)"
   ]
  },
  {
   "cell_type": "code",
   "execution_count": 5,
   "metadata": {},
   "outputs": [],
   "source": [
    "#RMSE\n",
    "results = []\n",
    "for score in scores:\n",
    "    res = []\n",
    "    values = score['scores']\n",
    "    for i in range(len(dimensions)):\n",
    "        dim = dimensions[i]\n",
    "        val = values[i][1]\n",
    "        res.append((dim, val))\n",
    "    results.append({'title' : score['title'], 'plotdata' : res}) "
   ]
  },
  {
   "cell_type": "code",
   "execution_count": 6,
   "metadata": {},
   "outputs": [
    {
     "name": "stdout",
     "output_type": "stream",
     "text": [
      "[   {   'plotdata': [   (50, 0.013),\n",
      "                        (100, 0.03),\n",
      "                        (150, 0.05),\n",
      "                        (200, 0.06),\n",
      "                        (250, 0.073)],\n",
      "        'title': 'LISA (Pearson)'},\n",
      "    {   'plotdata': [   (50, 0.012),\n",
      "                        (100, 0.027),\n",
      "                        (150, 0.046),\n",
      "                        (200, 0.05),\n",
      "                        (250, 0.062)],\n",
      "        'title': 'LISA (DTW)'},\n",
      "    {   'plotdata': [   (50, 0.003),\n",
      "                        (100, 0.013),\n",
      "                        (150, 0.021),\n",
      "                        (200, 0.021),\n",
      "                        (250, 0.028)],\n",
      "        'title': 'LISA (Vanilla)'},\n",
      "    {   'plotdata': [   (50, 0.011),\n",
      "                        (100, 0.017),\n",
      "                        (150, 0.058),\n",
      "                        (200, 0.068),\n",
      "                        (250, 0.092)],\n",
      "        'title': 'RPCA'},\n",
      "    {   'plotdata': [   (50, 0.801),\n",
      "                        (100, 0.753),\n",
      "                        (150, 0.725),\n",
      "                        (200, 0.68),\n",
      "                        (250, 0.661)],\n",
      "        'title': 'Histogram'},\n",
      "    {   'plotdata': [   (50, 0.017),\n",
      "                        (100, 0.017),\n",
      "                        (150, 0.045),\n",
      "                        (200, 0.056),\n",
      "                        (250, 0.069)],\n",
      "        'title': 'Cluster'},\n",
      "    {   'plotdata': [   (50, 0.098),\n",
      "                        (100, 0.125),\n",
      "                        (150, 0.162),\n",
      "                        (200, 0.172),\n",
      "                        (250, 0.222)],\n",
      "        'title': 'SVM'},\n",
      "    {   'plotdata': [   (50, 0.155),\n",
      "                        (100, 0.175),\n",
      "                        (150, 0.215),\n",
      "                        (200, 0.234),\n",
      "                        (250, 0.277)],\n",
      "        'title': 'Isolation Forest'}]\n"
     ]
    }
   ],
   "source": [
    "pp.pprint(results)"
   ]
  },
  {
   "cell_type": "code",
   "execution_count": 7,
   "metadata": {},
   "outputs": [],
   "source": [
    "#F1\n",
    "results = []\n",
    "for score in scores:\n",
    "    res = []\n",
    "    values = score['scores']\n",
    "    for i in range(len(dimensions)):\n",
    "        dim = dimensions[i]\n",
    "        val = values[i][2]\n",
    "        res.append((dim, val))\n",
    "    results.append({'title' : score['title'], 'plotdata' : res}) "
   ]
  },
  {
   "cell_type": "code",
   "execution_count": 8,
   "metadata": {},
   "outputs": [
    {
     "name": "stdout",
     "output_type": "stream",
     "text": [
      "[   {   'plotdata': [   (50, 0.851),\n",
      "                        (100, 0.848),\n",
      "                        (150, 0.819),\n",
      "                        (200, 0.844),\n",
      "                        (250, 0.839)],\n",
      "        'title': 'LISA (Pearson)'},\n",
      "    {   'plotdata': [   (50, 0.872),\n",
      "                        (100, 0.854),\n",
      "                        (150, 0.84),\n",
      "                        (200, 0.869),\n",
      "                        (250, 0.87)],\n",
      "        'title': 'LISA (DTW)'},\n",
      "    {   'plotdata': [   (50, 0.97),\n",
      "                        (100, 0.932),\n",
      "                        (150, 0.927),\n",
      "                        (200, 0.946),\n",
      "                        (250, 0.942)],\n",
      "        'title': 'LISA (Vanilla)'},\n",
      "    {   'plotdata': [   (50, 0.895),\n",
      "                        (100, 0.907),\n",
      "                        (150, 0.76),\n",
      "                        (200, 0.795),\n",
      "                        (250, 0.775)],\n",
      "        'title': 'RPCA'},\n",
      "    {   'plotdata': [   (50, 0.105),\n",
      "                        (100, 0.203),\n",
      "                        (150, 0.271),\n",
      "                        (200, 0.351),\n",
      "                        (250, 0.404)],\n",
      "        'title': 'Histogram'},\n",
      "    {   'plotdata': [   (50, 0.847),\n",
      "                        (100, 0.908),\n",
      "                        (150, 0.824),\n",
      "                        (200, 0.837),\n",
      "                        (250, 0.84)],\n",
      "        'title': 'Cluster'},\n",
      "    {   'plotdata': [   (50, 0.338),\n",
      "                        (100, 0.324),\n",
      "                        (150, 0.341),\n",
      "                        (200, 0.456),\n",
      "                        (250, 0.393)],\n",
      "        'title': 'SVM'},\n",
      "    {   'plotdata': [   (50, 0.061),\n",
      "                        (100, 0.215),\n",
      "                        (150, 0.24),\n",
      "                        (200, 0.299),\n",
      "                        (250, 0.288)],\n",
      "        'title': 'Isolation Forest'}]\n"
     ]
    }
   ],
   "source": [
    "pp.pprint(results)"
   ]
  }
 ],
 "metadata": {
  "kernelspec": {
   "display_name": "Django Shell-Plus",
   "language": "python",
   "name": "django_extensions"
  },
  "language_info": {
   "codemirror_mode": {
    "name": "ipython",
    "version": 3
   },
   "file_extension": ".py",
   "mimetype": "text/x-python",
   "name": "python",
   "nbconvert_exporter": "python",
   "pygments_lexer": "ipython3",
   "version": "3.7.9"
  }
 },
 "nbformat": 4,
 "nbformat_minor": 4
}
